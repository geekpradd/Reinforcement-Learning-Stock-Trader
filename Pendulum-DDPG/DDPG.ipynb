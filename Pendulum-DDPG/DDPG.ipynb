{
  "nbformat": 4,
  "nbformat_minor": 0,
  "metadata": {
    "kernelspec": {
      "display_name": "Python 3",
      "language": "python",
      "name": "python3"
    },
    "language_info": {
      "codemirror_mode": {
        "name": "ipython",
        "version": 3
      },
      "file_extension": ".py",
      "mimetype": "text/x-python",
      "name": "python",
      "nbconvert_exporter": "python",
      "pygments_lexer": "ipython3",
      "version": "3.7.4"
    },
    "colab": {
      "name": "DDPG.ipynb",
      "provenance": [],
      "collapsed_sections": []
    },
    "widgets": {
      "application/vnd.jupyter.widget-state+json": {
        "baf15c2c29ed4be482b9f885a6fc0795": {
          "model_module": "@jupyter-widgets/controls",
          "model_name": "HBoxModel",
          "state": {
            "_view_name": "HBoxView",
            "_dom_classes": [],
            "_model_name": "HBoxModel",
            "_view_module": "@jupyter-widgets/controls",
            "_model_module_version": "1.5.0",
            "_view_count": null,
            "_view_module_version": "1.5.0",
            "box_style": "",
            "layout": "IPY_MODEL_4f86302a4c5c4282b94e125c7e7c300a",
            "_model_module": "@jupyter-widgets/controls",
            "children": [
              "IPY_MODEL_3ae22069d0f74f1689af29ad819ea98f",
              "IPY_MODEL_76d72f70ba9048119e4b380bb4536347"
            ]
          }
        },
        "4f86302a4c5c4282b94e125c7e7c300a": {
          "model_module": "@jupyter-widgets/base",
          "model_name": "LayoutModel",
          "state": {
            "_view_name": "LayoutView",
            "grid_template_rows": null,
            "right": null,
            "justify_content": null,
            "_view_module": "@jupyter-widgets/base",
            "overflow": null,
            "_model_module_version": "1.2.0",
            "_view_count": null,
            "flex_flow": null,
            "width": null,
            "min_width": null,
            "border": null,
            "align_items": null,
            "bottom": null,
            "_model_module": "@jupyter-widgets/base",
            "top": null,
            "grid_column": null,
            "overflow_y": null,
            "overflow_x": null,
            "grid_auto_flow": null,
            "grid_area": null,
            "grid_template_columns": null,
            "flex": null,
            "_model_name": "LayoutModel",
            "justify_items": null,
            "grid_row": null,
            "max_height": null,
            "align_content": null,
            "visibility": null,
            "align_self": null,
            "height": null,
            "min_height": null,
            "padding": null,
            "grid_auto_rows": null,
            "grid_gap": null,
            "max_width": null,
            "order": null,
            "_view_module_version": "1.2.0",
            "grid_template_areas": null,
            "object_position": null,
            "object_fit": null,
            "grid_auto_columns": null,
            "margin": null,
            "display": null,
            "left": null
          }
        },
        "3ae22069d0f74f1689af29ad819ea98f": {
          "model_module": "@jupyter-widgets/controls",
          "model_name": "FloatProgressModel",
          "state": {
            "_view_name": "ProgressView",
            "style": "IPY_MODEL_0a2b14ccefb54bd0adabe8d5e3a7a25f",
            "_dom_classes": [],
            "description": "Game Step: 100%",
            "_model_name": "FloatProgressModel",
            "bar_style": "",
            "max": 300,
            "_view_module": "@jupyter-widgets/controls",
            "_model_module_version": "1.5.0",
            "value": 300,
            "_view_count": null,
            "_view_module_version": "1.5.0",
            "orientation": "horizontal",
            "min": 0,
            "description_tooltip": null,
            "_model_module": "@jupyter-widgets/controls",
            "layout": "IPY_MODEL_040cefeaada8424ca69a4e5a221e0752"
          }
        },
        "76d72f70ba9048119e4b380bb4536347": {
          "model_module": "@jupyter-widgets/controls",
          "model_name": "HTMLModel",
          "state": {
            "_view_name": "HTMLView",
            "style": "IPY_MODEL_0f306b9041f940ab9268087895810660",
            "_dom_classes": [],
            "description": "",
            "_model_name": "HTMLModel",
            "placeholder": "​",
            "_view_module": "@jupyter-widgets/controls",
            "_model_module_version": "1.5.0",
            "value": " 300/300 [07:32&lt;00:00,  1.89s/it]",
            "_view_count": null,
            "_view_module_version": "1.5.0",
            "description_tooltip": null,
            "_model_module": "@jupyter-widgets/controls",
            "layout": "IPY_MODEL_2b23982433df44f88cfbb08276507a71"
          }
        },
        "0a2b14ccefb54bd0adabe8d5e3a7a25f": {
          "model_module": "@jupyter-widgets/controls",
          "model_name": "ProgressStyleModel",
          "state": {
            "_view_name": "StyleView",
            "_model_name": "ProgressStyleModel",
            "description_width": "initial",
            "_view_module": "@jupyter-widgets/base",
            "_model_module_version": "1.5.0",
            "_view_count": null,
            "_view_module_version": "1.2.0",
            "bar_color": null,
            "_model_module": "@jupyter-widgets/controls"
          }
        },
        "040cefeaada8424ca69a4e5a221e0752": {
          "model_module": "@jupyter-widgets/base",
          "model_name": "LayoutModel",
          "state": {
            "_view_name": "LayoutView",
            "grid_template_rows": null,
            "right": null,
            "justify_content": null,
            "_view_module": "@jupyter-widgets/base",
            "overflow": null,
            "_model_module_version": "1.2.0",
            "_view_count": null,
            "flex_flow": null,
            "width": null,
            "min_width": null,
            "border": null,
            "align_items": null,
            "bottom": null,
            "_model_module": "@jupyter-widgets/base",
            "top": null,
            "grid_column": null,
            "overflow_y": null,
            "overflow_x": null,
            "grid_auto_flow": null,
            "grid_area": null,
            "grid_template_columns": null,
            "flex": null,
            "_model_name": "LayoutModel",
            "justify_items": null,
            "grid_row": null,
            "max_height": null,
            "align_content": null,
            "visibility": null,
            "align_self": null,
            "height": null,
            "min_height": null,
            "padding": null,
            "grid_auto_rows": null,
            "grid_gap": null,
            "max_width": null,
            "order": null,
            "_view_module_version": "1.2.0",
            "grid_template_areas": null,
            "object_position": null,
            "object_fit": null,
            "grid_auto_columns": null,
            "margin": null,
            "display": null,
            "left": null
          }
        },
        "0f306b9041f940ab9268087895810660": {
          "model_module": "@jupyter-widgets/controls",
          "model_name": "DescriptionStyleModel",
          "state": {
            "_view_name": "StyleView",
            "_model_name": "DescriptionStyleModel",
            "description_width": "",
            "_view_module": "@jupyter-widgets/base",
            "_model_module_version": "1.5.0",
            "_view_count": null,
            "_view_module_version": "1.2.0",
            "_model_module": "@jupyter-widgets/controls"
          }
        },
        "2b23982433df44f88cfbb08276507a71": {
          "model_module": "@jupyter-widgets/base",
          "model_name": "LayoutModel",
          "state": {
            "_view_name": "LayoutView",
            "grid_template_rows": null,
            "right": null,
            "justify_content": null,
            "_view_module": "@jupyter-widgets/base",
            "overflow": null,
            "_model_module_version": "1.2.0",
            "_view_count": null,
            "flex_flow": null,
            "width": null,
            "min_width": null,
            "border": null,
            "align_items": null,
            "bottom": null,
            "_model_module": "@jupyter-widgets/base",
            "top": null,
            "grid_column": null,
            "overflow_y": null,
            "overflow_x": null,
            "grid_auto_flow": null,
            "grid_area": null,
            "grid_template_columns": null,
            "flex": null,
            "_model_name": "LayoutModel",
            "justify_items": null,
            "grid_row": null,
            "max_height": null,
            "align_content": null,
            "visibility": null,
            "align_self": null,
            "height": null,
            "min_height": null,
            "padding": null,
            "grid_auto_rows": null,
            "grid_gap": null,
            "max_width": null,
            "order": null,
            "_view_module_version": "1.2.0",
            "grid_template_areas": null,
            "object_position": null,
            "object_fit": null,
            "grid_auto_columns": null,
            "margin": null,
            "display": null,
            "left": null
          }
        }
      }
    }
  },
  "cells": [
    {
      "cell_type": "markdown",
      "metadata": {
        "id": "AptN_88ZggNd",
        "colab_type": "text"
      },
      "source": [
        "### Deep Deterministic Policy Gradient for Continuous Pendulum Control "
      ]
    },
    {
      "cell_type": "code",
      "metadata": {
        "id": "ICc1SN_5ggNg",
        "colab_type": "code",
        "outputId": "f1dfd040-c800-40ed-89d4-e1fa232f7322",
        "colab": {
          "base_uri": "https://localhost:8080/",
          "height": 124
        }
      },
      "source": [
        "import gym\n",
        "from tqdm.notebook import tqdm\n",
        "import numpy as np\n",
        "import tensorflow as tf\n",
        "from tensorflow.keras.layers import *\n",
        "from tensorflow.keras import Input\n",
        "import matplotlib.pyplot as plt\n",
        "COLAB = True\n",
        "RESUME = False\n",
        "path_base = \"models/\"\n",
        "if COLAB:\n",
        "    path_base = \"drive/My Drive/\"\n",
        "\n",
        "if COLAB:\n",
        "    from google.colab import drive\n",
        "    drive.mount('/content/drive')"
      ],
      "execution_count": 0,
      "outputs": [
        {
          "output_type": "stream",
          "text": [
            "Go to this URL in a browser: https://accounts.google.com/o/oauth2/auth?client_id=947318989803-6bn6qk8qdgf4n4g3pfee6491hc0brc4i.apps.googleusercontent.com&redirect_uri=urn%3aietf%3awg%3aoauth%3a2.0%3aoob&response_type=code&scope=email%20https%3a%2f%2fwww.googleapis.com%2fauth%2fdocs.test%20https%3a%2f%2fwww.googleapis.com%2fauth%2fdrive%20https%3a%2f%2fwww.googleapis.com%2fauth%2fdrive.photos.readonly%20https%3a%2f%2fwww.googleapis.com%2fauth%2fpeopleapi.readonly\n",
            "\n",
            "Enter your authorization code:\n",
            "··········\n",
            "Mounted at /content/drive\n"
          ],
          "name": "stdout"
        }
      ]
    },
    {
      "cell_type": "code",
      "metadata": {
        "id": "SwV1V287ggNl",
        "colab_type": "code",
        "colab": {}
      },
      "source": [
        "from collections import deque\n",
        "import random\n",
        "class ReplayBuffer:\n",
        "    def __init__(self, buffer_size):\n",
        "        self.size = buffer_size\n",
        "        self.buffer = deque()\n",
        "        \n",
        "    def add(self, data_tuple):\n",
        "        self.buffer.append(data_tuple)\n",
        "        if len(self.buffer) > self.size:\n",
        "            self.buffer.poplef()\n",
        "            \n",
        "    def sample(self, sample_size):\n",
        "        return random.sample(self.buffer, min(len(self.buffer), sample_size))\n",
        "\n",
        "# Taken from https://github.com/openai/baselines/blob/master/baselines/ddpg/noise.py, which is\n",
        "# based on http://math.stackexchange.com/questions/1287634/implementing-ornstein-uhlenbeck-in-matlab\n",
        "class OrnsteinUhlenbeckActionNoise:\n",
        "    def __init__(self, mu, sigma=0.3, theta=.15, dt=1e-2, x0=None):\n",
        "        self.theta = theta\n",
        "        self.mu = mu\n",
        "        self.sigma = sigma\n",
        "        self.dt = dt\n",
        "        self.x0 = x0\n",
        "        self.reset()\n",
        "\n",
        "    def __call__(self):\n",
        "        x = self.x_prev + self.theta * (self.mu - self.x_prev) * self.dt + \\\n",
        "                self.sigma * np.sqrt(self.dt) * np.random.normal(size=self.mu.shape)\n",
        "        self.x_prev = x\n",
        "        return x\n",
        "\n",
        "    def reset(self):\n",
        "        self.x_prev = self.x0 if self.x0 is not None else np.zeros_like(self.mu)\n",
        "\n",
        "    def __repr__(self):\n",
        "        return 'OrnsteinUhlenbeckActionNoise(mu={}, sigma={})'.format(self.mu, self.sigma)"
      ],
      "execution_count": 0,
      "outputs": []
    },
    {
      "cell_type": "code",
      "metadata": {
        "id": "_l2F_tEoggNp",
        "colab_type": "code",
        "colab": {}
      },
      "source": [
        "class Actor:\n",
        "    def __init__(self, params):\n",
        "        self.output_range = params[\"output_range\"]\n",
        "        self.hidden_layers = params[\"actor_hidden_layers\"]\n",
        "        self.state_dimensions = params[\"state_dimensions\"]\n",
        "        self.action_dimensions = params[\"action_dimensions\"]\n",
        "        self.actor = self.model()\n",
        "        \n",
        "    def model(self):\n",
        "        inputs = Input(shape=(1, self.state_dimensions))\n",
        "        x = Lambda(lambda x: x)(inputs)\n",
        "        for layer in self.hidden_layers:\n",
        "            x = Dense(layer, activation='relu')(x)\n",
        "        x = Dense(self.action_dimensions, activation='tanh')(x)\n",
        "        x = Lambda(lambda x: x*self.output_range)(x)\n",
        "        model = tf.keras.Model(inputs = inputs, outputs = x)\n",
        "        return model\n",
        "    \n",
        "    def get_action(self, state):\n",
        "        return self.actor.predict(np.array([state]))[0][0]\n",
        "\n",
        "    def save_weights(self):\n",
        "        self.actor.save_weights(path_base + \"actor.h5\")\n",
        "               \n",
        "    def load_weights(self):\n",
        "        self.actor.load_weights(path_base + \"actor.h5\")\n",
        "        \n",
        "    \n",
        "class Critic:\n",
        "    def __init__(self, params):\n",
        "        self.hidden_layers = params[\"critic_hidden_layers\"]\n",
        "        self.state_dimensions = params[\"state_dimensions\"]\n",
        "        self.action_dimensions = params[\"action_dimensions\"]\n",
        "        self.optimizer = params[\"critic_optimizer\"]\n",
        "        self.critic_online = self.model()\n",
        "        self.critic_target = self.model()\n",
        "\n",
        "\n",
        "    def model(self):\n",
        "        input_a = Input(shape = (1, self.state_dimensions))\n",
        "        input_b = Input(shape = (1, self.action_dimensions))\n",
        "        x = concatenate([input_a, input_b], axis=-1)\n",
        "        for layer in self.hidden_layers:\n",
        "            x = Dense(layer, activation='relu')(x)\n",
        "        x = Dense(1, activation='linear')(x)\n",
        "        model = tf.keras.Model(inputs=[input_a, input_b], outputs = x)\n",
        "        model.compile(loss='mse', optimizer=self.optimizer)\n",
        "        return model\n",
        "    \n",
        "    def save_weights(self):\n",
        "        self.critic_online.save_weights(path_base + \"critic_online.h5\")\n",
        "        self.critic_target.save_weights(path_base +  \"critic_target.h5\")\n",
        "               \n",
        "    def load_weights(self):\n",
        "        self.critic_online.load_weights(path_base + \"critic_online.h5\")\n",
        "        self.critic_target.load_weights(path_base + \"critic_target.h5\")\n",
        "\n",
        "    def get_qvalues(self, state_array, action_array, online=True):\n",
        "        return (self.critic_online.predict([state_array, action_array]) if online else self.critic_target.predict([state_array, action_array]))\n",
        "    \n",
        "    def call(self, state_tensor, action_tensor, online = True):\n",
        "        return (self.critic_online([state_tensor, action_tensor]) if online else self.critic_target([state_tensor, action_tensor]))\n",
        "    def merge_networks(self, tau):\n",
        "        self.critic_target.set_weights(tau*np.array(self.critic_online.get_weights())\n",
        "                                                                    + (1-tau)*np.array(self.critic_target.get_weights()))\n",
        "        \n",
        "    "
      ],
      "execution_count": 0,
      "outputs": []
    },
    {
      "cell_type": "code",
      "metadata": {
        "id": "TuTDUt9ZggNt",
        "colab_type": "code",
        "colab": {}
      },
      "source": [
        "class Agent:\n",
        "    def __init__(self, params):\n",
        "        self.actor = Actor(params)\n",
        "        self.critic = Critic(params)\n",
        "        self.buffer = ReplayBuffer(params[\"buffer_size\"])\n",
        "        self.state_dimensions = params[\"state_dimensions\"]\n",
        "        self.action_dimensions = params[\"action_dimensions\"]\n",
        "        self.discount = params[\"discount\"]\n",
        "        self.save_frequency = params[\"save_frequency\"]\n",
        "        self.batch_size = params[\"batch_size\"]\n",
        "        self.optimizer = params[\"actor_optimizer\"]\n",
        "        self.tau = params[\"tau\"]\n",
        "        self.step = 0\n",
        "        self.noise_func =  OrnsteinUhlenbeckActionNoise(mu=np.zeros(params[\"action_dimensions\"]))\n",
        "        \n",
        "    def agent_start(self, observation):\n",
        "        observation = np.reshape(observation, (1, self.state_dimensions))\n",
        "        action = self.actor.get_action(observation) + self.noise_func()\n",
        "        self.prev_state = observation\n",
        "        self.prev_action = action\n",
        "        return action \n",
        "\n",
        "    def agent_step(self, reward, observation):\n",
        "        observation = np.reshape(observation, (1, self.state_dimensions))\n",
        "        relay = (self.prev_state, self.prev_action, reward, observation)\n",
        "        self.buffer.add(relay)\n",
        "        self.prev_state = observation\n",
        "        self.prev_action = self.actor.get_action(observation) + self.noise_func()\n",
        "        self.train(self.batch_size)\n",
        "\n",
        "        return self.prev_action \n",
        "    \n",
        "    def save_networks(self):\n",
        "        self.actor.save_weights()\n",
        "        self.critic.save_weights()\n",
        "\n",
        "\n",
        "    def train(self, sample_size):\n",
        "        self.step += 1\n",
        "        batch = self.buffer.sample(sample_size)\n",
        "        m = len(batch)\n",
        "        action_array = np.array([ [self.actor.get_action(element[3])] for element in batch])\n",
        "        state_array = np.array([ element[3] for element in batch])\n",
        "        prev_state_array = np.array([ element[0] for element in batch])\n",
        "        prev_action_array = np.array([ [[element[2]]] for element in batch])\n",
        "        output = self.critic.get_qvalues(state_array, action_array, False)\n",
        "        output = np.array([element[2] + self.discount*out[0] for element, out in zip(batch, output)])\n",
        "        self.critic.critic_online.fit([state_array, action_array], output, verbose=0)\n",
        "\n",
        "        prev_state_tensor = tf.Variable(shape = prev_state_array.shape, initial_value = prev_state_array)\n",
        "        prev_action_tensor = tf.Variable(shape = prev_action_array.shape, initial_value = prev_action_array)\n",
        "\n",
        "        with tf.GradientTape(persistent=True) as g:\n",
        "            g.watch(prev_action_tensor) \n",
        "            g.watch(prev_state_tensor)\n",
        "            value = self.critic.call(prev_state_tensor, prev_action_tensor)\n",
        "            action = self.actor.actor(prev_state_tensor)\n",
        "            \n",
        "        gradient = -tf.squeeze(g.gradient(value, prev_action_tensor))\n",
        "        gradient = tf.cast(gradient, tf.float32)\n",
        "        gradient_actor = g.gradient(action, self.actor.actor.trainable_weights, gradient)\n",
        "        self.optimizer.apply_gradients(zip(gradient_actor, self.actor.actor.trainable_weights))\n",
        "        self.critic.merge_networks(self.tau)\n",
        "\n",
        "        if self.step%self.save_frequency == 0:\n",
        "            self.save_networks()\n",
        "\n"
      ],
      "execution_count": 0,
      "outputs": []
    },
    {
      "cell_type": "code",
      "metadata": {
        "id": "hGItrncsqENR",
        "colab_type": "code",
        "colab": {}
      },
      "source": [
        "AGENT_PARAMS = {\n",
        "\t\"output_range\": 2,\n",
        "\t\"actor_hidden_layers\": [30, 8],\n",
        "\t\"critic_hidden_layers\": [30, 8],\n",
        "\t\"state_dimensions\": 3,\n",
        "\t\"action_dimensions\": 1,\n",
        "\t\"critic_optimizer\": tf.keras.optimizers.Adam(learning_rate = 0.001),\n",
        "\t\"actor_optimizer\": tf.keras.optimizers.Adam(learning_rate = 0.0001),\n",
        "\t\"batch_size\": 64,\n",
        "\t\"buffer_size\":1000000,\n",
        "\t\"discount\": 0.99,\n",
        "\t\"tau\": 0.001,\n",
        "\t\"save_frequency\": 50\n",
        "}\n",
        "agent = Agent(AGENT_PARAMS)\n",
        "env = gym.make('Pendulum-v0')"
      ],
      "execution_count": 0,
      "outputs": []
    },
    {
      "cell_type": "code",
      "metadata": {
        "id": "CgtPQKWidTnJ",
        "colab_type": "code",
        "outputId": "5065a2bb-6d33-4072-db06-e3a21696153c",
        "colab": {
          "base_uri": "https://localhost:8080/",
          "height": 297,
          "referenced_widgets": [
            "baf15c2c29ed4be482b9f885a6fc0795",
            "4f86302a4c5c4282b94e125c7e7c300a",
            "3ae22069d0f74f1689af29ad819ea98f",
            "76d72f70ba9048119e4b380bb4536347",
            "0a2b14ccefb54bd0adabe8d5e3a7a25f",
            "040cefeaada8424ca69a4e5a221e0752",
            "0f306b9041f940ab9268087895810660",
            "2b23982433df44f88cfbb08276507a71"
          ]
        }
      },
      "source": [
        "ITERATIONS = 100000\n",
        "render = False\n",
        "pbar = tqdm(desc=\"Game Step: \", total=ITERATIONS)\n",
        "\n",
        "action = agent.agent_start(env.reset())\n",
        "observation, reward, done, info = env.step(action)\n",
        "rewards= []\n",
        "\n",
        "for _ in range(ITERATIONS):\n",
        "    action = agent.agent_step(reward, observation)\n",
        "    observation, reward, done, info = env.step(action)\n",
        "    rewards.append(reward)\n",
        "    if render:\n",
        "        env.render()\n",
        "    pbar.update(1)\n",
        "\n",
        "plt.plot(list(range(ITERATIONS)), rewards)\n",
        "plt.show()\n",
        "        \n",
        "    "
      ],
      "execution_count": 0,
      "outputs": [
        {
          "output_type": "display_data",
          "data": {
            "application/vnd.jupyter.widget-view+json": {
              "model_id": "baf15c2c29ed4be482b9f885a6fc0795",
              "version_minor": 0,
              "version_major": 2
            },
            "text/plain": [
              "HBox(children=(FloatProgress(value=0.0, description='Game Step: ', max=300.0, style=ProgressStyle(description_…"
            ]
          },
          "metadata": {
            "tags": []
          }
        },
        {
          "output_type": "display_data",
          "data": {
            "image/png": "[encoded data removed]",
            "text/plain": [
              "<Figure size 432x288 with 1 Axes>"
            ]
          },
          "metadata": {
            "tags": [],
            "needs_background": "light"
          }
        }
      ]
    },
    {
      "cell_type": "code",
      "metadata": {
        "id": "b2YwrB_MruZu",
        "colab_type": "code",
        "colab": {}
      },
      "source": [
        "import matplotlib.pyplot as plt"
      ],
      "execution_count": 0,
      "outputs": []
    },
    {
      "cell_type": "code",
      "metadata": {
        "id": "k6XL4m4L0EAp",
        "colab_type": "code",
        "outputId": "b78242e7-5b0d-4f9a-fbcd-cdb35c24adb7",
        "colab": {
          "base_uri": "https://localhost:8080/",
          "height": 265
        }
      },
      "source": [
        "plt.plot(list(range(ITERATIONS)), rewards)\n",
        "plt.show()"
      ],
      "execution_count": 0,
      "outputs": [
        {
          "output_type": "display_data",
          "data": {
            "image/png": "[encoded data removed]",
            "text/plain": [
              "<Figure size 432x288 with 1 Axes>"
            ]
          },
          "metadata": {
            "tags": [],
            "needs_background": "light"
          }
        }
      ]
    },
    {
      "cell_type": "code",
      "metadata": {
        "id": "P195UqAg0GBk",
        "colab_type": "code",
        "colab": {}
      },
      "source": [
        ""
      ],
      "execution_count": 0,
      "outputs": []
    }
  ]
}