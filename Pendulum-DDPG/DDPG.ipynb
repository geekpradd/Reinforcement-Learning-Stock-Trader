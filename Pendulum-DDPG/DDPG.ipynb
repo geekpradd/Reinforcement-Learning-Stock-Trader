{
  "nbformat": 4,
  "nbformat_minor": 0,
  "metadata": {
    "kernelspec": {
      "display_name": "Python 3",
      "language": "python",
      "name": "python3"
    },
    "language_info": {
      "codemirror_mode": {
        "name": "ipython",
        "version": 3
      },
      "file_extension": ".py",
      "mimetype": "text/x-python",
      "name": "python",
      "nbconvert_exporter": "python",
      "pygments_lexer": "ipython3",
      "version": "3.7.4"
    },
    "colab": {
      "name": "DDPG.ipynb",
      "provenance": [],
      "collapsed_sections": []
    },
    "widgets": {
      "application/vnd.jupyter.widget-state+json": {
        "9d40a86538854fe4b21fa604c3f2eb69": {
          "model_module": "@jupyter-widgets/controls",
          "model_name": "HBoxModel",
          "state": {
            "_view_name": "HBoxView",
            "_dom_classes": [],
            "_model_name": "HBoxModel",
            "_view_module": "@jupyter-widgets/controls",
            "_model_module_version": "1.5.0",
            "_view_count": null,
            "_view_module_version": "1.5.0",
            "box_style": "",
            "layout": "IPY_MODEL_c21af13e43e04908bbb91a70735ac978",
            "_model_module": "@jupyter-widgets/controls",
            "children": [
              "IPY_MODEL_124b68c2cec54820a21d07d954fc655a",
              "IPY_MODEL_143ecea7496a45ac9ecacc510485d3cf"
            ]
          }
        },
        "c21af13e43e04908bbb91a70735ac978": {
          "model_module": "@jupyter-widgets/base",
          "model_name": "LayoutModel",
          "state": {
            "_view_name": "LayoutView",
            "grid_template_rows": null,
            "right": null,
            "justify_content": null,
            "_view_module": "@jupyter-widgets/base",
            "overflow": null,
            "_model_module_version": "1.2.0",
            "_view_count": null,
            "flex_flow": null,
            "width": null,
            "min_width": null,
            "border": null,
            "align_items": null,
            "bottom": null,
            "_model_module": "@jupyter-widgets/base",
            "top": null,
            "grid_column": null,
            "overflow_y": null,
            "overflow_x": null,
            "grid_auto_flow": null,
            "grid_area": null,
            "grid_template_columns": null,
            "flex": null,
            "_model_name": "LayoutModel",
            "justify_items": null,
            "grid_row": null,
            "max_height": null,
            "align_content": null,
            "visibility": null,
            "align_self": null,
            "height": null,
            "min_height": null,
            "padding": null,
            "grid_auto_rows": null,
            "grid_gap": null,
            "max_width": null,
            "order": null,
            "_view_module_version": "1.2.0",
            "grid_template_areas": null,
            "object_position": null,
            "object_fit": null,
            "grid_auto_columns": null,
            "margin": null,
            "display": null,
            "left": null
          }
        },
        "124b68c2cec54820a21d07d954fc655a": {
          "model_module": "@jupyter-widgets/controls",
          "model_name": "FloatProgressModel",
          "state": {
            "_view_name": "ProgressView",
            "style": "IPY_MODEL_f8da10f36cb348f6bf7f0c30a37d978d",
            "_dom_classes": [],
            "description": "Game Step: 100%",
            "_model_name": "FloatProgressModel",
            "bar_style": "",
            "max": 20,
            "_view_module": "@jupyter-widgets/controls",
            "_model_module_version": "1.5.0",
            "value": 20,
            "_view_count": null,
            "_view_module_version": "1.5.0",
            "orientation": "horizontal",
            "min": 0,
            "description_tooltip": null,
            "_model_module": "@jupyter-widgets/controls",
            "layout": "IPY_MODEL_56dc48bc9cbc4f75a053d4dc2db3c267"
          }
        },
        "143ecea7496a45ac9ecacc510485d3cf": {
          "model_module": "@jupyter-widgets/controls",
          "model_name": "HTMLModel",
          "state": {
            "_view_name": "HTMLView",
            "style": "IPY_MODEL_7c1da1efb01247759c52a84c987686c6",
            "_dom_classes": [],
            "description": "",
            "_model_name": "HTMLModel",
            "placeholder": "​",
            "_view_module": "@jupyter-widgets/controls",
            "_model_module_version": "1.5.0",
            "value": " 20/20 [00:42&lt;00:00,  2.65s/it]",
            "_view_count": null,
            "_view_module_version": "1.5.0",
            "description_tooltip": null,
            "_model_module": "@jupyter-widgets/controls",
            "layout": "IPY_MODEL_69479fe7d2164ed4a66d22bc9b73890d"
          }
        },
        "f8da10f36cb348f6bf7f0c30a37d978d": {
          "model_module": "@jupyter-widgets/controls",
          "model_name": "ProgressStyleModel",
          "state": {
            "_view_name": "StyleView",
            "_model_name": "ProgressStyleModel",
            "description_width": "initial",
            "_view_module": "@jupyter-widgets/base",
            "_model_module_version": "1.5.0",
            "_view_count": null,
            "_view_module_version": "1.2.0",
            "bar_color": null,
            "_model_module": "@jupyter-widgets/controls"
          }
        },
        "56dc48bc9cbc4f75a053d4dc2db3c267": {
          "model_module": "@jupyter-widgets/base",
          "model_name": "LayoutModel",
          "state": {
            "_view_name": "LayoutView",
            "grid_template_rows": null,
            "right": null,
            "justify_content": null,
            "_view_module": "@jupyter-widgets/base",
            "overflow": null,
            "_model_module_version": "1.2.0",
            "_view_count": null,
            "flex_flow": null,
            "width": null,
            "min_width": null,
            "border": null,
            "align_items": null,
            "bottom": null,
            "_model_module": "@jupyter-widgets/base",
            "top": null,
            "grid_column": null,
            "overflow_y": null,
            "overflow_x": null,
            "grid_auto_flow": null,
            "grid_area": null,
            "grid_template_columns": null,
            "flex": null,
            "_model_name": "LayoutModel",
            "justify_items": null,
            "grid_row": null,
            "max_height": null,
            "align_content": null,
            "visibility": null,
            "align_self": null,
            "height": null,
            "min_height": null,
            "padding": null,
            "grid_auto_rows": null,
            "grid_gap": null,
            "max_width": null,
            "order": null,
            "_view_module_version": "1.2.0",
            "grid_template_areas": null,
            "object_position": null,
            "object_fit": null,
            "grid_auto_columns": null,
            "margin": null,
            "display": null,
            "left": null
          }
        },
        "7c1da1efb01247759c52a84c987686c6": {
          "model_module": "@jupyter-widgets/controls",
          "model_name": "DescriptionStyleModel",
          "state": {
            "_view_name": "StyleView",
            "_model_name": "DescriptionStyleModel",
            "description_width": "",
            "_view_module": "@jupyter-widgets/base",
            "_model_module_version": "1.5.0",
            "_view_count": null,
            "_view_module_version": "1.2.0",
            "_model_module": "@jupyter-widgets/controls"
          }
        },
        "69479fe7d2164ed4a66d22bc9b73890d": {
          "model_module": "@jupyter-widgets/base",
          "model_name": "LayoutModel",
          "state": {
            "_view_name": "LayoutView",
            "grid_template_rows": null,
            "right": null,
            "justify_content": null,
            "_view_module": "@jupyter-widgets/base",
            "overflow": null,
            "_model_module_version": "1.2.0",
            "_view_count": null,
            "flex_flow": null,
            "width": null,
            "min_width": null,
            "border": null,
            "align_items": null,
            "bottom": null,
            "_model_module": "@jupyter-widgets/base",
            "top": null,
            "grid_column": null,
            "overflow_y": null,
            "overflow_x": null,
            "grid_auto_flow": null,
            "grid_area": null,
            "grid_template_columns": null,
            "flex": null,
            "_model_name": "LayoutModel",
            "justify_items": null,
            "grid_row": null,
            "max_height": null,
            "align_content": null,
            "visibility": null,
            "align_self": null,
            "height": null,
            "min_height": null,
            "padding": null,
            "grid_auto_rows": null,
            "grid_gap": null,
            "max_width": null,
            "order": null,
            "_view_module_version": "1.2.0",
            "grid_template_areas": null,
            "object_position": null,
            "object_fit": null,
            "grid_auto_columns": null,
            "margin": null,
            "display": null,
            "left": null
          }
        }
      }
    }
  },
  "cells": [
    {
      "cell_type": "markdown",
      "metadata": {
        "id": "AptN_88ZggNd",
        "colab_type": "text"
      },
      "source": [
        "### Deep Deterministic Policy Gradient for Continuous Pendulum Control "
      ]
    },
    {
      "cell_type": "code",
      "metadata": {
        "id": "ICc1SN_5ggNg",
        "colab_type": "code",
        "outputId": "1d4db981-7575-4136-fca3-72c8ea9c4b0a",
        "colab": {
          "base_uri": "https://localhost:8080/",
          "height": 35
        }
      },
      "source": [
        "!pip install tqdm\n",
        "import gym\n",
        "from tqdm.notebook import tqdm\n",
        "import numpy as np\n",
        "import tensorflow as tf\n",
        "from tensorflow.keras.layers import *\n",
        "from tensorflow.keras import Input\n",
        "\n",
        "COLAB = False\n",
        "RESUME = False\n",
        "path_base = \"models/\"\n",
        "if COLAB:\n",
        "    path_base = \"drive/My Drive/\"\n",
        "\n",
        "if COLAB:\n",
        "    from google.colab import drive\n",
        "    drive.mount('/content/drive')"
      ],
      "execution_count": 0,
      "outputs": [
        {
          "output_type": "stream",
          "text": [
            "Requirement already satisfied: tqdm in /usr/local/lib/python3.6/dist-packages (4.41.1)\n"
          ],
          "name": "stdout"
        }
      ]
    },
    {
      "cell_type": "code",
      "metadata": {
        "id": "SwV1V287ggNl",
        "colab_type": "code",
        "colab": {}
      },
      "source": [
        "from collections import deque\n",
        "import random\n",
        "class ReplayBuffer:\n",
        "    def __init__(self, buffer_size):\n",
        "        self.size = buffer_size\n",
        "        self.buffer = deque()\n",
        "        \n",
        "    def add(self, data_tuple):\n",
        "        self.buffer.append(data_tuple)\n",
        "        if len(self.buffer) > self.size:\n",
        "            self.buffer.poplef()\n",
        "            \n",
        "    def sample(self, sample_size):\n",
        "        return random.sample(self.buffer, min(len(self.buffer), sample_size))\n",
        "\n",
        "# Taken from https://github.com/openai/baselines/blob/master/baselines/ddpg/noise.py, which is\n",
        "# based on http://math.stackexchange.com/questions/1287634/implementing-ornstein-uhlenbeck-in-matlab\n",
        "class OrnsteinUhlenbeckActionNoise:\n",
        "    def __init__(self, mu, sigma=0.3, theta=.15, dt=1e-2, x0=None):\n",
        "        self.theta = theta\n",
        "        self.mu = mu\n",
        "        self.sigma = sigma\n",
        "        self.dt = dt\n",
        "        self.x0 = x0\n",
        "        self.reset()\n",
        "\n",
        "    def __call__(self):\n",
        "        x = self.x_prev + self.theta * (self.mu - self.x_prev) * self.dt + \\\n",
        "                self.sigma * np.sqrt(self.dt) * np.random.normal(size=self.mu.shape)\n",
        "        self.x_prev = x\n",
        "        return x\n",
        "\n",
        "    def reset(self):\n",
        "        self.x_prev = self.x0 if self.x0 is not None else np.zeros_like(self.mu)\n",
        "\n",
        "    def __repr__(self):\n",
        "        return 'OrnsteinUhlenbeckActionNoise(mu={}, sigma={})'.format(self.mu, self.sigma)"
      ],
      "execution_count": 0,
      "outputs": []
    },
    {
      "cell_type": "code",
      "metadata": {
        "id": "_l2F_tEoggNp",
        "colab_type": "code",
        "colab": {}
      },
      "source": [
        "class Actor:\n",
        "    def __init__(self, params):\n",
        "        self.output_range = params[\"output_range\"]\n",
        "        self.hidden_layers = params[\"actor_hidden_layers\"]\n",
        "        self.state_dimensions = params[\"state_dimensions\"]\n",
        "        self.action_dimensions = params[\"action_dimensions\"]\n",
        "        self.actor = self.model()\n",
        "        \n",
        "    def model(self):\n",
        "        inputs = Input(shape=(1, self.state_dimensions))\n",
        "        x = Lambda(lambda x: x)(inputs)\n",
        "        for layer in self.hidden_layers:\n",
        "            x = Dense(layer, activation='relu')(x)\n",
        "        x = Dense(self.action_dimensions, activation='tanh')(x)\n",
        "        x = Lambda(lambda x: x*self.output_range)(x)\n",
        "        model = tf.keras.Model(inputs = inputs, outputs = x)\n",
        "        return model\n",
        "    \n",
        "    def get_action(self, state):\n",
        "        return self.actor.predict(np.array([state]))[0][0]\n",
        "\n",
        "        \n",
        "    \n",
        "class Critic:\n",
        "    def __init__(self, params):\n",
        "        self.hidden_layers = params[\"critic_hidden_layers\"]\n",
        "        self.state_dimensions = params[\"state_dimensions\"]\n",
        "        self.action_dimensions = params[\"action_dimensions\"]\n",
        "        self.optimizer = params[\"critic_optimizer\"]\n",
        "        self.critic_online = self.model()\n",
        "        self.critic_target = self.model()\n",
        "\n",
        "\n",
        "    def model(self):\n",
        "        input_a = Input(shape = (1, self.state_dimensions))\n",
        "        input_b = Input(shape = (1, self.action_dimensions))\n",
        "        x = concatenate([input_a, input_b], axis=-1)\n",
        "        for layer in self.hidden_layers:\n",
        "            x = Dense(layer, activation='relu')(x)\n",
        "        x = Dense(1, activation='linear')(x)\n",
        "        model = tf.keras.Model(inputs=[input_a, input_b], outputs = x)\n",
        "        model.compile(loss='mse', optimizer=self.optimizer)\n",
        "        return model\n",
        "    \n",
        "    def save_weights(self):\n",
        "        self.critic_online.save_weights(path_base + \"critic_online.h5\")\n",
        "        self.critic_target.save_weights(path_base +  \"critic_target.h5\")\n",
        "               \n",
        "    def load_weights(self):\n",
        "        self.critic_online.load_weights(path_base + \"critic_online.h5\")\n",
        "        self.critic_target.load_weights(path_base + \"critic_target.h5\")\n",
        "\n",
        "    def get_qvalues(self, state_tensor, action_tensor, online=True):\n",
        "        return (self.critic_online([state_tensor, action_tensor]) if online else self.critic_target([state_tensor, action_tensor]))\n",
        "    \n",
        "    def merge_networks(self, tau):\n",
        "        self.critic_target.set_weights(tau*np.array(self.critic_online.get_weights())\n",
        "                                                                    + (1-tau)*np.array(self.critic_target.get_weights()))\n",
        "        \n",
        "    "
      ],
      "execution_count": 0,
      "outputs": []
    },
    {
      "cell_type": "code",
      "metadata": {
        "id": "TuTDUt9ZggNt",
        "colab_type": "code",
        "colab": {}
      },
      "source": [
        "class Agent:\n",
        "    def __init__(self, params):\n",
        "        self.actor = Actor(params)\n",
        "        self.critic = Critic(params)\n",
        "        self.buffer = ReplayBuffer(params[\"buffer_size\"])\n",
        "        self.state_dimensions = params[\"state_dimensions\"]\n",
        "        self.action_dimensions = params[\"action_dimensions\"]\n",
        "        self.discount = params[\"discount\"]\n",
        "        self.save_frequency = params[\"save_frequency\"]\n",
        "        self.batch_size = params[\"batch_size\"]\n",
        "        self.optimizer = params[\"actor_optimizer\"]\n",
        "        self.tau = params[\"tau\"]\n",
        "        self.step = 0\n",
        "        self.noise_func =  OrnsteinUhlenbeckActionNoise(mu=np.zeros(params[\"action_dimensions\"]))\n",
        "        \n",
        "    def agent_start(self, observation):\n",
        "        observation = np.reshape(observation, (1, self.state_dimensions))\n",
        "        action = self.actor.get_action(observation) + self.noise_func()\n",
        "        self.prev_state = observation\n",
        "        self.prev_action = action\n",
        "        return action \n",
        "\n",
        "    def agent_step(self, reward, observation):\n",
        "        observation = np.reshape(observation, (1, self.state_dimensions))\n",
        "        relay = (self.prev_state, self.prev_action, reward, observation)\n",
        "        self.buffer.add(relay)\n",
        "        self.prev_state = observation\n",
        "        self.prev_action = self.actor.get_action(observation) + self.noise_func()\n",
        "        self.train(self.batch_size)\n",
        "\n",
        "        return self.prev_action \n",
        "    \n",
        "    def save_networks(self):\n",
        "        self.actor.save_networks()\n",
        "        self.critic.save_networks()\n",
        "\n",
        "\n",
        "    def train(self, sample_size):\n",
        "        self.step += 1\n",
        "        batch = self.buffer.sample(sample_size)\n",
        "        for prev_state, prev_action, reward, state in batch:\n",
        "            state_action = np.array([self.actor.get_action(state)])\n",
        "            action_tensor = tf.Variable(shape = (1, 1), initial_value = state_action)\n",
        "            input_tensor = tf.Variable(shape=state.shape, initial_value = state)\n",
        "            output = tf.squeeze(self.critic.get_qvalues(input_tensor, action_tensor, False)).numpy()\n",
        "            output = reward + self.discount*output \n",
        "\n",
        "            self.critic.critic_online.fit([np.array([state]), np.array([state_action])], np.array([[output]]), verbose=0)\n",
        "\n",
        "            prev_state_tensor = tf.Variable(shape=prev_state.shape, initial_value = prev_state)\n",
        "            prev_action_tensor = tf.Variable(shape = (1, 1), initial_value = [prev_action])\n",
        "            \n",
        "            with tf.GradientTape(persistent=True) as g:\n",
        "                g.watch(prev_action_tensor) \n",
        "                g.watch(prev_state_tensor)\n",
        "                value = self.critic.get_qvalues(prev_state_tensor, prev_action_tensor)\n",
        "                action = self.actor.actor(prev_state_tensor)\n",
        "            \n",
        "            gradient = tf.squeeze(g.gradient(value, prev_action_tensor)).numpy()\n",
        "            gradient_actor = g.gradient(action, self.actor.actor.trainable_weights)\n",
        "            gradient_actor = [-gradient*gradient for gradient in gradient_actor]\n",
        "            \n",
        "            self.optimizer.apply_gradients(zip(gradient_actor, self.actor.actor.trainable_weights))\n",
        "\n",
        "        self.critic.merge_networks(self.tau)\n",
        "\n",
        "        if self.step%self.save_frequency == 0:\n",
        "            self.save_networks()\n",
        "\n"
      ],
      "execution_count": 0,
      "outputs": []
    },
    {
      "cell_type": "code",
      "metadata": {
        "id": "hGItrncsqENR",
        "colab_type": "code",
        "colab": {}
      },
      "source": [
        "AGENT_PARAMS = {\n",
        "\t\"output_range\": 2,\n",
        "\t\"actor_hidden_layers\": [100, 50],\n",
        "\t\"critic_hidden_layers\": [100, 50],\n",
        "\t\"state_dimensions\": 3,\n",
        "\t\"action_dimensions\": 1,\n",
        "\t\"critic_optimizer\": tf.keras.optimizers.Adam(learning_rate = 0.001),\n",
        "\t\"actor_optimizer\": tf.keras.optimizers.Adam(learning_rate = 0.0001),\n",
        "\t\"batch_size\": 64,\n",
        "\t\"buffer_size\":1000000,\n",
        "\t\"discount\": 0.99,\n",
        "\t\"tau\": 0.001,\n",
        "\t\"save_frequency\": 50\n",
        "}\n",
        "agent = Agent(AGENT_PARAMS)\n",
        "env = gym.make('Pendulum-v0')\n"
      ],
      "execution_count": 0,
      "outputs": []
    },
    {
      "cell_type": "code",
      "metadata": {
        "id": "CgtPQKWidTnJ",
        "colab_type": "code",
        "outputId": "2193a301-add4-4b00-c343-8abe4effb7df",
        "colab": {
          "base_uri": "https://localhost:8080/",
          "height": 297,
          "referenced_widgets": [
            "9d40a86538854fe4b21fa604c3f2eb69",
            "c21af13e43e04908bbb91a70735ac978",
            "124b68c2cec54820a21d07d954fc655a",
            "143ecea7496a45ac9ecacc510485d3cf",
            "f8da10f36cb348f6bf7f0c30a37d978d",
            "56dc48bc9cbc4f75a053d4dc2db3c267",
            "7c1da1efb01247759c52a84c987686c6",
            "69479fe7d2164ed4a66d22bc9b73890d"
          ]
        }
      },
      "source": [
        "ITERATIONS = 4000\n",
        "render = False\n",
        "pbar = tqdm(desc=\"Game Step: \", total=ITERATIONS)\n",
        "\n",
        "action = agent.agent_start(env.reset())\n",
        "observation, reward, done, info = env.step(action)\n",
        "rewards= []\n",
        "\n",
        "for _ in range(ITERATIONS):\n",
        "    action = agent.agent_step(reward, observation)\n",
        "    observation, reward, done, info = env.step(action)\n",
        "    rewards.append(reward)\n",
        "    if render:\n",
        "        env.render()\n",
        "    pbar.update(1)\n",
        "\n",
        "plt.plot(list(range(ITERATIONS)), rewards)\n",
        "plt.show()\n",
        "        \n",
        "    "
      ],
      "execution_count": 0,
      "outputs": [
        {
          "output_type": "display_data",
          "data": {
            "application/vnd.jupyter.widget-view+json": {
              "model_id": "9d40a86538854fe4b21fa604c3f2eb69",
              "version_minor": 0,
              "version_major": 2
            },
            "text/plain": [
              "HBox(children=(FloatProgress(value=0.0, description='Game Step: ', max=20.0, style=ProgressStyle(description_w…"
            ]
          },
          "metadata": {
            "tags": []
          }
        },
        {
          "output_type": "display_data",
          "data": {
            "image/png": "[encoded data removed]",
            "text/plain": [
              "<Figure size 432x288 with 1 Axes>"
            ]
          },
          "metadata": {
            "tags": [],
            "needs_background": "light"
          }
        }
      ]
    },
    {
      "cell_type": "code",
      "metadata": {
        "id": "b2YwrB_MruZu",
        "colab_type": "code",
        "colab": {}
      },
      "source": [
        ""
      ],
      "execution_count": 0,
      "outputs": []
    }
  ]
}