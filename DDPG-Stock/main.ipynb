{
 "cells": [
  {
   "cell_type": "code",
   "execution_count": 18,
   "metadata": {},
   "outputs": [],
   "source": [
    "import gym\n",
    "from tqdm.notebook import tqdm\n",
    "COLAB = False\n",
    "if not COLAB:\n",
    "    import os\n",
    "    os.environ['CUDA_VISIBLE_DEVICES'] = '-1'\n",
    "import tensorflow as tf\n",
    "import numpy as np\n",
    "from tensorflow.keras.layers import *\n",
    "from tensorflow.keras import Input\n",
    "from environment_ddpg import StockEnv, create_stock_env\n",
    "from utils import ReplayBuffer, OrnsteinUhlenbeckActionNoise\n",
    "path_base = \"models/\"\n",
    "RESUME = True"
   ]
  },
  {
   "cell_type": "code",
   "execution_count": 19,
   "metadata": {},
   "outputs": [],
   "source": [
    "class Actor:\n",
    "    def __init__(self, params):\n",
    "        self.output_range = params[\"output_range\"]\n",
    "        self.hidden_layers = params[\"actor_hidden_layers\"]\n",
    "        self.state_dimensions = params[\"state_dimensions\"]\n",
    "        self.action_dimensions = params[\"action_dimensions\"]\n",
    "        self.actor = self.model()\n",
    "        \n",
    "    def model(self):\n",
    "        inputs = Input(shape=(1, self.state_dimensions))\n",
    "        x = Lambda(lambda x: x)(inputs)\n",
    "        for layer in self.hidden_layers:\n",
    "            x = Dense(layer, activation='relu')(x)\n",
    "        x = Dense(self.action_dimensions, activation='tanh')(x)\n",
    "        x = Lambda(lambda x: x*self.output_range)(x)\n",
    "        model = tf.keras.Model(inputs = inputs, outputs = x)\n",
    "        return model\n",
    "    \n",
    "    def get_action(self, state):\n",
    "        state_tensor = tf.Variable(shape = state.shape, initial_value = state)\n",
    "        return (self.actor(state_tensor)).numpy()\n",
    "\n",
    "    def save_weights(self):\n",
    "        self.actor.save_weights(path_base + \"actor.h5\")\n",
    "               \n",
    "    def load_weights(self):\n",
    "        self.actor.load_weights(path_base + \"actor.h5\")\n",
    "        \n",
    "    \n",
    "class Critic:\n",
    "    def __init__(self, params):\n",
    "        self.hidden_layers = params[\"critic_hidden_layers\"]\n",
    "        self.state_dimensions = params[\"state_dimensions\"]\n",
    "        self.action_dimensions = params[\"action_dimensions\"]\n",
    "        self.optimizer = params[\"critic_optimizer\"]\n",
    "        self.critic_online = self.model()\n",
    "        self.critic_target = self.model()\n",
    "\n",
    "\n",
    "    def model(self):\n",
    "        input_a = Input(shape = (1, self.state_dimensions))\n",
    "        input_b = Input(shape = (1, self.action_dimensions))\n",
    "        x = concatenate([input_a, input_b], axis=-1)\n",
    "        for layer in self.hidden_layers:\n",
    "            x = Dense(layer, activation='relu')(x)\n",
    "        x = Dense(1, activation='linear')(x)\n",
    "        model = tf.keras.Model(inputs=[input_a, input_b], outputs = x)\n",
    "        model.compile(loss='mse', optimizer=self.optimizer)\n",
    "        return model\n",
    "    \n",
    "    def save_weights(self):\n",
    "        self.critic_online.save_weights(path_base + \"critic_online.h5\")\n",
    "        self.critic_target.save_weights(path_base +  \"critic_target.h5\")\n",
    "               \n",
    "    def load_weights(self):\n",
    "        self.critic_online.load_weights(path_base + \"critic_online.h5\")\n",
    "        self.critic_target.load_weights(path_base + \"critic_target.h5\")\n",
    "\n",
    "    def get_qvalues(self, state_array, action_array, online=True):\n",
    "        state_tensor = tf.Variable(shape = state_array.shape, initial_value = state_array)\n",
    "        action_tensor = tf.Variable(shape = action_array.shape, initial_value = action_array)\n",
    "        return (self.critic_online([state_tensor, action_tensor]).numpy() if online else self.critic_target([state_tensor, action_tensor]).numpy())\n",
    "    \n",
    "    def call(self, state_tensor, action_tensor, online = True):\n",
    "        return (self.critic_online([state_tensor, action_tensor]) if online else self.critic_target([state_tensor, action_tensor]))\n",
    "    def merge_networks(self, tau):\n",
    "        self.critic_target.set_weights(tau*np.array(self.critic_online.get_weights())\n",
    "                                                                    + (1-tau)*np.array(self.critic_target.get_weights()))\n",
    "        \n",
    "    "
   ]
  },
  {
   "cell_type": "code",
   "execution_count": 20,
   "metadata": {},
   "outputs": [],
   "source": [
    "class Agent:\n",
    "    def __init__(self, params, test=False):\n",
    "        self.test = test\n",
    "        self.actor = Actor(params)\n",
    "        self.critic = Critic(params)\n",
    "        self.buffer = ReplayBuffer(params[\"buffer_size\"])\n",
    "        self.state_dimensions = params[\"state_dimensions\"]\n",
    "        self.action_dimensions = params[\"action_dimensions\"]\n",
    "        self.discount = params[\"discount\"]\n",
    "        self.action_range = params[\"output_range\"]\n",
    "        self.save_frequency = params[\"save_frequency\"]\n",
    "        self.batch_size = params[\"batch_size\"]\n",
    "        self.optimizer = params[\"actor_optimizer\"]\n",
    "        self.tau = params[\"tau\"]\n",
    "        self.step = 0\n",
    "        self.noise_func =  OrnsteinUhlenbeckActionNoise(mu=np.zeros(params[\"action_dimensions\"]))\n",
    "        if RESUME:\n",
    "            self.load_networks()\n",
    "        \n",
    "    def agent_start(self, observation):\n",
    "        observation = np.reshape(observation, (1, self.state_dimensions))\n",
    "        act = np.squeeze(self.actor.get_action(observation))\n",
    "        if not self.test:\n",
    "            action = self.clip_action(act + self.noise_func())\n",
    "        else:\n",
    "            action = [self.clip_action(act)]\n",
    "        self.prev_state = observation\n",
    "        self.prev_action = action\n",
    "        return action \n",
    "\n",
    "    def clip_action(self, action):\n",
    "        if abs(action) > self.action_range:\n",
    "            action *= abs(self.action_range)/abs(action)\n",
    "        \n",
    "        return action\n",
    "\n",
    "    def agent_step(self, reward, observation):\n",
    "        observation = np.reshape(observation, (1, self.state_dimensions))\n",
    "        if not self.test:\n",
    "            relay = (self.prev_state, self.prev_action, reward, observation)\n",
    "            self.buffer.add(relay)\n",
    "        self.prev_state = observation\n",
    "        act = np.squeeze(self.actor.get_action(observation))\n",
    "        if not self.test:\n",
    "            self.prev_action = self.clip_action(act + self.noise_func())\n",
    "            self.train(self.batch_size)\n",
    "        else:\n",
    "            self.prev_action = [self.clip_action(act)]\n",
    "        \n",
    "        return self.prev_action \n",
    "    \n",
    "    def save_networks(self):\n",
    "        self.actor.save_weights()\n",
    "        self.critic.save_weights()\n",
    "\n",
    "    def load_networks(self):\n",
    "        self.actor.load_weights()\n",
    "        self.critic.load_weights()\n",
    "\n",
    "\n",
    "    def train(self, sample_size):\n",
    "        self.step += 1\n",
    "        batch, batch_size = self.buffer.sample(sample_size)\n",
    "\n",
    "        state_array = np.array([ element[3] for element in batch])\n",
    "        action_array = self.actor.get_action(state_array)\n",
    "        prev_state_array = np.array([ element[0] for element in batch])\n",
    "        prev_action_array = np.array([ [[element[2]]] for element in batch])\n",
    "        output = self.critic.get_qvalues(state_array, action_array, False)\n",
    "        output = np.array([element[2] + self.discount*out[0] for element, out in zip(batch, output)])\n",
    "        self.critic.critic_online.fit([state_array, action_array], output, verbose=0)\n",
    "\n",
    "        prev_state_tensor = tf.Variable(shape = prev_state_array.shape, initial_value = prev_state_array)\n",
    "        prev_action_tensor = tf.Variable(shape = prev_action_array.shape, initial_value = prev_action_array)\n",
    "\n",
    "        with tf.GradientTape(persistent=True) as g:\n",
    "            g.watch(prev_action_tensor) \n",
    "            g.watch(prev_state_tensor)\n",
    "            value = self.critic.call(prev_state_tensor, prev_action_tensor)\n",
    "            action = self.actor.actor(prev_state_tensor)\n",
    "            \n",
    "        gradient = -tf.squeeze(g.gradient(value, prev_action_tensor))\n",
    "        gradient = tf.cast(gradient, tf.float32)\n",
    "        gradient_actor = g.gradient(action, self.actor.actor.trainable_weights, gradient)\n",
    "        gradient_actor = list(map(lambda x: tf.math.divide(x, batch_size), gradient_actor))\n",
    "        self.optimizer.apply_gradients(zip(gradient_actor, self.actor.actor.trainable_weights))\n",
    "        self.critic.merge_networks(self.tau)\n",
    "\n",
    "        if self.step%self.save_frequency == 0:\n",
    "            self.save_networks()\n",
    "\n"
   ]
  },
  {
   "cell_type": "code",
   "execution_count": 21,
   "metadata": {},
   "outputs": [],
   "source": [
    "AGENT_PARAMS = {\n",
    "\t\"output_range\": 1,\n",
    "\t\"actor_hidden_layers\": [30, 8],\n",
    "\t\"critic_hidden_layers\": [30, 8],\n",
    "\t\"state_dimensions\": 5,\n",
    "\t\"action_dimensions\": 1,\n",
    "\t\"critic_optimizer\": tf.keras.optimizers.Adam(learning_rate = 0.001),\n",
    "\t\"actor_optimizer\": tf.keras.optimizers.Adam(learning_rate = 0.0001),\n",
    "\t\"batch_size\": 64,\n",
    "\t\"buffer_size\":1000000,\n",
    "\t\"discount\": 0.99,\n",
    "\t\"tau\": 0.001,\n",
    "\t\"save_frequency\": 100\n",
    "}\n",
    "agent = Agent(AGENT_PARAMS, True)"
   ]
  },
  {
   "cell_type": "code",
   "execution_count": null,
   "metadata": {},
   "outputs": [
    {
     "data": {
      "application/vnd.jupyter.widget-view+json": {
       "model_id": "8dd4442a311949dea911d55d1cf634e1",
       "version_major": 2,
       "version_minor": 0
      },
      "text/plain": [
       "HBox(children=(IntProgress(value=0, description='Iteration: ', max=2000, style=ProgressStyle(description_width…"
      ]
     },
     "metadata": {},
     "output_type": "display_data"
    },
    {
     "name": "stdout",
     "output_type": "stream",
     "text": [
      "FGB.csv profit: 82931.5111144795\n"
     ]
    },
    {
     "data": {
      "application/vnd.jupyter.widget-view+json": {
       "model_id": "6ceb608d9d934aa7a9ba4d88faf31d09",
       "version_major": 2,
       "version_minor": 0
      },
      "text/plain": [
       "HBox(children=(IntProgress(value=0, description='Iteration: ', max=2000, style=ProgressStyle(description_width…"
      ]
     },
     "metadata": {},
     "output_type": "display_data"
    },
    {
     "name": "stdout",
     "output_type": "stream",
     "text": [
      "FDS.csv profit: 162327.35198382623\n"
     ]
    },
    {
     "data": {
      "application/vnd.jupyter.widget-view+json": {
       "model_id": "d30019c1acad45a39c5e41c4f2fc2596",
       "version_major": 2,
       "version_minor": 0
      },
      "text/plain": [
       "HBox(children=(IntProgress(value=0, description='Iteration: ', max=2000, style=ProgressStyle(description_width…"
      ]
     },
     "metadata": {},
     "output_type": "display_data"
    },
    {
     "name": "stdout",
     "output_type": "stream",
     "text": [
      "FLL.csv profit: 26112.9602270568\n"
     ]
    },
    {
     "data": {
      "application/vnd.jupyter.widget-view+json": {
       "model_id": "45b64838dc5e41f983e69a530947bded",
       "version_major": 2,
       "version_minor": 0
      },
      "text/plain": [
       "HBox(children=(IntProgress(value=0, description='Iteration: ', max=2000, style=ProgressStyle(description_width…"
      ]
     },
     "metadata": {},
     "output_type": "display_data"
    },
    {
     "name": "stdout",
     "output_type": "stream",
     "text": [
      "FNJN.csv profit: 90263.0808829175\n"
     ]
    },
    {
     "data": {
      "application/vnd.jupyter.widget-view+json": {
       "model_id": "2b44aa2f15da4592a79b474cbf880fd2",
       "version_major": 2,
       "version_minor": 0
      },
      "text/plain": [
       "HBox(children=(IntProgress(value=0, description='Iteration: ', max=2000, style=ProgressStyle(description_width…"
      ]
     },
     "metadata": {},
     "output_type": "display_data"
    },
    {
     "name": "stdout",
     "output_type": "stream",
     "text": [
      "FHB.csv profit: 1556806.9152948647\n"
     ]
    },
    {
     "data": {
      "application/vnd.jupyter.widget-view+json": {
       "model_id": "cdc7d355974040cd8806b52ba6ee93e2",
       "version_major": 2,
       "version_minor": 0
      },
      "text/plain": [
       "HBox(children=(IntProgress(value=0, description='Iteration: ', max=2000, style=ProgressStyle(description_width…"
      ]
     },
     "metadata": {},
     "output_type": "display_data"
    },
    {
     "name": "stdout",
     "output_type": "stream",
     "text": [
      "FET.csv profit: 353110.3005525867\n"
     ]
    },
    {
     "data": {
      "application/vnd.jupyter.widget-view+json": {
       "model_id": "f044e352ff4a43f08256aa9678423a32",
       "version_major": 2,
       "version_minor": 0
      },
      "text/plain": [
       "HBox(children=(IntProgress(value=0, description='Iteration: ', max=2000, style=ProgressStyle(description_width…"
      ]
     },
     "metadata": {},
     "output_type": "display_data"
    },
    {
     "name": "stdout",
     "output_type": "stream",
     "text": [
      "FNKO.csv profit: 65056.323906801845\n"
     ]
    },
    {
     "data": {
      "application/vnd.jupyter.widget-view+json": {
       "model_id": "67e6067bccf342828655916908a9dbc4",
       "version_major": 2,
       "version_minor": 0
      },
      "text/plain": [
       "HBox(children=(IntProgress(value=0, description='Iteration: ', max=2000, style=ProgressStyle(description_width…"
      ]
     },
     "metadata": {},
     "output_type": "display_data"
    },
    {
     "name": "stdout",
     "output_type": "stream",
     "text": [
      "FIV.csv profit: 182788502.69724643\n"
     ]
    },
    {
     "data": {
      "application/vnd.jupyter.widget-view+json": {
       "model_id": "98a4f2450c294f8d84e47b57e7b81a28",
       "version_major": 2,
       "version_minor": 0
      },
      "text/plain": [
       "HBox(children=(IntProgress(value=0, description='Iteration: ', max=2000, style=ProgressStyle(description_width…"
      ]
     },
     "metadata": {},
     "output_type": "display_data"
    },
    {
     "name": "stdout",
     "output_type": "stream",
     "text": [
      "FFBC.csv profit: 151097.5730914848\n"
     ]
    },
    {
     "data": {
      "application/vnd.jupyter.widget-view+json": {
       "model_id": "3f5ff2b15f72451ca67b4182b8709ac3",
       "version_major": 2,
       "version_minor": 0
      },
      "text/plain": [
       "HBox(children=(IntProgress(value=0, description='Iteration: ', max=2000, style=ProgressStyle(description_width…"
      ]
     },
     "metadata": {},
     "output_type": "display_data"
    },
    {
     "name": "stdout",
     "output_type": "stream",
     "text": [
      "FIT.csv profit: 49930.43772191338\n"
     ]
    },
    {
     "data": {
      "application/vnd.jupyter.widget-view+json": {
       "model_id": "45934a6dfb5e420a8b971235f03fa6ae",
       "version_major": 2,
       "version_minor": 0
      },
      "text/plain": [
       "HBox(children=(IntProgress(value=0, description='Iteration: ', max=2000, style=ProgressStyle(description_width…"
      ]
     },
     "metadata": {},
     "output_type": "display_data"
    },
    {
     "name": "stdout",
     "output_type": "stream",
     "text": [
      "FHI.csv profit: 44755.165865581235\n"
     ]
    },
    {
     "data": {
      "application/vnd.jupyter.widget-view+json": {
       "model_id": "b6d14d8365c04ce68818de7a19bb2c50",
       "version_major": 2,
       "version_minor": 0
      },
      "text/plain": [
       "HBox(children=(IntProgress(value=0, description='Iteration: ', max=2000, style=ProgressStyle(description_width…"
      ]
     },
     "metadata": {},
     "output_type": "display_data"
    },
    {
     "name": "stdout",
     "output_type": "stream",
     "text": [
      "FLDM.csv profit: 119025.61493109872\n"
     ]
    },
    {
     "data": {
      "application/vnd.jupyter.widget-view+json": {
       "model_id": "8c4975411ecb4c978e135f35f99145fe",
       "version_major": 2,
       "version_minor": 0
      },
      "text/plain": [
       "HBox(children=(IntProgress(value=0, description='Iteration: ', max=2000, style=ProgressStyle(description_width…"
      ]
     },
     "metadata": {},
     "output_type": "display_data"
    },
    {
     "name": "stdout",
     "output_type": "stream",
     "text": [
      "\n",
      "ACHV.csv profit: 52015.98387952722\n"
     ]
    },
    {
     "data": {
      "application/vnd.jupyter.widget-view+json": {
       "model_id": "935a45634b33416ba5049c87b5f1dff2",
       "version_major": 2,
       "version_minor": 0
      },
      "text/plain": [
       "HBox(children=(IntProgress(value=0, description='Iteration: ', max=2000, style=ProgressStyle(description_width…"
      ]
     },
     "metadata": {},
     "output_type": "display_data"
    },
    {
     "name": "stdout",
     "output_type": "stream",
     "text": [
      "FFBW.csv profit: 56607.26454563081\n"
     ]
    },
    {
     "data": {
      "application/vnd.jupyter.widget-view+json": {
       "model_id": "b49c61730f724755927fb0208afced0a",
       "version_major": 2,
       "version_minor": 0
      },
      "text/plain": [
       "HBox(children=(IntProgress(value=0, description='Iteration: ', max=2000, style=ProgressStyle(description_width…"
      ]
     },
     "metadata": {},
     "output_type": "display_data"
    },
    {
     "name": "stdout",
     "output_type": "stream",
     "text": [
      "MSFT.csv profit: 42877.80486768806\n"
     ]
    },
    {
     "data": {
      "application/vnd.jupyter.widget-view+json": {
       "model_id": "e9382befe2014dc3bc661a3b19110fd6",
       "version_major": 2,
       "version_minor": 0
      },
      "text/plain": [
       "HBox(children=(IntProgress(value=0, description='Iteration: ', max=2000, style=ProgressStyle(description_width…"
      ]
     },
     "metadata": {},
     "output_type": "display_data"
    },
    {
     "name": "stdout",
     "output_type": "stream",
     "text": [
      "FLEX.csv profit: 97745.56776235967\n"
     ]
    },
    {
     "data": {
      "application/vnd.jupyter.widget-view+json": {
       "model_id": "f3f227003c5f4644b8e53ad5fa89b9c2",
       "version_major": 2,
       "version_minor": 0
      },
      "text/plain": [
       "HBox(children=(IntProgress(value=0, description='Iteration: ', max=2000, style=ProgressStyle(description_width…"
      ]
     },
     "metadata": {},
     "output_type": "display_data"
    },
    {
     "name": "stdout",
     "output_type": "stream",
     "text": [
      "FEUL.csv profit: 75958.49734130038\n"
     ]
    },
    {
     "data": {
      "application/vnd.jupyter.widget-view+json": {
       "model_id": "d52a34de550844f9b551a601ad3514ab",
       "version_major": 2,
       "version_minor": 0
      },
      "text/plain": [
       "HBox(children=(IntProgress(value=0, description='Iteration: ', max=2000, style=ProgressStyle(description_width…"
      ]
     },
     "metadata": {},
     "output_type": "display_data"
    },
    {
     "name": "stdout",
     "output_type": "stream",
     "text": [
      "FIVE.csv profit: 34409.443285117086\n"
     ]
    },
    {
     "data": {
      "application/vnd.jupyter.widget-view+json": {
       "model_id": "a3cf8c83dac7448487dd5cdd8c903694",
       "version_major": 2,
       "version_minor": 0
      },
      "text/plain": [
       "HBox(children=(IntProgress(value=0, description='Iteration: ', max=2000, style=ProgressStyle(description_width…"
      ]
     },
     "metadata": {},
     "output_type": "display_data"
    },
    {
     "name": "stdout",
     "output_type": "stream",
     "text": [
      "FLC.csv profit: 79313.04587942468\n"
     ]
    },
    {
     "data": {
      "application/vnd.jupyter.widget-view+json": {
       "model_id": "2864168aecf64b2b88b80858bda57702",
       "version_major": 2,
       "version_minor": 0
      },
      "text/plain": [
       "HBox(children=(IntProgress(value=0, description='Iteration: ', max=2000, style=ProgressStyle(description_width…"
      ]
     },
     "metadata": {},
     "output_type": "display_data"
    },
    {
     "name": "stdout",
     "output_type": "stream",
     "text": [
      "FISI.csv profit: 81107.29187728508\n"
     ]
    },
    {
     "data": {
      "application/vnd.jupyter.widget-view+json": {
       "model_id": "c183f1bb3e1d46c3b2f5cc76642d16ef",
       "version_major": 2,
       "version_minor": 0
      },
      "text/plain": [
       "HBox(children=(IntProgress(value=0, description='Iteration: ', max=2000, style=ProgressStyle(description_width…"
      ]
     },
     "metadata": {},
     "output_type": "display_data"
    },
    {
     "name": "stdout",
     "output_type": "stream",
     "text": [
      "FENG.csv profit: 35844.32364711852\n"
     ]
    },
    {
     "data": {
      "application/vnd.jupyter.widget-view+json": {
       "model_id": "f4cc0d76072d4a299e6e667ff9caa6b7",
       "version_major": 2,
       "version_minor": 0
      },
      "text/plain": [
       "HBox(children=(IntProgress(value=0, description='Iteration: ', max=2000, style=ProgressStyle(description_width…"
      ]
     },
     "metadata": {},
     "output_type": "display_data"
    },
    {
     "name": "stdout",
     "output_type": "stream",
     "text": [
      "FNGO.csv profit: 64288.422152185\n"
     ]
    },
    {
     "data": {
      "application/vnd.jupyter.widget-view+json": {
       "model_id": "7b23ba18cc13493abf052b5199cccb91",
       "version_major": 2,
       "version_minor": 0
      },
      "text/plain": [
       "HBox(children=(IntProgress(value=0, description='Iteration: ', max=2000, style=ProgressStyle(description_width…"
      ]
     },
     "metadata": {},
     "output_type": "display_data"
    },
    {
     "name": "stdout",
     "output_type": "stream",
     "text": [
      "FMCI.csv profit: 62639.72611186329\n"
     ]
    },
    {
     "data": {
      "application/vnd.jupyter.widget-view+json": {
       "model_id": "9bec18b6862a4ce49cff3a53f762991a",
       "version_major": 2,
       "version_minor": 0
      },
      "text/plain": [
       "HBox(children=(IntProgress(value=0, description='Iteration: ', max=2000, style=ProgressStyle(description_width…"
      ]
     },
     "metadata": {},
     "output_type": "display_data"
    },
    {
     "name": "stdout",
     "output_type": "stream",
     "text": [
      "FEYE.csv profit: 259166.51396169973\n"
     ]
    },
    {
     "data": {
      "application/vnd.jupyter.widget-view+json": {
       "model_id": "0300e3acb1a94acfbc31e0731fcc2b49",
       "version_major": 2,
       "version_minor": 0
      },
      "text/plain": [
       "HBox(children=(IntProgress(value=0, description='Iteration: ', max=2000, style=ProgressStyle(description_width…"
      ]
     },
     "metadata": {},
     "output_type": "display_data"
    },
    {
     "name": "stdout",
     "output_type": "stream",
     "text": [
      "FMC.csv profit: 470553.4249767228\n"
     ]
    },
    {
     "data": {
      "application/vnd.jupyter.widget-view+json": {
       "model_id": "9e0fea072d674567bc8cf9a41084e93f",
       "version_major": 2,
       "version_minor": 0
      },
      "text/plain": [
       "HBox(children=(IntProgress(value=0, description='Iteration: ', max=2000, style=ProgressStyle(description_width…"
      ]
     },
     "metadata": {},
     "output_type": "display_data"
    },
    {
     "name": "stdout",
     "output_type": "stream",
     "text": [
      "FFC.csv profit: 53016.84863647903\n"
     ]
    },
    {
     "data": {
      "application/vnd.jupyter.widget-view+json": {
       "model_id": "e9b33dd48e1e4037b60945b9310c661d",
       "version_major": 2,
       "version_minor": 0
      },
      "text/plain": [
       "HBox(children=(IntProgress(value=0, description='Iteration: ', max=2000, style=ProgressStyle(description_width…"
      ]
     },
     "metadata": {},
     "output_type": "display_data"
    },
    {
     "name": "stdout",
     "output_type": "stream",
     "text": [
      "FLIR.csv profit: 113397.95630557471\n"
     ]
    },
    {
     "data": {
      "application/vnd.jupyter.widget-view+json": {
       "model_id": "98998985764a441aa71ce7b8de6a3b4f",
       "version_major": 2,
       "version_minor": 0
      },
      "text/plain": [
       "HBox(children=(IntProgress(value=0, description='Iteration: ', max=2000, style=ProgressStyle(description_width…"
      ]
     },
     "metadata": {},
     "output_type": "display_data"
    },
    {
     "name": "stdout",
     "output_type": "stream",
     "text": [
      "FF.csv profit: 66714.4449458259\n"
     ]
    },
    {
     "data": {
      "application/vnd.jupyter.widget-view+json": {
       "model_id": "156d315484a047b49605e28acd7d6ecc",
       "version_major": 2,
       "version_minor": 0
      },
      "text/plain": [
       "HBox(children=(IntProgress(value=0, description='Iteration: ', max=2000, style=ProgressStyle(description_width…"
      ]
     },
     "metadata": {},
     "output_type": "display_data"
    },
    {
     "name": "stdout",
     "output_type": "stream",
     "text": [
      "FEO.csv profit: 57120.44333529245\n"
     ]
    },
    {
     "data": {
      "application/vnd.jupyter.widget-view+json": {
       "model_id": "0a5bef0931f24550aa4e5499a4476560",
       "version_major": 2,
       "version_minor": 0
      },
      "text/plain": [
       "HBox(children=(IntProgress(value=0, description='Iteration: ', max=2000, style=ProgressStyle(description_width…"
      ]
     },
     "metadata": {},
     "output_type": "display_data"
    },
    {
     "name": "stdout",
     "output_type": "stream",
     "text": [
      "FITB.csv profit: 1059903.2740246893\n"
     ]
    },
    {
     "data": {
      "application/vnd.jupyter.widget-view+json": {
       "model_id": "1a8607bb3df54e55b58306d15335cc83",
       "version_major": 2,
       "version_minor": 0
      },
      "text/plain": [
       "HBox(children=(IntProgress(value=0, description='Iteration: ', max=2000, style=ProgressStyle(description_width…"
      ]
     },
     "metadata": {},
     "output_type": "display_data"
    },
    {
     "name": "stdout",
     "output_type": "stream",
     "text": [
      "FDEF.csv profit: 35510.078179984994\n"
     ]
    },
    {
     "data": {
      "application/vnd.jupyter.widget-view+json": {
       "model_id": "f942ee464b2f4beb812bfd615aa7d8a6",
       "version_major": 2,
       "version_minor": 0
      },
      "text/plain": [
       "HBox(children=(IntProgress(value=0, description='Iteration: ', max=2000, style=ProgressStyle(description_width…"
      ]
     },
     "metadata": {},
     "output_type": "display_data"
    },
    {
     "name": "stdout",
     "output_type": "stream",
     "text": [
      "\n",
      "FLXS.csv profit: 1577.701270931051\n"
     ]
    },
    {
     "data": {
      "application/vnd.jupyter.widget-view+json": {
       "model_id": "a397e7106f154ea7a5ec48f46fcf5fd8",
       "version_major": 2,
       "version_minor": 0
      },
      "text/plain": [
       "HBox(children=(IntProgress(value=0, description='Iteration: ', max=2000, style=ProgressStyle(description_width…"
      ]
     },
     "metadata": {},
     "output_type": "display_data"
    },
    {
     "name": "stdout",
     "output_type": "stream",
     "text": [
      "ACH.csv profit: 139864.11381168835\n"
     ]
    },
    {
     "data": {
      "application/vnd.jupyter.widget-view+json": {
       "model_id": "c423f873608a46cd9564d7da0ed2f6b6",
       "version_major": 2,
       "version_minor": 0
      },
      "text/plain": [
       "HBox(children=(IntProgress(value=0, description='Iteration: ', max=2000, style=ProgressStyle(description_width…"
      ]
     },
     "metadata": {},
     "output_type": "display_data"
    },
    {
     "name": "stdout",
     "output_type": "stream",
     "text": [
      "FLXN.csv profit: 88726.64071318007\n"
     ]
    },
    {
     "data": {
      "application/vnd.jupyter.widget-view+json": {
       "model_id": "128724d61f3a4de8b1fe05322b03f7f1",
       "version_major": 2,
       "version_minor": 0
      },
      "text/plain": [
       "HBox(children=(IntProgress(value=0, description='Iteration: ', max=2000, style=ProgressStyle(description_width…"
      ]
     },
     "metadata": {},
     "output_type": "display_data"
    },
    {
     "name": "stdout",
     "output_type": "stream",
     "text": [
      "ACGLO.csv profit: 64466.30034281839\n"
     ]
    },
    {
     "data": {
      "application/vnd.jupyter.widget-view+json": {
       "model_id": "7efe9e9aaf4b45309308cbbdfba39bcf",
       "version_major": 2,
       "version_minor": 0
      },
      "text/plain": [
       "HBox(children=(IntProgress(value=0, description='Iteration: ', max=2000, style=ProgressStyle(description_width…"
      ]
     },
     "metadata": {},
     "output_type": "display_data"
    },
    {
     "name": "stdout",
     "output_type": "stream",
     "text": [
      "FISV.csv profit: 204586.91112362288\n"
     ]
    },
    {
     "data": {
      "application/vnd.jupyter.widget-view+json": {
       "model_id": "441778ef25ab42d68afa0aa24bcd5f34",
       "version_major": 2,
       "version_minor": 0
      },
      "text/plain": [
       "HBox(children=(IntProgress(value=0, description='Iteration: ', max=2000, style=ProgressStyle(description_width…"
      ]
     },
     "metadata": {},
     "output_type": "display_data"
    },
    {
     "name": "stdout",
     "output_type": "stream",
     "text": [
      "FITBO.csv profit: 63599.537244119536\n"
     ]
    },
    {
     "data": {
      "application/vnd.jupyter.widget-view+json": {
       "model_id": "e48e0c95b3704b719d0d4c67824bb248",
       "version_major": 2,
       "version_minor": 0
      },
      "text/plain": [
       "HBox(children=(IntProgress(value=0, description='Iteration: ', max=2000, style=ProgressStyle(description_width…"
      ]
     },
     "metadata": {},
     "output_type": "display_data"
    }
   ],
   "source": [
    "import matplotlib.pyplot as plt\n",
    "import os\n",
    "files = os.listdir(\"data/\")\n",
    "for num_iter, file in enumerate(files):\n",
    "    env = create_stock_env(\"data/{0}\".format(file))\n",
    "    profit = np.zeros(2000)\n",
    "    prev_profit = 0 \n",
    "    obs = env.reset()\n",
    "    prev_profit = 0\n",
    "    action = agent.agent_start(env.reset())\n",
    "    observation, reward, done, info = env.step(action[0])\n",
    "    ITERATIONS = 2000\n",
    "    pbar = tqdm(desc=\"Iteration: \", total=ITERATIONS)\n",
    "    for i in range(ITERATIONS):\n",
    "        action = agent.agent_step(reward, observation)\n",
    "        observation, reward, done, info = env.step(action[0])\n",
    "        profit[i] += reward + prev_profit\n",
    "        prev_profit +=reward\n",
    "        pbar.update(1)\n",
    "#     plt.figure() \n",
    "#     plt.plot(profit)\n",
    "    print(file + \" profit: \"+str(profit[-1]))"
   ]
  },
  {
   "cell_type": "code",
   "execution_count": null,
   "metadata": {},
   "outputs": [],
   "source": []
  }
 ],
 "metadata": {
  "kernelspec": {
   "display_name": "Python 3",
   "language": "python",
   "name": "python3"
  },
  "language_info": {
   "codemirror_mode": {
    "name": "ipython",
    "version": 3
   },
   "file_extension": ".py",
   "mimetype": "text/x-python",
   "name": "python",
   "nbconvert_exporter": "python",
   "pygments_lexer": "ipython3",
   "version": "3.7.4"
  }
 },
 "nbformat": 4,
 "nbformat_minor": 2
}
