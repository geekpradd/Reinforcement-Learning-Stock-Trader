{
 "cells": [
  {
   "cell_type": "markdown",
   "metadata": {
    "colab_type": "text",
    "id": "view-in-github"
   },
   "source": [
    "<a href=\"https://colab.research.google.com/github/geekpradd/Reinforcement-Learning-Stock-Trader/blob/master/New_Stock_Updated1.ipynb\" target=\"_parent\"><img src=\"https://colab.research.google.com/assets/colab-badge.svg\" alt=\"Open In Colab\"/></a>"
   ]
  },
  {
   "cell_type": "code",
   "execution_count": 91,
   "metadata": {
    "colab": {},
    "colab_type": "code",
    "id": "UL-H71zCQ23m"
   },
   "outputs": [],
   "source": [
    "%matplotlib inline\n",
    "import gym\n",
    "from gym import spaces\n",
    "from matplotlib import pyplot as plt\n",
    "import time\n",
    "from tqdm import tqdm_notebook\n",
    "import tensorflow as tf\n",
    "from tensorflow import keras\n",
    "import pandas as pd\n",
    "import numpy as np\n",
    "from math import floor, ceil\n",
    "import random\n",
    "from tensorflow.keras.layers import Dense, Concatenate, Lambda, Activation, LSTM\n",
    "from tensorflow.keras import Input\n",
    "from tensorflow import convert_to_tensor as convert\n",
    "import pickle\n",
    "COLAB = False\n",
    "if not COLAB:\n",
    "    import os\n",
    "    os.environ['CUDA_VISIBLE_DEVICES'] = '-1'\n",
    "path_base = 'models/'"
   ]
  },
  {
   "cell_type": "code",
   "execution_count": 104,
   "metadata": {
    "colab": {},
    "colab_type": "code",
    "id": "v8618sorQ4t5"
   },
   "outputs": [],
   "source": [
    "class StockEnv(gym.Env):\n",
    "    metadata = {'render.modes': ['human']}\n",
    "    \n",
    "    def __init__(self, df, params, train = True):\n",
    "        super(StockEnv,self).__init__()\n",
    "        \n",
    "        self.min_brokerage = params['min_brokerage']\n",
    "        self.brokerage_rate = params['brokerage_rate']\n",
    "        self.df = df\n",
    "        self.state_dimensions = 6\n",
    "        self.shares_normal = params['shares_normal']\n",
    "        self.train = train\n",
    "\n",
    "        self.max_steps = len(self.df.loc[:, \"Open\"])\n",
    "        self.action_space = spaces.Box(low = -1, high = 1, shape =  (1, 1), dtype = np.float32)\n",
    "        self.observation_space = spaces.Box(low = 0, high = 1, shape = (1, self.state_dimensions), dtype = np.float32)\n",
    "\n",
    "    def reset(self, initial_balance = 10000, shares_held = None):\n",
    "        self.start_balance = initial_balance \n",
    "        if self.train:\n",
    "            self.current_step = np.random.randint(0, self.max_steps)\n",
    "        else:\n",
    "            self.current_step = 0\n",
    "        self.balance = initial_balance\n",
    "        self.shares_held = shares_held\n",
    "        if self.shares_held is None:\n",
    "            self.shares_held = 0\n",
    "        self.current_price = self.get_price()\n",
    "        self.net_worth = self.balance + (self.shares_held*self.current_price)\n",
    "        self.initial_worth = self.net_worth\n",
    "        self.max_net_worth = self.net_worth\n",
    "        self.done = False\n",
    "        self.frame = np.zeros((1, self.state_dimensions))\n",
    "        self.info = {\n",
    "            'current_step' : self.current_step,\n",
    "            'current_price': self.current_price,\n",
    "            'net_worth' : self.net_worth,\n",
    "            'max_net_worth': self.max_net_worth,\n",
    "            'shares_held' : self.shares_held,\n",
    "            'balance' : self.balance,\n",
    "        }\n",
    "        return self.observe()\n",
    "        \n",
    "    def get_price(self):\n",
    "        return np.random.uniform(self.df.loc[self.current_step,\"Low\"], self.df.loc[self.current_step,\"High\"]) \n",
    "      \n",
    "    def observe(self):\n",
    "        self.frame[0, 0:4] = np.array([self.df.loc[self.current_step,'Open'],self.df.loc[self.current_step,'High'],self.df.loc[self.current_step,'Low'],self.df.loc[self.current_step,'Close']])/self.balance\n",
    "        self.frame[0, 4] = self.shares_held/self.shares_normal\n",
    "        self.frame[0, 5] = self.balance/self.start_balance\n",
    "        self.info = {\n",
    "            'current_step' : self.current_step,\n",
    "            'current_price': self.current_price,\n",
    "            'net_worth' : self.net_worth,\n",
    "            'max_net_worth': self.max_net_worth,\n",
    "            'shares_held' : self.shares_held,\n",
    "            'balance' : self.balance\n",
    "        }\n",
    "        return self.frame, self.info\n",
    "    \n",
    "    def update_worth(self, reward):\n",
    "        self.net_worth += reward\n",
    "        self.max_net_worth = max(self.max_net_worth, self.net_worth)\n",
    "\n",
    "    def update_balance(self, action):\n",
    "        self.balance -= action*self.current_price\n",
    "\n",
    "    def update_shares(self, action):\n",
    "        self.shares_held += action\n",
    "\n",
    "    def take_action(self, action):\n",
    "        self.current_price = self.get_price()\n",
    "        max_buyable = self.balance/self.current_price\n",
    "        max_sellable = self.shares_held\n",
    "        if action >= 0:\n",
    "            action *= max_buyable\n",
    "            action = floor(action)\n",
    "        else:\n",
    "            action *= max_sellable\n",
    "            action = ceil(action)\n",
    "            \n",
    "        if self.shares_held == 0 and action < 0:\n",
    "            reward = -self.balance/2 if self.train else 0\n",
    "            print (\"Invallid sell action\")\n",
    "        else:\n",
    "            self.update_balance(action)\n",
    "            self.update_shares(action)\n",
    "            reward = self.balance + (self.shares_held * self.current_price) - self.net_worth\n",
    "            self.update_worth(reward)\n",
    "        return reward\n",
    "            \n",
    "    def step(self, action):\n",
    "        self.current_step += 1\n",
    "        if self.current_step >= self.max_steps or self.done:\n",
    "            self.done = True\n",
    "            return np.zeros((1, self.state_dimensions)), 0, self.done, self.info\n",
    "\n",
    "        reward = self.take_action(action)\n",
    "        self.done = self.net_worth <= self.initial_worth*0.05\n",
    "        if self.done:\n",
    "            print('snap')\n",
    "        obs, info = self.observe()\n",
    "        return obs, reward, self.done, info\n",
    "    \n",
    "    def render(self, mode='human', close = False):\n",
    "        profit = self.net_worth - self.initial_worth\n",
    "        print('Step: {}'.format(self.current_step))\n",
    "        print('Net Worth: {}'.format(self.net_worth))\n",
    "        print('Profit: {}'.format(profit))\n",
    "        \n",
    "def create_stock_env(location, train=True):\n",
    "    df = pd.read_csv(location).sort_values('Date')\n",
    "    params = {\n",
    "        'num_stocks' : 1,\n",
    "        'min_brokerage' : 30.0,\n",
    "        'shares_normal' : 10000,\n",
    "        'brokerage_rate' : 0.001,\n",
    "    }\n",
    "    return StockEnv(df, params, train)"
   ]
  },
  {
   "cell_type": "code",
   "execution_count": 105,
   "metadata": {
    "colab": {},
    "colab_type": "code",
    "id": "Caoah1T3Q6UV"
   },
   "outputs": [],
   "source": [
    "class ReplayMemory:\n",
    "    def __init__(self, max_size):\n",
    "        self.buffer = [None] * max_size\n",
    "        self.max_size = max_size\n",
    "        self.index = 0\n",
    "        self.size = 0\n",
    "\n",
    "    def append(self, obj):\n",
    "        self.buffer[self.index] = obj\n",
    "        self.size = min(self.size + 1, self.max_size)\n",
    "        self.index = (self.index + 1) % self.max_size\n",
    "\n",
    "    def sample(self, batch_size):\n",
    "        indices = random.sample(range(self.size), batch_size)\n",
    "        return [self.buffer[index] for index in indices]\n",
    "\n",
    "from collections import deque\n",
    "class ReplayDeque:\n",
    "    def __init__(self, capacity, element_dimensions):\n",
    "        self.deque = deque()\n",
    "        self.capacity = capacity\n",
    "        self.dim = element_dimensions\n",
    "        for _ in range(self.capacity):\n",
    "            self.deque.append(np.zeros((element_dimensions, )))\n",
    "            \n",
    "    def add(self, obj):\n",
    "        copied = np.copy(obj)\n",
    "        self.deque.append(np.squeeze(copied))\n",
    "        self.deque.popleft()\n",
    "        \n",
    "    def get_last(self, duration):\n",
    "        entries = list(self.deque)[-duration:]\n",
    "        shape = list(entries[0].shape)\n",
    "        shape[:0] = [1, len(entries)]\n",
    "        res = np.concatenate(entries).reshape(shape)\n",
    "        return res\n",
    "    def clear(self):\n",
    "        self.__init__(self.capacity, self.dim)\n",
    "        \n",
    "class OrnsteinUhlenbeckActionNoise:\n",
    "    def __init__(self, mu, sigma=0.3, theta=.15, dt=1e-2, x0=None):\n",
    "        self.theta = theta\n",
    "        self.mu = mu\n",
    "        self.sigma = sigma\n",
    "        self.dt = dt\n",
    "        self.x0 = x0\n",
    "        self.reset()\n",
    "\n",
    "    def __call__(self):\n",
    "        x = self.x_prev + self.theta * (self.mu - self.x_prev) * self.dt + \\\n",
    "                self.sigma * np.sqrt(self.dt) * np.random.normal(size=self.mu.shape)\n",
    "        self.x_prev = x\n",
    "        return np.squeeze(x)\n",
    "\n",
    "    def reset(self):\n",
    "        self.x_prev = self.x0 if self.x0 is not None else np.zeros_like(self.mu)\n",
    "\n",
    "    def __repr__(self):\n",
    "        return 'OrnsteinUhlenbeckActionNoise(mu={}, sigma={})'.format(self.mu, self.sigma)"
   ]
  },
  {
   "cell_type": "code",
   "execution_count": 106,
   "metadata": {
    "colab": {},
    "colab_type": "code",
    "id": "GzsZozkwQ8Z9"
   },
   "outputs": [],
   "source": [
    "class Actor:\n",
    "    def __init__(self, params):\n",
    "        self.output_range = params[\"output_range\"]\n",
    "        self.state_dimensions = params[\"state_dimensions\"]\n",
    "        self.replay_length = params[\"replay_length\"]\n",
    "        self.action_dimensions = params[\"action_dimensions\"]\n",
    "        self.replay_length = params[\"replay_length\"]\n",
    "        self.cap = params['cap']\n",
    "        self.actor = self.build_model()\n",
    "        \n",
    "    def build_model(self):\n",
    "        inputs = Input(shape=(self.state_dimensions*self.replay_length, ))\n",
    "        x = Dense(60, activation = 'relu')(inputs)\n",
    "#         self.lstm_layer = LSTM(16)\n",
    "#         x = self.lstm_layer(x)\n",
    "        x = Dense(16, activation='relu')(x)\n",
    "        x = Dense(1, activation='tanh')(x)\n",
    "        model = keras.Model(inputs = inputs, outputs = x)\n",
    "        # model.summary()\n",
    "        return model\n",
    "    \n",
    "    def get_action(self, state):\n",
    "#         print (\"mm state\")\n",
    "#         print (state)\n",
    "        return self.actor(convert(state))\n",
    "\n",
    "    def save(self):\n",
    "        self.actor.save(path_base + 'actor.h5')\n",
    "    \n",
    "    def load(self):\n",
    "        self.actor = keras.models.load_model(path_base + 'actor.h5')\n",
    "        print('Successfully Loaded')\n",
    "\n",
    "class Critic:\n",
    "    def __init__(self, params):\n",
    "        self.state_dimensions = params[\"state_dimensions\"]\n",
    "        self.action_dimensions = params[\"action_dimensions\"]\n",
    "        self.replay_length = params[\"replay_length\"]\n",
    "        self.optimizer = params[\"critic_optimizer\"]\n",
    "        self.tau = params['tau']\n",
    "        self.critic_online = self.build_model()\n",
    "        self.critic_target = self.build_model()\n",
    "        self.critic_online.set_weights(self.critic_target.get_weights())\n",
    "\n",
    "    def build_model(self):\n",
    "        input_a = Input(shape = (self.state_dimensions*self.replay_length, ))\n",
    "        input_b = Input(shape = (self.action_dimensions, ))\n",
    "        input = Concatenate(axis = -1)([input_a, input_b])\n",
    "        x = Dense(60, activation = 'relu')(input)\n",
    "        x = Dense(16, activation = 'relu')(x)\n",
    "        output = Dense(1)(x)\n",
    "        model = keras.Model(inputs=[input_a, input_b], outputs = output)\n",
    "        model.compile(loss='mse', optimizer = keras.optimizers.Adam(learning_rate = 0.001))\n",
    "        # model.summary()\n",
    "        return model\n",
    "\n",
    "    def save(self):\n",
    "        self.critic_online.save(path_base + 'critic_online.h5')\n",
    "        self.critic_target.save(path_base + 'critic_target.h5')\n",
    "\n",
    "    def load(self):\n",
    "        self.critic_online = keras.models.load_model(path_base + 'critic_online.h5')\n",
    "        self.critic_target = keras.models.load_model(path_base + 'critic_target.h5')\n",
    "\n",
    "    def get_qvalues(self, state_array, action_array, online=True):\n",
    "        if online:\n",
    "            return self.critic_online([convert(state_array), convert(action_array)])\n",
    "        else:\n",
    "            return self.critic_target([convert(state_array), convert(action_array)])\n",
    "\n",
    "    def call(self, state_tensor, action_tensor):\n",
    "        return self.critic_online([state_tensor, action_tensor])\n",
    "    \n",
    "    def merge(self):\n",
    "        self.critic_target.set_weights(self.tau*np.array(self.critic_online.get_weights())\n",
    "                                                                    + (1-self.tau)*np.array(self.critic_target.get_weights()))"
   ]
  },
  {
   "cell_type": "code",
   "execution_count": 119,
   "metadata": {
    "colab": {},
    "colab_type": "code",
    "id": "aS69nBDyQ-I0"
   },
   "outputs": [],
   "source": [
    "class Agent:\n",
    "    def __init__(self, params, train = True, resume = True):\n",
    "        self.train = train\n",
    "        self.actor = Actor(params)\n",
    "        self.critic = Critic(params)\n",
    "        self.buffer = ReplayMemory(params[\"buffer_size\"])\n",
    "        self.replay_length = params[\"replay_length\"]\n",
    "        self.state_dimensions = params[\"state_dimensions\"]\n",
    "        self.past_states = ReplayDeque(self.replay_length, self.state_dimensions)\n",
    "        self.action_dimensions = params[\"action_dimensions\"]\n",
    "        self.discount = params[\"discount\"]\n",
    "        self.action_range = params[\"output_range\"]\n",
    "        self.save_frequency = params[\"save_frequency\"]\n",
    "        self.batch_size = params[\"batch_size\"]\n",
    "        self.optimizer = params[\"actor_optimizer\"]\n",
    "        self.cap = params['cap']\n",
    "        self.num_steps = 0\n",
    "        self.noise_func = OrnsteinUhlenbeckActionNoise(mu=np.zeros(self.action_dimensions))\n",
    "        if resume:\n",
    "            self.load()\n",
    "        \n",
    "    def clear_memory(self):\n",
    "        self.past_states.clear()\n",
    "    def agent_start(self, observation):\n",
    "        self.past_states.add(observation)\n",
    "        state = np.reshape(self.past_states.get_last(self.replay_length), (1, -1))\n",
    "        action = np.squeeze(self.actor.get_action(state).numpy())\n",
    "#         print (\"start\")\n",
    "#         print (observation)\n",
    "        print (state.shape)\n",
    "        print (action)\n",
    "        if self.train:\n",
    "            action = self.clip_action(action + self.noise_func())\n",
    "        else:\n",
    "            action = self.clip_action(action)\n",
    "        \n",
    "        self.prev_state = state\n",
    "        self.prev_action = action\n",
    "        return action\n",
    "\n",
    "    def clip_action(self, action):\n",
    "        if action > 1:\n",
    "            action = 1\n",
    "        if action < -1:\n",
    "            action = -1\n",
    "        return action\n",
    "\n",
    "    def agent_step(self, reward, observation):    \n",
    "        self.past_states.add(observation)\n",
    "#         print (\"step\")\n",
    "#         print (observation)\n",
    "        state = np.reshape(self.past_states.get_last(self.replay_length), (1, -1))\n",
    "        action = np.squeeze(self.actor.get_action(state).numpy())\n",
    "        if self.train:\n",
    "            replay = (self.prev_state, self.prev_action, reward, state)\n",
    "            self.buffer.append(replay)\n",
    "#         print (\"ok?\")\n",
    "        if self.train:\n",
    "            action = self.clip_action(action + self.noise_func())\n",
    "            self.run()\n",
    "        else:\n",
    "            action = self.clip_action(action)\n",
    "        self.prev_action = action\n",
    "        self.prev_state = state\n",
    "        return self.prev_action \n",
    "    \n",
    "    def reset(self):\n",
    "        self.actor.reset()\n",
    "    def save(self):\n",
    "        self.actor.save()\n",
    "        self.critic.save()\n",
    "        data = (self.buffer, self.num_steps, self.noise_func)\n",
    "        with open (path_base + 'auxiliary.pkl', 'wb') as f:\n",
    "            pickle.dump(data, f)\n",
    "\n",
    "    def load(self):\n",
    "        self.actor.load()\n",
    "        self.critic.load()\n",
    "        with open (path_base + 'auxiliary.pkl', 'rb') as f:\n",
    "            data = pickle.load(f)\n",
    "        self.buffer, self.num_steps, self.noise_func = data\n",
    "    \n",
    "    def run(self):\n",
    "        self.num_steps += 1\n",
    "        size = min(self.batch_size, self.buffer.size)\n",
    "        batch = self.buffer.sample(size)\n",
    "\n",
    "        prev_states = np.array([x[0] for x in batch]).reshape((-1, self.state_dimensions*self.replay_length))\n",
    "        prev_actions = np.array([x[1] for x in batch]).reshape((-1, self.action_dimensions))\n",
    "        rewards = np.array([x[2] for x in batch]).reshape((-1, 1))\n",
    "        states = np.array([x[3] for x in batch]).reshape((-1, self.state_dimensions*self.replay_length))\n",
    "        actions = self.actor.get_action(states)\n",
    "        q_values = self.critic.get_qvalues(states, actions, False)\n",
    "        q_values += self.discount*rewards\n",
    "        self.critic.critic_online.fit([states, actions], q_values, epochs = 1, verbose=0)\n",
    "\n",
    "        prev_state_tensor = convert(prev_states)\n",
    "        prev_action_tensor = convert(prev_actions)\n",
    "        \n",
    "        with tf.GradientTape(persistent=True) as tape:\n",
    "            tape.watch(prev_action_tensor)\n",
    "            value = self.critic.call(prev_state_tensor, prev_action_tensor)\n",
    "            action = self.actor.actor(prev_state_tensor)\n",
    "        gradient = -tape.gradient(value, prev_action_tensor)\n",
    "        gradient = tf.cast(gradient, tf.float32)\n",
    "        gradient_actor = tape.gradient(action, self.actor.actor.trainable_weights, gradient)\n",
    "        gradient_actor = list(np.array(gradient_actor)/size)\n",
    "\n",
    "        self.optimizer.apply_gradients(zip(gradient_actor, self.actor.actor.trainable_weights))\n",
    "        self.critic.merge()\n",
    "\n",
    "        if self.num_steps % self.save_frequency == 0:\n",
    "            self.save()"
   ]
  },
  {
   "cell_type": "code",
   "execution_count": 162,
   "metadata": {
    "colab": {},
    "colab_type": "code",
    "id": "Ewfr3d3HQ_5i"
   },
   "outputs": [],
   "source": [
    "AGENT_PARAMS = {\n",
    "\t\"output_range\": 1,\n",
    "\t\"state_dimensions\": 6,\n",
    "    \"replay_length\": 10,\n",
    "\t\"action_dimensions\": 1,\n",
    "\t\"critic_optimizer\": tf.keras.optimizers.Adam(learning_rate = 0.001),\n",
    "\t\"actor_optimizer\": tf.keras.optimizers.Adam(learning_rate = 0.0001),\n",
    "\t\"batch_size\": 64,\n",
    "\t\"buffer_size\":100000,\n",
    "\t\"discount\": 0.99,\n",
    "\t\"tau\": 0.001,\n",
    "\t\"save_frequency\": 5000,\n",
    "\t'cap' : 0.9,\n",
    "}"
   ]
  },
  {
   "cell_type": "code",
   "execution_count": 170,
   "metadata": {
    "colab": {},
    "colab_type": "code",
    "id": "1BBct9SwRCJP"
   },
   "outputs": [],
   "source": [
    "files = 'data/PCG.csv'\n",
    "env = create_stock_env(files)\n",
    "tf.keras.backend.set_floatx('float32')\n",
    "agent = Agent(AGENT_PARAMS, train = True,resume = True)"
   ]
  },
  {
   "cell_type": "code",
   "execution_count": 171,
   "metadata": {
    "colab": {},
    "colab_type": "code",
    "id": "Tt9u_BcKREBI"
   },
   "outputs": [],
   "source": [
    "def train(agent, env, epochs, profits, balances, shares, actions, steps_per_epoch):\n",
    "    \n",
    "    for epoch in range(0, epochs):\n",
    "\n",
    "        cumm_profit = 0\n",
    "        observation, info = env.reset()\n",
    "        shares[epoch, 0] = info['shares_held']\n",
    "        balances[epoch, 0] = info['balance']\n",
    "        action = agent.agent_start(observation)\n",
    "        actions[epoch, 0] = action\n",
    "\n",
    "        for i in tqdm_notebook(range(steps_per_epoch)):\n",
    "#             print (agent.past_states.deque)\n",
    "            observation, reward, done, info = env.step(action)\n",
    "#             print (\"Observation\")\n",
    "#             print (observation)\n",
    "#             print (\"ok\")\n",
    "            shares[epoch, i+1] = info['shares_held']\n",
    "            balances[epoch, i+1] = info['balance']\n",
    "            cumm_profit += reward\n",
    "            profits[epoch, i] = cumm_profit\n",
    "            if done:\n",
    "                print(\"the end\")\n",
    "                break\n",
    "            action = agent.agent_step(reward, observation)\n",
    "            actions[epoch, i+1] = action\n",
    "\n",
    "        agent.clear_memory()\n",
    "        print('Completed epoch' + str(epoch))\n",
    "\n",
    "        if epoch % 10 == 0:\n",
    "            data = epoch, profits, shares, balances, actions\n",
    "            with open(path_base + 'graph.pkl', 'wb') as f:\n",
    "                pickle.dump(data, f)"
   ]
  },
  {
   "cell_type": "code",
   "execution_count": 190,
   "metadata": {
    "colab": {
     "base_uri": "https://localhost:8080/",
     "height": 445,
     "referenced_widgets": [
      "734628d0eb9b49f7b08c1bff98a5adcf",
      "c1e35d2e386a40ee9ea956c6cb96a675",
      "bdf25d3b40fd4231ad6c8c6a5f0d6730",
      "8089211111f14409afc3c286e02d04cf",
      "320bd3fe5ee944ec832326ffdb16d914",
      "906c6a36cb2c41e69acb85eaca102799",
      "ed66cfaf4a384219bd22dd5c5b6c0403",
      "97e407b1d3e94a408999542343320100",
      "30da09b3cdef4583b1acdb024f404227",
      "834be372e61346c6962f6b8f2bb5fa5d",
      "c2729ad7fe334b6ba5f6970c3f43b7b8",
      "2b8d63ecfa8a478cabcdfee78c643db0",
      "7a5285388b02455e93b69dcf76c3a2e0",
      "904e6a0acb554c8ab4daee7f7bbfbffb",
      "8add0dc379d94eac86b1df199c22af45",
      "dc560f0b38c64844ba27d2c95f3cc8f0",
      "0ade56aa9bf34c75abb4d400cbd6c373",
      "d41a0cc0818e4ff7a1c5216745839b9c",
      "15e71e066ad14acebb2f892b1c391f6e",
      "4a65ad50f6b5425b882621f5b19fb978",
      "a9c20dab9c0d4645996b80e0f19f7f14",
      "f3e5b81422d4452f85bf2449b0304502",
      "65fb2e456dbe4041825a15c8cbf3f18f",
      "52d2e19c7a8e4a11a7712b36a7b90ce4",
      "23fe3ed697d6400ebcfd3364ae31cd41",
      "04d8dc6d0ff14b51afd1bf0390216915",
      "60e31024f8d9480a9d3bad1712600cdc",
      "ba570514d9eb48658f3672c83e44626e",
      "68f0550c84da4353835c66f224a3bf07",
      "36ae198d0639409f813d3ae01b928008",
      "c01fd4f862cf4fb0ac00b107085fc53f",
      "43cbf436ab494ca4ad7bf49d1ce374e3",
      "0ef6069f49674de68d8bc26087e39be4",
      "3d0cec2164d44676bfc86431a8014c7f",
      "89abdad00c024e1c93880ff2ca228d36",
      "ce9e107244c54f6487ef94e30c0209f4",
      "9596dbd9533e46d1b11d6869a771a3f7",
      "5cae15f4ad3741a7bc90b2e2331640cc",
      "dc64a54d2d1b45abb57287694e2c17b0",
      "e8dd689adbbf41ee8dc2672cdd03d2ea",
      "8b12930a15f641cd9da501a9b7ac136b",
      "5c209f7d7ef24ea2ab497110e13aebb2",
      "b077224dcef74b90a4dba288170cb1c5",
      "0d18112ad0f148c09f691a8528ae687b",
      "d99cedc3abc748a78a4541640d159683",
      "82ad6c78e2c14932989377e97333cef5",
      "5b96259c64ec41ff8dbcdc8c233f7623",
      "bbe057a413f5477f80e0bc705e8e77a7",
      "1781277cc4074b2d82ce2ff5ac5a42a7",
      "7daf21e23667476b89739dacac0d3a5c",
      "fb6edf15350a475cb073290aa0647d25",
      "9f8f053ee0c7403899c36dd09e9ae92c",
      "c6d07511839e47b88c16c55d7bad39ab",
      "fafd8ef8cf02477482074b2bc4cb57f9",
      "c91ac05e5c1b4b34aeef87e453c6df4e",
      "ba51a4459f614fe18b9a340d3ec86347"
     ]
    },
    "colab_type": "code",
    "id": "jMhrcqGy2AEk",
    "outputId": "152def4d-bdbe-4cb0-c16a-53cf8848176c"
   },
   "outputs": [
    {
     "name": "stdout",
     "output_type": "stream",
     "text": [
      "(1, 60)\n",
      "1.0\n"
     ]
    },
    {
     "data": {
      "application/vnd.jupyter.widget-view+json": {
       "model_id": "dd72e9123e52430eabfa97f9b8a6b9a2",
       "version_major": 2,
       "version_minor": 0
      },
      "text/plain": [
       "HBox(children=(IntProgress(value=0, max=2000), HTML(value='')))"
      ]
     },
     "metadata": {},
     "output_type": "display_data"
    },
    {
     "name": "stdout",
     "output_type": "stream",
     "text": [
      "\n",
      "Completed epoch0\n",
      "(1, 60)\n",
      "-0.9897467\n"
     ]
    },
    {
     "data": {
      "application/vnd.jupyter.widget-view+json": {
       "model_id": "e212aecb53e24aa6b1b31943b0292bf8",
       "version_major": 2,
       "version_minor": 0
      },
      "text/plain": [
       "HBox(children=(IntProgress(value=0, max=2000), HTML(value='')))"
      ]
     },
     "metadata": {},
     "output_type": "display_data"
    },
    {
     "name": "stdout",
     "output_type": "stream",
     "text": [
      "\n",
      "Completed epoch1\n",
      "(1, 60)\n",
      "-0.98241115\n"
     ]
    },
    {
     "data": {
      "application/vnd.jupyter.widget-view+json": {
       "model_id": "1650c79b7a3c4293896cc3861f10f870",
       "version_major": 2,
       "version_minor": 0
      },
      "text/plain": [
       "HBox(children=(IntProgress(value=0, max=2000), HTML(value='')))"
      ]
     },
     "metadata": {},
     "output_type": "display_data"
    },
    {
     "name": "stdout",
     "output_type": "stream",
     "text": [
      "the end\n",
      "Completed epoch2\n",
      "(1, 60)\n",
      "-0.98167396\n"
     ]
    },
    {
     "data": {
      "application/vnd.jupyter.widget-view+json": {
       "model_id": "5d07445f2c59426a9bfe31cc486ce42d",
       "version_major": 2,
       "version_minor": 0
      },
      "text/plain": [
       "HBox(children=(IntProgress(value=0, max=2000), HTML(value='')))"
      ]
     },
     "metadata": {},
     "output_type": "display_data"
    },
    {
     "name": "stdout",
     "output_type": "stream",
     "text": [
      "\n",
      "Completed epoch3\n",
      "(1, 60)\n",
      "-0.98498833\n"
     ]
    },
    {
     "data": {
      "application/vnd.jupyter.widget-view+json": {
       "model_id": "cfa1dcdd5198481eb0e0b39b99462b1a",
       "version_major": 2,
       "version_minor": 0
      },
      "text/plain": [
       "HBox(children=(IntProgress(value=0, max=2000), HTML(value='')))"
      ]
     },
     "metadata": {},
     "output_type": "display_data"
    },
    {
     "name": "stdout",
     "output_type": "stream",
     "text": [
      "the end\n",
      "Completed epoch4\n",
      "(1, 60)\n",
      "-0.98410827\n"
     ]
    },
    {
     "data": {
      "application/vnd.jupyter.widget-view+json": {
       "model_id": "dae9a03a5e804c7dac1b1c601f5af3b7",
       "version_major": 2,
       "version_minor": 0
      },
      "text/plain": [
       "HBox(children=(IntProgress(value=0, max=2000), HTML(value='')))"
      ]
     },
     "metadata": {},
     "output_type": "display_data"
    },
    {
     "name": "stdout",
     "output_type": "stream",
     "text": [
      "\n",
      "Completed epoch5\n",
      "(1, 60)\n",
      "-0.98198634\n"
     ]
    },
    {
     "data": {
      "application/vnd.jupyter.widget-view+json": {
       "model_id": "dc5a154779804b1bb1e2d278f8665767",
       "version_major": 2,
       "version_minor": 0
      },
      "text/plain": [
       "HBox(children=(IntProgress(value=0, max=2000), HTML(value='')))"
      ]
     },
     "metadata": {},
     "output_type": "display_data"
    },
    {
     "name": "stdout",
     "output_type": "stream",
     "text": [
      "\n",
      "Completed epoch6\n",
      "(1, 60)\n",
      "-0.98873246\n"
     ]
    },
    {
     "data": {
      "application/vnd.jupyter.widget-view+json": {
       "model_id": "edc4690ba8fa4d98bb26319f8a9db6a2",
       "version_major": 2,
       "version_minor": 0
      },
      "text/plain": [
       "HBox(children=(IntProgress(value=0, max=2000), HTML(value='')))"
      ]
     },
     "metadata": {},
     "output_type": "display_data"
    },
    {
     "name": "stdout",
     "output_type": "stream",
     "text": [
      "the end\n",
      "Completed epoch7\n",
      "(1, 60)\n",
      "-0.98923516\n"
     ]
    },
    {
     "data": {
      "application/vnd.jupyter.widget-view+json": {
       "model_id": "4e724fafaa374243a48149793d6f215e",
       "version_major": 2,
       "version_minor": 0
      },
      "text/plain": [
       "HBox(children=(IntProgress(value=0, max=2000), HTML(value='')))"
      ]
     },
     "metadata": {},
     "output_type": "display_data"
    },
    {
     "name": "stdout",
     "output_type": "stream",
     "text": [
      "\n",
      "Completed epoch8\n",
      "(1, 60)\n",
      "-0.98827356\n"
     ]
    },
    {
     "data": {
      "application/vnd.jupyter.widget-view+json": {
       "model_id": "bd7a519555db485fbae6ab0c64cb4e74",
       "version_major": 2,
       "version_minor": 0
      },
      "text/plain": [
       "HBox(children=(IntProgress(value=0, max=2000), HTML(value='')))"
      ]
     },
     "metadata": {},
     "output_type": "display_data"
    },
    {
     "name": "stdout",
     "output_type": "stream",
     "text": [
      "\n",
      "Completed epoch9\n",
      "(1, 60)\n",
      "-0.9912215\n"
     ]
    },
    {
     "data": {
      "application/vnd.jupyter.widget-view+json": {
       "model_id": "5632dc825adb4c3c90661d3486d5e765",
       "version_major": 2,
       "version_minor": 0
      },
      "text/plain": [
       "HBox(children=(IntProgress(value=0, max=2000), HTML(value='')))"
      ]
     },
     "metadata": {},
     "output_type": "display_data"
    },
    {
     "name": "stdout",
     "output_type": "stream",
     "text": [
      "\n",
      "Completed epoch10\n",
      "(1, 60)\n",
      "-0.9935873\n"
     ]
    },
    {
     "data": {
      "application/vnd.jupyter.widget-view+json": {
       "model_id": "027ce5416def4fdfa96cd38f0b5f1cc0",
       "version_major": 2,
       "version_minor": 0
      },
      "text/plain": [
       "HBox(children=(IntProgress(value=0, max=2000), HTML(value='')))"
      ]
     },
     "metadata": {},
     "output_type": "display_data"
    },
    {
     "name": "stdout",
     "output_type": "stream",
     "text": [
      "\n",
      "Completed epoch11\n",
      "(1, 60)\n",
      "-0.99407846\n"
     ]
    },
    {
     "data": {
      "application/vnd.jupyter.widget-view+json": {
       "model_id": "0a43d953effd4a09952aafd0632187b4",
       "version_major": 2,
       "version_minor": 0
      },
      "text/plain": [
       "HBox(children=(IntProgress(value=0, max=2000), HTML(value='')))"
      ]
     },
     "metadata": {},
     "output_type": "display_data"
    },
    {
     "name": "stdout",
     "output_type": "stream",
     "text": [
      "\n",
      "Completed epoch12\n",
      "(1, 60)\n",
      "-0.99488264\n"
     ]
    },
    {
     "data": {
      "application/vnd.jupyter.widget-view+json": {
       "model_id": "748ae708041748069654abef104a7731",
       "version_major": 2,
       "version_minor": 0
      },
      "text/plain": [
       "HBox(children=(IntProgress(value=0, max=2000), HTML(value='')))"
      ]
     },
     "metadata": {},
     "output_type": "display_data"
    },
    {
     "name": "stdout",
     "output_type": "stream",
     "text": [
      "\n",
      "Completed epoch13\n",
      "(1, 60)\n",
      "-0.99375755\n"
     ]
    },
    {
     "data": {
      "application/vnd.jupyter.widget-view+json": {
       "model_id": "c3fcb28730ff441f9200864b9e2ce864",
       "version_major": 2,
       "version_minor": 0
      },
      "text/plain": [
       "HBox(children=(IntProgress(value=0, max=2000), HTML(value='')))"
      ]
     },
     "metadata": {},
     "output_type": "display_data"
    },
    {
     "name": "stdout",
     "output_type": "stream",
     "text": [
      "the end\n",
      "Completed epoch14\n",
      "(1, 60)\n",
      "-0.99310356\n"
     ]
    },
    {
     "data": {
      "application/vnd.jupyter.widget-view+json": {
       "model_id": "317e098a077b4278befd2a45e09a8e2d",
       "version_major": 2,
       "version_minor": 0
      },
      "text/plain": [
       "HBox(children=(IntProgress(value=0, max=2000), HTML(value='')))"
      ]
     },
     "metadata": {},
     "output_type": "display_data"
    },
    {
     "name": "stdout",
     "output_type": "stream",
     "text": [
      "\n",
      "Completed epoch15\n",
      "(1, 60)\n",
      "-0.9917106\n"
     ]
    },
    {
     "data": {
      "application/vnd.jupyter.widget-view+json": {
       "model_id": "e1ef94b75d3842e891862ddce000106f",
       "version_major": 2,
       "version_minor": 0
      },
      "text/plain": [
       "HBox(children=(IntProgress(value=0, max=2000), HTML(value='')))"
      ]
     },
     "metadata": {},
     "output_type": "display_data"
    },
    {
     "name": "stdout",
     "output_type": "stream",
     "text": [
      "the end\n",
      "Completed epoch16\n",
      "(1, 60)\n",
      "-0.99391264\n"
     ]
    },
    {
     "data": {
      "application/vnd.jupyter.widget-view+json": {
       "model_id": "eb9319f4b631467fada469248cb3bf58",
       "version_major": 2,
       "version_minor": 0
      },
      "text/plain": [
       "HBox(children=(IntProgress(value=0, max=2000), HTML(value='')))"
      ]
     },
     "metadata": {},
     "output_type": "display_data"
    },
    {
     "name": "stdout",
     "output_type": "stream",
     "text": [
      "\n",
      "Completed epoch17\n",
      "(1, 60)\n",
      "-0.9935841\n"
     ]
    },
    {
     "data": {
      "application/vnd.jupyter.widget-view+json": {
       "model_id": "4a74a0fbd62347f1aed25f3dcb9e7e87",
       "version_major": 2,
       "version_minor": 0
      },
      "text/plain": [
       "HBox(children=(IntProgress(value=0, max=2000), HTML(value='')))"
      ]
     },
     "metadata": {},
     "output_type": "display_data"
    },
    {
     "name": "stdout",
     "output_type": "stream",
     "text": [
      "\n",
      "Completed epoch18\n",
      "(1, 60)\n",
      "-0.99352\n"
     ]
    },
    {
     "data": {
      "application/vnd.jupyter.widget-view+json": {
       "model_id": "6d99efd0acf5499799bb0f72f8d27e2c",
       "version_major": 2,
       "version_minor": 0
      },
      "text/plain": [
       "HBox(children=(IntProgress(value=0, max=2000), HTML(value='')))"
      ]
     },
     "metadata": {},
     "output_type": "display_data"
    },
    {
     "name": "stdout",
     "output_type": "stream",
     "text": [
      "the end\n",
      "Completed epoch19\n",
      "(1, 60)\n",
      "-0.9929394\n"
     ]
    },
    {
     "data": {
      "application/vnd.jupyter.widget-view+json": {
       "model_id": "d0f236d3c0284505b70929f614c9a37d",
       "version_major": 2,
       "version_minor": 0
      },
      "text/plain": [
       "HBox(children=(IntProgress(value=0, max=2000), HTML(value='')))"
      ]
     },
     "metadata": {},
     "output_type": "display_data"
    },
    {
     "name": "stdout",
     "output_type": "stream",
     "text": [
      "\n",
      "Completed epoch20\n",
      "(1, 60)\n",
      "-0.99288917\n"
     ]
    },
    {
     "data": {
      "application/vnd.jupyter.widget-view+json": {
       "model_id": "53a353e430e542e8baeddcf0b9a6908c",
       "version_major": 2,
       "version_minor": 0
      },
      "text/plain": [
       "HBox(children=(IntProgress(value=0, max=2000), HTML(value='')))"
      ]
     },
     "metadata": {},
     "output_type": "display_data"
    },
    {
     "name": "stdout",
     "output_type": "stream",
     "text": [
      "the end\n",
      "Completed epoch21\n",
      "(1, 60)\n",
      "-0.99280983\n"
     ]
    },
    {
     "data": {
      "application/vnd.jupyter.widget-view+json": {
       "model_id": "e8e2c637de8e4924a079763dab99fc49",
       "version_major": 2,
       "version_minor": 0
      },
      "text/plain": [
       "HBox(children=(IntProgress(value=0, max=2000), HTML(value='')))"
      ]
     },
     "metadata": {},
     "output_type": "display_data"
    },
    {
     "name": "stdout",
     "output_type": "stream",
     "text": [
      "\n",
      "Completed epoch22\n",
      "(1, 60)\n",
      "-0.9877352\n"
     ]
    },
    {
     "data": {
      "application/vnd.jupyter.widget-view+json": {
       "model_id": "98409239583549f88b12343f060e4b05",
       "version_major": 2,
       "version_minor": 0
      },
      "text/plain": [
       "HBox(children=(IntProgress(value=0, max=2000), HTML(value='')))"
      ]
     },
     "metadata": {},
     "output_type": "display_data"
    },
    {
     "name": "stdout",
     "output_type": "stream",
     "text": [
      "\n",
      "Completed epoch23\n",
      "(1, 60)\n",
      "-0.98988354\n"
     ]
    },
    {
     "data": {
      "application/vnd.jupyter.widget-view+json": {
       "model_id": "20b5429dc14249808aa55f1f33d917b3",
       "version_major": 2,
       "version_minor": 0
      },
      "text/plain": [
       "HBox(children=(IntProgress(value=0, max=2000), HTML(value='')))"
      ]
     },
     "metadata": {},
     "output_type": "display_data"
    },
    {
     "name": "stdout",
     "output_type": "stream",
     "text": [
      "\n",
      "Completed epoch24\n",
      "(1, 60)\n",
      "-0.98440653\n"
     ]
    },
    {
     "data": {
      "application/vnd.jupyter.widget-view+json": {
       "model_id": "74b9581e99654feeaf625f5790b7c207",
       "version_major": 2,
       "version_minor": 0
      },
      "text/plain": [
       "HBox(children=(IntProgress(value=0, max=2000), HTML(value='')))"
      ]
     },
     "metadata": {},
     "output_type": "display_data"
    },
    {
     "name": "stdout",
     "output_type": "stream",
     "text": [
      "\n",
      "Completed epoch25\n",
      "(1, 60)\n",
      "-0.98706526\n"
     ]
    },
    {
     "data": {
      "application/vnd.jupyter.widget-view+json": {
       "model_id": "92e550a82c864ff2ba1e7c8ca0c44f4c",
       "version_major": 2,
       "version_minor": 0
      },
      "text/plain": [
       "HBox(children=(IntProgress(value=0, max=2000), HTML(value='')))"
      ]
     },
     "metadata": {},
     "output_type": "display_data"
    },
    {
     "name": "stdout",
     "output_type": "stream",
     "text": [
      "the end\n",
      "Completed epoch26\n",
      "(1, 60)\n",
      "-0.9908688\n"
     ]
    },
    {
     "data": {
      "application/vnd.jupyter.widget-view+json": {
       "model_id": "c93a70acc13f49f9bc3b0d1d98eccbff",
       "version_major": 2,
       "version_minor": 0
      },
      "text/plain": [
       "HBox(children=(IntProgress(value=0, max=2000), HTML(value='')))"
      ]
     },
     "metadata": {},
     "output_type": "display_data"
    },
    {
     "name": "stdout",
     "output_type": "stream",
     "text": [
      "\n",
      "Completed epoch27\n",
      "(1, 60)\n",
      "-0.98765004\n"
     ]
    },
    {
     "data": {
      "application/vnd.jupyter.widget-view+json": {
       "model_id": "1bdb341ef7a04ff2965b31f744a6ac8e",
       "version_major": 2,
       "version_minor": 0
      },
      "text/plain": [
       "HBox(children=(IntProgress(value=0, max=2000), HTML(value='')))"
      ]
     },
     "metadata": {},
     "output_type": "display_data"
    },
    {
     "name": "stdout",
     "output_type": "stream",
     "text": [
      "the end\n",
      "Completed epoch28\n",
      "(1, 60)\n",
      "-0.99027985\n"
     ]
    },
    {
     "data": {
      "application/vnd.jupyter.widget-view+json": {
       "model_id": "c5d9f6e90eaa4adab9194ccd7c6e402b",
       "version_major": 2,
       "version_minor": 0
      },
      "text/plain": [
       "HBox(children=(IntProgress(value=0, max=2000), HTML(value='')))"
      ]
     },
     "metadata": {},
     "output_type": "display_data"
    },
    {
     "name": "stdout",
     "output_type": "stream",
     "text": [
      "\n",
      "Completed epoch29\n",
      "(1, 60)\n",
      "-0.9805347\n"
     ]
    },
    {
     "data": {
      "application/vnd.jupyter.widget-view+json": {
       "model_id": "b5781abd06f543e080a2fc976c3021ae",
       "version_major": 2,
       "version_minor": 0
      },
      "text/plain": [
       "HBox(children=(IntProgress(value=0, max=2000), HTML(value='')))"
      ]
     },
     "metadata": {},
     "output_type": "display_data"
    },
    {
     "name": "stdout",
     "output_type": "stream",
     "text": [
      "\n",
      "Completed epoch30\n",
      "(1, 60)\n",
      "-0.9650654\n"
     ]
    },
    {
     "data": {
      "application/vnd.jupyter.widget-view+json": {
       "model_id": "9538e9be1c4945f69e7fa43d4cb31dbb",
       "version_major": 2,
       "version_minor": 0
      },
      "text/plain": [
       "HBox(children=(IntProgress(value=0, max=2000), HTML(value='')))"
      ]
     },
     "metadata": {},
     "output_type": "display_data"
    },
    {
     "name": "stdout",
     "output_type": "stream",
     "text": [
      "\n",
      "Completed epoch31\n",
      "(1, 60)\n",
      "-0.93449783\n"
     ]
    },
    {
     "data": {
      "application/vnd.jupyter.widget-view+json": {
       "model_id": "9909f5611c9f42c7a2241bd638bc8597",
       "version_major": 2,
       "version_minor": 0
      },
      "text/plain": [
       "HBox(children=(IntProgress(value=0, max=2000), HTML(value='')))"
      ]
     },
     "metadata": {},
     "output_type": "display_data"
    },
    {
     "name": "stdout",
     "output_type": "stream",
     "text": [
      "\n",
      "Completed epoch32\n",
      "(1, 60)\n",
      "0.05951277\n"
     ]
    },
    {
     "data": {
      "application/vnd.jupyter.widget-view+json": {
       "model_id": "065df8bc99524912a8bc41597160aef1",
       "version_major": 2,
       "version_minor": 0
      },
      "text/plain": [
       "HBox(children=(IntProgress(value=0, max=2000), HTML(value='')))"
      ]
     },
     "metadata": {},
     "output_type": "display_data"
    },
    {
     "name": "stdout",
     "output_type": "stream",
     "text": [
      "\n",
      "Completed epoch33\n",
      "(1, 60)\n",
      "0.81469303\n"
     ]
    },
    {
     "data": {
      "application/vnd.jupyter.widget-view+json": {
       "model_id": "23256562799f45e0850b7e4396ab57e0",
       "version_major": 2,
       "version_minor": 0
      },
      "text/plain": [
       "HBox(children=(IntProgress(value=0, max=2000), HTML(value='')))"
      ]
     },
     "metadata": {},
     "output_type": "display_data"
    },
    {
     "name": "stdout",
     "output_type": "stream",
     "text": [
      "\n",
      "Completed epoch34\n",
      "(1, 60)\n",
      "0.86522084\n"
     ]
    },
    {
     "data": {
      "application/vnd.jupyter.widget-view+json": {
       "model_id": "93d0650a536c49e499396ec98ce56401",
       "version_major": 2,
       "version_minor": 0
      },
      "text/plain": [
       "HBox(children=(IntProgress(value=0, max=2000), HTML(value='')))"
      ]
     },
     "metadata": {},
     "output_type": "display_data"
    },
    {
     "name": "stdout",
     "output_type": "stream",
     "text": [
      "\n",
      "Completed epoch35\n",
      "(1, 60)\n",
      "0.7078951\n"
     ]
    },
    {
     "data": {
      "application/vnd.jupyter.widget-view+json": {
       "model_id": "4bad9b8551fa4e8eaf69565dca8b9ac9",
       "version_major": 2,
       "version_minor": 0
      },
      "text/plain": [
       "HBox(children=(IntProgress(value=0, max=2000), HTML(value='')))"
      ]
     },
     "metadata": {},
     "output_type": "display_data"
    },
    {
     "name": "stdout",
     "output_type": "stream",
     "text": [
      "\n",
      "Completed epoch36\n",
      "(1, 60)\n",
      "0.84522057\n"
     ]
    },
    {
     "data": {
      "application/vnd.jupyter.widget-view+json": {
       "model_id": "7a64c0eb51e94e7d945e2366f14e49a8",
       "version_major": 2,
       "version_minor": 0
      },
      "text/plain": [
       "HBox(children=(IntProgress(value=0, max=2000), HTML(value='')))"
      ]
     },
     "metadata": {},
     "output_type": "display_data"
    },
    {
     "name": "stdout",
     "output_type": "stream",
     "text": [
      "\n",
      "Completed epoch37\n",
      "(1, 60)\n",
      "0.9498412\n"
     ]
    },
    {
     "data": {
      "application/vnd.jupyter.widget-view+json": {
       "model_id": "b45e605867c54d139205046843260d19",
       "version_major": 2,
       "version_minor": 0
      },
      "text/plain": [
       "HBox(children=(IntProgress(value=0, max=2000), HTML(value='')))"
      ]
     },
     "metadata": {},
     "output_type": "display_data"
    },
    {
     "name": "stdout",
     "output_type": "stream",
     "text": [
      "the end\n",
      "Completed epoch38\n",
      "(1, 60)\n",
      "0.9512007\n"
     ]
    },
    {
     "data": {
      "application/vnd.jupyter.widget-view+json": {
       "model_id": "aa44f1cd37724217ad8c6f8c7eac9a67",
       "version_major": 2,
       "version_minor": 0
      },
      "text/plain": [
       "HBox(children=(IntProgress(value=0, max=2000), HTML(value='')))"
      ]
     },
     "metadata": {},
     "output_type": "display_data"
    },
    {
     "name": "stdout",
     "output_type": "stream",
     "text": [
      "\n",
      "\n",
      "Completed epoch39\n",
      "(1, 60)\n",
      "0.97813195\n"
     ]
    },
    {
     "data": {
      "application/vnd.jupyter.widget-view+json": {
       "model_id": "11d226c882de46499ea5a11ba2a1f129",
       "version_major": 2,
       "version_minor": 0
      },
      "text/plain": [
       "HBox(children=(IntProgress(value=0, max=2000), HTML(value='')))"
      ]
     },
     "metadata": {},
     "output_type": "display_data"
    },
    {
     "name": "stdout",
     "output_type": "stream",
     "text": [
      "the end\n",
      "Completed epoch40\n",
      "(1, 60)\n",
      "0.96097666\n"
     ]
    },
    {
     "data": {
      "application/vnd.jupyter.widget-view+json": {
       "model_id": "9229a34c414a4aba9fa52e5241c8350f",
       "version_major": 2,
       "version_minor": 0
      },
      "text/plain": [
       "HBox(children=(IntProgress(value=0, max=2000), HTML(value='')))"
      ]
     },
     "metadata": {},
     "output_type": "display_data"
    },
    {
     "name": "stdout",
     "output_type": "stream",
     "text": [
      "\n",
      "Completed epoch41\n",
      "(1, 60)\n",
      "0.99286956\n"
     ]
    },
    {
     "data": {
      "application/vnd.jupyter.widget-view+json": {
       "model_id": "0c12fdb9e57d4f11930b348b04943f7d",
       "version_major": 2,
       "version_minor": 0
      },
      "text/plain": [
       "HBox(children=(IntProgress(value=0, max=2000), HTML(value='')))"
      ]
     },
     "metadata": {},
     "output_type": "display_data"
    },
    {
     "name": "stdout",
     "output_type": "stream",
     "text": [
      "\n",
      "Completed epoch42\n",
      "(1, 60)\n",
      "0.99610406\n"
     ]
    },
    {
     "data": {
      "application/vnd.jupyter.widget-view+json": {
       "model_id": "904e80c985514363a8575ae90347caf6",
       "version_major": 2,
       "version_minor": 0
      },
      "text/plain": [
       "HBox(children=(IntProgress(value=0, max=2000), HTML(value='')))"
      ]
     },
     "metadata": {},
     "output_type": "display_data"
    },
    {
     "name": "stdout",
     "output_type": "stream",
     "text": [
      "\n",
      "Completed epoch43\n",
      "(1, 60)\n",
      "0.9995394\n"
     ]
    },
    {
     "data": {
      "application/vnd.jupyter.widget-view+json": {
       "model_id": "f9c63116fb2b492688cded37fedb0953",
       "version_major": 2,
       "version_minor": 0
      },
      "text/plain": [
       "HBox(children=(IntProgress(value=0, max=2000), HTML(value='')))"
      ]
     },
     "metadata": {},
     "output_type": "display_data"
    },
    {
     "name": "stdout",
     "output_type": "stream",
     "text": [
      "the end\n",
      "Completed epoch44\n",
      "(1, 60)\n",
      "0.99977815\n"
     ]
    },
    {
     "data": {
      "application/vnd.jupyter.widget-view+json": {
       "model_id": "f155d6271df040e993befd1817e3b9f9",
       "version_major": 2,
       "version_minor": 0
      },
      "text/plain": [
       "HBox(children=(IntProgress(value=0, max=2000), HTML(value='')))"
      ]
     },
     "metadata": {},
     "output_type": "display_data"
    },
    {
     "name": "stdout",
     "output_type": "stream",
     "text": [
      "the end\n",
      "Completed epoch45\n",
      "(1, 60)\n",
      "0.99991626\n"
     ]
    },
    {
     "data": {
      "application/vnd.jupyter.widget-view+json": {
       "model_id": "d7af3720e07d4cf095b868ea072eee8a",
       "version_major": 2,
       "version_minor": 0
      },
      "text/plain": [
       "HBox(children=(IntProgress(value=0, max=2000), HTML(value='')))"
      ]
     },
     "metadata": {},
     "output_type": "display_data"
    },
    {
     "name": "stdout",
     "output_type": "stream",
     "text": [
      "\n",
      "Completed epoch46\n",
      "(1, 60)\n",
      "0.99997485\n"
     ]
    },
    {
     "data": {
      "application/vnd.jupyter.widget-view+json": {
       "model_id": "5e84f94c3f5c40e7a1837778800bdf20",
       "version_major": 2,
       "version_minor": 0
      },
      "text/plain": [
       "HBox(children=(IntProgress(value=0, max=2000), HTML(value='')))"
      ]
     },
     "metadata": {},
     "output_type": "display_data"
    },
    {
     "name": "stdout",
     "output_type": "stream",
     "text": [
      "\n",
      "Completed epoch47\n",
      "(1, 60)\n",
      "0.99999696\n"
     ]
    },
    {
     "data": {
      "application/vnd.jupyter.widget-view+json": {
       "model_id": "6bec2c96612649199ed6e0a0a254865b",
       "version_major": 2,
       "version_minor": 0
      },
      "text/plain": [
       "HBox(children=(IntProgress(value=0, max=2000), HTML(value='')))"
      ]
     },
     "metadata": {},
     "output_type": "display_data"
    },
    {
     "name": "stdout",
     "output_type": "stream",
     "text": [
      "\n",
      "Completed epoch48\n",
      "(1, 60)\n",
      "0.99999815\n"
     ]
    },
    {
     "data": {
      "application/vnd.jupyter.widget-view+json": {
       "model_id": "5675e4a6cd414d0eb9327e07d4f6d5c2",
       "version_major": 2,
       "version_minor": 0
      },
      "text/plain": [
       "HBox(children=(IntProgress(value=0, max=2000), HTML(value='')))"
      ]
     },
     "metadata": {},
     "output_type": "display_data"
    },
    {
     "name": "stdout",
     "output_type": "stream",
     "text": [
      "\n",
      "Completed epoch49\n"
     ]
    }
   ],
   "source": [
    "# with open(path_base + 'graph.pkl', 'rb') as f:\n",
    "#     data = pickle.load(f)\n",
    "epochs = 50\n",
    "steps_per_epoch = 2000\n",
    "profits = np.zeros((epochs, steps_per_epoch+1))\n",
    "balances = np.zeros((epochs, steps_per_epoch+1))\n",
    "shares = np.zeros((epochs, steps_per_epoch+1))\n",
    "actions = np.zeros((epochs, steps_per_epoch+1))\n",
    "train(agent, env, epochs, profits, balances, shares, actions, steps_per_epoch)"
   ]
  },
  {
   "cell_type": "code",
   "execution_count": 193,
   "metadata": {
    "colab": {
     "base_uri": "https://localhost:8080/",
     "height": 265
    },
    "colab_type": "code",
    "id": "qcLVB4jtR81T",
    "outputId": "e23358be-6d0f-4851-f13a-a5452e2e02ad"
   },
   "outputs": [
    {
     "data": {
      "image/png": "[encoded data removed]",
      "text/plain": [
       "<Figure size 432x288 with 1 Axes>"
      ]
     },
     "metadata": {
      "needs_background": "light"
     },
     "output_type": "display_data"
    }
   ],
   "source": [
    "# for _ in range(0,10):\n",
    "#     plt.plot(profits[_])\n",
    "plt.plot(profits[49][:-1])\n",
    "plt.legend(list(range(10)))\n",
    "plt.show()"
   ]
  },
  {
   "cell_type": "code",
   "execution_count": 127,
   "metadata": {
    "colab": {
     "base_uri": "https://localhost:8080/",
     "height": 265
    },
    "colab_type": "code",
    "id": "OFs2NZruSUbG",
    "outputId": "6c053ae0-63b3-4803-98f0-9e0305fa7e55"
   },
   "outputs": [
    {
     "ename": "IndexError",
     "evalue": "index 2 is out of bounds for axis 0 with size 2",
     "output_type": "error",
     "traceback": [
      "\u001b[0;31m---------------------------------------------------------------------------\u001b[0m",
      "\u001b[0;31mIndexError\u001b[0m                                Traceback (most recent call last)",
      "\u001b[0;32m<ipython-input-127-eec26b57e996>\u001b[0m in \u001b[0;36m<module>\u001b[0;34m\u001b[0m\n\u001b[1;32m      1\u001b[0m \u001b[0;32mfor\u001b[0m \u001b[0m_\u001b[0m \u001b[0;32min\u001b[0m \u001b[0mrange\u001b[0m\u001b[0;34m(\u001b[0m\u001b[0;36m10\u001b[0m\u001b[0;34m)\u001b[0m\u001b[0;34m:\u001b[0m\u001b[0;34m\u001b[0m\u001b[0;34m\u001b[0m\u001b[0m\n\u001b[0;32m----> 2\u001b[0;31m     \u001b[0mplt\u001b[0m\u001b[0;34m.\u001b[0m\u001b[0mplot\u001b[0m\u001b[0;34m(\u001b[0m\u001b[0mshares\u001b[0m\u001b[0;34m[\u001b[0m\u001b[0m_\u001b[0m\u001b[0;34m]\u001b[0m\u001b[0;34m)\u001b[0m\u001b[0;34m\u001b[0m\u001b[0;34m\u001b[0m\u001b[0m\n\u001b[0m\u001b[1;32m      3\u001b[0m \u001b[0;34m\u001b[0m\u001b[0m\n\u001b[1;32m      4\u001b[0m \u001b[0mplt\u001b[0m\u001b[0;34m.\u001b[0m\u001b[0mlegend\u001b[0m\u001b[0;34m(\u001b[0m\u001b[0mlist\u001b[0m\u001b[0;34m(\u001b[0m\u001b[0mrange\u001b[0m\u001b[0;34m(\u001b[0m\u001b[0;36m10\u001b[0m\u001b[0;34m)\u001b[0m\u001b[0;34m)\u001b[0m\u001b[0;34m)\u001b[0m\u001b[0;34m\u001b[0m\u001b[0;34m\u001b[0m\u001b[0m\n\u001b[1;32m      5\u001b[0m \u001b[0mplt\u001b[0m\u001b[0;34m.\u001b[0m\u001b[0mshow\u001b[0m\u001b[0;34m(\u001b[0m\u001b[0;34m)\u001b[0m\u001b[0;34m\u001b[0m\u001b[0;34m\u001b[0m\u001b[0m\n",
      "\u001b[0;31mIndexError\u001b[0m: index 2 is out of bounds for axis 0 with size 2"
     ]
    },
    {
     "data": {
      "image/png": "[encoded data removed]",
      "text/plain": [
       "<Figure size 432x288 with 1 Axes>"
      ]
     },
     "metadata": {
      "needs_background": "light"
     },
     "output_type": "display_data"
    }
   ],
   "source": [
    "for _ in range(10):\n",
    "    plt.plot(shares[_])\n",
    "\n",
    "plt.legend(list(range(10)))\n",
    "plt.show()"
   ]
  },
  {
   "cell_type": "code",
   "execution_count": 87,
   "metadata": {
    "colab": {
     "base_uri": "https://localhost:8080/",
     "height": 265
    },
    "colab_type": "code",
    "id": "6Ep1chtITFSR",
    "outputId": "d1664df5-1169-49c9-c7b8-71e08053ab34"
   },
   "outputs": [
    {
     "data": {
      "image/png": "[encoded data removed]",
      "text/plain": [
       "<Figure size 432x288 with 1 Axes>"
      ]
     },
     "metadata": {
      "needs_background": "light"
     },
     "output_type": "display_data"
    }
   ],
   "source": [
    "for _ in range(10):\n",
    "    plt.plot(balances[_])\n",
    "\n",
    "plt.legend(list(range(10)))\n",
    "plt.show()"
   ]
  },
  {
   "cell_type": "code",
   "execution_count": 128,
   "metadata": {
    "colab": {
     "base_uri": "https://localhost:8080/",
     "height": 265
    },
    "colab_type": "code",
    "id": "bmMWI3L6TSsz",
    "outputId": "0df44b2a-c3bf-44f1-afd1-fbbd49ed1e37"
   },
   "outputs": [
    {
     "data": {
      "image/png": "[encoded data removed]",
      "text/plain": [
       "<Figure size 432x288 with 1 Axes>"
      ]
     },
     "metadata": {
      "needs_background": "light"
     },
     "output_type": "display_data"
    }
   ],
   "source": [
    "for _ in range(0, 2):\n",
    "    plt.plot(actions[_])\n",
    "\n",
    "plt.legend(list(range(10)))\n",
    "plt.show()"
   ]
  },
  {
   "cell_type": "code",
   "execution_count": 137,
   "metadata": {
    "colab": {
     "base_uri": "https://localhost:8080/",
     "height": 68
    },
    "colab_type": "code",
    "id": "CsI93EU4Mj3y",
    "outputId": "3566244a-d33c-48f1-a6c8-bca4ecdbdb52"
   },
   "outputs": [
    {
     "name": "stdout",
     "output_type": "stream",
     "text": [
      "16032.571214787878\n",
      "1.0105026416597127\n",
      "398\n"
     ]
    }
   ],
   "source": [
    "print(env.net_worth)\n",
    "print(env.balance)\n",
    "print(env.shares_held)"
   ]
  },
  {
   "cell_type": "code",
   "execution_count": 187,
   "metadata": {
    "colab": {},
    "colab_type": "code",
    "id": "xanZGhfQMa7T"
   },
   "outputs": [],
   "source": [
    "def test(values):\n",
    "    num = len(values)\n",
    "    env = create_stock_env(files, train = False)\n",
    "    agent = Agent(AGENT_PARAMS, train = False, resume = True)\n",
    "    print(agent.num_steps)\n",
    "    max_steps = env.max_steps\n",
    "    profitst = np.zeros((num, max_steps+1))\n",
    "    balancest = np.zeros((num, max_steps + 1))\n",
    "    sharest = np.zeros((num, max_steps+1))\n",
    "    actionst = np.zeros((num, max_steps+1))\n",
    "    worthst = np.zeros((num, max_steps+1))\n",
    "    for count, val in enumerate(values):\n",
    "        profit = 0\n",
    "        profitst[count][0] = profit\n",
    "        observation, info = env.reset(initial_balance = val)\n",
    "        balancest[count][0] = info['balance']\n",
    "        print(info['balance'])\n",
    "        sharest[count][0] = info['shares_held']\n",
    "        worthst[count][0] = info['net_worth']\n",
    "        print(info['shares_held'])\n",
    "        action = agent.agent_start(observation)\n",
    "        actionst[count][0] = action\n",
    "\n",
    "        for i in tqdm_notebook(range(max_steps)):\n",
    "            observation, reward, done, info = env.step(action)\n",
    "            profit += reward\n",
    "            profitst[count][i+1] = profit\n",
    "            balancest[count][i+1] = info['balance']\n",
    "            sharest[count][i+1] = info['shares_held']\n",
    "            worthst[count][i+1] = info['net_worth']\n",
    "            if done:\n",
    "                print (\"ober\")\n",
    "                break\n",
    "            action = agent.agent_step(reward, observation)\n",
    "            actionst[count][i+1] = action\n",
    "              \n",
    "        print('Completed' + str(count) + 'values')\n",
    "\n",
    "    print(env.net_worth)\n",
    "    print(env.balance)\n",
    "    print(env.shares_held)\n",
    "    return profitst, balancest, sharest, actionst, worthst\n"
   ]
  },
  {
   "cell_type": "code",
   "execution_count": 198,
   "metadata": {
    "colab": {},
    "colab_type": "code",
    "id": "cscoUT_4RS8I"
   },
   "outputs": [
    {
     "name": "stdout",
     "output_type": "stream",
     "text": [
      "WARNING:tensorflow:No training configuration found in the save file, so the model was *not* compiled. Compile it manually.\n",
      "Successfully Loaded\n",
      "125000\n",
      "10000\n",
      "0\n",
      "(1, 60)\n",
      "0.99999607\n"
     ]
    },
    {
     "data": {
      "application/vnd.jupyter.widget-view+json": {
       "model_id": "7aca07ac28f0478cb70fc7b88f6164b9",
       "version_major": 2,
       "version_minor": 0
      },
      "text/plain": [
       "HBox(children=(IntProgress(value=0, max=6146), HTML(value='')))"
      ]
     },
     "metadata": {},
     "output_type": "display_data"
    },
    {
     "name": "stdout",
     "output_type": "stream",
     "text": [
      "ober\n",
      "Completed0values\n",
      "3170.8377623112447\n",
      "0.2994553294755775\n",
      "302\n"
     ]
    }
   ],
   "source": [
    "values = [10000]\n",
    "profitst, balancest, sharest, actionst, worthst = test(values)"
   ]
  },
  {
   "cell_type": "code",
   "execution_count": 199,
   "metadata": {
    "colab": {
     "base_uri": "https://localhost:8080/",
     "height": 265
    },
    "colab_type": "code",
    "id": "iDpKfz_fUF0Q",
    "outputId": "ac267e94-c60d-42ba-8638-04ff2aa23ef0"
   },
   "outputs": [
    {
     "data": {
      "image/png": "[encoded data removed]",
      "text/plain": [
       "<Figure size 432x288 with 1 Axes>"
      ]
     },
     "metadata": {
      "needs_background": "light"
     },
     "output_type": "display_data"
    }
   ],
   "source": [
    "for i in range(1):\n",
    "    plt.plot(profitst[i])\n",
    "\n",
    "plt.legend(list(range(5)))\n",
    "plt.show()"
   ]
  },
  {
   "cell_type": "code",
   "execution_count": 161,
   "metadata": {
    "colab": {
     "base_uri": "https://localhost:8080/",
     "height": 265
    },
    "colab_type": "code",
    "id": "O8butb_rUMOz",
    "outputId": "c1c779cb-e627-4411-e93b-4304322c71fa"
   },
   "outputs": [
    {
     "data": {
      "image/png": "[encoded data removed]",
      "text/plain": [
       "<Figure size 432x288 with 1 Axes>"
      ]
     },
     "metadata": {
      "needs_background": "light"
     },
     "output_type": "display_data"
    }
   ],
   "source": [
    "for i in range(1):\n",
    "    plt.plot(profitst[i])\n",
    "\n",
    "plt.legend(list(range(5)))\n",
    "plt.show()"
   ]
  },
  {
   "cell_type": "code",
   "execution_count": 57,
   "metadata": {
    "colab": {
     "base_uri": "https://localhost:8080/",
     "height": 265
    },
    "colab_type": "code",
    "id": "HRxi43kVUQ4C",
    "outputId": "b3c08c37-4c5d-4539-f2f2-684dae903b33"
   },
   "outputs": [
    {
     "data": {
      "image/png": "[encoded data removed]",
      "text/plain": [
       "<Figure size 432x288 with 1 Axes>"
      ]
     },
     "metadata": {
      "needs_background": "light"
     },
     "output_type": "display_data"
    }
   ],
   "source": [
    "for i in range(5):\n",
    "    plt.plot(balancest[i])\n",
    "plt.legend(list(range(5)))\n",
    "plt.show()"
   ]
  },
  {
   "cell_type": "code",
   "execution_count": 32,
   "metadata": {},
   "outputs": [],
   "source": [
    "st = ReplayDeque(10, 5)"
   ]
  },
  {
   "cell_type": "code",
   "execution_count": 33,
   "metadata": {},
   "outputs": [
    {
     "data": {
      "text/plain": [
       "deque([array([0., 0., 0., 0., 0.]),\n",
       "       array([0., 0., 0., 0., 0.]),\n",
       "       array([0., 0., 0., 0., 0.]),\n",
       "       array([0., 0., 0., 0., 0.]),\n",
       "       array([0., 0., 0., 0., 0.]),\n",
       "       array([0., 0., 0., 0., 0.]),\n",
       "       array([0., 0., 0., 0., 0.]),\n",
       "       array([0., 0., 0., 0., 0.]),\n",
       "       array([0., 0., 0., 0., 0.]),\n",
       "       array([0., 0., 0., 0., 0.])])"
      ]
     },
     "execution_count": 33,
     "metadata": {},
     "output_type": "execute_result"
    }
   ],
   "source": [
    "st.deque"
   ]
  },
  {
   "cell_type": "code",
   "execution_count": 34,
   "metadata": {},
   "outputs": [],
   "source": [
    "st.add(np.array([1, 2, 3, 4, 5]))"
   ]
  },
  {
   "cell_type": "code",
   "execution_count": 35,
   "metadata": {},
   "outputs": [
    {
     "data": {
      "text/plain": [
       "deque([array([0., 0., 0., 0., 0.]),\n",
       "       array([0., 0., 0., 0., 0.]),\n",
       "       array([0., 0., 0., 0., 0.]),\n",
       "       array([0., 0., 0., 0., 0.]),\n",
       "       array([0., 0., 0., 0., 0.]),\n",
       "       array([0., 0., 0., 0., 0.]),\n",
       "       array([0., 0., 0., 0., 0.]),\n",
       "       array([0., 0., 0., 0., 0.]),\n",
       "       array([0., 0., 0., 0., 0.]),\n",
       "       array([1, 2, 3, 4, 5])])"
      ]
     },
     "execution_count": 35,
     "metadata": {},
     "output_type": "execute_result"
    }
   ],
   "source": [
    "st.deque"
   ]
  },
  {
   "cell_type": "code",
   "execution_count": 36,
   "metadata": {},
   "outputs": [],
   "source": [
    "st.add(np.array([10, 2, 3, 4, 5]))"
   ]
  },
  {
   "cell_type": "code",
   "execution_count": 38,
   "metadata": {},
   "outputs": [
    {
     "data": {
      "text/plain": [
       "deque([array([0., 0., 0., 0., 0.]),\n",
       "       array([0., 0., 0., 0., 0.]),\n",
       "       array([0., 0., 0., 0., 0.]),\n",
       "       array([0., 0., 0., 0., 0.]),\n",
       "       array([0., 0., 0., 0., 0.]),\n",
       "       array([0., 0., 0., 0., 0.]),\n",
       "       array([0., 0., 0., 0., 0.]),\n",
       "       array([0., 0., 0., 0., 0.]),\n",
       "       array([1, 2, 3, 4, 5]),\n",
       "       array([10,  2,  3,  4,  5])])"
      ]
     },
     "execution_count": 38,
     "metadata": {},
     "output_type": "execute_result"
    }
   ],
   "source": [
    "st.deque"
   ]
  },
  {
   "cell_type": "code",
   "execution_count": null,
   "metadata": {},
   "outputs": [],
   "source": []
  }
 ],
 "metadata": {
  "colab": {
   "authorship_tag": "ABX9TyPb/T1F51zsaDD3LCJ8FErO",
   "collapsed_sections": [],
   "include_colab_link": true,
   "mount_file_id": "1iN7uufCUjIRO-PvNn8Zvql2GPbTQveRI",
   "name": "New_Stock.ipynb",
   "provenance": []
  },
  "kernelspec": {
   "display_name": "Python 3",
   "language": "python",
   "name": "python3"
  },
  "language_info": {
   "codemirror_mode": {
    "name": "ipython",
    "version": 3
   },
   "file_extension": ".py",
   "mimetype": "text/x-python",
   "name": "python",
   "nbconvert_exporter": "python",
   "pygments_lexer": "ipython3",
   "version": "3.7.4"
  },
  "widgets": {
   "application/vnd.jupyter.widget-state+json": {
    "04d8dc6d0ff14b51afd1bf0390216915": {
     "model_module": "@jupyter-widgets/base",
     "model_name": "LayoutModel",
     "state": {
      "_model_module": "@jupyter-widgets/base",
      "_model_module_version": "1.2.0",
      "_model_name": "LayoutModel",
      "_view_count": null,
      "_view_module": "@jupyter-widgets/base",
      "_view_module_version": "1.2.0",
      "_view_name": "LayoutView",
      "align_content": null,
      "align_items": null,
      "align_self": null,
      "border": null,
      "bottom": null,
      "display": null,
      "flex": null,
      "flex_flow": null,
      "grid_area": null,
      "grid_auto_columns": null,
      "grid_auto_flow": null,
      "grid_auto_rows": null,
      "grid_column": null,
      "grid_gap": null,
      "grid_row": null,
      "grid_template_areas": null,
      "grid_template_columns": null,
      "grid_template_rows": null,
      "height": null,
      "justify_content": null,
      "justify_items": null,
      "left": null,
      "margin": null,
      "max_height": null,
      "max_width": null,
      "min_height": null,
      "min_width": null,
      "object_fit": null,
      "object_position": null,
      "order": null,
      "overflow": null,
      "overflow_x": null,
      "overflow_y": null,
      "padding": null,
      "right": null,
      "top": null,
      "visibility": null,
      "width": null
     }
    },
    "0ade56aa9bf34c75abb4d400cbd6c373": {
     "model_module": "@jupyter-widgets/controls",
     "model_name": "HBoxModel",
     "state": {
      "_dom_classes": [],
      "_model_module": "@jupyter-widgets/controls",
      "_model_module_version": "1.5.0",
      "_model_name": "HBoxModel",
      "_view_count": null,
      "_view_module": "@jupyter-widgets/controls",
      "_view_module_version": "1.5.0",
      "_view_name": "HBoxView",
      "box_style": "",
      "children": [
       "IPY_MODEL_15e71e066ad14acebb2f892b1c391f6e",
       "IPY_MODEL_4a65ad50f6b5425b882621f5b19fb978"
      ],
      "layout": "IPY_MODEL_d41a0cc0818e4ff7a1c5216745839b9c"
     }
    },
    "0d18112ad0f148c09f691a8528ae687b": {
     "model_module": "@jupyter-widgets/controls",
     "model_name": "HTMLModel",
     "state": {
      "_dom_classes": [],
      "_model_module": "@jupyter-widgets/controls",
      "_model_module_version": "1.5.0",
      "_model_name": "HTMLModel",
      "_view_count": null,
      "_view_module": "@jupyter-widgets/controls",
      "_view_module_version": "1.5.0",
      "_view_name": "HTMLView",
      "description": "",
      "description_tooltip": null,
      "layout": "IPY_MODEL_bbe057a413f5477f80e0bc705e8e77a7",
      "placeholder": "​",
      "style": "IPY_MODEL_5b96259c64ec41ff8dbcdc8c233f7623",
      "value": " 1088/2000 [01:11&lt;00:48, 18.68it/s]"
     }
    },
    "0ef6069f49674de68d8bc26087e39be4": {
     "model_module": "@jupyter-widgets/controls",
     "model_name": "HBoxModel",
     "state": {
      "_dom_classes": [],
      "_model_module": "@jupyter-widgets/controls",
      "_model_module_version": "1.5.0",
      "_model_name": "HBoxModel",
      "_view_count": null,
      "_view_module": "@jupyter-widgets/controls",
      "_view_module_version": "1.5.0",
      "_view_name": "HBoxView",
      "box_style": "",
      "children": [
       "IPY_MODEL_89abdad00c024e1c93880ff2ca228d36",
       "IPY_MODEL_ce9e107244c54f6487ef94e30c0209f4"
      ],
      "layout": "IPY_MODEL_3d0cec2164d44676bfc86431a8014c7f"
     }
    },
    "15e71e066ad14acebb2f892b1c391f6e": {
     "model_module": "@jupyter-widgets/controls",
     "model_name": "FloatProgressModel",
     "state": {
      "_dom_classes": [],
      "_model_module": "@jupyter-widgets/controls",
      "_model_module_version": "1.5.0",
      "_model_name": "FloatProgressModel",
      "_view_count": null,
      "_view_module": "@jupyter-widgets/controls",
      "_view_module_version": "1.5.0",
      "_view_name": "ProgressView",
      "bar_style": "success",
      "description": "100%",
      "description_tooltip": null,
      "layout": "IPY_MODEL_f3e5b81422d4452f85bf2449b0304502",
      "max": 2000,
      "min": 0,
      "orientation": "horizontal",
      "style": "IPY_MODEL_a9c20dab9c0d4645996b80e0f19f7f14",
      "value": 2000
     }
    },
    "1781277cc4074b2d82ce2ff5ac5a42a7": {
     "model_module": "@jupyter-widgets/controls",
     "model_name": "HBoxModel",
     "state": {
      "_dom_classes": [],
      "_model_module": "@jupyter-widgets/controls",
      "_model_module_version": "1.5.0",
      "_model_name": "HBoxModel",
      "_view_count": null,
      "_view_module": "@jupyter-widgets/controls",
      "_view_module_version": "1.5.0",
      "_view_name": "HBoxView",
      "box_style": "",
      "children": [
       "IPY_MODEL_fb6edf15350a475cb073290aa0647d25",
       "IPY_MODEL_9f8f053ee0c7403899c36dd09e9ae92c"
      ],
      "layout": "IPY_MODEL_7daf21e23667476b89739dacac0d3a5c"
     }
    },
    "23fe3ed697d6400ebcfd3364ae31cd41": {
     "model_module": "@jupyter-widgets/controls",
     "model_name": "HBoxModel",
     "state": {
      "_dom_classes": [],
      "_model_module": "@jupyter-widgets/controls",
      "_model_module_version": "1.5.0",
      "_model_name": "HBoxModel",
      "_view_count": null,
      "_view_module": "@jupyter-widgets/controls",
      "_view_module_version": "1.5.0",
      "_view_name": "HBoxView",
      "box_style": "",
      "children": [
       "IPY_MODEL_60e31024f8d9480a9d3bad1712600cdc",
       "IPY_MODEL_ba570514d9eb48658f3672c83e44626e"
      ],
      "layout": "IPY_MODEL_04d8dc6d0ff14b51afd1bf0390216915"
     }
    },
    "2b8d63ecfa8a478cabcdfee78c643db0": {
     "model_module": "@jupyter-widgets/controls",
     "model_name": "HTMLModel",
     "state": {
      "_dom_classes": [],
      "_model_module": "@jupyter-widgets/controls",
      "_model_module_version": "1.5.0",
      "_model_name": "HTMLModel",
      "_view_count": null,
      "_view_module": "@jupyter-widgets/controls",
      "_view_module_version": "1.5.0",
      "_view_name": "HTMLView",
      "description": "",
      "description_tooltip": null,
      "layout": "IPY_MODEL_dc560f0b38c64844ba27d2c95f3cc8f0",
      "placeholder": "​",
      "style": "IPY_MODEL_8add0dc379d94eac86b1df199c22af45",
      "value": " 772/2000 [00:46&lt;00:56, 21.69it/s]"
     }
    },
    "30da09b3cdef4583b1acdb024f404227": {
     "model_module": "@jupyter-widgets/controls",
     "model_name": "HBoxModel",
     "state": {
      "_dom_classes": [],
      "_model_module": "@jupyter-widgets/controls",
      "_model_module_version": "1.5.0",
      "_model_name": "HBoxModel",
      "_view_count": null,
      "_view_module": "@jupyter-widgets/controls",
      "_view_module_version": "1.5.0",
      "_view_name": "HBoxView",
      "box_style": "",
      "children": [
       "IPY_MODEL_c2729ad7fe334b6ba5f6970c3f43b7b8",
       "IPY_MODEL_2b8d63ecfa8a478cabcdfee78c643db0"
      ],
      "layout": "IPY_MODEL_834be372e61346c6962f6b8f2bb5fa5d"
     }
    },
    "320bd3fe5ee944ec832326ffdb16d914": {
     "model_module": "@jupyter-widgets/controls",
     "model_name": "ProgressStyleModel",
     "state": {
      "_model_module": "@jupyter-widgets/controls",
      "_model_module_version": "1.5.0",
      "_model_name": "ProgressStyleModel",
      "_view_count": null,
      "_view_module": "@jupyter-widgets/base",
      "_view_module_version": "1.2.0",
      "_view_name": "StyleView",
      "bar_color": null,
      "description_width": "initial"
     }
    },
    "36ae198d0639409f813d3ae01b928008": {
     "model_module": "@jupyter-widgets/base",
     "model_name": "LayoutModel",
     "state": {
      "_model_module": "@jupyter-widgets/base",
      "_model_module_version": "1.2.0",
      "_model_name": "LayoutModel",
      "_view_count": null,
      "_view_module": "@jupyter-widgets/base",
      "_view_module_version": "1.2.0",
      "_view_name": "LayoutView",
      "align_content": null,
      "align_items": null,
      "align_self": null,
      "border": null,
      "bottom": null,
      "display": null,
      "flex": null,
      "flex_flow": null,
      "grid_area": null,
      "grid_auto_columns": null,
      "grid_auto_flow": null,
      "grid_auto_rows": null,
      "grid_column": null,
      "grid_gap": null,
      "grid_row": null,
      "grid_template_areas": null,
      "grid_template_columns": null,
      "grid_template_rows": null,
      "height": null,
      "justify_content": null,
      "justify_items": null,
      "left": null,
      "margin": null,
      "max_height": null,
      "max_width": null,
      "min_height": null,
      "min_width": null,
      "object_fit": null,
      "object_position": null,
      "order": null,
      "overflow": null,
      "overflow_x": null,
      "overflow_y": null,
      "padding": null,
      "right": null,
      "top": null,
      "visibility": null,
      "width": null
     }
    },
    "3d0cec2164d44676bfc86431a8014c7f": {
     "model_module": "@jupyter-widgets/base",
     "model_name": "LayoutModel",
     "state": {
      "_model_module": "@jupyter-widgets/base",
      "_model_module_version": "1.2.0",
      "_model_name": "LayoutModel",
      "_view_count": null,
      "_view_module": "@jupyter-widgets/base",
      "_view_module_version": "1.2.0",
      "_view_name": "LayoutView",
      "align_content": null,
      "align_items": null,
      "align_self": null,
      "border": null,
      "bottom": null,
      "display": null,
      "flex": null,
      "flex_flow": null,
      "grid_area": null,
      "grid_auto_columns": null,
      "grid_auto_flow": null,
      "grid_auto_rows": null,
      "grid_column": null,
      "grid_gap": null,
      "grid_row": null,
      "grid_template_areas": null,
      "grid_template_columns": null,
      "grid_template_rows": null,
      "height": null,
      "justify_content": null,
      "justify_items": null,
      "left": null,
      "margin": null,
      "max_height": null,
      "max_width": null,
      "min_height": null,
      "min_width": null,
      "object_fit": null,
      "object_position": null,
      "order": null,
      "overflow": null,
      "overflow_x": null,
      "overflow_y": null,
      "padding": null,
      "right": null,
      "top": null,
      "visibility": null,
      "width": null
     }
    },
    "43cbf436ab494ca4ad7bf49d1ce374e3": {
     "model_module": "@jupyter-widgets/base",
     "model_name": "LayoutModel",
     "state": {
      "_model_module": "@jupyter-widgets/base",
      "_model_module_version": "1.2.0",
      "_model_name": "LayoutModel",
      "_view_count": null,
      "_view_module": "@jupyter-widgets/base",
      "_view_module_version": "1.2.0",
      "_view_name": "LayoutView",
      "align_content": null,
      "align_items": null,
      "align_self": null,
      "border": null,
      "bottom": null,
      "display": null,
      "flex": null,
      "flex_flow": null,
      "grid_area": null,
      "grid_auto_columns": null,
      "grid_auto_flow": null,
      "grid_auto_rows": null,
      "grid_column": null,
      "grid_gap": null,
      "grid_row": null,
      "grid_template_areas": null,
      "grid_template_columns": null,
      "grid_template_rows": null,
      "height": null,
      "justify_content": null,
      "justify_items": null,
      "left": null,
      "margin": null,
      "max_height": null,
      "max_width": null,
      "min_height": null,
      "min_width": null,
      "object_fit": null,
      "object_position": null,
      "order": null,
      "overflow": null,
      "overflow_x": null,
      "overflow_y": null,
      "padding": null,
      "right": null,
      "top": null,
      "visibility": null,
      "width": null
     }
    },
    "4a65ad50f6b5425b882621f5b19fb978": {
     "model_module": "@jupyter-widgets/controls",
     "model_name": "HTMLModel",
     "state": {
      "_dom_classes": [],
      "_model_module": "@jupyter-widgets/controls",
      "_model_module_version": "1.5.0",
      "_model_name": "HTMLModel",
      "_view_count": null,
      "_view_module": "@jupyter-widgets/controls",
      "_view_module_version": "1.5.0",
      "_view_name": "HTMLView",
      "description": "",
      "description_tooltip": null,
      "layout": "IPY_MODEL_52d2e19c7a8e4a11a7712b36a7b90ce4",
      "placeholder": "​",
      "style": "IPY_MODEL_65fb2e456dbe4041825a15c8cbf3f18f",
      "value": " 2000/2000 [02:31&lt;00:00, 13.18it/s]"
     }
    },
    "52d2e19c7a8e4a11a7712b36a7b90ce4": {
     "model_module": "@jupyter-widgets/base",
     "model_name": "LayoutModel",
     "state": {
      "_model_module": "@jupyter-widgets/base",
      "_model_module_version": "1.2.0",
      "_model_name": "LayoutModel",
      "_view_count": null,
      "_view_module": "@jupyter-widgets/base",
      "_view_module_version": "1.2.0",
      "_view_name": "LayoutView",
      "align_content": null,
      "align_items": null,
      "align_self": null,
      "border": null,
      "bottom": null,
      "display": null,
      "flex": null,
      "flex_flow": null,
      "grid_area": null,
      "grid_auto_columns": null,
      "grid_auto_flow": null,
      "grid_auto_rows": null,
      "grid_column": null,
      "grid_gap": null,
      "grid_row": null,
      "grid_template_areas": null,
      "grid_template_columns": null,
      "grid_template_rows": null,
      "height": null,
      "justify_content": null,
      "justify_items": null,
      "left": null,
      "margin": null,
      "max_height": null,
      "max_width": null,
      "min_height": null,
      "min_width": null,
      "object_fit": null,
      "object_position": null,
      "order": null,
      "overflow": null,
      "overflow_x": null,
      "overflow_y": null,
      "padding": null,
      "right": null,
      "top": null,
      "visibility": null,
      "width": null
     }
    },
    "5b96259c64ec41ff8dbcdc8c233f7623": {
     "model_module": "@jupyter-widgets/controls",
     "model_name": "DescriptionStyleModel",
     "state": {
      "_model_module": "@jupyter-widgets/controls",
      "_model_module_version": "1.5.0",
      "_model_name": "DescriptionStyleModel",
      "_view_count": null,
      "_view_module": "@jupyter-widgets/base",
      "_view_module_version": "1.2.0",
      "_view_name": "StyleView",
      "description_width": ""
     }
    },
    "5c209f7d7ef24ea2ab497110e13aebb2": {
     "model_module": "@jupyter-widgets/base",
     "model_name": "LayoutModel",
     "state": {
      "_model_module": "@jupyter-widgets/base",
      "_model_module_version": "1.2.0",
      "_model_name": "LayoutModel",
      "_view_count": null,
      "_view_module": "@jupyter-widgets/base",
      "_view_module_version": "1.2.0",
      "_view_name": "LayoutView",
      "align_content": null,
      "align_items": null,
      "align_self": null,
      "border": null,
      "bottom": null,
      "display": null,
      "flex": null,
      "flex_flow": null,
      "grid_area": null,
      "grid_auto_columns": null,
      "grid_auto_flow": null,
      "grid_auto_rows": null,
      "grid_column": null,
      "grid_gap": null,
      "grid_row": null,
      "grid_template_areas": null,
      "grid_template_columns": null,
      "grid_template_rows": null,
      "height": null,
      "justify_content": null,
      "justify_items": null,
      "left": null,
      "margin": null,
      "max_height": null,
      "max_width": null,
      "min_height": null,
      "min_width": null,
      "object_fit": null,
      "object_position": null,
      "order": null,
      "overflow": null,
      "overflow_x": null,
      "overflow_y": null,
      "padding": null,
      "right": null,
      "top": null,
      "visibility": null,
      "width": null
     }
    },
    "5cae15f4ad3741a7bc90b2e2331640cc": {
     "model_module": "@jupyter-widgets/base",
     "model_name": "LayoutModel",
     "state": {
      "_model_module": "@jupyter-widgets/base",
      "_model_module_version": "1.2.0",
      "_model_name": "LayoutModel",
      "_view_count": null,
      "_view_module": "@jupyter-widgets/base",
      "_view_module_version": "1.2.0",
      "_view_name": "LayoutView",
      "align_content": null,
      "align_items": null,
      "align_self": null,
      "border": null,
      "bottom": null,
      "display": null,
      "flex": null,
      "flex_flow": null,
      "grid_area": null,
      "grid_auto_columns": null,
      "grid_auto_flow": null,
      "grid_auto_rows": null,
      "grid_column": null,
      "grid_gap": null,
      "grid_row": null,
      "grid_template_areas": null,
      "grid_template_columns": null,
      "grid_template_rows": null,
      "height": null,
      "justify_content": null,
      "justify_items": null,
      "left": null,
      "margin": null,
      "max_height": null,
      "max_width": null,
      "min_height": null,
      "min_width": null,
      "object_fit": null,
      "object_position": null,
      "order": null,
      "overflow": null,
      "overflow_x": null,
      "overflow_y": null,
      "padding": null,
      "right": null,
      "top": null,
      "visibility": null,
      "width": null
     }
    },
    "60e31024f8d9480a9d3bad1712600cdc": {
     "model_module": "@jupyter-widgets/controls",
     "model_name": "FloatProgressModel",
     "state": {
      "_dom_classes": [],
      "_model_module": "@jupyter-widgets/controls",
      "_model_module_version": "1.5.0",
      "_model_name": "FloatProgressModel",
      "_view_count": null,
      "_view_module": "@jupyter-widgets/controls",
      "_view_module_version": "1.5.0",
      "_view_name": "ProgressView",
      "bar_style": "success",
      "description": "100%",
      "description_tooltip": null,
      "layout": "IPY_MODEL_36ae198d0639409f813d3ae01b928008",
      "max": 2000,
      "min": 0,
      "orientation": "horizontal",
      "style": "IPY_MODEL_68f0550c84da4353835c66f224a3bf07",
      "value": 2000
     }
    },
    "65fb2e456dbe4041825a15c8cbf3f18f": {
     "model_module": "@jupyter-widgets/controls",
     "model_name": "DescriptionStyleModel",
     "state": {
      "_model_module": "@jupyter-widgets/controls",
      "_model_module_version": "1.5.0",
      "_model_name": "DescriptionStyleModel",
      "_view_count": null,
      "_view_module": "@jupyter-widgets/base",
      "_view_module_version": "1.2.0",
      "_view_name": "StyleView",
      "description_width": ""
     }
    },
    "68f0550c84da4353835c66f224a3bf07": {
     "model_module": "@jupyter-widgets/controls",
     "model_name": "ProgressStyleModel",
     "state": {
      "_model_module": "@jupyter-widgets/controls",
      "_model_module_version": "1.5.0",
      "_model_name": "ProgressStyleModel",
      "_view_count": null,
      "_view_module": "@jupyter-widgets/base",
      "_view_module_version": "1.2.0",
      "_view_name": "StyleView",
      "bar_color": null,
      "description_width": "initial"
     }
    },
    "734628d0eb9b49f7b08c1bff98a5adcf": {
     "model_module": "@jupyter-widgets/controls",
     "model_name": "HBoxModel",
     "state": {
      "_dom_classes": [],
      "_model_module": "@jupyter-widgets/controls",
      "_model_module_version": "1.5.0",
      "_model_name": "HBoxModel",
      "_view_count": null,
      "_view_module": "@jupyter-widgets/controls",
      "_view_module_version": "1.5.0",
      "_view_name": "HBoxView",
      "box_style": "",
      "children": [
       "IPY_MODEL_bdf25d3b40fd4231ad6c8c6a5f0d6730",
       "IPY_MODEL_8089211111f14409afc3c286e02d04cf"
      ],
      "layout": "IPY_MODEL_c1e35d2e386a40ee9ea956c6cb96a675"
     }
    },
    "7a5285388b02455e93b69dcf76c3a2e0": {
     "model_module": "@jupyter-widgets/controls",
     "model_name": "ProgressStyleModel",
     "state": {
      "_model_module": "@jupyter-widgets/controls",
      "_model_module_version": "1.5.0",
      "_model_name": "ProgressStyleModel",
      "_view_count": null,
      "_view_module": "@jupyter-widgets/base",
      "_view_module_version": "1.2.0",
      "_view_name": "StyleView",
      "bar_color": null,
      "description_width": "initial"
     }
    },
    "7daf21e23667476b89739dacac0d3a5c": {
     "model_module": "@jupyter-widgets/base",
     "model_name": "LayoutModel",
     "state": {
      "_model_module": "@jupyter-widgets/base",
      "_model_module_version": "1.2.0",
      "_model_name": "LayoutModel",
      "_view_count": null,
      "_view_module": "@jupyter-widgets/base",
      "_view_module_version": "1.2.0",
      "_view_name": "LayoutView",
      "align_content": null,
      "align_items": null,
      "align_self": null,
      "border": null,
      "bottom": null,
      "display": null,
      "flex": null,
      "flex_flow": null,
      "grid_area": null,
      "grid_auto_columns": null,
      "grid_auto_flow": null,
      "grid_auto_rows": null,
      "grid_column": null,
      "grid_gap": null,
      "grid_row": null,
      "grid_template_areas": null,
      "grid_template_columns": null,
      "grid_template_rows": null,
      "height": null,
      "justify_content": null,
      "justify_items": null,
      "left": null,
      "margin": null,
      "max_height": null,
      "max_width": null,
      "min_height": null,
      "min_width": null,
      "object_fit": null,
      "object_position": null,
      "order": null,
      "overflow": null,
      "overflow_x": null,
      "overflow_y": null,
      "padding": null,
      "right": null,
      "top": null,
      "visibility": null,
      "width": null
     }
    },
    "8089211111f14409afc3c286e02d04cf": {
     "model_module": "@jupyter-widgets/controls",
     "model_name": "HTMLModel",
     "state": {
      "_dom_classes": [],
      "_model_module": "@jupyter-widgets/controls",
      "_model_module_version": "1.5.0",
      "_model_name": "HTMLModel",
      "_view_count": null,
      "_view_module": "@jupyter-widgets/controls",
      "_view_module_version": "1.5.0",
      "_view_name": "HTMLView",
      "description": "",
      "description_tooltip": null,
      "layout": "IPY_MODEL_97e407b1d3e94a408999542343320100",
      "placeholder": "​",
      "style": "IPY_MODEL_ed66cfaf4a384219bd22dd5c5b6c0403",
      "value": " 2000/2000 [02:46&lt;00:00, 12.02it/s]"
     }
    },
    "82ad6c78e2c14932989377e97333cef5": {
     "model_module": "@jupyter-widgets/base",
     "model_name": "LayoutModel",
     "state": {
      "_model_module": "@jupyter-widgets/base",
      "_model_module_version": "1.2.0",
      "_model_name": "LayoutModel",
      "_view_count": null,
      "_view_module": "@jupyter-widgets/base",
      "_view_module_version": "1.2.0",
      "_view_name": "LayoutView",
      "align_content": null,
      "align_items": null,
      "align_self": null,
      "border": null,
      "bottom": null,
      "display": null,
      "flex": null,
      "flex_flow": null,
      "grid_area": null,
      "grid_auto_columns": null,
      "grid_auto_flow": null,
      "grid_auto_rows": null,
      "grid_column": null,
      "grid_gap": null,
      "grid_row": null,
      "grid_template_areas": null,
      "grid_template_columns": null,
      "grid_template_rows": null,
      "height": null,
      "justify_content": null,
      "justify_items": null,
      "left": null,
      "margin": null,
      "max_height": null,
      "max_width": null,
      "min_height": null,
      "min_width": null,
      "object_fit": null,
      "object_position": null,
      "order": null,
      "overflow": null,
      "overflow_x": null,
      "overflow_y": null,
      "padding": null,
      "right": null,
      "top": null,
      "visibility": null,
      "width": null
     }
    },
    "834be372e61346c6962f6b8f2bb5fa5d": {
     "model_module": "@jupyter-widgets/base",
     "model_name": "LayoutModel",
     "state": {
      "_model_module": "@jupyter-widgets/base",
      "_model_module_version": "1.2.0",
      "_model_name": "LayoutModel",
      "_view_count": null,
      "_view_module": "@jupyter-widgets/base",
      "_view_module_version": "1.2.0",
      "_view_name": "LayoutView",
      "align_content": null,
      "align_items": null,
      "align_self": null,
      "border": null,
      "bottom": null,
      "display": null,
      "flex": null,
      "flex_flow": null,
      "grid_area": null,
      "grid_auto_columns": null,
      "grid_auto_flow": null,
      "grid_auto_rows": null,
      "grid_column": null,
      "grid_gap": null,
      "grid_row": null,
      "grid_template_areas": null,
      "grid_template_columns": null,
      "grid_template_rows": null,
      "height": null,
      "justify_content": null,
      "justify_items": null,
      "left": null,
      "margin": null,
      "max_height": null,
      "max_width": null,
      "min_height": null,
      "min_width": null,
      "object_fit": null,
      "object_position": null,
      "order": null,
      "overflow": null,
      "overflow_x": null,
      "overflow_y": null,
      "padding": null,
      "right": null,
      "top": null,
      "visibility": null,
      "width": null
     }
    },
    "89abdad00c024e1c93880ff2ca228d36": {
     "model_module": "@jupyter-widgets/controls",
     "model_name": "FloatProgressModel",
     "state": {
      "_dom_classes": [],
      "_model_module": "@jupyter-widgets/controls",
      "_model_module_version": "1.5.0",
      "_model_name": "FloatProgressModel",
      "_view_count": null,
      "_view_module": "@jupyter-widgets/controls",
      "_view_module_version": "1.5.0",
      "_view_name": "ProgressView",
      "bar_style": "danger",
      "description": " 57%",
      "description_tooltip": null,
      "layout": "IPY_MODEL_5cae15f4ad3741a7bc90b2e2331640cc",
      "max": 2000,
      "min": 0,
      "orientation": "horizontal",
      "style": "IPY_MODEL_9596dbd9533e46d1b11d6869a771a3f7",
      "value": 1141
     }
    },
    "8add0dc379d94eac86b1df199c22af45": {
     "model_module": "@jupyter-widgets/controls",
     "model_name": "DescriptionStyleModel",
     "state": {
      "_model_module": "@jupyter-widgets/controls",
      "_model_module_version": "1.5.0",
      "_model_name": "DescriptionStyleModel",
      "_view_count": null,
      "_view_module": "@jupyter-widgets/base",
      "_view_module_version": "1.2.0",
      "_view_name": "StyleView",
      "description_width": ""
     }
    },
    "8b12930a15f641cd9da501a9b7ac136b": {
     "model_module": "@jupyter-widgets/controls",
     "model_name": "HBoxModel",
     "state": {
      "_dom_classes": [],
      "_model_module": "@jupyter-widgets/controls",
      "_model_module_version": "1.5.0",
      "_model_name": "HBoxModel",
      "_view_count": null,
      "_view_module": "@jupyter-widgets/controls",
      "_view_module_version": "1.5.0",
      "_view_name": "HBoxView",
      "box_style": "",
      "children": [
       "IPY_MODEL_b077224dcef74b90a4dba288170cb1c5",
       "IPY_MODEL_0d18112ad0f148c09f691a8528ae687b"
      ],
      "layout": "IPY_MODEL_5c209f7d7ef24ea2ab497110e13aebb2"
     }
    },
    "904e6a0acb554c8ab4daee7f7bbfbffb": {
     "model_module": "@jupyter-widgets/base",
     "model_name": "LayoutModel",
     "state": {
      "_model_module": "@jupyter-widgets/base",
      "_model_module_version": "1.2.0",
      "_model_name": "LayoutModel",
      "_view_count": null,
      "_view_module": "@jupyter-widgets/base",
      "_view_module_version": "1.2.0",
      "_view_name": "LayoutView",
      "align_content": null,
      "align_items": null,
      "align_self": null,
      "border": null,
      "bottom": null,
      "display": null,
      "flex": null,
      "flex_flow": null,
      "grid_area": null,
      "grid_auto_columns": null,
      "grid_auto_flow": null,
      "grid_auto_rows": null,
      "grid_column": null,
      "grid_gap": null,
      "grid_row": null,
      "grid_template_areas": null,
      "grid_template_columns": null,
      "grid_template_rows": null,
      "height": null,
      "justify_content": null,
      "justify_items": null,
      "left": null,
      "margin": null,
      "max_height": null,
      "max_width": null,
      "min_height": null,
      "min_width": null,
      "object_fit": null,
      "object_position": null,
      "order": null,
      "overflow": null,
      "overflow_x": null,
      "overflow_y": null,
      "padding": null,
      "right": null,
      "top": null,
      "visibility": null,
      "width": null
     }
    },
    "906c6a36cb2c41e69acb85eaca102799": {
     "model_module": "@jupyter-widgets/base",
     "model_name": "LayoutModel",
     "state": {
      "_model_module": "@jupyter-widgets/base",
      "_model_module_version": "1.2.0",
      "_model_name": "LayoutModel",
      "_view_count": null,
      "_view_module": "@jupyter-widgets/base",
      "_view_module_version": "1.2.0",
      "_view_name": "LayoutView",
      "align_content": null,
      "align_items": null,
      "align_self": null,
      "border": null,
      "bottom": null,
      "display": null,
      "flex": null,
      "flex_flow": null,
      "grid_area": null,
      "grid_auto_columns": null,
      "grid_auto_flow": null,
      "grid_auto_rows": null,
      "grid_column": null,
      "grid_gap": null,
      "grid_row": null,
      "grid_template_areas": null,
      "grid_template_columns": null,
      "grid_template_rows": null,
      "height": null,
      "justify_content": null,
      "justify_items": null,
      "left": null,
      "margin": null,
      "max_height": null,
      "max_width": null,
      "min_height": null,
      "min_width": null,
      "object_fit": null,
      "object_position": null,
      "order": null,
      "overflow": null,
      "overflow_x": null,
      "overflow_y": null,
      "padding": null,
      "right": null,
      "top": null,
      "visibility": null,
      "width": null
     }
    },
    "9596dbd9533e46d1b11d6869a771a3f7": {
     "model_module": "@jupyter-widgets/controls",
     "model_name": "ProgressStyleModel",
     "state": {
      "_model_module": "@jupyter-widgets/controls",
      "_model_module_version": "1.5.0",
      "_model_name": "ProgressStyleModel",
      "_view_count": null,
      "_view_module": "@jupyter-widgets/base",
      "_view_module_version": "1.2.0",
      "_view_name": "StyleView",
      "bar_color": null,
      "description_width": "initial"
     }
    },
    "97e407b1d3e94a408999542343320100": {
     "model_module": "@jupyter-widgets/base",
     "model_name": "LayoutModel",
     "state": {
      "_model_module": "@jupyter-widgets/base",
      "_model_module_version": "1.2.0",
      "_model_name": "LayoutModel",
      "_view_count": null,
      "_view_module": "@jupyter-widgets/base",
      "_view_module_version": "1.2.0",
      "_view_name": "LayoutView",
      "align_content": null,
      "align_items": null,
      "align_self": null,
      "border": null,
      "bottom": null,
      "display": null,
      "flex": null,
      "flex_flow": null,
      "grid_area": null,
      "grid_auto_columns": null,
      "grid_auto_flow": null,
      "grid_auto_rows": null,
      "grid_column": null,
      "grid_gap": null,
      "grid_row": null,
      "grid_template_areas": null,
      "grid_template_columns": null,
      "grid_template_rows": null,
      "height": null,
      "justify_content": null,
      "justify_items": null,
      "left": null,
      "margin": null,
      "max_height": null,
      "max_width": null,
      "min_height": null,
      "min_width": null,
      "object_fit": null,
      "object_position": null,
      "order": null,
      "overflow": null,
      "overflow_x": null,
      "overflow_y": null,
      "padding": null,
      "right": null,
      "top": null,
      "visibility": null,
      "width": null
     }
    },
    "9f8f053ee0c7403899c36dd09e9ae92c": {
     "model_module": "@jupyter-widgets/controls",
     "model_name": "HTMLModel",
     "state": {
      "_dom_classes": [],
      "_model_module": "@jupyter-widgets/controls",
      "_model_module_version": "1.5.0",
      "_model_name": "HTMLModel",
      "_view_count": null,
      "_view_module": "@jupyter-widgets/controls",
      "_view_module_version": "1.5.0",
      "_view_name": "HTMLView",
      "description": "",
      "description_tooltip": null,
      "layout": "IPY_MODEL_ba51a4459f614fe18b9a340d3ec86347",
      "placeholder": "​",
      "style": "IPY_MODEL_c91ac05e5c1b4b34aeef87e453c6df4e",
      "value": " 1621/2000 [01:21&lt;00:17, 21.74it/s]"
     }
    },
    "a9c20dab9c0d4645996b80e0f19f7f14": {
     "model_module": "@jupyter-widgets/controls",
     "model_name": "ProgressStyleModel",
     "state": {
      "_model_module": "@jupyter-widgets/controls",
      "_model_module_version": "1.5.0",
      "_model_name": "ProgressStyleModel",
      "_view_count": null,
      "_view_module": "@jupyter-widgets/base",
      "_view_module_version": "1.2.0",
      "_view_name": "StyleView",
      "bar_color": null,
      "description_width": "initial"
     }
    },
    "b077224dcef74b90a4dba288170cb1c5": {
     "model_module": "@jupyter-widgets/controls",
     "model_name": "FloatProgressModel",
     "state": {
      "_dom_classes": [],
      "_model_module": "@jupyter-widgets/controls",
      "_model_module_version": "1.5.0",
      "_model_name": "FloatProgressModel",
      "_view_count": null,
      "_view_module": "@jupyter-widgets/controls",
      "_view_module_version": "1.5.0",
      "_view_name": "ProgressView",
      "bar_style": "danger",
      "description": " 54%",
      "description_tooltip": null,
      "layout": "IPY_MODEL_82ad6c78e2c14932989377e97333cef5",
      "max": 2000,
      "min": 0,
      "orientation": "horizontal",
      "style": "IPY_MODEL_d99cedc3abc748a78a4541640d159683",
      "value": 1088
     }
    },
    "ba51a4459f614fe18b9a340d3ec86347": {
     "model_module": "@jupyter-widgets/base",
     "model_name": "LayoutModel",
     "state": {
      "_model_module": "@jupyter-widgets/base",
      "_model_module_version": "1.2.0",
      "_model_name": "LayoutModel",
      "_view_count": null,
      "_view_module": "@jupyter-widgets/base",
      "_view_module_version": "1.2.0",
      "_view_name": "LayoutView",
      "align_content": null,
      "align_items": null,
      "align_self": null,
      "border": null,
      "bottom": null,
      "display": null,
      "flex": null,
      "flex_flow": null,
      "grid_area": null,
      "grid_auto_columns": null,
      "grid_auto_flow": null,
      "grid_auto_rows": null,
      "grid_column": null,
      "grid_gap": null,
      "grid_row": null,
      "grid_template_areas": null,
      "grid_template_columns": null,
      "grid_template_rows": null,
      "height": null,
      "justify_content": null,
      "justify_items": null,
      "left": null,
      "margin": null,
      "max_height": null,
      "max_width": null,
      "min_height": null,
      "min_width": null,
      "object_fit": null,
      "object_position": null,
      "order": null,
      "overflow": null,
      "overflow_x": null,
      "overflow_y": null,
      "padding": null,
      "right": null,
      "top": null,
      "visibility": null,
      "width": null
     }
    },
    "ba570514d9eb48658f3672c83e44626e": {
     "model_module": "@jupyter-widgets/controls",
     "model_name": "HTMLModel",
     "state": {
      "_dom_classes": [],
      "_model_module": "@jupyter-widgets/controls",
      "_model_module_version": "1.5.0",
      "_model_name": "HTMLModel",
      "_view_count": null,
      "_view_module": "@jupyter-widgets/controls",
      "_view_module_version": "1.5.0",
      "_view_name": "HTMLView",
      "description": "",
      "description_tooltip": null,
      "layout": "IPY_MODEL_43cbf436ab494ca4ad7bf49d1ce374e3",
      "placeholder": "​",
      "style": "IPY_MODEL_c01fd4f862cf4fb0ac00b107085fc53f",
      "value": " 2000/2000 [02:33&lt;00:00, 13.07it/s]"
     }
    },
    "bbe057a413f5477f80e0bc705e8e77a7": {
     "model_module": "@jupyter-widgets/base",
     "model_name": "LayoutModel",
     "state": {
      "_model_module": "@jupyter-widgets/base",
      "_model_module_version": "1.2.0",
      "_model_name": "LayoutModel",
      "_view_count": null,
      "_view_module": "@jupyter-widgets/base",
      "_view_module_version": "1.2.0",
      "_view_name": "LayoutView",
      "align_content": null,
      "align_items": null,
      "align_self": null,
      "border": null,
      "bottom": null,
      "display": null,
      "flex": null,
      "flex_flow": null,
      "grid_area": null,
      "grid_auto_columns": null,
      "grid_auto_flow": null,
      "grid_auto_rows": null,
      "grid_column": null,
      "grid_gap": null,
      "grid_row": null,
      "grid_template_areas": null,
      "grid_template_columns": null,
      "grid_template_rows": null,
      "height": null,
      "justify_content": null,
      "justify_items": null,
      "left": null,
      "margin": null,
      "max_height": null,
      "max_width": null,
      "min_height": null,
      "min_width": null,
      "object_fit": null,
      "object_position": null,
      "order": null,
      "overflow": null,
      "overflow_x": null,
      "overflow_y": null,
      "padding": null,
      "right": null,
      "top": null,
      "visibility": null,
      "width": null
     }
    },
    "bdf25d3b40fd4231ad6c8c6a5f0d6730": {
     "model_module": "@jupyter-widgets/controls",
     "model_name": "FloatProgressModel",
     "state": {
      "_dom_classes": [],
      "_model_module": "@jupyter-widgets/controls",
      "_model_module_version": "1.5.0",
      "_model_name": "FloatProgressModel",
      "_view_count": null,
      "_view_module": "@jupyter-widgets/controls",
      "_view_module_version": "1.5.0",
      "_view_name": "ProgressView",
      "bar_style": "success",
      "description": "100%",
      "description_tooltip": null,
      "layout": "IPY_MODEL_906c6a36cb2c41e69acb85eaca102799",
      "max": 2000,
      "min": 0,
      "orientation": "horizontal",
      "style": "IPY_MODEL_320bd3fe5ee944ec832326ffdb16d914",
      "value": 2000
     }
    },
    "c01fd4f862cf4fb0ac00b107085fc53f": {
     "model_module": "@jupyter-widgets/controls",
     "model_name": "DescriptionStyleModel",
     "state": {
      "_model_module": "@jupyter-widgets/controls",
      "_model_module_version": "1.5.0",
      "_model_name": "DescriptionStyleModel",
      "_view_count": null,
      "_view_module": "@jupyter-widgets/base",
      "_view_module_version": "1.2.0",
      "_view_name": "StyleView",
      "description_width": ""
     }
    },
    "c1e35d2e386a40ee9ea956c6cb96a675": {
     "model_module": "@jupyter-widgets/base",
     "model_name": "LayoutModel",
     "state": {
      "_model_module": "@jupyter-widgets/base",
      "_model_module_version": "1.2.0",
      "_model_name": "LayoutModel",
      "_view_count": null,
      "_view_module": "@jupyter-widgets/base",
      "_view_module_version": "1.2.0",
      "_view_name": "LayoutView",
      "align_content": null,
      "align_items": null,
      "align_self": null,
      "border": null,
      "bottom": null,
      "display": null,
      "flex": null,
      "flex_flow": null,
      "grid_area": null,
      "grid_auto_columns": null,
      "grid_auto_flow": null,
      "grid_auto_rows": null,
      "grid_column": null,
      "grid_gap": null,
      "grid_row": null,
      "grid_template_areas": null,
      "grid_template_columns": null,
      "grid_template_rows": null,
      "height": null,
      "justify_content": null,
      "justify_items": null,
      "left": null,
      "margin": null,
      "max_height": null,
      "max_width": null,
      "min_height": null,
      "min_width": null,
      "object_fit": null,
      "object_position": null,
      "order": null,
      "overflow": null,
      "overflow_x": null,
      "overflow_y": null,
      "padding": null,
      "right": null,
      "top": null,
      "visibility": null,
      "width": null
     }
    },
    "c2729ad7fe334b6ba5f6970c3f43b7b8": {
     "model_module": "@jupyter-widgets/controls",
     "model_name": "FloatProgressModel",
     "state": {
      "_dom_classes": [],
      "_model_module": "@jupyter-widgets/controls",
      "_model_module_version": "1.5.0",
      "_model_name": "FloatProgressModel",
      "_view_count": null,
      "_view_module": "@jupyter-widgets/controls",
      "_view_module_version": "1.5.0",
      "_view_name": "ProgressView",
      "bar_style": "danger",
      "description": " 39%",
      "description_tooltip": null,
      "layout": "IPY_MODEL_904e6a0acb554c8ab4daee7f7bbfbffb",
      "max": 2000,
      "min": 0,
      "orientation": "horizontal",
      "style": "IPY_MODEL_7a5285388b02455e93b69dcf76c3a2e0",
      "value": 772
     }
    },
    "c6d07511839e47b88c16c55d7bad39ab": {
     "model_module": "@jupyter-widgets/controls",
     "model_name": "ProgressStyleModel",
     "state": {
      "_model_module": "@jupyter-widgets/controls",
      "_model_module_version": "1.5.0",
      "_model_name": "ProgressStyleModel",
      "_view_count": null,
      "_view_module": "@jupyter-widgets/base",
      "_view_module_version": "1.2.0",
      "_view_name": "StyleView",
      "bar_color": null,
      "description_width": "initial"
     }
    },
    "c91ac05e5c1b4b34aeef87e453c6df4e": {
     "model_module": "@jupyter-widgets/controls",
     "model_name": "DescriptionStyleModel",
     "state": {
      "_model_module": "@jupyter-widgets/controls",
      "_model_module_version": "1.5.0",
      "_model_name": "DescriptionStyleModel",
      "_view_count": null,
      "_view_module": "@jupyter-widgets/base",
      "_view_module_version": "1.2.0",
      "_view_name": "StyleView",
      "description_width": ""
     }
    },
    "ce9e107244c54f6487ef94e30c0209f4": {
     "model_module": "@jupyter-widgets/controls",
     "model_name": "HTMLModel",
     "state": {
      "_dom_classes": [],
      "_model_module": "@jupyter-widgets/controls",
      "_model_module_version": "1.5.0",
      "_model_name": "HTMLModel",
      "_view_count": null,
      "_view_module": "@jupyter-widgets/controls",
      "_view_module_version": "1.5.0",
      "_view_name": "HTMLView",
      "description": "",
      "description_tooltip": null,
      "layout": "IPY_MODEL_e8dd689adbbf41ee8dc2672cdd03d2ea",
      "placeholder": "​",
      "style": "IPY_MODEL_dc64a54d2d1b45abb57287694e2c17b0",
      "value": " 1141/2000 [01:14&lt;00:48, 17.84it/s]"
     }
    },
    "d41a0cc0818e4ff7a1c5216745839b9c": {
     "model_module": "@jupyter-widgets/base",
     "model_name": "LayoutModel",
     "state": {
      "_model_module": "@jupyter-widgets/base",
      "_model_module_version": "1.2.0",
      "_model_name": "LayoutModel",
      "_view_count": null,
      "_view_module": "@jupyter-widgets/base",
      "_view_module_version": "1.2.0",
      "_view_name": "LayoutView",
      "align_content": null,
      "align_items": null,
      "align_self": null,
      "border": null,
      "bottom": null,
      "display": null,
      "flex": null,
      "flex_flow": null,
      "grid_area": null,
      "grid_auto_columns": null,
      "grid_auto_flow": null,
      "grid_auto_rows": null,
      "grid_column": null,
      "grid_gap": null,
      "grid_row": null,
      "grid_template_areas": null,
      "grid_template_columns": null,
      "grid_template_rows": null,
      "height": null,
      "justify_content": null,
      "justify_items": null,
      "left": null,
      "margin": null,
      "max_height": null,
      "max_width": null,
      "min_height": null,
      "min_width": null,
      "object_fit": null,
      "object_position": null,
      "order": null,
      "overflow": null,
      "overflow_x": null,
      "overflow_y": null,
      "padding": null,
      "right": null,
      "top": null,
      "visibility": null,
      "width": null
     }
    },
    "d99cedc3abc748a78a4541640d159683": {
     "model_module": "@jupyter-widgets/controls",
     "model_name": "ProgressStyleModel",
     "state": {
      "_model_module": "@jupyter-widgets/controls",
      "_model_module_version": "1.5.0",
      "_model_name": "ProgressStyleModel",
      "_view_count": null,
      "_view_module": "@jupyter-widgets/base",
      "_view_module_version": "1.2.0",
      "_view_name": "StyleView",
      "bar_color": null,
      "description_width": "initial"
     }
    },
    "dc560f0b38c64844ba27d2c95f3cc8f0": {
     "model_module": "@jupyter-widgets/base",
     "model_name": "LayoutModel",
     "state": {
      "_model_module": "@jupyter-widgets/base",
      "_model_module_version": "1.2.0",
      "_model_name": "LayoutModel",
      "_view_count": null,
      "_view_module": "@jupyter-widgets/base",
      "_view_module_version": "1.2.0",
      "_view_name": "LayoutView",
      "align_content": null,
      "align_items": null,
      "align_self": null,
      "border": null,
      "bottom": null,
      "display": null,
      "flex": null,
      "flex_flow": null,
      "grid_area": null,
      "grid_auto_columns": null,
      "grid_auto_flow": null,
      "grid_auto_rows": null,
      "grid_column": null,
      "grid_gap": null,
      "grid_row": null,
      "grid_template_areas": null,
      "grid_template_columns": null,
      "grid_template_rows": null,
      "height": null,
      "justify_content": null,
      "justify_items": null,
      "left": null,
      "margin": null,
      "max_height": null,
      "max_width": null,
      "min_height": null,
      "min_width": null,
      "object_fit": null,
      "object_position": null,
      "order": null,
      "overflow": null,
      "overflow_x": null,
      "overflow_y": null,
      "padding": null,
      "right": null,
      "top": null,
      "visibility": null,
      "width": null
     }
    },
    "dc64a54d2d1b45abb57287694e2c17b0": {
     "model_module": "@jupyter-widgets/controls",
     "model_name": "DescriptionStyleModel",
     "state": {
      "_model_module": "@jupyter-widgets/controls",
      "_model_module_version": "1.5.0",
      "_model_name": "DescriptionStyleModel",
      "_view_count": null,
      "_view_module": "@jupyter-widgets/base",
      "_view_module_version": "1.2.0",
      "_view_name": "StyleView",
      "description_width": ""
     }
    },
    "e8dd689adbbf41ee8dc2672cdd03d2ea": {
     "model_module": "@jupyter-widgets/base",
     "model_name": "LayoutModel",
     "state": {
      "_model_module": "@jupyter-widgets/base",
      "_model_module_version": "1.2.0",
      "_model_name": "LayoutModel",
      "_view_count": null,
      "_view_module": "@jupyter-widgets/base",
      "_view_module_version": "1.2.0",
      "_view_name": "LayoutView",
      "align_content": null,
      "align_items": null,
      "align_self": null,
      "border": null,
      "bottom": null,
      "display": null,
      "flex": null,
      "flex_flow": null,
      "grid_area": null,
      "grid_auto_columns": null,
      "grid_auto_flow": null,
      "grid_auto_rows": null,
      "grid_column": null,
      "grid_gap": null,
      "grid_row": null,
      "grid_template_areas": null,
      "grid_template_columns": null,
      "grid_template_rows": null,
      "height": null,
      "justify_content": null,
      "justify_items": null,
      "left": null,
      "margin": null,
      "max_height": null,
      "max_width": null,
      "min_height": null,
      "min_width": null,
      "object_fit": null,
      "object_position": null,
      "order": null,
      "overflow": null,
      "overflow_x": null,
      "overflow_y": null,
      "padding": null,
      "right": null,
      "top": null,
      "visibility": null,
      "width": null
     }
    },
    "ed66cfaf4a384219bd22dd5c5b6c0403": {
     "model_module": "@jupyter-widgets/controls",
     "model_name": "DescriptionStyleModel",
     "state": {
      "_model_module": "@jupyter-widgets/controls",
      "_model_module_version": "1.5.0",
      "_model_name": "DescriptionStyleModel",
      "_view_count": null,
      "_view_module": "@jupyter-widgets/base",
      "_view_module_version": "1.2.0",
      "_view_name": "StyleView",
      "description_width": ""
     }
    },
    "f3e5b81422d4452f85bf2449b0304502": {
     "model_module": "@jupyter-widgets/base",
     "model_name": "LayoutModel",
     "state": {
      "_model_module": "@jupyter-widgets/base",
      "_model_module_version": "1.2.0",
      "_model_name": "LayoutModel",
      "_view_count": null,
      "_view_module": "@jupyter-widgets/base",
      "_view_module_version": "1.2.0",
      "_view_name": "LayoutView",
      "align_content": null,
      "align_items": null,
      "align_self": null,
      "border": null,
      "bottom": null,
      "display": null,
      "flex": null,
      "flex_flow": null,
      "grid_area": null,
      "grid_auto_columns": null,
      "grid_auto_flow": null,
      "grid_auto_rows": null,
      "grid_column": null,
      "grid_gap": null,
      "grid_row": null,
      "grid_template_areas": null,
      "grid_template_columns": null,
      "grid_template_rows": null,
      "height": null,
      "justify_content": null,
      "justify_items": null,
      "left": null,
      "margin": null,
      "max_height": null,
      "max_width": null,
      "min_height": null,
      "min_width": null,
      "object_fit": null,
      "object_position": null,
      "order": null,
      "overflow": null,
      "overflow_x": null,
      "overflow_y": null,
      "padding": null,
      "right": null,
      "top": null,
      "visibility": null,
      "width": null
     }
    },
    "fafd8ef8cf02477482074b2bc4cb57f9": {
     "model_module": "@jupyter-widgets/base",
     "model_name": "LayoutModel",
     "state": {
      "_model_module": "@jupyter-widgets/base",
      "_model_module_version": "1.2.0",
      "_model_name": "LayoutModel",
      "_view_count": null,
      "_view_module": "@jupyter-widgets/base",
      "_view_module_version": "1.2.0",
      "_view_name": "LayoutView",
      "align_content": null,
      "align_items": null,
      "align_self": null,
      "border": null,
      "bottom": null,
      "display": null,
      "flex": null,
      "flex_flow": null,
      "grid_area": null,
      "grid_auto_columns": null,
      "grid_auto_flow": null,
      "grid_auto_rows": null,
      "grid_column": null,
      "grid_gap": null,
      "grid_row": null,
      "grid_template_areas": null,
      "grid_template_columns": null,
      "grid_template_rows": null,
      "height": null,
      "justify_content": null,
      "justify_items": null,
      "left": null,
      "margin": null,
      "max_height": null,
      "max_width": null,
      "min_height": null,
      "min_width": null,
      "object_fit": null,
      "object_position": null,
      "order": null,
      "overflow": null,
      "overflow_x": null,
      "overflow_y": null,
      "padding": null,
      "right": null,
      "top": null,
      "visibility": null,
      "width": null
     }
    },
    "fb6edf15350a475cb073290aa0647d25": {
     "model_module": "@jupyter-widgets/controls",
     "model_name": "FloatProgressModel",
     "state": {
      "_dom_classes": [],
      "_model_module": "@jupyter-widgets/controls",
      "_model_module_version": "1.5.0",
      "_model_name": "FloatProgressModel",
      "_view_count": null,
      "_view_module": "@jupyter-widgets/controls",
      "_view_module_version": "1.5.0",
      "_view_name": "ProgressView",
      "bar_style": "",
      "description": " 81%",
      "description_tooltip": null,
      "layout": "IPY_MODEL_fafd8ef8cf02477482074b2bc4cb57f9",
      "max": 2000,
      "min": 0,
      "orientation": "horizontal",
      "style": "IPY_MODEL_c6d07511839e47b88c16c55d7bad39ab",
      "value": 1621
     }
    }
   }
  }
 },
 "nbformat": 4,
 "nbformat_minor": 1
}
