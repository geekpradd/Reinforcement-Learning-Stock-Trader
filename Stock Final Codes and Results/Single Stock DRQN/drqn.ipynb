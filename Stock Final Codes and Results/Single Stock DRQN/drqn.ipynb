{
 "cells": [
  {
   "cell_type": "code",
   "execution_count": 16,
   "metadata": {},
   "outputs": [],
   "source": [
    "%matplotlib inline\n",
    "import gym\n",
    "from gym import spaces\n",
    "from matplotlib import pyplot as plt\n",
    "import time\n",
    "from tqdm import tqdm_notebook\n",
    "import tensorflow as tf\n",
    "from tensorflow import keras\n",
    "import pandas as pd\n",
    "import numpy as np\n",
    "from math import floor, ceil\n",
    "import random\n",
    "from tensorflow.keras.layers import Dense, Concatenate, Lambda, Activation, LSTM\n",
    "from tensorflow.keras import Input\n",
    "from tensorflow import convert_to_tensor as convert\n",
    "import pickle\n",
    "COLAB = False\n",
    "if not COLAB:\n",
    "    import os\n",
    "    os.environ['CUDA_VISIBLE_DEVICES'] = '-1'\n",
    "path_base = 'models/'"
   ]
  },
  {
   "cell_type": "code",
   "execution_count": 17,
   "metadata": {},
   "outputs": [],
   "source": [
    "class StockEnv(gym.Env):\n",
    "    metadata = {'render.modes': ['human']}\n",
    "    \n",
    "    def __init__(self, df, params, train = True):\n",
    "        super(StockEnv,self).__init__()\n",
    "        \n",
    "        self.min_brokerage = params['min_brokerage']\n",
    "        self.brokerage_rate = params['brokerage_rate']\n",
    "        self.df = df\n",
    "        self.state_dimensions = 6\n",
    "        self.shares_normal = params['shares_normal']\n",
    "        self.train = train\n",
    "\n",
    "        self.max_steps = len(self.df.loc[:, \"Open\"])\n",
    "        self.action_space = spaces.Box(low = -1, high = 1, shape =  (1, 1), dtype = np.float32)\n",
    "        self.observation_space = spaces.Box(low = 0, high = 1, shape = (1, self.state_dimensions), dtype = np.float32)\n",
    "\n",
    "    def reset(self, initial_balance = 10000, shares_held = None):\n",
    "        self.start_balance = initial_balance \n",
    "        if self.train:\n",
    "            self.current_step = np.random.randint(0, self.max_steps)\n",
    "        else:\n",
    "            self.current_step = 0\n",
    "        self.balance = initial_balance\n",
    "        self.shares_held = shares_held\n",
    "        if self.shares_held is None:\n",
    "            self.shares_held = 0\n",
    "        self.current_price = self.get_price()\n",
    "        self.net_worth = self.balance + (self.shares_held*self.current_price)\n",
    "        self.initial_worth = self.net_worth\n",
    "        self.max_net_worth = self.net_worth\n",
    "        self.done = False\n",
    "        self.frame = np.zeros((1, self.state_dimensions))\n",
    "        self.info = {\n",
    "            'current_step' : self.current_step,\n",
    "            'current_price': self.current_price,\n",
    "            'net_worth' : self.net_worth,\n",
    "            'max_net_worth': self.max_net_worth,\n",
    "            'shares_held' : self.shares_held,\n",
    "            'balance' : self.balance,\n",
    "        }\n",
    "        return self.observe()\n",
    "        \n",
    "    def get_price(self):\n",
    "        return np.random.uniform(self.df.loc[self.current_step,\"Low\"], self.df.loc[self.current_step,\"High\"]) \n",
    "      \n",
    "    def observe(self):\n",
    "        self.frame[0, 0:4] = np.array([self.df.loc[self.current_step,'Open'],self.df.loc[self.current_step,'High'],self.df.loc[self.current_step,'Low'],self.df.loc[self.current_step,'Close']])/self.balance\n",
    "        self.frame[0, 4] = self.shares_held/self.shares_normal\n",
    "        self.frame[0, 5] = self.balance/self.start_balance\n",
    "        self.info = {\n",
    "            'current_step' : self.current_step,\n",
    "            'current_price': self.current_price,\n",
    "            'net_worth' : self.net_worth,\n",
    "            'max_net_worth': self.max_net_worth,\n",
    "            'shares_held' : self.shares_held,\n",
    "            'balance' : self.balance\n",
    "        }\n",
    "        return self.frame, self.info\n",
    "    \n",
    "    def update_worth(self, reward):\n",
    "        self.net_worth += reward\n",
    "        self.max_net_worth = max(self.max_net_worth, self.net_worth)\n",
    "\n",
    "    def update_balance(self, action):\n",
    "        self.balance -= action*self.current_price\n",
    "\n",
    "    def update_shares(self, action):\n",
    "        self.shares_held += action\n",
    "\n",
    "    def take_action(self, action):\n",
    "        self.current_price = self.get_price()\n",
    "        max_buyable = self.balance/self.current_price\n",
    "        max_sellable = self.shares_held\n",
    "        if action >= 0:\n",
    "            action *= max_buyable\n",
    "            action = floor(action)\n",
    "        else:\n",
    "            action *= max_sellable\n",
    "            action = ceil(action)\n",
    "            \n",
    "        if self.shares_held == 0 and action < 0:\n",
    "            reward = 0\n",
    "            print (\"Invallid sell action\")\n",
    "        else:\n",
    "            self.update_balance(action)\n",
    "            self.update_shares(action)\n",
    "            reward = self.balance + (self.shares_held * self.current_price) - self.net_worth\n",
    "            self.update_worth(reward)\n",
    "        return reward\n",
    "            \n",
    "    def step(self, action):\n",
    "        self.current_step += 1\n",
    "        if self.current_step >= self.max_steps or self.done:\n",
    "            self.done = True\n",
    "            return np.zeros((1, self.state_dimensions)), 0, self.done, self.info\n",
    "\n",
    "        reward = self.take_action(action)\n",
    "        self.done = self.net_worth <= self.initial_worth*0.05\n",
    "        if self.done:\n",
    "            print('snap')\n",
    "        obs, info = self.observe()\n",
    "        return obs, reward, self.done, info\n",
    "    \n",
    "    def render(self, mode='human', close = False):\n",
    "        profit = self.net_worth - self.initial_worth\n",
    "        print('Step: {}'.format(self.current_step))\n",
    "        print('Net Worth: {}'.format(self.net_worth))\n",
    "        print('Profit: {}'.format(profit))\n",
    "        \n",
    "def create_stock_env(location, train=True):\n",
    "    df = pd.read_csv(location).sort_values('Date')\n",
    "    params = {\n",
    "        'num_stocks' : 1,\n",
    "        'min_brokerage' : 30.0,\n",
    "        'shares_normal' : 10000,\n",
    "        'brokerage_rate' : 0.001,\n",
    "    }\n",
    "    return StockEnv(df, params, train)"
   ]
  },
  {
   "cell_type": "code",
   "execution_count": 18,
   "metadata": {},
   "outputs": [],
   "source": [
    "class ReplayMemory:\n",
    "    def __init__(self, max_size):\n",
    "        self.buffer = [None] * max_size\n",
    "        self.max_size = max_size\n",
    "        self.index = 0\n",
    "        self.size = 0\n",
    "\n",
    "    def append(self, obj):\n",
    "        self.buffer[self.index] = obj\n",
    "        self.size = min(self.size + 1, self.max_size)\n",
    "        self.index = (self.index + 1) % self.max_size\n",
    "\n",
    "    def sample(self, batch_size):\n",
    "        indices = random.sample(range(self.size), batch_size)\n",
    "        return [self.buffer[index] for index in indices]\n",
    "\n",
    "from collections import deque\n",
    "class ReplayDeque:\n",
    "    def __init__(self, capacity, element_dimensions):\n",
    "        self.deque = deque()\n",
    "        self.capacity = capacity\n",
    "        self.dim = element_dimensions\n",
    "        for _ in range(self.capacity):\n",
    "            self.deque.append(np.zeros((element_dimensions, )))\n",
    "            \n",
    "    def add(self, obj):\n",
    "        copied = np.copy(obj)\n",
    "        self.deque.append(np.squeeze(copied))\n",
    "        self.deque.popleft()\n",
    "        \n",
    "    def get_last(self, duration):\n",
    "        entries = list(self.deque)[-duration:]\n",
    "        shape = list(entries[0].shape)\n",
    "        shape[:0] = [1, len(entries)]\n",
    "        res = np.concatenate(entries).reshape(shape)\n",
    "        return res\n",
    "    def clear(self):\n",
    "        self.__init__(self.capacity, self.dim)"
   ]
  },
  {
   "cell_type": "code",
   "execution_count": 19,
   "metadata": {},
   "outputs": [],
   "source": [
    "class Agent:\n",
    "    def __init__(self, params, resume=True, train=True):\n",
    "        self.training = train\n",
    "        self.epsilon = 1\n",
    "        self.epsilon_decay = params[\"decay\"]\n",
    "        self.epsilon_min = params[\"min_epsilon\"]\n",
    "        self.discount = params[\"discount\"]\n",
    "        self.merge_frequency = params[\"merge_frequency\"]\n",
    "        self.save_frequency = params[\"save_frequency\"]\n",
    "        self.replay_length = params[\"replay_length\"]\n",
    "        self.num_actions = params[\"actions\"]\n",
    "        self.state_dimensions = params[\"state_dimensions\"]\n",
    "        self.batch_size = params[\"batch_size\"]\n",
    "        self.optimizer = params[\"optimizer\"]\n",
    "        self.experience_memory = params[\"memory\"]\n",
    "        self.buffer = ReplayMemory(self.experience_memory)\n",
    "        self.past_states = ReplayDeque(self.replay_length, self.state_dimensions)\n",
    "        self.count = 0\n",
    "        self.game = 0\n",
    "        self.input_shape = (self.replay_length, self.state_dimensions)\n",
    "        self.q_network = self.build_network()\n",
    "        self.target_network = self.build_network()\n",
    "        if resume:\n",
    "            self.load_weights()\n",
    "        \n",
    "    def clear_memory(self):\n",
    "        self.past_states.clear()\n",
    "    def merge_networks(self):\n",
    "        self.target_network.set_weights(self.q_network.get_weights())\n",
    "    def build_network(self):\n",
    "        model = tf.keras.Sequential()\n",
    "        initializer = tf.keras.initializers.GlorotUniform()\n",
    "        model.add(tf.keras.layers.Dense(128, activation='relu', \n",
    "                        input_shape=self.input_shape))\n",
    "        model.add(tf.keras.layers.LSTM(64, activation='relu', \n",
    "                         kernel_initializer=initializer))\n",
    "        model.add(tf.keras.layers.Dense(self.num_actions, activation='linear', kernel_initializer=initializer))\n",
    "        model.compile(loss='mse', optimizer=self.optimizer)\n",
    "        return model\n",
    "    \n",
    "    def agent_start(self, observation):\n",
    "        self.past_states.add(observation)\n",
    "        state = (self.past_states.get_last(self.replay_length))\n",
    "        q_values = np.squeeze(self.q_network(convert(state)).numpy())\n",
    "        self.epsilon *= self.epsilon_decay\n",
    "        self.epsilon = max(self.epsilon, self.epsilon_min)\n",
    "        \n",
    "        if np.random.random() < self.epsilon and self.training:\n",
    "            action = np.random.choice(self.num_actions)\n",
    "        else:\n",
    "            action = np.argmax(q_values)\n",
    "        self.prev_state = state\n",
    "        self.prev_action = action \n",
    "        return (action-10)/10\n",
    "    \n",
    "    def agent_step(self, reward, observation):\n",
    "        self.past_states.add(observation)\n",
    "        state = (self.past_states.get_last(self.replay_length))\n",
    "        self.count += 1\n",
    "\n",
    "        q_values = np.squeeze(self.q_network(convert(state)).numpy())\n",
    "        relay = (self.prev_state, self.prev_action,  reward, state, 0)\n",
    "        self.buffer.append(relay)\n",
    "        \n",
    "        if np.random.random() < self.epsilon and self.training:\n",
    "            action = np.random.choice(self.num_actions)\n",
    "        else:\n",
    "            action = np.argmax(q_values)\n",
    "        self.prev_state = state\n",
    "        self.prev_action = action \n",
    "        if self.training:\n",
    "            self.train(self.batch_size)\n",
    "        \n",
    "        return (action-10)/10\n",
    "             \n",
    "    def save_weights(self):\n",
    "        self.q_network.save_weights(path_base + \"main.h5\")\n",
    "        self.target_network.save_weights(path_base + \"target.h5\")\n",
    "        data = (self.buffer, self.count)\n",
    "        with open (path_base + 'auxiliary.pkl', 'wb') as f:\n",
    "            pickle.dump(data, f)\n",
    "               \n",
    "    def load_weights(self):\n",
    "        self.q_network.load_weights(path_base + \"main.h5\")\n",
    "        self.target_network.load_weights(path_base + \"target.h5\")\n",
    "        with open (path_base + 'auxiliary.pkl', 'rb') as f:\n",
    "            data = pickle.load(f)\n",
    "        self.buffer, self.count = data\n",
    "        \n",
    "    def train(self, count):\n",
    "        size = min(count, self.buffer.size)\n",
    "        batch = self.buffer.sample(size)\n",
    "        input_tensor = np.array([state[0] for state, action, reward, future, terminated in batch])\n",
    "        output_tensor = self.q_network(convert(input_tensor)).numpy()\n",
    "        future_input_tensor = np.array([future[0] for state, action, reward, future, terminated in batch])\n",
    "        future_out = self.target_network(convert(future_input_tensor)).numpy()\n",
    "        for count, (state, action, reward, future, terminated) in enumerate(batch):\n",
    "            target = output_tensor[count]\n",
    "            updated = reward\n",
    "            if not terminated:\n",
    "                target_vals = future_out[count]\n",
    "                updated += self.discount*(target_vals[np.argmax(target)])\n",
    "                \n",
    "            target[action] = updated\n",
    "            output_tensor[count] = target \n",
    "        \n",
    "        input_tensor = np.array(input_tensor)\n",
    "        output_tensor = np.array(output_tensor)\n",
    "        self.q_network.fit(input_tensor, output_tensor, epochs=1, verbose=0)\n",
    "        if self.count%self.merge_frequency == 0:\n",
    "            self.merge_networks()\n",
    "            \n",
    "        if self.count%self.save_frequency == 0:\n",
    "            self.save_weights()\n",
    "            "
   ]
  },
  {
   "cell_type": "code",
   "execution_count": 20,
   "metadata": {},
   "outputs": [
    {
     "name": "stdout",
     "output_type": "stream",
     "text": [
      "Model: \"sequential_6\"\n",
      "_________________________________________________________________\n",
      "Layer (type)                 Output Shape              Param #   \n",
      "=================================================================\n",
      "dense_12 (Dense)             (None, 10, 128)           896       \n",
      "_________________________________________________________________\n",
      "lstm_6 (LSTM)                (None, 64)                49408     \n",
      "_________________________________________________________________\n",
      "dense_13 (Dense)             (None, 20)                1300      \n",
      "=================================================================\n",
      "Total params: 51,604\n",
      "Trainable params: 51,604\n",
      "Non-trainable params: 0\n",
      "_________________________________________________________________\n",
      "None\n"
     ]
    }
   ],
   "source": [
    "files = 'data/MSFT.csv'\n",
    "env = create_stock_env(files)\n",
    "tf.keras.backend.set_floatx('float32')\n",
    "optimizer = tf.keras.optimizers.Adam(learning_rate = 0.001)\n",
    "params = {\"state_dimensions\":6, \"decay\":0.995, \"batch_size\":32, \"merge_frequency\": 10000, \"replay_length\":10, \"min_epsilon\": 0.1, \"save_frequency\": 5000, \"discount\": 0.95,  \"actions\": 20, \"optimizer\": optimizer, \n",
    "          \"memory\": 70000}\n",
    "agent = Agent(params, False)\n",
    "print (agent.q_network.summary())"
   ]
  },
  {
   "cell_type": "code",
   "execution_count": 21,
   "metadata": {},
   "outputs": [],
   "source": [
    "def train(agent, env, epochs, profits, balances, shares, actions, steps_per_epoch):\n",
    "    \n",
    "    for epoch in range(0, epochs):\n",
    "\n",
    "        cumm_profit = 0\n",
    "        observation, info = env.reset(shares_held=20)\n",
    "        shares[epoch, 0] = info['shares_held']\n",
    "        print (\"have {0}\".format(shares[epoch, 0]))\n",
    "        balances[epoch, 0] = info['balance']\n",
    "        action = agent.agent_start(observation)\n",
    "        actions[epoch, 0] = action\n",
    "\n",
    "        for i in tqdm_notebook(range(steps_per_epoch)):\n",
    "#             print (agent.past_states.deque)\n",
    "            observation, reward, done, info = env.step(action)\n",
    "#             print (\"Observation\")\n",
    "#             print (observation)\n",
    "#             print (\"ok\")\n",
    "            shares[epoch, i+1] = info['shares_held']\n",
    "            balances[epoch, i+1] = info['balance']\n",
    "            cumm_profit += reward\n",
    "\n",
    "            profits[epoch, i] = cumm_profit\n",
    "            if done:\n",
    "                print(\"the end\")\n",
    "                break\n",
    "            action = agent.agent_step(reward, observation)\n",
    "            actions[epoch, i+1] = action\n",
    "\n",
    "        agent.clear_memory()\n",
    "        print('Completed epoch' + str(epoch))"
   ]
  },
  {
   "cell_type": "code",
   "execution_count": null,
   "metadata": {},
   "outputs": [
    {
     "name": "stdout",
     "output_type": "stream",
     "text": [
      "have 20.0\n"
     ]
    },
    {
     "data": {
      "application/vnd.jupyter.widget-view+json": {
       "model_id": "644dece623eb4d2088387ceb4185bf58",
       "version_major": 2,
       "version_minor": 0
      },
      "text/plain": [
       "HBox(children=(IntProgress(value=0, max=2000), HTML(value='')))"
      ]
     },
     "metadata": {},
     "output_type": "display_data"
    },
    {
     "name": "stdout",
     "output_type": "stream",
     "text": [
      "the end\n",
      "Completed epoch0\n",
      "have 20.0\n"
     ]
    },
    {
     "data": {
      "application/vnd.jupyter.widget-view+json": {
       "model_id": "378d8b2c8be94ff0a3bb98b21ec01f4d",
       "version_major": 2,
       "version_minor": 0
      },
      "text/plain": [
       "HBox(children=(IntProgress(value=0, max=2000), HTML(value='')))"
      ]
     },
     "metadata": {},
     "output_type": "display_data"
    },
    {
     "name": "stdout",
     "output_type": "stream",
     "text": [
      "\n",
      "Completed epoch1\n",
      "have 20.0\n"
     ]
    },
    {
     "data": {
      "application/vnd.jupyter.widget-view+json": {
       "model_id": "45528ae2357d496b9ae00b0ce77fa0f8",
       "version_major": 2,
       "version_minor": 0
      },
      "text/plain": [
       "HBox(children=(IntProgress(value=0, max=2000), HTML(value='')))"
      ]
     },
     "metadata": {},
     "output_type": "display_data"
    },
    {
     "name": "stdout",
     "output_type": "stream",
     "text": [
      "\n",
      "Completed epoch2\n",
      "have 20.0\n"
     ]
    },
    {
     "data": {
      "application/vnd.jupyter.widget-view+json": {
       "model_id": "7ab5ceb1ebac42ee9d57e85b30ab1970",
       "version_major": 2,
       "version_minor": 0
      },
      "text/plain": [
       "HBox(children=(IntProgress(value=0, max=2000), HTML(value='')))"
      ]
     },
     "metadata": {},
     "output_type": "display_data"
    },
    {
     "name": "stdout",
     "output_type": "stream",
     "text": [
      "the end\n",
      "Completed epoch3\n",
      "have 20.0\n"
     ]
    },
    {
     "data": {
      "application/vnd.jupyter.widget-view+json": {
       "model_id": "7a6a3e838335456ea7c0d9f37ac18037",
       "version_major": 2,
       "version_minor": 0
      },
      "text/plain": [
       "HBox(children=(IntProgress(value=0, max=2000), HTML(value='')))"
      ]
     },
     "metadata": {},
     "output_type": "display_data"
    },
    {
     "name": "stdout",
     "output_type": "stream",
     "text": [
      "the end\n",
      "Completed epoch4\n",
      "have 20.0\n"
     ]
    },
    {
     "data": {
      "application/vnd.jupyter.widget-view+json": {
       "model_id": "91e709a7fc3741f3aca1b04bb2116b69",
       "version_major": 2,
       "version_minor": 0
      },
      "text/plain": [
       "HBox(children=(IntProgress(value=0, max=2000), HTML(value='')))"
      ]
     },
     "metadata": {},
     "output_type": "display_data"
    },
    {
     "name": "stdout",
     "output_type": "stream",
     "text": [
      "the end\n",
      "Completed epoch5\n",
      "have 20.0\n"
     ]
    },
    {
     "data": {
      "application/vnd.jupyter.widget-view+json": {
       "model_id": "bb20ee84b86f475ea3b8ee94e7d57b06",
       "version_major": 2,
       "version_minor": 0
      },
      "text/plain": [
       "HBox(children=(IntProgress(value=0, max=2000), HTML(value='')))"
      ]
     },
     "metadata": {},
     "output_type": "display_data"
    },
    {
     "name": "stdout",
     "output_type": "stream",
     "text": [
      "\n",
      "Completed epoch6\n",
      "have 20.0\n"
     ]
    },
    {
     "data": {
      "application/vnd.jupyter.widget-view+json": {
       "model_id": "2aa7d2fa3e5a4c4ab434d2ec0538f5cb",
       "version_major": 2,
       "version_minor": 0
      },
      "text/plain": [
       "HBox(children=(IntProgress(value=0, max=2000), HTML(value='')))"
      ]
     },
     "metadata": {},
     "output_type": "display_data"
    },
    {
     "name": "stdout",
     "output_type": "stream",
     "text": [
      "the end\n",
      "Completed epoch7\n",
      "have 20.0\n"
     ]
    },
    {
     "data": {
      "application/vnd.jupyter.widget-view+json": {
       "model_id": "8a97f2ea6c6640f489146bd89bd98696",
       "version_major": 2,
       "version_minor": 0
      },
      "text/plain": [
       "HBox(children=(IntProgress(value=0, max=2000), HTML(value='')))"
      ]
     },
     "metadata": {},
     "output_type": "display_data"
    },
    {
     "name": "stdout",
     "output_type": "stream",
     "text": [
      "the end\n",
      "Completed epoch8\n",
      "have 20.0\n"
     ]
    },
    {
     "data": {
      "application/vnd.jupyter.widget-view+json": {
       "model_id": "b984f2bece1d44bfb7400a05c824c3f8",
       "version_major": 2,
       "version_minor": 0
      },
      "text/plain": [
       "HBox(children=(IntProgress(value=0, max=2000), HTML(value='')))"
      ]
     },
     "metadata": {},
     "output_type": "display_data"
    }
   ],
   "source": [
    "epochs = 15\n",
    "steps_per_epoch = 2000\n",
    "profits = np.zeros((epochs, steps_per_epoch+1))\n",
    "balances = np.zeros((epochs, steps_per_epoch+1))\n",
    "shares = np.zeros((epochs, steps_per_epoch+1))\n",
    "actions = np.zeros((epochs, steps_per_epoch+1))\n",
    "train(agent, env, epochs, profits, balances, shares, actions, steps_per_epoch)"
   ]
  },
  {
   "cell_type": "code",
   "execution_count": 42,
   "metadata": {},
   "outputs": [
    {
     "data": {
      "image/png": "[encoded data removed]",
      "text/plain": [
       "<Figure size 432x288 with 1 Axes>"
      ]
     },
     "metadata": {
      "needs_background": "light"
     },
     "output_type": "display_data"
    }
   ],
   "source": [
    "for _ in range(5):\n",
    "    plt.plot(actions[_])\n",
    "\n",
    "plt.legend(list(range(5)))\n",
    "plt.show()"
   ]
  },
  {
   "cell_type": "code",
   "execution_count": 9,
   "metadata": {},
   "outputs": [],
   "source": [
    "def test(values, env, agent):\n",
    "    num = len(values)\n",
    "    max_steps = env.max_steps\n",
    "    profitst = np.zeros((num, max_steps+1))\n",
    "    pricest = np.zeros((num, max_steps+1))\n",
    "    balancest = np.zeros((num, max_steps + 1))\n",
    "    sharest = np.zeros((num, max_steps+1))\n",
    "    actionst = np.zeros((num, max_steps+1))\n",
    "    worthst = np.zeros((num, max_steps+1))\n",
    "    for count, val in enumerate(values):\n",
    "        profit = 0\n",
    "        profitst[count][0] = profit\n",
    "        observation, info = env.reset(initial_balance = val, shares_held = 0)\n",
    "        balancest[count][0] = info['balance']\n",
    "        print(info['balance'])\n",
    "        scale = val/info[\"current_price\"]\n",
    "        pricest[count][0] = scale*info[\"current_price\"]\n",
    "        sharest[count][0] = info['shares_held']\n",
    "        worthst[count][0] = info['net_worth']\n",
    "        print(info['shares_held'])\n",
    "        action = agent.agent_start(observation)\n",
    "        actionst[count][0] = action\n",
    "\n",
    "        for i in tqdm_notebook(range(max_steps)):\n",
    "            observation, reward, done, info = env.step(action)\n",
    "            profit += reward\n",
    "            profitst[count][i+1] = profit\n",
    "            balancest[count][i+1] = info['balance']\n",
    "            pricest[count][i+1] = scale*info[\"current_price\"]\n",
    "            sharest[count][i+1] = info['shares_held']\n",
    "            worthst[count][i+1] = info['net_worth']\n",
    "            if done:\n",
    "                print (\"ober\")\n",
    "                break\n",
    "            action = agent.agent_step(reward, observation)\n",
    "            actionst[count][i+1] = action\n",
    "              \n",
    "        print('Completed' + str(count) + 'values')\n",
    "\n",
    "    print(env.net_worth)\n",
    "    print(env.balance)\n",
    "    print(env.shares_held)\n",
    "    return profitst, balancest, sharest, actionst, worthst, pricest\n"
   ]
  },
  {
   "cell_type": "code",
   "execution_count": 10,
   "metadata": {},
   "outputs": [
    {
     "name": "stdout",
     "output_type": "stream",
     "text": [
      "10000\n",
      "0\n"
     ]
    },
    {
     "data": {
      "application/vnd.jupyter.widget-view+json": {
       "model_id": "2105b996bf3f4ee895a7d776ad42c0e3",
       "version_major": 2,
       "version_minor": 0
      },
      "text/plain": [
       "HBox(children=(IntProgress(value=0, max=7147), HTML(value='')))"
      ]
     },
     "metadata": {},
     "output_type": "display_data"
    },
    {
     "name": "stdout",
     "output_type": "stream",
     "text": [
      "ober\n",
      "Completed0values\n",
      "9018.029675154796\n",
      "25.114770051691032\n",
      "1280\n"
     ]
    }
   ],
   "source": [
    "env = create_stock_env(\"data/MSFT.csv\", train = False)\n",
    "optimizer = tf.keras.optimizers.Adam(learning_rate = 0.001)\n",
    "params = {\"state_dimensions\":6, \"decay\":0.995, \"batch_size\":32, \"merge_frequency\": 10000, \"replay_length\":10, \"min_epsilon\": 0.1, \"save_frequency\": 5000, \"discount\": 0.95,  \"actions\": 20, \"optimizer\": optimizer, \n",
    "          \"memory\": 70000}\n",
    "agent = Agent(params, resume = True, train = False)\n",
    "values = [10000]\n",
    "profitst, balancest, sharest, actionst, worthst, pricest = test(values, env, agent)"
   ]
  },
  {
   "cell_type": "code",
   "execution_count": 12,
   "metadata": {},
   "outputs": [
    {
     "data": {
      "image/png": "[encoded data removed]",
      "text/plain": [
       "<Figure size 432x288 with 1 Axes>"
      ]
     },
     "metadata": {
      "needs_background": "light"
     },
     "output_type": "display_data"
    }
   ],
   "source": [
    "for i in range(1):\n",
    "    plt.plot(worthst[i])\n",
    "    plt.plot(pricest[i])\n",
    "\n",
    "plt.legend([\"agent\", \"hoard\"])\n",
    "plt.show()"
   ]
  },
  {
   "cell_type": "code",
   "execution_count": null,
   "metadata": {},
   "outputs": [],
   "source": []
  }
 ],
 "metadata": {
  "kernelspec": {
   "display_name": "Python 3",
   "language": "python",
   "name": "python3"
  },
  "language_info": {
   "codemirror_mode": {
    "name": "ipython",
    "version": 3
   },
   "file_extension": ".py",
   "mimetype": "text/x-python",
   "name": "python",
   "nbconvert_exporter": "python",
   "pygments_lexer": "ipython3",
   "version": "3.7.4"
  }
 },
 "nbformat": 4,
 "nbformat_minor": 2
}
