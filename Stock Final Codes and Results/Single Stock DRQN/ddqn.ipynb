{
 "cells": [
  {
   "cell_type": "code",
   "execution_count": 40,
   "metadata": {},
   "outputs": [],
   "source": [
    "%matplotlib inline\n",
    "import gym\n",
    "from gym import spaces\n",
    "from matplotlib import pyplot as plt\n",
    "import time\n",
    "from tqdm import tqdm_notebook\n",
    "import tensorflow as tf\n",
    "from tensorflow import keras\n",
    "import pandas as pd\n",
    "import numpy as np\n",
    "from math import floor, ceil\n",
    "import random\n",
    "from tensorflow.keras.layers import Dense, Concatenate, Lambda, Activation, LSTM\n",
    "from tensorflow.keras import Input\n",
    "from tensorflow import convert_to_tensor as convert\n",
    "import pickle\n",
    "COLAB = False\n",
    "if not COLAB:\n",
    "    import os\n",
    "    os.environ['CUDA_VISIBLE_DEVICES'] = '-1'\n",
    "path_base = 'models/'"
   ]
  },
  {
   "cell_type": "code",
   "execution_count": 41,
   "metadata": {},
   "outputs": [],
   "source": [
    "class StockEnv(gym.Env):\n",
    "    metadata = {'render.modes': ['human']}\n",
    "    \n",
    "    def __init__(self, df, params, train = True):\n",
    "        super(StockEnv,self).__init__()\n",
    "        \n",
    "        self.min_brokerage = params['min_brokerage']\n",
    "        self.brokerage_rate = params['brokerage_rate']\n",
    "        self.df = df\n",
    "        self.state_dimensions = 6\n",
    "        self.shares_normal = params['shares_normal']\n",
    "        self.train = train\n",
    "\n",
    "        self.max_steps = len(self.df.loc[:, \"Open\"])\n",
    "        self.action_space = spaces.Box(low = -1, high = 1, shape =  (1, 1), dtype = np.float32)\n",
    "        self.observation_space = spaces.Box(low = 0, high = 1, shape = (1, self.state_dimensions), dtype = np.float32)\n",
    "\n",
    "    def reset(self, initial_balance = 10000, shares_held = None):\n",
    "        self.start_balance = initial_balance \n",
    "        if self.train:\n",
    "            self.current_step = np.random.randint(0, self.max_steps)\n",
    "        else:\n",
    "            self.current_step = 0\n",
    "        self.balance = initial_balance\n",
    "        self.shares_held = shares_held\n",
    "        if self.shares_held is None:\n",
    "            self.shares_held = 0\n",
    "        self.current_price = self.get_price()\n",
    "        self.net_worth = self.balance + (self.shares_held*self.current_price)\n",
    "        self.initial_worth = self.net_worth\n",
    "        self.max_net_worth = self.net_worth\n",
    "        self.done = False\n",
    "        self.frame = np.zeros((1, self.state_dimensions))\n",
    "        self.info = {\n",
    "            'current_step' : self.current_step,\n",
    "            'current_price': self.current_price,\n",
    "            'net_worth' : self.net_worth,\n",
    "            'max_net_worth': self.max_net_worth,\n",
    "            'shares_held' : self.shares_held,\n",
    "            'balance' : self.balance,\n",
    "        }\n",
    "        return self.observe()\n",
    "        \n",
    "    def get_price(self):\n",
    "        return np.random.uniform(self.df.loc[self.current_step,\"Low\"], self.df.loc[self.current_step,\"High\"]) \n",
    "      \n",
    "    def observe(self):\n",
    "        self.frame[0, 0:4] = np.array([self.df.loc[self.current_step,'Open'],self.df.loc[self.current_step,'High'],self.df.loc[self.current_step,'Low'],self.df.loc[self.current_step,'Close']])/self.balance\n",
    "        self.frame[0, 4] = self.shares_held/self.shares_normal\n",
    "        self.frame[0, 5] = self.balance/self.start_balance\n",
    "        self.info = {\n",
    "            'current_step' : self.current_step,\n",
    "            'current_price': self.current_price,\n",
    "            'net_worth' : self.net_worth,\n",
    "            'max_net_worth': self.max_net_worth,\n",
    "            'shares_held' : self.shares_held,\n",
    "            'balance' : self.balance\n",
    "        }\n",
    "        return self.frame, self.info\n",
    "    \n",
    "    def update_worth(self, reward):\n",
    "        self.net_worth += reward\n",
    "        self.max_net_worth = max(self.max_net_worth, self.net_worth)\n",
    "\n",
    "    def update_balance(self, action):\n",
    "        self.balance -= action*self.current_price\n",
    "\n",
    "    def update_shares(self, action):\n",
    "        self.shares_held += action\n",
    "\n",
    "    def take_action(self, action):\n",
    "        self.current_price = self.get_price()\n",
    "        max_buyable = self.balance/self.current_price\n",
    "        max_sellable = self.shares_held\n",
    "        if action >= 0:\n",
    "            action *= max_buyable\n",
    "            action = floor(action)\n",
    "        else:\n",
    "            action *= max_sellable\n",
    "            action = ceil(action)\n",
    "            \n",
    "        if self.shares_held == 0 and action < 0:\n",
    "            reward = -self.balance/2 if self.train else 0\n",
    "            print (\"Invallid sell action\")\n",
    "        else:\n",
    "            self.update_balance(action)\n",
    "            self.update_shares(action)\n",
    "            reward = self.balance + (self.shares_held * self.current_price) - self.net_worth\n",
    "            self.update_worth(reward)\n",
    "        return reward\n",
    "            \n",
    "    def step(self, action):\n",
    "        self.current_step += 1\n",
    "        if self.current_step >= self.max_steps or self.done:\n",
    "            self.done = True\n",
    "            return np.zeros((1, self.state_dimensions)), 0, self.done, self.info\n",
    "\n",
    "        reward = self.take_action(action)\n",
    "        self.done = self.net_worth <= self.initial_worth*0.05\n",
    "        if self.done:\n",
    "            print('snap')\n",
    "        obs, info = self.observe()\n",
    "        return obs, reward, self.done, info\n",
    "    \n",
    "    def render(self, mode='human', close = False):\n",
    "        profit = self.net_worth - self.initial_worth\n",
    "        print('Step: {}'.format(self.current_step))\n",
    "        print('Net Worth: {}'.format(self.net_worth))\n",
    "        print('Profit: {}'.format(profit))\n",
    "        \n",
    "def create_stock_env(location, train=True):\n",
    "    df = pd.read_csv(location).sort_values('Date')\n",
    "    params = {\n",
    "        'num_stocks' : 1,\n",
    "        'min_brokerage' : 30.0,\n",
    "        'shares_normal' : 10000,\n",
    "        'brokerage_rate' : 0.001,\n",
    "    }\n",
    "    return StockEnv(df, params, train)"
   ]
  },
  {
   "cell_type": "code",
   "execution_count": 42,
   "metadata": {},
   "outputs": [],
   "source": [
    "class ReplayMemory:\n",
    "    def __init__(self, max_size):\n",
    "        self.buffer = [None] * max_size\n",
    "        self.max_size = max_size\n",
    "        self.index = 0\n",
    "        self.size = 0\n",
    "\n",
    "    def append(self, obj):\n",
    "        self.buffer[self.index] = obj\n",
    "        self.size = min(self.size + 1, self.max_size)\n",
    "        self.index = (self.index + 1) % self.max_size\n",
    "\n",
    "    def sample(self, batch_size):\n",
    "        indices = random.sample(range(self.size), batch_size)\n",
    "        return [self.buffer[index] for index in indices]\n",
    "\n",
    "from collections import deque\n",
    "class ReplayDeque:\n",
    "    def __init__(self, capacity, element_dimensions):\n",
    "        self.deque = deque()\n",
    "        self.capacity = capacity\n",
    "        self.dim = element_dimensions\n",
    "        for _ in range(self.capacity):\n",
    "            self.deque.append(np.zeros((element_dimensions, )))\n",
    "            \n",
    "    def add(self, obj):\n",
    "        copied = np.copy(obj)\n",
    "        self.deque.append(np.squeeze(copied))\n",
    "        self.deque.popleft()\n",
    "        \n",
    "    def get_last(self, duration):\n",
    "        entries = list(self.deque)[-duration:]\n",
    "        shape = list(entries[0].shape)\n",
    "        shape[:0] = [1, len(entries)]\n",
    "        res = np.concatenate(entries).reshape(shape)\n",
    "        return res\n",
    "    def clear(self):\n",
    "        self.__init__(self.capacity, self.dim)"
   ]
  },
  {
   "cell_type": "code",
   "execution_count": 43,
   "metadata": {},
   "outputs": [],
   "source": [
    "class Agent:\n",
    "    def __init__(self, params, resume=True, train=True):\n",
    "        self.epsilon = 1\n",
    "        self.training = train\n",
    "        self.epsilon_decay = params[\"decay\"]\n",
    "        self.epsilon_min = params[\"min_epsilon\"]\n",
    "        self.discount = params[\"discount\"]\n",
    "        self.merge_frequency = params[\"merge_frequency\"]\n",
    "        self.save_frequency = params[\"save_frequency\"]\n",
    "        self.replay_length = params[\"replay_length\"]\n",
    "        self.num_actions = params[\"actions\"]\n",
    "        self.state_dimensions = params[\"state_dimensions\"]\n",
    "        self.batch_size = params[\"batch_size\"]\n",
    "        self.optimizer = params[\"optimizer\"]\n",
    "        self.experience_memory = params[\"memory\"]\n",
    "        self.buffer = ReplayMemory(self.experience_memory)\n",
    "        self.past_states = ReplayDeque(self.replay_length, self.state_dimensions)\n",
    "        self.count = 0\n",
    "        self.game = 0\n",
    "        self.input_shape = (self.state_dimensions*self.replay_length ,)\n",
    "        self.q_network = self.build_network()\n",
    "        self.target_network = self.build_network()\n",
    "        if resume:\n",
    "            self.load_weights()\n",
    "        \n",
    "    def clear_memory(self):\n",
    "        self.past_states.clear()\n",
    "    def merge_networks(self):\n",
    "        self.target_network.set_weights(self.q_network.get_weights())\n",
    "    def build_network(self):\n",
    "        model = tf.keras.Sequential()\n",
    "        initializer = tf.keras.initializers.GlorotUniform()\n",
    "        model.add(tf.keras.layers.Dense(24, activation='relu', \n",
    "                        input_shape=self.input_shape, kernel_initializer=initializer))\n",
    "        model.add(tf.keras.layers.Dense(24, activation='relu', \n",
    "                         kernel_initializer=initializer))\n",
    "        model.add(tf.keras.layers.Dense(self.num_actions, activation='linear', kernel_initializer=initializer))\n",
    "        model.compile(loss='mse', optimizer=self.optimizer)\n",
    "        return model\n",
    "    \n",
    "    def agent_start(self, observation):\n",
    "        self.past_states.add(observation)\n",
    "        state = np.reshape(self.past_states.get_last(self.replay_length), (1, -1))\n",
    "        q_values = np.squeeze(self.q_network(convert(state)).numpy())\n",
    "        self.epsilon *= self.epsilon_decay\n",
    "        self.epsilon = max(self.epsilon, self.epsilon_min)\n",
    "        \n",
    "        if np.random.random() < self.epsilon and self.training:\n",
    "            action = np.random.choice(self.num_actions)\n",
    "        else:\n",
    "            action = np.argmax(q_values)\n",
    "        self.prev_state = state\n",
    "        self.prev_action = action \n",
    "        return (action-10)/10\n",
    "    \n",
    "    def agent_step(self, reward, observation):\n",
    "        self.past_states.add(observation)\n",
    "        state = np.reshape(self.past_states.get_last(self.replay_length), (1, -1))\n",
    "        self.count += 1\n",
    "\n",
    "        q_values = np.squeeze(self.q_network(convert(state)).numpy())\n",
    "        relay = (self.prev_state, self.prev_action,  reward, state, 0)\n",
    "        self.buffer.append(relay)\n",
    "        \n",
    "        if np.random.random() < self.epsilon and self.training:\n",
    "            action = np.random.choice(self.num_actions)\n",
    "        else:\n",
    "            action = np.argmax(q_values)\n",
    "        self.prev_state = state\n",
    "        self.prev_action = action \n",
    "        if self.training:\n",
    "            self.train(self.batch_size)\n",
    "        \n",
    "        return (action-10)/10\n",
    "             \n",
    "    def save_weights(self):\n",
    "        self.q_network.save_weights(path_base + \"main-normal.h5\")\n",
    "        self.target_network.save_weights(path_base + \"target-normal.h5\")\n",
    "        data = (self.buffer, self.count)\n",
    "        with open (path_base + 'auxiliary-normal.pkl', 'wb') as f:\n",
    "            pickle.dump(data, f)\n",
    "               \n",
    "    def load_weights(self):\n",
    "        self.q_network.load_weights(path_base + \"main-normal.h5\")\n",
    "        self.target_network.load_weights(path_base + \"target-normal.h5\")\n",
    "        with open (path_base + 'auxiliary-normal.pkl', 'rb') as f:\n",
    "            data = pickle.load(f)\n",
    "        self.buffer, self.count = data\n",
    "        \n",
    "    def train(self, count):\n",
    "        size = min(count, self.buffer.size)\n",
    "        batch = self.buffer.sample(size)\n",
    "        input_tensor = np.array([state for state, action, reward, future, terminated in batch]).reshape((-1, self.input_shape[0]))\n",
    "        output_tensor = self.q_network(convert(input_tensor)).numpy()\n",
    "        future_input_tensor = np.array([future for state, action, reward, future, terminated in batch]).reshape((-1, self.input_shape[0]))\n",
    "        future_out = self.target_network(convert(future_input_tensor)).numpy()\n",
    "        for count, (state, action, reward, future, terminated) in enumerate(batch):\n",
    "            target = output_tensor[count]\n",
    "            updated = reward\n",
    "            if not terminated:\n",
    "                target_vals = future_out[count]\n",
    "                updated += self.discount*(target_vals[np.argmax(target)])\n",
    "                \n",
    "            target[action] = updated\n",
    "            output_tensor[count] = target \n",
    "        \n",
    "        input_tensor = np.array(input_tensor)\n",
    "        output_tensor = np.array(output_tensor)\n",
    "        self.q_network.fit(input_tensor, output_tensor, epochs=1, verbose=0)\n",
    "        if self.count%self.merge_frequency == 0:\n",
    "            self.merge_networks()\n",
    "            \n",
    "        if self.count%self.save_frequency == 0:\n",
    "            self.save_weights()\n",
    "            "
   ]
  },
  {
   "cell_type": "code",
   "execution_count": 44,
   "metadata": {},
   "outputs": [],
   "source": [
    "files = 'data/PCG.csv'\n",
    "env = create_stock_env(files)\n",
    "tf.keras.backend.set_floatx('float32')\n",
    "optimizer = tf.keras.optimizers.Adam(learning_rate = 0.001)\n",
    "params = {\"state_dimensions\":6, \"decay\":0.995, \"batch_size\":32, \"merge_frequency\": 10000, \"replay_length\":10, \"min_epsilon\": 0.1, \"save_frequency\": 5000, \"discount\": 0.95,  \"actions\": 20, \"optimizer\": optimizer, \n",
    "          \"memory\": 70000}\n",
    "agent = Agent(params, resume=True)"
   ]
  },
  {
   "cell_type": "code",
   "execution_count": 45,
   "metadata": {},
   "outputs": [],
   "source": [
    "def train(agent, env, epochs, profits, balances, shares, actions, steps_per_epoch):\n",
    "    \n",
    "    for epoch in range(0, epochs):\n",
    "\n",
    "        cumm_profit = 0\n",
    "        observation, info = env.reset()\n",
    "        shares[epoch, 0] = info['shares_held']\n",
    "        balances[epoch, 0] = info['balance']\n",
    "        action = agent.agent_start(observation)\n",
    "        actions[epoch, 0] = action\n",
    "\n",
    "        for i in tqdm_notebook(range(steps_per_epoch)):\n",
    "#             print (agent.past_states.deque)\n",
    "            observation, reward, done, info = env.step(action)\n",
    "#             print (\"Observation\")\n",
    "#             print (observation)\n",
    "#             print (\"ok\")\n",
    "            shares[epoch, i+1] = info['shares_held']\n",
    "            balances[epoch, i+1] = info['balance']\n",
    "            cumm_profit += reward\n",
    "            profits[epoch, i] = cumm_profit\n",
    "            if done:\n",
    "                print(\"the end\")\n",
    "                break\n",
    "            action = agent.agent_step(reward, observation)\n",
    "            actions[epoch, i+1] = action\n",
    "\n",
    "        agent.clear_memory()\n",
    "        print('Completed epoch' + str(epoch))"
   ]
  },
  {
   "cell_type": "code",
   "execution_count": 46,
   "metadata": {},
   "outputs": [
    {
     "data": {
      "application/vnd.jupyter.widget-view+json": {
       "model_id": "251f0401ee90484e8f53224ec396d7cd",
       "version_major": 2,
       "version_minor": 0
      },
      "text/plain": [
       "HBox(children=(IntProgress(value=0, max=2000), HTML(value='')))"
      ]
     },
     "metadata": {},
     "output_type": "display_data"
    },
    {
     "name": "stdout",
     "output_type": "stream",
     "text": [
      "\n",
      "Completed epoch0\n"
     ]
    },
    {
     "data": {
      "application/vnd.jupyter.widget-view+json": {
       "model_id": "fdd7aaa7a5694e00b645f1f04cfca5df",
       "version_major": 2,
       "version_minor": 0
      },
      "text/plain": [
       "HBox(children=(IntProgress(value=0, max=2000), HTML(value='')))"
      ]
     },
     "metadata": {},
     "output_type": "display_data"
    },
    {
     "name": "stdout",
     "output_type": "stream",
     "text": [
      "\n",
      "Completed epoch1\n"
     ]
    },
    {
     "data": {
      "application/vnd.jupyter.widget-view+json": {
       "model_id": "9fe65751ecd44e3b94b7afeffa48154d",
       "version_major": 2,
       "version_minor": 0
      },
      "text/plain": [
       "HBox(children=(IntProgress(value=0, max=2000), HTML(value='')))"
      ]
     },
     "metadata": {},
     "output_type": "display_data"
    },
    {
     "name": "stdout",
     "output_type": "stream",
     "text": [
      "\n",
      "Completed epoch2\n"
     ]
    },
    {
     "data": {
      "application/vnd.jupyter.widget-view+json": {
       "model_id": "c65eb535f3d64feab173b63036a4515e",
       "version_major": 2,
       "version_minor": 0
      },
      "text/plain": [
       "HBox(children=(IntProgress(value=0, max=2000), HTML(value='')))"
      ]
     },
     "metadata": {},
     "output_type": "display_data"
    },
    {
     "name": "stdout",
     "output_type": "stream",
     "text": [
      "the end\n",
      "Completed epoch3\n"
     ]
    },
    {
     "data": {
      "application/vnd.jupyter.widget-view+json": {
       "model_id": "be79ea9e95384e69a35d5e522c670a8e",
       "version_major": 2,
       "version_minor": 0
      },
      "text/plain": [
       "HBox(children=(IntProgress(value=0, max=2000), HTML(value='')))"
      ]
     },
     "metadata": {},
     "output_type": "display_data"
    },
    {
     "name": "stdout",
     "output_type": "stream",
     "text": [
      "the end\n",
      "Completed epoch4\n"
     ]
    },
    {
     "data": {
      "application/vnd.jupyter.widget-view+json": {
       "model_id": "3a87dd2bd01441b49877a0aede2e610d",
       "version_major": 2,
       "version_minor": 0
      },
      "text/plain": [
       "HBox(children=(IntProgress(value=0, max=2000), HTML(value='')))"
      ]
     },
     "metadata": {},
     "output_type": "display_data"
    },
    {
     "name": "stdout",
     "output_type": "stream",
     "text": [
      "\n",
      "Completed epoch5\n"
     ]
    },
    {
     "data": {
      "application/vnd.jupyter.widget-view+json": {
       "model_id": "cdc291b9487d4ff2ab857cb4d09eea0e",
       "version_major": 2,
       "version_minor": 0
      },
      "text/plain": [
       "HBox(children=(IntProgress(value=0, max=2000), HTML(value='')))"
      ]
     },
     "metadata": {},
     "output_type": "display_data"
    },
    {
     "name": "stdout",
     "output_type": "stream",
     "text": [
      "\n",
      "Completed epoch6\n"
     ]
    },
    {
     "data": {
      "application/vnd.jupyter.widget-view+json": {
       "model_id": "ad2b2b38d65643bdb8e943fcbe23d4ff",
       "version_major": 2,
       "version_minor": 0
      },
      "text/plain": [
       "HBox(children=(IntProgress(value=0, max=2000), HTML(value='')))"
      ]
     },
     "metadata": {},
     "output_type": "display_data"
    },
    {
     "name": "stdout",
     "output_type": "stream",
     "text": [
      "the end\n",
      "Completed epoch7\n"
     ]
    },
    {
     "data": {
      "application/vnd.jupyter.widget-view+json": {
       "model_id": "9a4ff01cc71c47f187555a3e3e97d710",
       "version_major": 2,
       "version_minor": 0
      },
      "text/plain": [
       "HBox(children=(IntProgress(value=0, max=2000), HTML(value='')))"
      ]
     },
     "metadata": {},
     "output_type": "display_data"
    },
    {
     "name": "stdout",
     "output_type": "stream",
     "text": [
      "the end\n",
      "Completed epoch8\n"
     ]
    },
    {
     "data": {
      "application/vnd.jupyter.widget-view+json": {
       "model_id": "f1738c0c4b95455da4dfa62369f18e28",
       "version_major": 2,
       "version_minor": 0
      },
      "text/plain": [
       "HBox(children=(IntProgress(value=0, max=2000), HTML(value='')))"
      ]
     },
     "metadata": {},
     "output_type": "display_data"
    },
    {
     "name": "stdout",
     "output_type": "stream",
     "text": [
      "\n",
      "Completed epoch9\n"
     ]
    },
    {
     "data": {
      "application/vnd.jupyter.widget-view+json": {
       "model_id": "f1bfef1919e24c0b912a19a6d422e754",
       "version_major": 2,
       "version_minor": 0
      },
      "text/plain": [
       "HBox(children=(IntProgress(value=0, max=2000), HTML(value='')))"
      ]
     },
     "metadata": {},
     "output_type": "display_data"
    },
    {
     "name": "stdout",
     "output_type": "stream",
     "text": [
      "\n",
      "Completed epoch10\n"
     ]
    },
    {
     "data": {
      "application/vnd.jupyter.widget-view+json": {
       "model_id": "315e38fd5ba64730a092cd8aa4d9c91a",
       "version_major": 2,
       "version_minor": 0
      },
      "text/plain": [
       "HBox(children=(IntProgress(value=0, max=2000), HTML(value='')))"
      ]
     },
     "metadata": {},
     "output_type": "display_data"
    },
    {
     "name": "stdout",
     "output_type": "stream",
     "text": [
      "\n",
      "Completed epoch11\n"
     ]
    },
    {
     "data": {
      "application/vnd.jupyter.widget-view+json": {
       "model_id": "8e279eba0b0d4a2cbfa55bc94cfaadda",
       "version_major": 2,
       "version_minor": 0
      },
      "text/plain": [
       "HBox(children=(IntProgress(value=0, max=2000), HTML(value='')))"
      ]
     },
     "metadata": {},
     "output_type": "display_data"
    },
    {
     "ename": "KeyboardInterrupt",
     "evalue": "",
     "output_type": "error",
     "traceback": [
      "\u001b[0;31m---------------------------------------------------------------------------\u001b[0m",
      "\u001b[0;31mKeyboardInterrupt\u001b[0m                         Traceback (most recent call last)",
      "\u001b[0;32m<ipython-input-46-b36b00d6f627>\u001b[0m in \u001b[0;36m<module>\u001b[0;34m\u001b[0m\n\u001b[1;32m      5\u001b[0m \u001b[0mshares\u001b[0m \u001b[0;34m=\u001b[0m \u001b[0mnp\u001b[0m\u001b[0;34m.\u001b[0m\u001b[0mzeros\u001b[0m\u001b[0;34m(\u001b[0m\u001b[0;34m(\u001b[0m\u001b[0mepochs\u001b[0m\u001b[0;34m,\u001b[0m \u001b[0msteps_per_epoch\u001b[0m\u001b[0;34m+\u001b[0m\u001b[0;36m1\u001b[0m\u001b[0;34m)\u001b[0m\u001b[0;34m)\u001b[0m\u001b[0;34m\u001b[0m\u001b[0;34m\u001b[0m\u001b[0m\n\u001b[1;32m      6\u001b[0m \u001b[0mactions\u001b[0m \u001b[0;34m=\u001b[0m \u001b[0mnp\u001b[0m\u001b[0;34m.\u001b[0m\u001b[0mzeros\u001b[0m\u001b[0;34m(\u001b[0m\u001b[0;34m(\u001b[0m\u001b[0mepochs\u001b[0m\u001b[0;34m,\u001b[0m \u001b[0msteps_per_epoch\u001b[0m\u001b[0;34m+\u001b[0m\u001b[0;36m1\u001b[0m\u001b[0;34m)\u001b[0m\u001b[0;34m)\u001b[0m\u001b[0;34m\u001b[0m\u001b[0;34m\u001b[0m\u001b[0m\n\u001b[0;32m----> 7\u001b[0;31m \u001b[0mtrain\u001b[0m\u001b[0;34m(\u001b[0m\u001b[0magent\u001b[0m\u001b[0;34m,\u001b[0m \u001b[0menv\u001b[0m\u001b[0;34m,\u001b[0m \u001b[0mepochs\u001b[0m\u001b[0;34m,\u001b[0m \u001b[0mprofits\u001b[0m\u001b[0;34m,\u001b[0m \u001b[0mbalances\u001b[0m\u001b[0;34m,\u001b[0m \u001b[0mshares\u001b[0m\u001b[0;34m,\u001b[0m \u001b[0mactions\u001b[0m\u001b[0;34m,\u001b[0m \u001b[0msteps_per_epoch\u001b[0m\u001b[0;34m)\u001b[0m\u001b[0;34m\u001b[0m\u001b[0;34m\u001b[0m\u001b[0m\n\u001b[0m",
      "\u001b[0;32m<ipython-input-45-02f08b07b655>\u001b[0m in \u001b[0;36mtrain\u001b[0;34m(agent, env, epochs, profits, balances, shares, actions, steps_per_epoch)\u001b[0m\n\u001b[1;32m     23\u001b[0m                 \u001b[0mprint\u001b[0m\u001b[0;34m(\u001b[0m\u001b[0;34m\"the end\"\u001b[0m\u001b[0;34m)\u001b[0m\u001b[0;34m\u001b[0m\u001b[0;34m\u001b[0m\u001b[0m\n\u001b[1;32m     24\u001b[0m                 \u001b[0;32mbreak\u001b[0m\u001b[0;34m\u001b[0m\u001b[0;34m\u001b[0m\u001b[0m\n\u001b[0;32m---> 25\u001b[0;31m             \u001b[0maction\u001b[0m \u001b[0;34m=\u001b[0m \u001b[0magent\u001b[0m\u001b[0;34m.\u001b[0m\u001b[0magent_step\u001b[0m\u001b[0;34m(\u001b[0m\u001b[0mreward\u001b[0m\u001b[0;34m,\u001b[0m \u001b[0mobservation\u001b[0m\u001b[0;34m)\u001b[0m\u001b[0;34m\u001b[0m\u001b[0;34m\u001b[0m\u001b[0m\n\u001b[0m\u001b[1;32m     26\u001b[0m             \u001b[0mactions\u001b[0m\u001b[0;34m[\u001b[0m\u001b[0mepoch\u001b[0m\u001b[0;34m,\u001b[0m \u001b[0mi\u001b[0m\u001b[0;34m+\u001b[0m\u001b[0;36m1\u001b[0m\u001b[0;34m]\u001b[0m \u001b[0;34m=\u001b[0m \u001b[0maction\u001b[0m\u001b[0;34m\u001b[0m\u001b[0;34m\u001b[0m\u001b[0m\n\u001b[1;32m     27\u001b[0m \u001b[0;34m\u001b[0m\u001b[0m\n",
      "\u001b[0;32m<ipython-input-43-80904b4d166d>\u001b[0m in \u001b[0;36magent_step\u001b[0;34m(self, reward, observation)\u001b[0m\n\u001b[1;32m     70\u001b[0m         \u001b[0mself\u001b[0m\u001b[0;34m.\u001b[0m\u001b[0mprev_action\u001b[0m \u001b[0;34m=\u001b[0m \u001b[0maction\u001b[0m\u001b[0;34m\u001b[0m\u001b[0;34m\u001b[0m\u001b[0m\n\u001b[1;32m     71\u001b[0m         \u001b[0;32mif\u001b[0m \u001b[0mself\u001b[0m\u001b[0;34m.\u001b[0m\u001b[0mtraining\u001b[0m\u001b[0;34m:\u001b[0m\u001b[0;34m\u001b[0m\u001b[0;34m\u001b[0m\u001b[0m\n\u001b[0;32m---> 72\u001b[0;31m             \u001b[0mself\u001b[0m\u001b[0;34m.\u001b[0m\u001b[0mtrain\u001b[0m\u001b[0;34m(\u001b[0m\u001b[0mself\u001b[0m\u001b[0;34m.\u001b[0m\u001b[0mbatch_size\u001b[0m\u001b[0;34m)\u001b[0m\u001b[0;34m\u001b[0m\u001b[0;34m\u001b[0m\u001b[0m\n\u001b[0m\u001b[1;32m     73\u001b[0m \u001b[0;34m\u001b[0m\u001b[0m\n\u001b[1;32m     74\u001b[0m         \u001b[0;32mreturn\u001b[0m \u001b[0;34m(\u001b[0m\u001b[0maction\u001b[0m\u001b[0;34m-\u001b[0m\u001b[0;36m10\u001b[0m\u001b[0;34m)\u001b[0m\u001b[0;34m/\u001b[0m\u001b[0;36m10\u001b[0m\u001b[0;34m\u001b[0m\u001b[0;34m\u001b[0m\u001b[0m\n",
      "\u001b[0;32m<ipython-input-43-80904b4d166d>\u001b[0m in \u001b[0;36mtrain\u001b[0;34m(self, count)\u001b[0m\n\u001b[1;32m    107\u001b[0m         \u001b[0minput_tensor\u001b[0m \u001b[0;34m=\u001b[0m \u001b[0mnp\u001b[0m\u001b[0;34m.\u001b[0m\u001b[0marray\u001b[0m\u001b[0;34m(\u001b[0m\u001b[0minput_tensor\u001b[0m\u001b[0;34m)\u001b[0m\u001b[0;34m\u001b[0m\u001b[0;34m\u001b[0m\u001b[0m\n\u001b[1;32m    108\u001b[0m         \u001b[0moutput_tensor\u001b[0m \u001b[0;34m=\u001b[0m \u001b[0mnp\u001b[0m\u001b[0;34m.\u001b[0m\u001b[0marray\u001b[0m\u001b[0;34m(\u001b[0m\u001b[0moutput_tensor\u001b[0m\u001b[0;34m)\u001b[0m\u001b[0;34m\u001b[0m\u001b[0;34m\u001b[0m\u001b[0m\n\u001b[0;32m--> 109\u001b[0;31m         \u001b[0mself\u001b[0m\u001b[0;34m.\u001b[0m\u001b[0mq_network\u001b[0m\u001b[0;34m.\u001b[0m\u001b[0mfit\u001b[0m\u001b[0;34m(\u001b[0m\u001b[0minput_tensor\u001b[0m\u001b[0;34m,\u001b[0m \u001b[0moutput_tensor\u001b[0m\u001b[0;34m,\u001b[0m \u001b[0mepochs\u001b[0m\u001b[0;34m=\u001b[0m\u001b[0;36m1\u001b[0m\u001b[0;34m,\u001b[0m \u001b[0mverbose\u001b[0m\u001b[0;34m=\u001b[0m\u001b[0;36m0\u001b[0m\u001b[0;34m)\u001b[0m\u001b[0;34m\u001b[0m\u001b[0;34m\u001b[0m\u001b[0m\n\u001b[0m\u001b[1;32m    110\u001b[0m         \u001b[0;32mif\u001b[0m \u001b[0mself\u001b[0m\u001b[0;34m.\u001b[0m\u001b[0mcount\u001b[0m\u001b[0;34m%\u001b[0m\u001b[0mself\u001b[0m\u001b[0;34m.\u001b[0m\u001b[0mmerge_frequency\u001b[0m \u001b[0;34m==\u001b[0m \u001b[0;36m0\u001b[0m\u001b[0;34m:\u001b[0m\u001b[0;34m\u001b[0m\u001b[0;34m\u001b[0m\u001b[0m\n\u001b[1;32m    111\u001b[0m             \u001b[0mself\u001b[0m\u001b[0;34m.\u001b[0m\u001b[0mmerge_networks\u001b[0m\u001b[0;34m(\u001b[0m\u001b[0;34m)\u001b[0m\u001b[0;34m\u001b[0m\u001b[0;34m\u001b[0m\u001b[0m\n",
      "\u001b[0;32m~/anaconda3/lib/python3.7/site-packages/tensorflow/python/keras/engine/training.py\u001b[0m in \u001b[0;36m_method_wrapper\u001b[0;34m(self, *args, **kwargs)\u001b[0m\n\u001b[1;32m     64\u001b[0m   \u001b[0;32mdef\u001b[0m \u001b[0m_method_wrapper\u001b[0m\u001b[0;34m(\u001b[0m\u001b[0mself\u001b[0m\u001b[0;34m,\u001b[0m \u001b[0;34m*\u001b[0m\u001b[0margs\u001b[0m\u001b[0;34m,\u001b[0m \u001b[0;34m**\u001b[0m\u001b[0mkwargs\u001b[0m\u001b[0;34m)\u001b[0m\u001b[0;34m:\u001b[0m\u001b[0;34m\u001b[0m\u001b[0;34m\u001b[0m\u001b[0m\n\u001b[1;32m     65\u001b[0m     \u001b[0;32mif\u001b[0m \u001b[0;32mnot\u001b[0m \u001b[0mself\u001b[0m\u001b[0;34m.\u001b[0m\u001b[0m_in_multi_worker_mode\u001b[0m\u001b[0;34m(\u001b[0m\u001b[0;34m)\u001b[0m\u001b[0;34m:\u001b[0m  \u001b[0;31m# pylint: disable=protected-access\u001b[0m\u001b[0;34m\u001b[0m\u001b[0;34m\u001b[0m\u001b[0m\n\u001b[0;32m---> 66\u001b[0;31m       \u001b[0;32mreturn\u001b[0m \u001b[0mmethod\u001b[0m\u001b[0;34m(\u001b[0m\u001b[0mself\u001b[0m\u001b[0;34m,\u001b[0m \u001b[0;34m*\u001b[0m\u001b[0margs\u001b[0m\u001b[0;34m,\u001b[0m \u001b[0;34m**\u001b[0m\u001b[0mkwargs\u001b[0m\u001b[0;34m)\u001b[0m\u001b[0;34m\u001b[0m\u001b[0;34m\u001b[0m\u001b[0m\n\u001b[0m\u001b[1;32m     67\u001b[0m \u001b[0;34m\u001b[0m\u001b[0m\n\u001b[1;32m     68\u001b[0m     \u001b[0;31m# Running inside `run_distribute_coordinator` already.\u001b[0m\u001b[0;34m\u001b[0m\u001b[0;34m\u001b[0m\u001b[0;34m\u001b[0m\u001b[0m\n",
      "\u001b[0;32m~/anaconda3/lib/python3.7/site-packages/tensorflow/python/keras/engine/training.py\u001b[0m in \u001b[0;36mfit\u001b[0;34m(self, x, y, batch_size, epochs, verbose, callbacks, validation_split, validation_data, shuffle, class_weight, sample_weight, initial_epoch, steps_per_epoch, validation_steps, validation_batch_size, validation_freq, max_queue_size, workers, use_multiprocessing)\u001b[0m\n\u001b[1;32m    846\u001b[0m                 batch_size=batch_size):\n\u001b[1;32m    847\u001b[0m               \u001b[0mcallbacks\u001b[0m\u001b[0;34m.\u001b[0m\u001b[0mon_train_batch_begin\u001b[0m\u001b[0;34m(\u001b[0m\u001b[0mstep\u001b[0m\u001b[0;34m)\u001b[0m\u001b[0;34m\u001b[0m\u001b[0;34m\u001b[0m\u001b[0m\n\u001b[0;32m--> 848\u001b[0;31m               \u001b[0mtmp_logs\u001b[0m \u001b[0;34m=\u001b[0m \u001b[0mtrain_function\u001b[0m\u001b[0;34m(\u001b[0m\u001b[0miterator\u001b[0m\u001b[0;34m)\u001b[0m\u001b[0;34m\u001b[0m\u001b[0;34m\u001b[0m\u001b[0m\n\u001b[0m\u001b[1;32m    849\u001b[0m               \u001b[0;31m# Catch OutOfRangeError for Datasets of unknown size.\u001b[0m\u001b[0;34m\u001b[0m\u001b[0;34m\u001b[0m\u001b[0;34m\u001b[0m\u001b[0m\n\u001b[1;32m    850\u001b[0m               \u001b[0;31m# This blocks until the batch has finished executing.\u001b[0m\u001b[0;34m\u001b[0m\u001b[0;34m\u001b[0m\u001b[0;34m\u001b[0m\u001b[0m\n",
      "\u001b[0;32m~/anaconda3/lib/python3.7/site-packages/tensorflow/python/eager/def_function.py\u001b[0m in \u001b[0;36m__call__\u001b[0;34m(self, *args, **kwds)\u001b[0m\n\u001b[1;32m    578\u001b[0m         \u001b[0mxla_context\u001b[0m\u001b[0;34m.\u001b[0m\u001b[0mExit\u001b[0m\u001b[0;34m(\u001b[0m\u001b[0;34m)\u001b[0m\u001b[0;34m\u001b[0m\u001b[0;34m\u001b[0m\u001b[0m\n\u001b[1;32m    579\u001b[0m     \u001b[0;32melse\u001b[0m\u001b[0;34m:\u001b[0m\u001b[0;34m\u001b[0m\u001b[0;34m\u001b[0m\u001b[0m\n\u001b[0;32m--> 580\u001b[0;31m       \u001b[0mresult\u001b[0m \u001b[0;34m=\u001b[0m \u001b[0mself\u001b[0m\u001b[0;34m.\u001b[0m\u001b[0m_call\u001b[0m\u001b[0;34m(\u001b[0m\u001b[0;34m*\u001b[0m\u001b[0margs\u001b[0m\u001b[0;34m,\u001b[0m \u001b[0;34m**\u001b[0m\u001b[0mkwds\u001b[0m\u001b[0;34m)\u001b[0m\u001b[0;34m\u001b[0m\u001b[0;34m\u001b[0m\u001b[0m\n\u001b[0m\u001b[1;32m    581\u001b[0m \u001b[0;34m\u001b[0m\u001b[0m\n\u001b[1;32m    582\u001b[0m     \u001b[0;32mif\u001b[0m \u001b[0mtracing_count\u001b[0m \u001b[0;34m==\u001b[0m \u001b[0mself\u001b[0m\u001b[0;34m.\u001b[0m\u001b[0m_get_tracing_count\u001b[0m\u001b[0;34m(\u001b[0m\u001b[0;34m)\u001b[0m\u001b[0;34m:\u001b[0m\u001b[0;34m\u001b[0m\u001b[0;34m\u001b[0m\u001b[0m\n",
      "\u001b[0;32m~/anaconda3/lib/python3.7/site-packages/tensorflow/python/eager/def_function.py\u001b[0m in \u001b[0;36m_call\u001b[0;34m(self, *args, **kwds)\u001b[0m\n\u001b[1;32m    609\u001b[0m       \u001b[0;31m# In this case we have created variables on the first call, so we run the\u001b[0m\u001b[0;34m\u001b[0m\u001b[0;34m\u001b[0m\u001b[0;34m\u001b[0m\u001b[0m\n\u001b[1;32m    610\u001b[0m       \u001b[0;31m# defunned version which is guaranteed to never create variables.\u001b[0m\u001b[0;34m\u001b[0m\u001b[0;34m\u001b[0m\u001b[0;34m\u001b[0m\u001b[0m\n\u001b[0;32m--> 611\u001b[0;31m       \u001b[0;32mreturn\u001b[0m \u001b[0mself\u001b[0m\u001b[0;34m.\u001b[0m\u001b[0m_stateless_fn\u001b[0m\u001b[0;34m(\u001b[0m\u001b[0;34m*\u001b[0m\u001b[0margs\u001b[0m\u001b[0;34m,\u001b[0m \u001b[0;34m**\u001b[0m\u001b[0mkwds\u001b[0m\u001b[0;34m)\u001b[0m  \u001b[0;31m# pylint: disable=not-callable\u001b[0m\u001b[0;34m\u001b[0m\u001b[0;34m\u001b[0m\u001b[0m\n\u001b[0m\u001b[1;32m    612\u001b[0m     \u001b[0;32melif\u001b[0m \u001b[0mself\u001b[0m\u001b[0;34m.\u001b[0m\u001b[0m_stateful_fn\u001b[0m \u001b[0;32mis\u001b[0m \u001b[0;32mnot\u001b[0m \u001b[0;32mNone\u001b[0m\u001b[0;34m:\u001b[0m\u001b[0;34m\u001b[0m\u001b[0;34m\u001b[0m\u001b[0m\n\u001b[1;32m    613\u001b[0m       \u001b[0;31m# Release the lock early so that multiple threads can perform the call\u001b[0m\u001b[0;34m\u001b[0m\u001b[0;34m\u001b[0m\u001b[0;34m\u001b[0m\u001b[0m\n",
      "\u001b[0;32m~/anaconda3/lib/python3.7/site-packages/tensorflow/python/eager/function.py\u001b[0m in \u001b[0;36m__call__\u001b[0;34m(self, *args, **kwargs)\u001b[0m\n\u001b[1;32m   2418\u001b[0m     \u001b[0;32mwith\u001b[0m \u001b[0mself\u001b[0m\u001b[0;34m.\u001b[0m\u001b[0m_lock\u001b[0m\u001b[0;34m:\u001b[0m\u001b[0;34m\u001b[0m\u001b[0;34m\u001b[0m\u001b[0m\n\u001b[1;32m   2419\u001b[0m       \u001b[0mgraph_function\u001b[0m\u001b[0;34m,\u001b[0m \u001b[0margs\u001b[0m\u001b[0;34m,\u001b[0m \u001b[0mkwargs\u001b[0m \u001b[0;34m=\u001b[0m \u001b[0mself\u001b[0m\u001b[0;34m.\u001b[0m\u001b[0m_maybe_define_function\u001b[0m\u001b[0;34m(\u001b[0m\u001b[0margs\u001b[0m\u001b[0;34m,\u001b[0m \u001b[0mkwargs\u001b[0m\u001b[0;34m)\u001b[0m\u001b[0;34m\u001b[0m\u001b[0;34m\u001b[0m\u001b[0m\n\u001b[0;32m-> 2420\u001b[0;31m     \u001b[0;32mreturn\u001b[0m \u001b[0mgraph_function\u001b[0m\u001b[0;34m.\u001b[0m\u001b[0m_filtered_call\u001b[0m\u001b[0;34m(\u001b[0m\u001b[0margs\u001b[0m\u001b[0;34m,\u001b[0m \u001b[0mkwargs\u001b[0m\u001b[0;34m)\u001b[0m  \u001b[0;31m# pylint: disable=protected-access\u001b[0m\u001b[0;34m\u001b[0m\u001b[0;34m\u001b[0m\u001b[0m\n\u001b[0m\u001b[1;32m   2421\u001b[0m \u001b[0;34m\u001b[0m\u001b[0m\n\u001b[1;32m   2422\u001b[0m   \u001b[0;34m@\u001b[0m\u001b[0mproperty\u001b[0m\u001b[0;34m\u001b[0m\u001b[0;34m\u001b[0m\u001b[0m\n",
      "\u001b[0;32m~/anaconda3/lib/python3.7/site-packages/tensorflow/python/eager/function.py\u001b[0m in \u001b[0;36m_filtered_call\u001b[0;34m(self, args, kwargs)\u001b[0m\n\u001b[1;32m   1663\u001b[0m          if isinstance(t, (ops.Tensor,\n\u001b[1;32m   1664\u001b[0m                            resource_variable_ops.BaseResourceVariable))),\n\u001b[0;32m-> 1665\u001b[0;31m         self.captured_inputs)\n\u001b[0m\u001b[1;32m   1666\u001b[0m \u001b[0;34m\u001b[0m\u001b[0m\n\u001b[1;32m   1667\u001b[0m   \u001b[0;32mdef\u001b[0m \u001b[0m_call_flat\u001b[0m\u001b[0;34m(\u001b[0m\u001b[0mself\u001b[0m\u001b[0;34m,\u001b[0m \u001b[0margs\u001b[0m\u001b[0;34m,\u001b[0m \u001b[0mcaptured_inputs\u001b[0m\u001b[0;34m,\u001b[0m \u001b[0mcancellation_manager\u001b[0m\u001b[0;34m=\u001b[0m\u001b[0;32mNone\u001b[0m\u001b[0;34m)\u001b[0m\u001b[0;34m:\u001b[0m\u001b[0;34m\u001b[0m\u001b[0;34m\u001b[0m\u001b[0m\n",
      "\u001b[0;32m~/anaconda3/lib/python3.7/site-packages/tensorflow/python/eager/function.py\u001b[0m in \u001b[0;36m_call_flat\u001b[0;34m(self, args, captured_inputs, cancellation_manager)\u001b[0m\n\u001b[1;32m   1744\u001b[0m       \u001b[0;31m# No tape is watching; skip to running the function.\u001b[0m\u001b[0;34m\u001b[0m\u001b[0;34m\u001b[0m\u001b[0;34m\u001b[0m\u001b[0m\n\u001b[1;32m   1745\u001b[0m       return self._build_call_outputs(self._inference_function.call(\n\u001b[0;32m-> 1746\u001b[0;31m           ctx, args, cancellation_manager=cancellation_manager))\n\u001b[0m\u001b[1;32m   1747\u001b[0m     forward_backward = self._select_forward_and_backward_functions(\n\u001b[1;32m   1748\u001b[0m         \u001b[0margs\u001b[0m\u001b[0;34m,\u001b[0m\u001b[0;34m\u001b[0m\u001b[0;34m\u001b[0m\u001b[0m\n",
      "\u001b[0;32m~/anaconda3/lib/python3.7/site-packages/tensorflow/python/eager/function.py\u001b[0m in \u001b[0;36mcall\u001b[0;34m(self, ctx, args, cancellation_manager)\u001b[0m\n\u001b[1;32m    596\u001b[0m               \u001b[0minputs\u001b[0m\u001b[0;34m=\u001b[0m\u001b[0margs\u001b[0m\u001b[0;34m,\u001b[0m\u001b[0;34m\u001b[0m\u001b[0;34m\u001b[0m\u001b[0m\n\u001b[1;32m    597\u001b[0m               \u001b[0mattrs\u001b[0m\u001b[0;34m=\u001b[0m\u001b[0mattrs\u001b[0m\u001b[0;34m,\u001b[0m\u001b[0;34m\u001b[0m\u001b[0;34m\u001b[0m\u001b[0m\n\u001b[0;32m--> 598\u001b[0;31m               ctx=ctx)\n\u001b[0m\u001b[1;32m    599\u001b[0m         \u001b[0;32melse\u001b[0m\u001b[0;34m:\u001b[0m\u001b[0;34m\u001b[0m\u001b[0;34m\u001b[0m\u001b[0m\n\u001b[1;32m    600\u001b[0m           outputs = execute.execute_with_cancellation(\n",
      "\u001b[0;32m~/anaconda3/lib/python3.7/site-packages/tensorflow/python/eager/execute.py\u001b[0m in \u001b[0;36mquick_execute\u001b[0;34m(op_name, num_outputs, inputs, attrs, ctx, name)\u001b[0m\n\u001b[1;32m     58\u001b[0m     \u001b[0mctx\u001b[0m\u001b[0;34m.\u001b[0m\u001b[0mensure_initialized\u001b[0m\u001b[0;34m(\u001b[0m\u001b[0;34m)\u001b[0m\u001b[0;34m\u001b[0m\u001b[0;34m\u001b[0m\u001b[0m\n\u001b[1;32m     59\u001b[0m     tensors = pywrap_tfe.TFE_Py_Execute(ctx._handle, device_name, op_name,\n\u001b[0;32m---> 60\u001b[0;31m                                         inputs, attrs, num_outputs)\n\u001b[0m\u001b[1;32m     61\u001b[0m   \u001b[0;32mexcept\u001b[0m \u001b[0mcore\u001b[0m\u001b[0;34m.\u001b[0m\u001b[0m_NotOkStatusException\u001b[0m \u001b[0;32mas\u001b[0m \u001b[0me\u001b[0m\u001b[0;34m:\u001b[0m\u001b[0;34m\u001b[0m\u001b[0;34m\u001b[0m\u001b[0m\n\u001b[1;32m     62\u001b[0m     \u001b[0;32mif\u001b[0m \u001b[0mname\u001b[0m \u001b[0;32mis\u001b[0m \u001b[0;32mnot\u001b[0m \u001b[0;32mNone\u001b[0m\u001b[0;34m:\u001b[0m\u001b[0;34m\u001b[0m\u001b[0;34m\u001b[0m\u001b[0m\n",
      "\u001b[0;31mKeyboardInterrupt\u001b[0m: "
     ]
    }
   ],
   "source": [
    "epochs = 30\n",
    "steps_per_epoch = 2000\n",
    "profits = np.zeros((epochs, steps_per_epoch+1))\n",
    "balances = np.zeros((epochs, steps_per_epoch+1))\n",
    "shares = np.zeros((epochs, steps_per_epoch+1))\n",
    "actions = np.zeros((epochs, steps_per_epoch+1))\n",
    "train(agent, env, epochs, profits, balances, shares, actions, steps_per_epoch)"
   ]
  },
  {
   "cell_type": "code",
   "execution_count": 50,
   "metadata": {},
   "outputs": [
    {
     "data": {
      "image/png": "[encoded data removed]",
      "text/plain": [
       "<Figure size 432x288 with 1 Axes>"
      ]
     },
     "metadata": {
      "needs_background": "light"
     },
     "output_type": "display_data"
    }
   ],
   "source": [
    "for _ in range(0, 10):\n",
    "    plt.plot(profits[_])\n",
    "\n",
    "plt.legend(list(range(10)))\n",
    "plt.show()"
   ]
  },
  {
   "cell_type": "code",
   "execution_count": 54,
   "metadata": {},
   "outputs": [],
   "source": [
    "def test(values):\n",
    "    num = len(values)\n",
    "    env = create_stock_env(files, train = False)\n",
    "    optimizer = tf.keras.optimizers.Adam(learning_rate = 0.001)\n",
    "    params = {\"state_dimensions\":6, \"decay\":0.995, \"batch_size\":32, \"merge_frequency\": 10000, \"replay_length\":10, \"min_epsilon\": 0.1, \"save_frequency\": 5000, \"discount\": 0.95,  \"actions\": 20, \"optimizer\": optimizer, \n",
    "              \"memory\": 70000}\n",
    "    agent = Agent(params, resume = True, train = False)\n",
    "\n",
    "    max_steps = env.max_steps\n",
    "    profitst = np.zeros((num, max_steps+1))\n",
    "    pricest = np.zeros((num, max_steps+1))\n",
    "    balancest = np.zeros((num, max_steps + 1))\n",
    "    sharest = np.zeros((num, max_steps+1))\n",
    "    actionst = np.zeros((num, max_steps+1))\n",
    "    worthst = np.zeros((num, max_steps+1))\n",
    "    for count, val in enumerate(values):\n",
    "        profit = 0\n",
    "        profitst[count][0] = profit\n",
    "        observation, info = env.reset(initial_balance = val)\n",
    "        balancest[count][0] = info['balance']\n",
    "        print(info['balance'])\n",
    "        scale = val/info[\"current_price\"]\n",
    "        pricest[count][0] = scale*info[\"current_price\"]\n",
    "        sharest[count][0] = info['shares_held']\n",
    "        worthst[count][0] = info['net_worth']\n",
    "        print(info['shares_held'])\n",
    "        action = agent.agent_start(observation)\n",
    "        actionst[count][0] = action\n",
    "\n",
    "        for i in tqdm_notebook(range(max_steps)):\n",
    "            observation, reward, done, info = env.step(action)\n",
    "            profit += reward\n",
    "            profitst[count][i+1] = profit\n",
    "            balancest[count][i+1] = info['balance']\n",
    "            pricest[count][i+1] = scale*info[\"current_price\"]\n",
    "            sharest[count][i+1] = info['shares_held']\n",
    "            worthst[count][i+1] = info['net_worth']\n",
    "            if done:\n",
    "                print (\"ober\")\n",
    "                break\n",
    "            action = agent.agent_step(reward, observation)\n",
    "            actionst[count][i+1] = action\n",
    "              \n",
    "        print('Completed' + str(count) + 'values')\n",
    "\n",
    "    print(env.net_worth)\n",
    "    print(env.balance)\n",
    "    print(env.shares_held)\n",
    "    return profitst, balancest, sharest, actionst, worthst, pricest\n"
   ]
  },
  {
   "cell_type": "code",
   "execution_count": 55,
   "metadata": {},
   "outputs": [
    {
     "name": "stdout",
     "output_type": "stream",
     "text": [
      "10000\n",
      "0\n"
     ]
    },
    {
     "data": {
      "application/vnd.jupyter.widget-view+json": {
       "model_id": "510093a75a7f4ec9969a543edca1b0f4",
       "version_major": 2,
       "version_minor": 0
      },
      "text/plain": [
       "HBox(children=(IntProgress(value=0, max=6146), HTML(value='')))"
      ]
     },
     "metadata": {},
     "output_type": "display_data"
    },
    {
     "name": "stdout",
     "output_type": "stream",
     "text": [
      "ober\n",
      "Completed0values\n",
      "3559.5357946105387\n",
      "322.04810273846374\n",
      "299\n"
     ]
    }
   ],
   "source": [
    "values = [10000]\n",
    "profitst, balancest, sharest, actionst, worthst, pricest = test(values)"
   ]
  },
  {
   "cell_type": "code",
   "execution_count": 56,
   "metadata": {},
   "outputs": [
    {
     "data": {
      "image/png": "[encoded data removed]",
      "text/plain": [
       "<Figure size 432x288 with 1 Axes>"
      ]
     },
     "metadata": {
      "needs_background": "light"
     },
     "output_type": "display_data"
    }
   ],
   "source": [
    "for i in range(1):\n",
    "    plt.plot(worthst[i])\n",
    "    plt.plot(pricest[i])\n",
    "\n",
    "plt.legend([\"agent\", \"hoard\"])\n",
    "plt.show()"
   ]
  },
  {
   "cell_type": "code",
   "execution_count": null,
   "metadata": {},
   "outputs": [],
   "source": []
  }
 ],
 "metadata": {
  "kernelspec": {
   "display_name": "Python 3",
   "language": "python",
   "name": "python3"
  },
  "language_info": {
   "codemirror_mode": {
    "name": "ipython",
    "version": 3
   },
   "file_extension": ".py",
   "mimetype": "text/x-python",
   "name": "python",
   "nbconvert_exporter": "python",
   "pygments_lexer": "ipython3",
   "version": "3.7.4"
  }
 },
 "nbformat": 4,
 "nbformat_minor": 2
}
