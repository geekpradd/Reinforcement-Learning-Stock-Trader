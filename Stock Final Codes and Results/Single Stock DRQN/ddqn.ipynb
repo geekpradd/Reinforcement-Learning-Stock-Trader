{
 "cells": [
  {
   "cell_type": "code",
   "execution_count": 1,
   "metadata": {},
   "outputs": [],
   "source": [
    "%matplotlib inline\n",
    "import gym\n",
    "from gym import spaces\n",
    "from matplotlib import pyplot as plt\n",
    "import time\n",
    "from tqdm import tqdm_notebook\n",
    "import tensorflow as tf\n",
    "from tensorflow import keras\n",
    "import pandas as pd\n",
    "import numpy as np\n",
    "from math import floor, ceil\n",
    "import random\n",
    "from tensorflow.keras.layers import Dense, Concatenate, Lambda, Activation, LSTM\n",
    "from tensorflow.keras import Input\n",
    "from tensorflow import convert_to_tensor as convert\n",
    "import pickle\n",
    "COLAB = False\n",
    "if not COLAB:\n",
    "    import os\n",
    "    os.environ['CUDA_VISIBLE_DEVICES'] = '-1'\n",
    "path_base = 'models/'"
   ]
  },
  {
   "cell_type": "code",
   "execution_count": 16,
   "metadata": {},
   "outputs": [],
   "source": [
    "class StockEnv(gym.Env):\n",
    "    metadata = {'render.modes': ['human']}\n",
    "    \n",
    "    def __init__(self, df, params, train = True):\n",
    "        super(StockEnv,self).__init__()\n",
    "        \n",
    "        self.min_brokerage = params['min_brokerage']\n",
    "        self.brokerage_rate = params['brokerage_rate']\n",
    "        self.df = df\n",
    "        self.state_dimensions = 6\n",
    "        self.shares_normal = params['shares_normal']\n",
    "        self.train = train\n",
    "\n",
    "        self.max_steps = len(self.df.loc[:, \"Open\"])\n",
    "        self.action_space = spaces.Box(low = -1, high = 1, shape =  (1, 1), dtype = np.float32)\n",
    "        self.observation_space = spaces.Box(low = 0, high = 1, shape = (1, self.state_dimensions), dtype = np.float32)\n",
    "\n",
    "    def reset(self, initial_balance = 10000, shares_held = 100):\n",
    "        self.start_balance = initial_balance \n",
    "        if self.train:\n",
    "            self.current_step = np.random.randint(0, self.max_steps)\n",
    "        else:\n",
    "            self.current_step = 0\n",
    "        self.balance = initial_balance\n",
    "        self.shares_held = shares_held\n",
    "        if self.shares_held is None:\n",
    "            self.shares_held = 0\n",
    "        self.current_price = self.get_price()\n",
    "        self.net_worth = self.balance + (self.shares_held*self.current_price)\n",
    "        self.initial_worth = self.net_worth\n",
    "        self.max_net_worth = self.net_worth\n",
    "        self.done = False\n",
    "        self.frame = np.zeros((1, self.state_dimensions))\n",
    "        self.info = {\n",
    "            'current_step' : self.current_step,\n",
    "            'current_price': self.current_price,\n",
    "            'net_worth' : self.net_worth,\n",
    "            'max_net_worth': self.max_net_worth,\n",
    "            'shares_held' : self.shares_held,\n",
    "            'balance' : self.balance,\n",
    "        }\n",
    "        return self.observe()\n",
    "        \n",
    "    def get_price(self):\n",
    "        return np.random.uniform(self.df.loc[self.current_step,\"Low\"], self.df.loc[self.current_step,\"High\"]) \n",
    "      \n",
    "    def observe(self):\n",
    "        self.frame[0, 0:4] = np.array([self.df.loc[self.current_step,'Open'],self.df.loc[self.current_step,'High'],self.df.loc[self.current_step,'Low'],self.df.loc[self.current_step,'Close']])/self.balance\n",
    "        self.frame[0, 4] = self.shares_held/self.shares_normal\n",
    "        self.frame[0, 5] = self.balance/self.start_balance\n",
    "        self.info = {\n",
    "            'current_step' : self.current_step,\n",
    "            'current_price': self.current_price,\n",
    "            'net_worth' : self.net_worth,\n",
    "            'max_net_worth': self.max_net_worth,\n",
    "            'shares_held' : self.shares_held,\n",
    "            'balance' : self.balance\n",
    "        }\n",
    "        return self.frame, self.info\n",
    "    \n",
    "    def update_worth(self, reward):\n",
    "        self.net_worth += reward\n",
    "        self.max_net_worth = max(self.max_net_worth, self.net_worth)\n",
    "\n",
    "    def update_balance(self, action):\n",
    "        self.balance -= action*self.current_price\n",
    "\n",
    "    def update_shares(self, action):\n",
    "        self.shares_held += action\n",
    "\n",
    "    def take_action(self, action):\n",
    "        self.current_price = self.get_price()\n",
    "        max_buyable = self.balance/self.current_price\n",
    "        max_sellable = self.shares_held\n",
    "        if action >= 0:\n",
    "            action *= max_buyable\n",
    "            action = floor(action)\n",
    "        else:\n",
    "            action *= max_sellable\n",
    "            action = ceil(action)\n",
    "            \n",
    "        if self.shares_held == 0 and action < 0:\n",
    "            reward = 0\n",
    "            print (\"Invallid sell action\")\n",
    "        else:\n",
    "            self.update_balance(action)\n",
    "            self.update_shares(action)\n",
    "            reward = self.balance + (self.shares_held * self.current_price) - self.net_worth\n",
    "            self.update_worth(reward)\n",
    "        return reward\n",
    "            \n",
    "    def step(self, action):\n",
    "        self.current_step += 1\n",
    "        if self.current_step >= self.max_steps or self.done:\n",
    "            self.done = True\n",
    "            return np.zeros((1, self.state_dimensions)), 0, self.done, self.info\n",
    "\n",
    "        reward = self.take_action(action)\n",
    "        self.done = self.net_worth <= self.initial_worth*0.05\n",
    "        if self.done:\n",
    "            print('snap')\n",
    "        obs, info = self.observe()\n",
    "        return obs, reward, self.done, info\n",
    "    \n",
    "    def render(self, mode='human', close = False):\n",
    "        profit = self.net_worth - self.initial_worth\n",
    "        print('Step: {}'.format(self.current_step))\n",
    "        print('Net Worth: {}'.format(self.net_worth))\n",
    "        print('Profit: {}'.format(profit))\n",
    "        \n",
    "def create_stock_env(location, train=True):\n",
    "    df = pd.read_csv(location).sort_values('Date')\n",
    "#     length = len(df)\n",
    "#     split_length = int(split*length)\n",
    "#     if train:\n",
    "#         df = df[0:split_length]\n",
    "#     else:\n",
    "#         df = df[split_length:]\n",
    "    params = {\n",
    "        'num_stocks' : 1,\n",
    "        'min_brokerage' : 30.0,\n",
    "        'shares_normal' : 10000,\n",
    "        'brokerage_rate' : 0.001,\n",
    "    }\n",
    "    return StockEnv(df, params, train)"
   ]
  },
  {
   "cell_type": "code",
   "execution_count": 17,
   "metadata": {},
   "outputs": [],
   "source": [
    "class ReplayMemory:\n",
    "    def __init__(self, max_size):\n",
    "        self.buffer = [None] * max_size\n",
    "        self.max_size = max_size\n",
    "        self.index = 0\n",
    "        self.size = 0\n",
    "\n",
    "    def append(self, obj):\n",
    "        self.buffer[self.index] = obj\n",
    "        self.size = min(self.size + 1, self.max_size)\n",
    "        self.index = (self.index + 1) % self.max_size\n",
    "\n",
    "    def sample(self, batch_size):\n",
    "        indices = random.sample(range(self.size), batch_size)\n",
    "        return [self.buffer[index] for index in indices]\n",
    "\n",
    "from collections import deque\n",
    "class ReplayDeque:\n",
    "    def __init__(self, capacity, element_dimensions):\n",
    "        self.deque = deque()\n",
    "        self.capacity = capacity\n",
    "        self.dim = element_dimensions\n",
    "        for _ in range(self.capacity):\n",
    "            self.deque.append(np.zeros((element_dimensions, )))\n",
    "            \n",
    "    def add(self, obj):\n",
    "        copied = np.copy(obj)\n",
    "        self.deque.append(np.squeeze(copied))\n",
    "        self.deque.popleft()\n",
    "        \n",
    "    def get_last(self, duration):\n",
    "        entries = list(self.deque)[-duration:]\n",
    "        shape = list(entries[0].shape)\n",
    "        shape[:0] = [1, len(entries)]\n",
    "        res = np.concatenate(entries).reshape(shape)\n",
    "        return res\n",
    "    def clear(self):\n",
    "        self.__init__(self.capacity, self.dim)"
   ]
  },
  {
   "cell_type": "code",
   "execution_count": 42,
   "metadata": {},
   "outputs": [],
   "source": [
    "class Agent:\n",
    "    def __init__(self, params, resume=True, train=True):\n",
    "        self.epsilon = 1\n",
    "        self.training = train\n",
    "        self.epsilon_decay = params[\"decay\"]\n",
    "        self.epsilon_min = params[\"min_epsilon\"]\n",
    "        self.discount = params[\"discount\"]\n",
    "        self.merge_frequency = params[\"merge_frequency\"]\n",
    "        self.save_frequency = params[\"save_frequency\"]\n",
    "        self.replay_length = params[\"replay_length\"]\n",
    "        self.num_actions = params[\"actions\"]\n",
    "        self.state_dimensions = params[\"state_dimensions\"]\n",
    "        self.batch_size = params[\"batch_size\"]\n",
    "        self.optimizer = params[\"optimizer\"]\n",
    "        self.experience_memory = params[\"memory\"]\n",
    "        self.buffer = ReplayMemory(self.experience_memory)\n",
    "        self.past_states = ReplayDeque(self.replay_length, self.state_dimensions)\n",
    "        self.count = 0\n",
    "        self.game = 0\n",
    "        self.input_shape = (self.state_dimensions*self.replay_length ,)\n",
    "        self.q_network = self.build_network()\n",
    "        self.target_network = self.build_network()\n",
    "        if resume:\n",
    "            self.load_weights()\n",
    "        \n",
    "    def clear_memory(self):\n",
    "        self.past_states.clear()\n",
    "    def merge_networks(self):\n",
    "        self.target_network.set_weights(self.q_network.get_weights())\n",
    "    def build_network(self):\n",
    "        model = tf.keras.Sequential()\n",
    "        initializer = tf.keras.initializers.GlorotUniform()\n",
    "        model.add(tf.keras.layers.Dense(256, activation='relu', \n",
    "                        input_shape=self.input_shape, kernel_initializer=initializer))\n",
    "        model.add(tf.keras.layers.Dense(128, activation='relu', \n",
    "                         kernel_initializer=initializer))\n",
    "        model.add(tf.keras.layers.Dense(self.num_actions, activation='linear', kernel_initializer=initializer))\n",
    "        model.compile(loss='mse', optimizer=self.optimizer)\n",
    "        return model\n",
    "    \n",
    "    def agent_start(self, observation):\n",
    "        self.past_states.add(observation)\n",
    "        state = np.reshape(self.past_states.get_last(self.replay_length), (1, -1))\n",
    "        q_values = np.squeeze(self.q_network(convert(state)).numpy())\n",
    "        self.epsilon *= self.epsilon_decay\n",
    "        self.epsilon = max(self.epsilon, self.epsilon_min)\n",
    "        \n",
    "        if np.random.random() < self.epsilon and self.training:\n",
    "            action = np.random.choice(self.num_actions)\n",
    "        else:\n",
    "            action = np.argmax(q_values)\n",
    "        self.prev_state = state\n",
    "        self.prev_action = action \n",
    "        return (action-10)/10\n",
    "    \n",
    "    def agent_step(self, reward, observation):\n",
    "        self.past_states.add(observation)\n",
    "        state = np.reshape(self.past_states.get_last(self.replay_length), (1, -1))\n",
    "        self.count += 1\n",
    "\n",
    "        q_values = np.squeeze(self.q_network(convert(state)).numpy())\n",
    "        relay = (self.prev_state, self.prev_action,  reward, state, 0)\n",
    "        self.buffer.append(relay)\n",
    "        \n",
    "        if np.random.random() < self.epsilon and self.training:\n",
    "            action = np.random.choice(self.num_actions)\n",
    "        else:\n",
    "            action = np.argmax(q_values)\n",
    "        self.prev_state = state\n",
    "        self.prev_action = action \n",
    "        if self.training:\n",
    "            self.train(self.batch_size)\n",
    "        \n",
    "        return (action-10)/10\n",
    "             \n",
    "    def save_weights(self):\n",
    "        self.q_network.save_weights(path_base + \"main-normal.h5\")\n",
    "        self.target_network.save_weights(path_base + \"target-normal.h5\")\n",
    "        data = (self.buffer, self.count, self.epsilon)\n",
    "        with open (path_base + 'auxiliary-normal.pkl', 'wb') as f:\n",
    "            pickle.dump(data, f)\n",
    "               \n",
    "    def load_weights(self):\n",
    "        self.q_network.load_weights(path_base + \"main-normal.h5\")\n",
    "        self.target_network.load_weights(path_base + \"target-normal.h5\")\n",
    "        with open (path_base + 'auxiliary-normal.pkl', 'rb') as f:\n",
    "            data = pickle.load(f)\n",
    "        self.buffer, self.count, self.epsilon = data\n",
    "        \n",
    "    def train(self, count):\n",
    "        size = min(count, self.buffer.size)\n",
    "        batch = self.buffer.sample(size)\n",
    "        input_tensor = np.array([state for state, action, reward, future, terminated in batch]).reshape((-1, self.input_shape[0]))\n",
    "        output_tensor = self.q_network(convert(input_tensor)).numpy()\n",
    "        future_input_tensor = np.array([future for state, action, reward, future, terminated in batch]).reshape((-1, self.input_shape[0]))\n",
    "        future_out = self.target_network(convert(future_input_tensor)).numpy()\n",
    "        for count, (state, action, reward, future, terminated) in enumerate(batch):\n",
    "            target = output_tensor[count]\n",
    "            updated = reward\n",
    "            if not terminated:\n",
    "                target_vals = future_out[count]\n",
    "                updated += self.discount*(target_vals[np.argmax(target)])\n",
    "                \n",
    "            target[action] = updated\n",
    "            output_tensor[count] = target \n",
    "        \n",
    "        input_tensor = np.array(input_tensor)\n",
    "        output_tensor = np.array(output_tensor)\n",
    "        self.q_network.fit(input_tensor, output_tensor, epochs=1, verbose=0)\n",
    "        if self.count%self.merge_frequency == 0:\n",
    "            self.merge_networks()\n",
    "            \n",
    "        if self.count%self.save_frequency == 0:\n",
    "            self.save_weights()\n",
    "            "
   ]
  },
  {
   "cell_type": "code",
   "execution_count": 43,
   "metadata": {},
   "outputs": [],
   "source": [
    "tf.keras.backend.set_floatx('float32')\n",
    "optimizer = tf.keras.optimizers.Adam(learning_rate = 0.001)\n",
    "params = {\"state_dimensions\":6, \"decay\":0.995, \"batch_size\":32, \"merge_frequency\": 10000, \"replay_length\":10, \"min_epsilon\": 0.1, \"save_frequency\": 5000, \"discount\": 0.95,  \"actions\": 20, \"optimizer\": optimizer, \n",
    "          \"memory\": 70000}\n",
    "agent = Agent(params, resume=False)"
   ]
  },
  {
   "cell_type": "code",
   "execution_count": 44,
   "metadata": {},
   "outputs": [],
   "source": [
    "def train(agent, env, epochs, profits, balances, shares, actions, steps_per_epoch):\n",
    "    \n",
    "    for epoch in range(0, epochs):\n",
    "\n",
    "        cumm_profit = 0\n",
    "        observation, info = env.reset()\n",
    "        shares[epoch, 0] = info['shares_held']\n",
    "        balances[epoch, 0] = info['balance']\n",
    "        action = agent.agent_start(observation)\n",
    "        actions[epoch, 0] = action\n",
    "\n",
    "        for i in tqdm_notebook(range(steps_per_epoch)):\n",
    "#             print (agent.past_states.deque)\n",
    "            observation, reward, done, info = env.step(action)\n",
    "#             print (\"Observation\")\n",
    "#             print (observation)\n",
    "#             print (\"ok\")\n",
    "            shares[epoch, i+1] = info['shares_held']\n",
    "            balances[epoch, i+1] = info['balance']\n",
    "            cumm_profit += reward\n",
    "            profits[epoch, i] = cumm_profit\n",
    "            if done:\n",
    "                print(\"the end\")\n",
    "                break\n",
    "            action = agent.agent_step(reward, observation)\n",
    "            actions[epoch, i+1] = action\n",
    "\n",
    "        agent.clear_memory()\n",
    "        print('Completed epoch' + str(epoch))"
   ]
  },
  {
   "cell_type": "code",
   "execution_count": 45,
   "metadata": {},
   "outputs": [
    {
     "data": {
      "application/vnd.jupyter.widget-view+json": {
       "model_id": "d5e9763460e74221a635fb549b25db49",
       "version_major": 2,
       "version_minor": 0
      },
      "text/plain": [
       "HBox(children=(IntProgress(value=0, max=2000), HTML(value='')))"
      ]
     },
     "metadata": {},
     "output_type": "display_data"
    },
    {
     "name": "stdout",
     "output_type": "stream",
     "text": [
      "\n",
      "Completed epoch0\n"
     ]
    },
    {
     "data": {
      "application/vnd.jupyter.widget-view+json": {
       "model_id": "9c1a05fd3642468db659425f02f91dc9",
       "version_major": 2,
       "version_minor": 0
      },
      "text/plain": [
       "HBox(children=(IntProgress(value=0, max=2000), HTML(value='')))"
      ]
     },
     "metadata": {},
     "output_type": "display_data"
    },
    {
     "name": "stdout",
     "output_type": "stream",
     "text": [
      "\n",
      "Completed epoch1\n"
     ]
    },
    {
     "data": {
      "application/vnd.jupyter.widget-view+json": {
       "model_id": "378fec27feba4a43938737b20a605f9a",
       "version_major": 2,
       "version_minor": 0
      },
      "text/plain": [
       "HBox(children=(IntProgress(value=0, max=2000), HTML(value='')))"
      ]
     },
     "metadata": {},
     "output_type": "display_data"
    },
    {
     "name": "stdout",
     "output_type": "stream",
     "text": [
      "\n",
      "Completed epoch2\n"
     ]
    },
    {
     "data": {
      "application/vnd.jupyter.widget-view+json": {
       "model_id": "f81d297fda7948f3bf1fcd696531c55a",
       "version_major": 2,
       "version_minor": 0
      },
      "text/plain": [
       "HBox(children=(IntProgress(value=0, max=2000), HTML(value='')))"
      ]
     },
     "metadata": {},
     "output_type": "display_data"
    },
    {
     "name": "stdout",
     "output_type": "stream",
     "text": [
      "the end\n",
      "Completed epoch3\n"
     ]
    },
    {
     "data": {
      "application/vnd.jupyter.widget-view+json": {
       "model_id": "b54af6122f7640cb89140f0d53321c04",
       "version_major": 2,
       "version_minor": 0
      },
      "text/plain": [
       "HBox(children=(IntProgress(value=0, max=2000), HTML(value='')))"
      ]
     },
     "metadata": {},
     "output_type": "display_data"
    },
    {
     "name": "stdout",
     "output_type": "stream",
     "text": [
      "the end\n",
      "Completed epoch4\n"
     ]
    },
    {
     "data": {
      "application/vnd.jupyter.widget-view+json": {
       "model_id": "e45baf9cf4254ea5a548254e07a12a3a",
       "version_major": 2,
       "version_minor": 0
      },
      "text/plain": [
       "HBox(children=(IntProgress(value=0, max=2000), HTML(value='')))"
      ]
     },
     "metadata": {},
     "output_type": "display_data"
    },
    {
     "name": "stdout",
     "output_type": "stream",
     "text": [
      "the end\n",
      "Completed epoch5\n"
     ]
    },
    {
     "data": {
      "application/vnd.jupyter.widget-view+json": {
       "model_id": "3a56aa7c4f474bcc9892d0a0777bdb1c",
       "version_major": 2,
       "version_minor": 0
      },
      "text/plain": [
       "HBox(children=(IntProgress(value=0, max=2000), HTML(value='')))"
      ]
     },
     "metadata": {},
     "output_type": "display_data"
    },
    {
     "name": "stdout",
     "output_type": "stream",
     "text": [
      "\n",
      "Completed epoch6\n"
     ]
    },
    {
     "data": {
      "application/vnd.jupyter.widget-view+json": {
       "model_id": "a0c43d2984cc47cebfe36b3c44fa2eef",
       "version_major": 2,
       "version_minor": 0
      },
      "text/plain": [
       "HBox(children=(IntProgress(value=0, max=2000), HTML(value='')))"
      ]
     },
     "metadata": {},
     "output_type": "display_data"
    },
    {
     "name": "stdout",
     "output_type": "stream",
     "text": [
      "\n",
      "Completed epoch7\n"
     ]
    },
    {
     "data": {
      "application/vnd.jupyter.widget-view+json": {
       "model_id": "410ab8afeb264215ab2d9dd063a7f212",
       "version_major": 2,
       "version_minor": 0
      },
      "text/plain": [
       "HBox(children=(IntProgress(value=0, max=2000), HTML(value='')))"
      ]
     },
     "metadata": {},
     "output_type": "display_data"
    },
    {
     "name": "stdout",
     "output_type": "stream",
     "text": [
      "the end\n",
      "Completed epoch8\n"
     ]
    },
    {
     "data": {
      "application/vnd.jupyter.widget-view+json": {
       "model_id": "8e4719dfe9ae4701a90dae81564146ba",
       "version_major": 2,
       "version_minor": 0
      },
      "text/plain": [
       "HBox(children=(IntProgress(value=0, max=2000), HTML(value='')))"
      ]
     },
     "metadata": {},
     "output_type": "display_data"
    },
    {
     "name": "stdout",
     "output_type": "stream",
     "text": [
      "the end\n",
      "Completed epoch9\n"
     ]
    },
    {
     "data": {
      "application/vnd.jupyter.widget-view+json": {
       "model_id": "141fe221e57a4775965cc7c08a130765",
       "version_major": 2,
       "version_minor": 0
      },
      "text/plain": [
       "HBox(children=(IntProgress(value=0, max=2000), HTML(value='')))"
      ]
     },
     "metadata": {},
     "output_type": "display_data"
    },
    {
     "name": "stdout",
     "output_type": "stream",
     "text": [
      "the end\n",
      "Completed epoch10\n"
     ]
    },
    {
     "data": {
      "application/vnd.jupyter.widget-view+json": {
       "model_id": "5d69bfcb06d045bf8219dc6345d6506d",
       "version_major": 2,
       "version_minor": 0
      },
      "text/plain": [
       "HBox(children=(IntProgress(value=0, max=2000), HTML(value='')))"
      ]
     },
     "metadata": {},
     "output_type": "display_data"
    },
    {
     "name": "stdout",
     "output_type": "stream",
     "text": [
      "\n",
      "Completed epoch11\n"
     ]
    },
    {
     "data": {
      "application/vnd.jupyter.widget-view+json": {
       "model_id": "6ff0230233a44138b36a68acd242f411",
       "version_major": 2,
       "version_minor": 0
      },
      "text/plain": [
       "HBox(children=(IntProgress(value=0, max=2000), HTML(value='')))"
      ]
     },
     "metadata": {},
     "output_type": "display_data"
    },
    {
     "name": "stdout",
     "output_type": "stream",
     "text": [
      "the end\n",
      "Completed epoch12\n"
     ]
    },
    {
     "data": {
      "application/vnd.jupyter.widget-view+json": {
       "model_id": "963eb05c268f4b2c866aeaf4f920c95a",
       "version_major": 2,
       "version_minor": 0
      },
      "text/plain": [
       "HBox(children=(IntProgress(value=0, max=2000), HTML(value='')))"
      ]
     },
     "metadata": {},
     "output_type": "display_data"
    },
    {
     "name": "stdout",
     "output_type": "stream",
     "text": [
      "\n",
      "Completed epoch13\n"
     ]
    },
    {
     "data": {
      "application/vnd.jupyter.widget-view+json": {
       "model_id": "9986e20b5a65436d9d6f0433936faa24",
       "version_major": 2,
       "version_minor": 0
      },
      "text/plain": [
       "HBox(children=(IntProgress(value=0, max=2000), HTML(value='')))"
      ]
     },
     "metadata": {},
     "output_type": "display_data"
    },
    {
     "name": "stdout",
     "output_type": "stream",
     "text": [
      "\n",
      "Completed epoch14\n"
     ]
    },
    {
     "data": {
      "application/vnd.jupyter.widget-view+json": {
       "model_id": "4b3a587466ae43e28011ceeab59fd5e9",
       "version_major": 2,
       "version_minor": 0
      },
      "text/plain": [
       "HBox(children=(IntProgress(value=0, max=2000), HTML(value='')))"
      ]
     },
     "metadata": {},
     "output_type": "display_data"
    },
    {
     "name": "stdout",
     "output_type": "stream",
     "text": [
      "\n",
      "Completed epoch15\n"
     ]
    },
    {
     "data": {
      "application/vnd.jupyter.widget-view+json": {
       "model_id": "2ad5ff4f2ac04605be6434bcdf18b094",
       "version_major": 2,
       "version_minor": 0
      },
      "text/plain": [
       "HBox(children=(IntProgress(value=0, max=2000), HTML(value='')))"
      ]
     },
     "metadata": {},
     "output_type": "display_data"
    },
    {
     "name": "stdout",
     "output_type": "stream",
     "text": [
      "the end\n",
      "Completed epoch16\n"
     ]
    },
    {
     "data": {
      "application/vnd.jupyter.widget-view+json": {
       "model_id": "6cd563f5223149bab37dfb4389731ba1",
       "version_major": 2,
       "version_minor": 0
      },
      "text/plain": [
       "HBox(children=(IntProgress(value=0, max=2000), HTML(value='')))"
      ]
     },
     "metadata": {},
     "output_type": "display_data"
    },
    {
     "name": "stdout",
     "output_type": "stream",
     "text": [
      "\n",
      "Completed epoch17\n"
     ]
    },
    {
     "data": {
      "application/vnd.jupyter.widget-view+json": {
       "model_id": "382aab7f6ba5419d94876886a3b7d764",
       "version_major": 2,
       "version_minor": 0
      },
      "text/plain": [
       "HBox(children=(IntProgress(value=0, max=2000), HTML(value='')))"
      ]
     },
     "metadata": {},
     "output_type": "display_data"
    },
    {
     "name": "stdout",
     "output_type": "stream",
     "text": [
      "\n",
      "Completed epoch18\n"
     ]
    },
    {
     "data": {
      "application/vnd.jupyter.widget-view+json": {
       "model_id": "2785ff1fe6a74de68829c762aea8eb40",
       "version_major": 2,
       "version_minor": 0
      },
      "text/plain": [
       "HBox(children=(IntProgress(value=0, max=2000), HTML(value='')))"
      ]
     },
     "metadata": {},
     "output_type": "display_data"
    },
    {
     "name": "stdout",
     "output_type": "stream",
     "text": [
      "the end\n",
      "Completed epoch19\n"
     ]
    },
    {
     "data": {
      "application/vnd.jupyter.widget-view+json": {
       "model_id": "d258c731e44f498dbf46dd1069ec9425",
       "version_major": 2,
       "version_minor": 0
      },
      "text/plain": [
       "HBox(children=(IntProgress(value=0, max=2000), HTML(value='')))"
      ]
     },
     "metadata": {},
     "output_type": "display_data"
    },
    {
     "name": "stdout",
     "output_type": "stream",
     "text": [
      "\n",
      "Completed epoch20\n"
     ]
    },
    {
     "data": {
      "application/vnd.jupyter.widget-view+json": {
       "model_id": "d8c34f53eff64093b30a6d11f949136c",
       "version_major": 2,
       "version_minor": 0
      },
      "text/plain": [
       "HBox(children=(IntProgress(value=0, max=2000), HTML(value='')))"
      ]
     },
     "metadata": {},
     "output_type": "display_data"
    },
    {
     "name": "stdout",
     "output_type": "stream",
     "text": [
      "the end\n",
      "Completed epoch21\n"
     ]
    },
    {
     "data": {
      "application/vnd.jupyter.widget-view+json": {
       "model_id": "96d38925fe864fefa549b8f8460b350f",
       "version_major": 2,
       "version_minor": 0
      },
      "text/plain": [
       "HBox(children=(IntProgress(value=0, max=2000), HTML(value='')))"
      ]
     },
     "metadata": {},
     "output_type": "display_data"
    },
    {
     "name": "stdout",
     "output_type": "stream",
     "text": [
      "\n",
      "Completed epoch22\n"
     ]
    },
    {
     "data": {
      "application/vnd.jupyter.widget-view+json": {
       "model_id": "badc319ecc4f42ce956863cf76511744",
       "version_major": 2,
       "version_minor": 0
      },
      "text/plain": [
       "HBox(children=(IntProgress(value=0, max=2000), HTML(value='')))"
      ]
     },
     "metadata": {},
     "output_type": "display_data"
    },
    {
     "name": "stdout",
     "output_type": "stream",
     "text": [
      "\n",
      "Completed epoch23\n"
     ]
    },
    {
     "data": {
      "application/vnd.jupyter.widget-view+json": {
       "model_id": "f07da54d6f644d64a7156707019bd276",
       "version_major": 2,
       "version_minor": 0
      },
      "text/plain": [
       "HBox(children=(IntProgress(value=0, max=2000), HTML(value='')))"
      ]
     },
     "metadata": {},
     "output_type": "display_data"
    },
    {
     "name": "stdout",
     "output_type": "stream",
     "text": [
      "\n",
      "Completed epoch24\n"
     ]
    },
    {
     "data": {
      "application/vnd.jupyter.widget-view+json": {
       "model_id": "38d4b9f9d2f54b259e9f5abc60db7bd7",
       "version_major": 2,
       "version_minor": 0
      },
      "text/plain": [
       "HBox(children=(IntProgress(value=0, max=2000), HTML(value='')))"
      ]
     },
     "metadata": {},
     "output_type": "display_data"
    },
    {
     "name": "stdout",
     "output_type": "stream",
     "text": [
      "\n",
      "Completed epoch25\n"
     ]
    },
    {
     "data": {
      "application/vnd.jupyter.widget-view+json": {
       "model_id": "76759ebd8073428c92141703208249a5",
       "version_major": 2,
       "version_minor": 0
      },
      "text/plain": [
       "HBox(children=(IntProgress(value=0, max=2000), HTML(value='')))"
      ]
     },
     "metadata": {},
     "output_type": "display_data"
    },
    {
     "name": "stdout",
     "output_type": "stream",
     "text": [
      "the end\n",
      "Completed epoch26\n"
     ]
    },
    {
     "data": {
      "application/vnd.jupyter.widget-view+json": {
       "model_id": "99b3cbc7837d435ea056ec1908df93a3",
       "version_major": 2,
       "version_minor": 0
      },
      "text/plain": [
       "HBox(children=(IntProgress(value=0, max=2000), HTML(value='')))"
      ]
     },
     "metadata": {},
     "output_type": "display_data"
    },
    {
     "name": "stdout",
     "output_type": "stream",
     "text": [
      "the end\n",
      "Completed epoch27\n"
     ]
    },
    {
     "data": {
      "application/vnd.jupyter.widget-view+json": {
       "model_id": "fd62db4b075346a287e1dfa4f34c2eee",
       "version_major": 2,
       "version_minor": 0
      },
      "text/plain": [
       "HBox(children=(IntProgress(value=0, max=2000), HTML(value='')))"
      ]
     },
     "metadata": {},
     "output_type": "display_data"
    },
    {
     "name": "stdout",
     "output_type": "stream",
     "text": [
      "the end\n",
      "Completed epoch28\n"
     ]
    },
    {
     "data": {
      "application/vnd.jupyter.widget-view+json": {
       "model_id": "2e06ba5a9d854fe496dc74ef318a1983",
       "version_major": 2,
       "version_minor": 0
      },
      "text/plain": [
       "HBox(children=(IntProgress(value=0, max=2000), HTML(value='')))"
      ]
     },
     "metadata": {},
     "output_type": "display_data"
    },
    {
     "name": "stdout",
     "output_type": "stream",
     "text": [
      "the end\n",
      "Completed epoch29\n"
     ]
    }
   ],
   "source": [
    "files = 'data/MSFT.csv'\n",
    "env = create_stock_env(files)\n",
    "epochs = 30\n",
    "steps_per_epoch = 2000\n",
    "profits = np.zeros((epochs, steps_per_epoch+1))\n",
    "balances = np.zeros((epochs, steps_per_epoch+1))\n",
    "shares = np.zeros((epochs, steps_per_epoch+1))\n",
    "actions = np.zeros((epochs, steps_per_epoch+1))\n",
    "train(agent, env, epochs, profits, balances, shares, actions, steps_per_epoch)"
   ]
  },
  {
   "cell_type": "code",
   "execution_count": 46,
   "metadata": {},
   "outputs": [
    {
     "data": {
      "image/png": "[encoded data removed]",
      "text/plain": [
       "<Figure size 432x288 with 1 Axes>"
      ]
     },
     "metadata": {
      "needs_background": "light"
     },
     "output_type": "display_data"
    }
   ],
   "source": [
    "for _ in range(20, 30):\n",
    "    plt.plot(profits[_])\n",
    "\n",
    "plt.legend(list(range(10)))\n",
    "plt.show()"
   ]
  },
  {
   "cell_type": "code",
   "execution_count": 47,
   "metadata": {},
   "outputs": [],
   "source": [
    "def test(values, env, agent):\n",
    "    num = len(values)\n",
    "    max_steps = env.max_steps\n",
    "    profitst = np.zeros((num, max_steps+1))\n",
    "    pricest = np.zeros((num, max_steps+1))\n",
    "    balancest = np.zeros((num, max_steps + 1))\n",
    "    sharest = np.zeros((num, max_steps+1))\n",
    "    actionst = np.zeros((num, max_steps+1))\n",
    "    worthst = np.zeros((num, max_steps+1))\n",
    "    for count, val in enumerate(values):\n",
    "        profit = 0\n",
    "        profitst[count][0] = profit\n",
    "        observation, info = env.reset(initial_balance = val, shares_held=0)\n",
    "        balancest[count][0] = info['balance']\n",
    "        print(info['balance'])\n",
    "        scale = val/info[\"current_price\"]\n",
    "        pricest[count][0] = scale*info[\"current_price\"]\n",
    "        sharest[count][0] = info['shares_held']\n",
    "        worthst[count][0] = info['net_worth']\n",
    "        print(info['shares_held'])\n",
    "        action = agent.agent_start(observation)\n",
    "        actionst[count][0] = action\n",
    "\n",
    "        for i in tqdm_notebook(range(max_steps)):\n",
    "            observation, reward, done, info = env.step(action)\n",
    "            profit += reward\n",
    "            profitst[count][i+1] = profit\n",
    "            balancest[count][i+1] = info['balance']\n",
    "            pricest[count][i+1] = scale*info[\"current_price\"]\n",
    "            sharest[count][i+1] = info['shares_held']\n",
    "            worthst[count][i+1] = info['net_worth']\n",
    "            if done:\n",
    "                print (\"ober\")\n",
    "                break\n",
    "            action = agent.agent_step(reward, observation)\n",
    "            actionst[count][i+1] = action\n",
    "              \n",
    "        print('Completed' + str(count) + 'values')\n",
    "\n",
    "    print(env.net_worth)\n",
    "    print(env.balance)\n",
    "    print(env.shares_held)\n",
    "    return profitst, balancest, sharest, actionst, worthst, pricest\n"
   ]
  },
  {
   "cell_type": "code",
   "execution_count": 48,
   "metadata": {},
   "outputs": [
    {
     "name": "stdout",
     "output_type": "stream",
     "text": [
      "10000\n",
      "0\n"
     ]
    },
    {
     "data": {
      "application/vnd.jupyter.widget-view+json": {
       "model_id": "a7f5332c20d44351a67f8fddf34fcff0",
       "version_major": 2,
       "version_minor": 0
      },
      "text/plain": [
       "HBox(children=(IntProgress(value=0, max=5354), HTML(value='')))"
      ]
     },
     "metadata": {},
     "output_type": "display_data"
    },
    {
     "name": "stdout",
     "output_type": "stream",
     "text": [
      "ober\n",
      "Completed0values\n",
      "14853.608814293202\n",
      "14722.708876441891\n",
      "1\n"
     ]
    }
   ],
   "source": [
    "env = create_stock_env(\"data/MSFT.csv\", train = False)\n",
    "optimizer = tf.keras.optimizers.Adam(learning_rate = 0.001)\n",
    "params = {\"state_dimensions\":6, \"decay\":0.995, \"batch_size\":32, \"merge_frequency\": 10000, \"replay_length\":10, \"min_epsilon\": 0.1, \"save_frequency\": 5000, \"discount\": 0.95,  \"actions\": 20, \"optimizer\": optimizer, \n",
    "          \"memory\": 70000}\n",
    "agent = Agent(params, resume = True, train = False)\n",
    "values = [10000]\n",
    "profitst, balancest, sharest, actionst, worthst, pricest = test(values, env, agent)"
   ]
  },
  {
   "cell_type": "code",
   "execution_count": 49,
   "metadata": {},
   "outputs": [
    {
     "data": {
      "image/png": "[encoded data removed]",
      "text/plain": [
       "<Figure size 432x288 with 1 Axes>"
      ]
     },
     "metadata": {
      "needs_background": "light"
     },
     "output_type": "display_data"
    }
   ],
   "source": [
    "for i in range(1):\n",
    "    plt.plot(worthst[i])\n",
    "    plt.plot(pricest[i])\n",
    "\n",
    "plt.legend([\"agent\", \"hoard\"])\n",
    "plt.show()"
   ]
  },
  {
   "cell_type": "code",
   "execution_count": null,
   "metadata": {},
   "outputs": [],
   "source": [
    "class WebInterface:\n",
    "    def __init__(self, location, train=False, percentage=80, steps=2000, epochs=10):\n",
    "        #percentage refers to percentage of dataframe that will be used for training\n",
    "        split = percentage/100\n",
    "        self.steps = steps\n",
    "        self.epochs = epochs\n",
    "        self.train = train\n",
    "        optimizer = tf.keras.optimizers.Adam(learning_rate = 0.001)\n",
    "        params = {\"state_dimensions\":6, \"decay\":0.995, \"batch_size\":32, \"merge_frequency\": 10000, \"replay_length\":10, \"min_epsilon\": 0.1, \"save_frequency\": 5000, \"discount\": 0.95,  \"actions\": 20, \"optimizer\": optimizer, \n",
    "                  \"memory\": 70000}\n",
    "        self.agent = Agent(params, resume=True)\n",
    "        if train:\n",
    "            self.train_env = create_stock_env(location, train, split)\n",
    "            self.test_env = create_stock_env(location, False, split)\n",
    "        else:\n",
    "            self.test_env = create_stock_env(location, False, 1)\n",
    "        \n",
    "    def train(self):\n",
    "        if not self.train:\n",
    "            raise Exception(\"Training is not supported on non training interfaces\")\n",
    "        self.agent.training = True\n",
    "        \n",
    "        profits = np.zeros((self.epochs, self.steps+1))\n",
    "        balances = np.zeros((self.epochs, self.steps+1))\n",
    "        shares = np.zeros((self.epochs, self.steps+1))\n",
    "        actions = np.zeros((self.epochs, self.steps+1))\n",
    "        train(self.agent, self.train_env, self.epochs, profits, balances, shares, actions, self.steps)\n",
    "        \n",
    "        return profits, balances, shares, actions\n",
    "    \n",
    "    def test(self, balances):\n",
    "        self.agent.training = False\n",
    "        return test(balances, self.test_env, self.agent)"
   ]
  }
 ],
 "metadata": {
  "kernelspec": {
   "display_name": "Python 3",
   "language": "python",
   "name": "python3"
  },
  "language_info": {
   "codemirror_mode": {
    "name": "ipython",
    "version": 3
   },
   "file_extension": ".py",
   "mimetype": "text/x-python",
   "name": "python",
   "nbconvert_exporter": "python",
   "pygments_lexer": "ipython3",
   "version": "3.7.4"
  }
 },
 "nbformat": 4,
 "nbformat_minor": 2
}
