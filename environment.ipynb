{
 "cells": [
  {
   "cell_type": "markdown",
   "metadata": {},
   "source": [
    "# Environment Setup"
   ]
  },
  {
   "cell_type": "markdown",
   "metadata": {},
   "source": [
    "Import libraries"
   ]
  },
  {
   "cell_type": "code",
   "execution_count": 6,
   "metadata": {},
   "outputs": [],
   "source": [
    "import gym\n",
    "from gym import spaces\n",
    "import numpy as np\n",
    "import pandas as pd"
   ]
  },
  {
   "cell_type": "markdown",
   "metadata": {},
   "source": [
    "Global variables"
   ]
  },
  {
   "cell_type": "code",
   "execution_count": 7,
   "metadata": {},
   "outputs": [],
   "source": [
    "MAX_Money = 1000000"
   ]
  },
  {
   "cell_type": "markdown",
   "metadata": {},
   "source": [
    "Environment Class\n",
    "The action is the amount of shares to be sold/bought.(positive for buy, negative for sell)\n",
    "The state space will contain open,high,low,close,volume divided by the highest price.\n",
    "Info will have the balance, highest price, current price(the price at which the previous action was taken), time stamp, shares with us, maximum worth till now, minimum brokerage and brokerage rate."
   ]
  },
  {
   "cell_type": "code",
   "execution_count": 10,
   "metadata": {},
   "outputs": [],
   "source": [
    "class StockEnv(gym.Env):\n",
    "    metadata = {'render.modes': ['human']}\n",
    "    \n",
    "    def __init__(self,df,**kwargs):\n",
    "        super(StockEnv,self).__init__()\n",
    "        \n",
    "        self.MAX_shares = 1000\n",
    "        self.Min_Brokerage = 30\n",
    "        self.Brokerage_rate = 0.001\n",
    "        \n",
    "        if \"Balance\" in kwargs.keys:\n",
    "            Max_Money = kwargs[\"Balance\"]\n",
    "        if \"Max_Shares\" in kwargs.keys:\n",
    "            self.Max_shares = kwargs[\"Shares\"]\n",
    "        if \"Broke_limit\" in kwargs.keys:\n",
    "            self.Min_Brokerage = kwargs[\"Broke_limit\"]\n",
    "        if \"Broke_rate\" in kwargs.keys:\n",
    "            self.Brokerage_rate = kwargs[\"Broke_rate\"]\n",
    "        \n",
    "        self.df = df\n",
    "        self.action_space = space.Discrete(2*self.MAX_shares+1)\n",
    "        self.observation_space = space.Box(low=np.array([0,0,0,0,0]),high=np.array([1,1,1,1,1]),dtype=float16)\n",
    "    \n",
    "    def _get_price(self):\n",
    "        return np.random.uniform(self.df.loc[self.current_step,\"Open\"],self.df.loc[self.current_step,\"Close\"])\n",
    "    \n",
    "    def _observe(self):\n",
    "        frame = np.array([self.df.loc[self.current_step,'Open'],self.df.loc[self.current_step,'High'],self.df.loc[self.current_step,'Low'],self.df.loc[self.current_step,'Close'],self.df.loc[self.current_step,'Volume'] ])\n",
    "        frame = frame / self.highest_price\n",
    "        info = {\n",
    "            'balance' : self.balance,\n",
    "            'highest_price': self.highest_price,\n",
    "            'current_price': self.current_price,\n",
    "            'time': self.df.loc[self.current_step,'time_stamp'],\n",
    "            'shares_held': self.shares_held,\n",
    "            'max_worth': self.max_worth,\n",
    "            'broke_limit': self.Min_Brokerage,\n",
    "            'broke_rate': self.Brokerage_rate\n",
    "        }\n",
    "        \n",
    "        return frame, info\n",
    "        \n",
    "    def reset(self,balance = MAX_Money,initial_shares = 0):\n",
    "        self.current_step = np.random.randint(0,len(self.df.loc[:,'Open'].values)-1)\n",
    "        self.balance = balance\n",
    "        self.shares_held = initial_shares\n",
    "        self.current_price = self._get_price() \n",
    "        self.net_worth = self.balance + initial_shares*self.current_price\n",
    "        self.initial_worth = self.net_worth\n",
    "        self.max_net_worth = self.net_worth\n",
    "        self.highest_price = self.current_price\n",
    "        return _observe(self)\n",
    "    \n",
    "    def _broke(self,amount):\n",
    "        return max(amount * self.Brokerage_rate,self.Min_Brokerage)\n",
    "    \n",
    "    def _take_action(self,action):\n",
    "        self.current_price = self._get_price()\n",
    "        self.highest_price = max(self.highest_price,self.current_price)\n",
    "        if action < 0:\n",
    "            # sell\n",
    "            action = -1*action\n",
    "            if action > share_held:\n",
    "                action = share_held\n",
    "            amount_gained = action*current_price\n",
    "            broke = self._broke(amount_gained)\n",
    "            amount_gained -= broke\n",
    "            if self.balance + amount_gained < 0:\n",
    "                a1 = np.floor(self.balance/((self.Brokerage_rate-1)*self.current_price))\n",
    "                action = np.floor(-(self.balance-self.Min_Brokerage)/self.current_price)\n",
    "                if _broke(a1*self.current_price) == a1*self.current_price*self.Brokerage_rate:\n",
    "                    action = max(a1,action)\n",
    "                action = max(action,0)\n",
    "                amount_gained = action*self.current_price\n",
    "                amount_gained -= self._broke(amount_gained)\n",
    "            balance +=amount_gained\n",
    "            share_held = share_held-action\n",
    "        elif action>0:\n",
    "            #buy\n",
    "            amount_required = self.current_price*action + self._broke(self.current_price*action)\n",
    "            if amount_required > self.balance:\n",
    "                a1 = np.floor(self.balance/((self.Brokerage_rate+1)*self.current_price))\n",
    "                action = np.floor((self.balance-self.Min_Brokerage)/self.current_price)\n",
    "                if _broke(a1*self.current_price) == a1*self.current_price*self.Brokerage_rate:\n",
    "                    action = max(a1,action)\n",
    "                action = max(action,0)\n",
    "                amount_required = action*self.current_price\n",
    "                amount_required -= self._broke(amount_required)\n",
    "            balance -= amount_required\n",
    "            shared_held += action\n",
    "        reward = self.balance + self.share_held * self.current_price - self.net_worth\n",
    "        self.net_worth = self.balance + self.share_held * self.current_price\n",
    "        if self.net_worth > self.max_net_worth:\n",
    "            self.max_net_worth = self.net_worth\n",
    "        return reward\n",
    "            \n",
    "    def step(self,action):\n",
    "        reward = self._take_action(action)\n",
    "        self.current_step+=1\n",
    "        if self.current_step > len(self.df.loc[:,'Open'].values)-1:\n",
    "            self.current_step = 0\n",
    "        \n",
    "        done = self.net_worth<=0\n",
    "        obs, info = self._observe()\n",
    "        \n",
    "        return obs, reward, done, info\n",
    "    \n",
    "    def render(self, mode='human', close = False):\n",
    "        profit = self.net_worth - self.initial_worth\n",
    "        print(f'Step: {self.current_step}')\n",
    "        print(f'Balance: {self.balance}')\n",
    "        print(f'Shares hold: {self.share_held}')\n",
    "        print(f'Net Worth:{self.net_worth}')\n",
    "        print(f'Profit: {profit}')"
   ]
  },
  {
   "cell_type": "code",
   "execution_count": null,
   "metadata": {},
   "outputs": [],
   "source": []
  }
 ],
 "metadata": {
  "kernelspec": {
   "display_name": "Python 3",
   "language": "python",
   "name": "python3"
  },
  "language_info": {
   "codemirror_mode": {
    "name": "ipython",
    "version": 3
   },
   "file_extension": ".py",
   "mimetype": "text/x-python",
   "name": "python",
   "nbconvert_exporter": "python",
   "pygments_lexer": "ipython3",
   "version": "3.7.7"
  }
 },
 "nbformat": 4,
 "nbformat_minor": 4
}
