{
 "cells": [
  {
   "cell_type": "code",
   "execution_count": 58,
   "metadata": {},
   "outputs": [
    {
     "name": "stdout",
     "output_type": "stream",
     "text": [
      "Requirement already satisfied: pandas_datareader in /home/harshit/anaconda3/envs/my_env/lib/python3.7/site-packages (0.8.1)\n",
      "Requirement already satisfied: pandas>=0.21 in /home/harshit/anaconda3/envs/my_env/lib/python3.7/site-packages (from pandas_datareader) (1.0.3)\n",
      "Requirement already satisfied: requests>=2.3.0 in /home/harshit/anaconda3/envs/my_env/lib/python3.7/site-packages (from pandas_datareader) (2.23.0)\n",
      "Requirement already satisfied: lxml in /home/harshit/anaconda3/envs/my_env/lib/python3.7/site-packages (from pandas_datareader) (4.5.1)\n",
      "Requirement already satisfied: numpy>=1.13.3 in /home/harshit/anaconda3/envs/my_env/lib/python3.7/site-packages (from pandas>=0.21->pandas_datareader) (1.18.1)\n",
      "Requirement already satisfied: python-dateutil>=2.6.1 in /home/harshit/anaconda3/envs/my_env/lib/python3.7/site-packages (from pandas>=0.21->pandas_datareader) (2.8.1)\n",
      "Requirement already satisfied: pytz>=2017.2 in /home/harshit/.local/lib/python3.7/site-packages (from pandas>=0.21->pandas_datareader) (2019.3)\n",
      "Requirement already satisfied: idna<3,>=2.5 in /home/harshit/anaconda3/envs/my_env/lib/python3.7/site-packages (from requests>=2.3.0->pandas_datareader) (2.9)\n",
      "Requirement already satisfied: certifi>=2017.4.17 in /home/harshit/anaconda3/envs/my_env/lib/python3.7/site-packages (from requests>=2.3.0->pandas_datareader) (2020.4.5.1)\n",
      "Requirement already satisfied: chardet<4,>=3.0.2 in /home/harshit/anaconda3/envs/my_env/lib/python3.7/site-packages (from requests>=2.3.0->pandas_datareader) (3.0.4)\n",
      "Requirement already satisfied: urllib3!=1.25.0,!=1.25.1,<1.26,>=1.21.1 in /home/harshit/anaconda3/envs/my_env/lib/python3.7/site-packages (from requests>=2.3.0->pandas_datareader) (1.25.9)\n",
      "Requirement already satisfied: six>=1.5 in /home/harshit/anaconda3/envs/my_env/lib/python3.7/site-packages (from python-dateutil>=2.6.1->pandas>=0.21->pandas_datareader) (1.14.0)\n",
      "Requirement already satisfied: quandl in /home/harshit/anaconda3/envs/my_env/lib/python3.7/site-packages (3.5.0)\n",
      "Requirement already satisfied: pandas>=0.14 in /home/harshit/anaconda3/envs/my_env/lib/python3.7/site-packages (from quandl) (1.0.3)\n",
      "Requirement already satisfied: python-dateutil in /home/harshit/anaconda3/envs/my_env/lib/python3.7/site-packages (from quandl) (2.8.1)\n",
      "Requirement already satisfied: six in /home/harshit/anaconda3/envs/my_env/lib/python3.7/site-packages (from quandl) (1.14.0)\n",
      "Requirement already satisfied: requests>=2.7.0 in /home/harshit/anaconda3/envs/my_env/lib/python3.7/site-packages (from quandl) (2.23.0)\n",
      "Requirement already satisfied: inflection>=0.3.1 in /home/harshit/anaconda3/envs/my_env/lib/python3.7/site-packages (from quandl) (0.5.0)\n",
      "Requirement already satisfied: numpy>=1.8 in /home/harshit/anaconda3/envs/my_env/lib/python3.7/site-packages (from quandl) (1.18.1)\n",
      "Requirement already satisfied: more-itertools in /home/harshit/anaconda3/envs/my_env/lib/python3.7/site-packages (from quandl) (8.3.0)\n",
      "Requirement already satisfied: pytz>=2017.2 in /home/harshit/.local/lib/python3.7/site-packages (from pandas>=0.14->quandl) (2019.3)\n",
      "Requirement already satisfied: urllib3!=1.25.0,!=1.25.1,<1.26,>=1.21.1 in /home/harshit/anaconda3/envs/my_env/lib/python3.7/site-packages (from requests>=2.7.0->quandl) (1.25.9)\n",
      "Requirement already satisfied: certifi>=2017.4.17 in /home/harshit/anaconda3/envs/my_env/lib/python3.7/site-packages (from requests>=2.7.0->quandl) (2020.4.5.1)\n",
      "Requirement already satisfied: idna<3,>=2.5 in /home/harshit/anaconda3/envs/my_env/lib/python3.7/site-packages (from requests>=2.7.0->quandl) (2.9)\n",
      "Requirement already satisfied: chardet<4,>=3.0.2 in /home/harshit/anaconda3/envs/my_env/lib/python3.7/site-packages (from requests>=2.7.0->quandl) (3.0.4)\n",
      "Requirement already satisfied: alpha_vantage in /home/harshit/anaconda3/envs/my_env/lib/python3.7/site-packages (2.2.0)\n",
      "Requirement already satisfied: aiohttp in /home/harshit/anaconda3/envs/my_env/lib/python3.7/site-packages (from alpha_vantage) (3.6.2)\n",
      "Requirement already satisfied: requests in /home/harshit/anaconda3/envs/my_env/lib/python3.7/site-packages (from alpha_vantage) (2.23.0)\n",
      "Requirement already satisfied: chardet<4.0,>=2.0 in /home/harshit/anaconda3/envs/my_env/lib/python3.7/site-packages (from aiohttp->alpha_vantage) (3.0.4)\n",
      "Requirement already satisfied: attrs>=17.3.0 in /home/harshit/anaconda3/envs/my_env/lib/python3.7/site-packages (from aiohttp->alpha_vantage) (19.3.0)\n",
      "Requirement already satisfied: multidict<5.0,>=4.5 in /home/harshit/anaconda3/envs/my_env/lib/python3.7/site-packages (from aiohttp->alpha_vantage) (4.7.6)\n",
      "Requirement already satisfied: async-timeout<4.0,>=3.0 in /home/harshit/anaconda3/envs/my_env/lib/python3.7/site-packages (from aiohttp->alpha_vantage) (3.0.1)\n",
      "Requirement already satisfied: yarl<2.0,>=1.0 in /home/harshit/anaconda3/envs/my_env/lib/python3.7/site-packages (from aiohttp->alpha_vantage) (1.4.2)\n",
      "Requirement already satisfied: idna<3,>=2.5 in /home/harshit/anaconda3/envs/my_env/lib/python3.7/site-packages (from requests->alpha_vantage) (2.9)\n",
      "Requirement already satisfied: urllib3!=1.25.0,!=1.25.1,<1.26,>=1.21.1 in /home/harshit/anaconda3/envs/my_env/lib/python3.7/site-packages (from requests->alpha_vantage) (1.25.9)\n",
      "Requirement already satisfied: certifi>=2017.4.17 in /home/harshit/anaconda3/envs/my_env/lib/python3.7/site-packages (from requests->alpha_vantage) (2020.4.5.1)\n",
      "Requirement already satisfied: yfinance in /home/harshit/anaconda3/envs/my_env/lib/python3.7/site-packages (0.1.54)\n",
      "Requirement already satisfied: requests>=2.20 in /home/harshit/anaconda3/envs/my_env/lib/python3.7/site-packages (from yfinance) (2.23.0)\n",
      "Requirement already satisfied: numpy>=1.15 in /home/harshit/anaconda3/envs/my_env/lib/python3.7/site-packages (from yfinance) (1.18.1)\n",
      "Requirement already satisfied: multitasking>=0.0.7 in /home/harshit/anaconda3/envs/my_env/lib/python3.7/site-packages (from yfinance) (0.0.9)\n",
      "Requirement already satisfied: pandas>=0.24 in /home/harshit/anaconda3/envs/my_env/lib/python3.7/site-packages (from yfinance) (1.0.3)\n",
      "Requirement already satisfied: certifi>=2017.4.17 in /home/harshit/anaconda3/envs/my_env/lib/python3.7/site-packages (from requests>=2.20->yfinance) (2020.4.5.1)\n",
      "Requirement already satisfied: chardet<4,>=3.0.2 in /home/harshit/anaconda3/envs/my_env/lib/python3.7/site-packages (from requests>=2.20->yfinance) (3.0.4)\n",
      "Requirement already satisfied: urllib3!=1.25.0,!=1.25.1,<1.26,>=1.21.1 in /home/harshit/anaconda3/envs/my_env/lib/python3.7/site-packages (from requests>=2.20->yfinance) (1.25.9)\n",
      "Requirement already satisfied: idna<3,>=2.5 in /home/harshit/anaconda3/envs/my_env/lib/python3.7/site-packages (from requests>=2.20->yfinance) (2.9)\n",
      "Requirement already satisfied: pytz>=2017.2 in /home/harshit/.local/lib/python3.7/site-packages (from pandas>=0.24->yfinance) (2019.3)\n",
      "Requirement already satisfied: python-dateutil>=2.6.1 in /home/harshit/anaconda3/envs/my_env/lib/python3.7/site-packages (from pandas>=0.24->yfinance) (2.8.1)\n",
      "Requirement already satisfied: six>=1.5 in /home/harshit/anaconda3/envs/my_env/lib/python3.7/site-packages (from python-dateutil>=2.6.1->pandas>=0.24->yfinance) (1.14.0)\n"
     ]
    }
   ],
   "source": [
    "!pip install pandas_datareader\n",
    "!pip install quandl\n",
    "!pip install alpha_vantage\n",
    "!pip install yfinance"
   ]
  },
  {
   "cell_type": "code",
   "execution_count": 59,
   "metadata": {},
   "outputs": [],
   "source": [
    "%matplotlib inline\n",
    "import pandas as pd\n",
    "from pandas_datareader import data\n",
    "import matplotlib.pyplot as plt\n",
    "import quandl\n",
    "import yfinance as yf\n",
    "from urllib.request import urlopen\n",
    "import json\n",
    "import requests\n",
    "from alpha_vantage.timeseries import TimeSeries"
   ]
  },
  {
   "cell_type": "markdown",
   "metadata": {},
   "source": [
    "## Historical Data\n",
    "\n",
    "Fetch historical data - 10 years for day-wise and 7 days for intraday."
   ]
  },
  {
   "cell_type": "code",
   "execution_count": 60,
   "metadata": {},
   "outputs": [],
   "source": [
    "#fetch data from the yahoo service\n",
    "def fetch_yahoo(start,end,ticker='AAPL'):\n",
    "    return data.get_data_yahoo(ticker,start,end)\n",
    "\n",
    "#fetch data from quandl. available only till 2018-03-27\n",
    "def fetch_quandl(start,end,ticker = 'AAPL'):\n",
    "    Qapi  = 'ayVQB8PSP8Q_J6rB1nzU'\n",
    "    return quandl.get('WIKI/'+ticker, start_date = start, end_date = end, api_key = Qapi)\n",
    "\n",
    "#fetch data from alpha vintage. Per minute data available \n",
    "def fetch_alpvantage(ticker = 'AAPL'):\n",
    "    AV_api = 'DL5FX58BUCJAXLSE'\n",
    "    ts = TimeSeries(key=AV_api, output_format='pandas')\n",
    "    intraday_data, data_info = ts.get_intraday(ticker, outputsize='full', interval='1min')\n",
    "    print(data_info)\n",
    "    return intraday_data\n",
    "\n",
    "def fetch_alpvantage_daily(ticker = 'AAPL'):\n",
    "    AV_api = 'DL5FX58BUCJAXLSE'\n",
    "    ts = TimeSeries(key=AV_api, output_format='pandas')\n",
    "    intraday_data, data_info = ts.get_daily(ticker, outputsize='full')\n",
    "    print(data_info)\n",
    "    return intraday_data\n",
    "\n",
    "#fetch data from yfinance. variable interval data and variable period\n",
    "def fetch_yfinance(ticker='AAPL',period='10y',interval='1m'):\n",
    "    return yf.download(tickers=ticker,period=period,interval=interval)"
   ]
  },
  {
   "cell_type": "code",
   "execution_count": 61,
   "metadata": {},
   "outputs": [],
   "source": [
    "start = '1980-01-01'\n",
    "end = '2020-06-06'\n",
    "ticker = 'AAPL'\n",
    "dataq = fetch_quandl(start,end,ticker=ticker)\n",
    "datay = fetch_yahoo(start,end,ticker=ticker)"
   ]
  },
  {
   "cell_type": "code",
   "execution_count": 62,
   "metadata": {},
   "outputs": [
    {
     "data": {
      "text/plain": [
       "<matplotlib.legend.Legend at 0x7fa2c15efad0>"
      ]
     },
     "execution_count": 62,
     "metadata": {},
     "output_type": "execute_result"
    },
    {
     "data": {
      "image/png": "[encoded data removed]",
      "text/plain": [
       "<Figure size 432x288 with 1 Axes>"
      ]
     },
     "metadata": {
      "needs_background": "light"
     },
     "output_type": "display_data"
    }
   ],
   "source": [
    "dataq['Open'].plot()\n",
    "plt.legend('quandl')"
   ]
  },
  {
   "cell_type": "code",
   "execution_count": 63,
   "metadata": {},
   "outputs": [
    {
     "data": {
      "text/plain": [
       "<matplotlib.legend.Legend at 0x7fa2c17a4d90>"
      ]
     },
     "execution_count": 63,
     "metadata": {},
     "output_type": "execute_result"
    },
    {
     "data": {
      "image/png": "[encoded data removed]",
      "text/plain": [
       "<Figure size 432x288 with 1 Axes>"
      ]
     },
     "metadata": {
      "needs_background": "light"
     },
     "output_type": "display_data"
    }
   ],
   "source": [
    "datay['Open'].plot()\n",
    "plt.legend('yahoo')"
   ]
  },
  {
   "cell_type": "code",
   "execution_count": 64,
   "metadata": {},
   "outputs": [
    {
     "name": "stdout",
     "output_type": "stream",
     "text": [
      "{'1. Information': 'Intraday (1min) open, high, low, close prices and volume', '2. Symbol': 'AAPL', '3. Last Refreshed': '2020-06-08 16:00:00', '4. Interval': '1min', '5. Output Size': 'Full size', '6. Time Zone': 'US/Eastern'}\n",
      "{'1. Information': 'Daily Prices (open, high, low, close) and Volumes', '2. Symbol': 'AAPL', '3. Last Refreshed': '2020-06-08', '4. Output Size': 'Full size', '5. Time Zone': 'US/Eastern'}\n"
     ]
    },
    {
     "data": {
      "text/plain": [
       "<matplotlib.axes._subplots.AxesSubplot at 0x7fa2c1bfa8d0>"
      ]
     },
     "execution_count": 64,
     "metadata": {},
     "output_type": "execute_result"
    },
    {
     "data": {
      "image/png": "[encoded data removed]",
      "text/plain": [
       "<Figure size 432x288 with 1 Axes>"
      ]
     },
     "metadata": {
      "needs_background": "light"
     },
     "output_type": "display_data"
    }
   ],
   "source": [
    "data_av = fetch_alpvantage('AAPL')\n",
    "dataav = fetch_alpvantage_daily('AAPL')\n",
    "dataav.plot()"
   ]
  },
  {
   "cell_type": "code",
   "execution_count": 65,
   "metadata": {
    "scrolled": false
   },
   "outputs": [
    {
     "data": {
      "text/plain": [
       "[<matplotlib.lines.Line2D at 0x7fa2c16abf10>,\n",
       " <matplotlib.lines.Line2D at 0x7fa2c16baf90>,\n",
       " <matplotlib.lines.Line2D at 0x7fa2c16bad10>,\n",
       " <matplotlib.lines.Line2D at 0x7fa2c16bab50>,\n",
       " <matplotlib.lines.Line2D at 0x7fa2c16ba990>]"
      ]
     },
     "execution_count": 65,
     "metadata": {},
     "output_type": "execute_result"
    },
    {
     "data": {
      "image/png": "[encoded data removed]",
      "text/plain": [
       "<Figure size 1080x720 with 1 Axes>"
      ]
     },
     "metadata": {
      "needs_background": "light"
     },
     "output_type": "display_data"
    }
   ],
   "source": [
    "plt.figure(figsize = [15,10])\n",
    "plt.grid()\n",
    "plt.plot(data_av)"
   ]
  },
  {
   "cell_type": "code",
   "execution_count": 66,
   "metadata": {},
   "outputs": [
    {
     "name": "stdout",
     "output_type": "stream",
     "text": [
      "[*********************100%***********************]  1 of 1 completed\n"
     ]
    },
    {
     "data": {
      "text/html": [
       "<div>\n",
       "<style scoped>\n",
       "    .dataframe tbody tr th:only-of-type {\n",
       "        vertical-align: middle;\n",
       "    }\n",
       "\n",
       "    .dataframe tbody tr th {\n",
       "        vertical-align: top;\n",
       "    }\n",
       "\n",
       "    .dataframe thead th {\n",
       "        text-align: right;\n",
       "    }\n",
       "</style>\n",
       "<table border=\"1\" class=\"dataframe\">\n",
       "  <thead>\n",
       "    <tr style=\"text-align: right;\">\n",
       "      <th></th>\n",
       "      <th>Open</th>\n",
       "      <th>High</th>\n",
       "      <th>Low</th>\n",
       "      <th>Close</th>\n",
       "      <th>Adj Close</th>\n",
       "      <th>Volume</th>\n",
       "    </tr>\n",
       "    <tr>\n",
       "      <th>Date</th>\n",
       "      <th></th>\n",
       "      <th></th>\n",
       "      <th></th>\n",
       "      <th></th>\n",
       "      <th></th>\n",
       "      <th></th>\n",
       "    </tr>\n",
       "  </thead>\n",
       "  <tbody>\n",
       "    <tr>\n",
       "      <th>1980-12-12</th>\n",
       "      <td>0.513393</td>\n",
       "      <td>0.515625</td>\n",
       "      <td>0.513393</td>\n",
       "      <td>0.513393</td>\n",
       "      <td>0.405683</td>\n",
       "      <td>117258400</td>\n",
       "    </tr>\n",
       "    <tr>\n",
       "      <th>1980-12-15</th>\n",
       "      <td>0.488839</td>\n",
       "      <td>0.488839</td>\n",
       "      <td>0.486607</td>\n",
       "      <td>0.486607</td>\n",
       "      <td>0.384517</td>\n",
       "      <td>43971200</td>\n",
       "    </tr>\n",
       "    <tr>\n",
       "      <th>1980-12-16</th>\n",
       "      <td>0.453125</td>\n",
       "      <td>0.453125</td>\n",
       "      <td>0.450893</td>\n",
       "      <td>0.450893</td>\n",
       "      <td>0.356296</td>\n",
       "      <td>26432000</td>\n",
       "    </tr>\n",
       "    <tr>\n",
       "      <th>1980-12-17</th>\n",
       "      <td>0.462054</td>\n",
       "      <td>0.464286</td>\n",
       "      <td>0.462054</td>\n",
       "      <td>0.462054</td>\n",
       "      <td>0.365115</td>\n",
       "      <td>21610400</td>\n",
       "    </tr>\n",
       "    <tr>\n",
       "      <th>1980-12-18</th>\n",
       "      <td>0.475446</td>\n",
       "      <td>0.477679</td>\n",
       "      <td>0.475446</td>\n",
       "      <td>0.475446</td>\n",
       "      <td>0.375698</td>\n",
       "      <td>18362400</td>\n",
       "    </tr>\n",
       "  </tbody>\n",
       "</table>\n",
       "</div>"
      ],
      "text/plain": [
       "                Open      High       Low     Close  Adj Close     Volume\n",
       "Date                                                                    \n",
       "1980-12-12  0.513393  0.515625  0.513393  0.513393   0.405683  117258400\n",
       "1980-12-15  0.488839  0.488839  0.486607  0.486607   0.384517   43971200\n",
       "1980-12-16  0.453125  0.453125  0.450893  0.450893   0.356296   26432000\n",
       "1980-12-17  0.462054  0.464286  0.462054  0.462054   0.365115   21610400\n",
       "1980-12-18  0.475446  0.477679  0.475446  0.475446   0.375698   18362400"
      ]
     },
     "execution_count": 66,
     "metadata": {},
     "output_type": "execute_result"
    }
   ],
   "source": [
    "datayf = fetch_yfinance(ticker=ticker,period='max',interval='1d')\n",
    "datayf.head()"
   ]
  },
  {
   "cell_type": "code",
   "execution_count": 67,
   "metadata": {},
   "outputs": [
    {
     "name": "stdout",
     "output_type": "stream",
     "text": [
      "Date\n",
      "1980-12-12      0.513393\n",
      "1980-12-15      0.488839\n",
      "1980-12-16      0.453125\n",
      "1980-12-17      0.462054\n",
      "1980-12-18      0.475446\n",
      "                 ...    \n",
      "2020-06-01    317.750000\n",
      "2020-06-02    320.750000\n",
      "2020-06-03    324.660004\n",
      "2020-06-04    324.390015\n",
      "2020-06-05    323.350006\n",
      "Name: Open, Length: 9954, dtype: float64\n",
      "Date\n",
      "1980-12-12      0.513393\n",
      "1980-12-15      0.488839\n",
      "1980-12-16      0.453125\n",
      "1980-12-17      0.462054\n",
      "1980-12-18      0.475446\n",
      "                 ...    \n",
      "2020-06-03    324.660004\n",
      "2020-06-04    324.390015\n",
      "2020-06-05    323.350006\n",
      "2020-06-08    330.250000\n",
      "2020-06-09    332.140015\n",
      "Name: Open, Length: 9956, dtype: float64\n",
      "Date\n",
      "1980-12-12     28.75\n",
      "1980-12-15     27.38\n",
      "1980-12-16     25.37\n",
      "1980-12-17     25.87\n",
      "1980-12-18     26.63\n",
      "               ...  \n",
      "2018-03-21    175.04\n",
      "2018-03-22    170.00\n",
      "2018-03-23    168.39\n",
      "2018-03-26    168.07\n",
      "2018-03-27    173.68\n",
      "Name: Open, Length: 9400, dtype: float64\n",
      "date\n",
      "2020-06-08    330.250\n",
      "2020-06-05    323.350\n",
      "2020-06-04    324.390\n",
      "2020-06-03    324.660\n",
      "2020-06-02    320.745\n",
      "               ...   \n",
      "2000-06-13     91.190\n",
      "2000-06-12     96.370\n",
      "2000-06-09     96.750\n",
      "2000-06-08     97.620\n",
      "2000-06-07     93.620\n",
      "Name: 1. open, Length: 5032, dtype: float64\n",
      "date\n",
      "2020-06-08 16:00:00    333.39\n",
      "2020-06-08 15:59:00    333.42\n",
      "2020-06-08 15:58:00    333.35\n",
      "2020-06-08 15:57:00    333.11\n",
      "2020-06-08 15:56:00    333.15\n",
      "                        ...  \n",
      "2020-06-03 09:35:00    323.42\n",
      "2020-06-03 09:34:00    323.02\n",
      "2020-06-03 09:33:00    322.60\n",
      "2020-06-03 09:32:00    324.03\n",
      "2020-06-03 09:31:00    324.66\n",
      "Name: 1. open, Length: 1555, dtype: float64\n"
     ]
    }
   ],
   "source": [
    "print(datay[\"Open\"])\n",
    "print(datayf[\"Open\"])\n",
    "print(dataq[\"Open\"])\n",
    "print(dataav[\"1. open\"])\n",
    "print(data_av['1. open'])"
   ]
  },
  {
   "cell_type": "code",
   "execution_count": 68,
   "metadata": {},
   "outputs": [
    {
     "data": {
      "text/plain": [
       "<matplotlib.axes._subplots.AxesSubplot at 0x7fa2c1634cd0>"
      ]
     },
     "execution_count": 68,
     "metadata": {},
     "output_type": "execute_result"
    },
    {
     "data": {
      "image/png": "[encoded data removed]",
      "text/plain": [
       "<Figure size 432x288 with 1 Axes>"
      ]
     },
     "metadata": {
      "needs_background": "light"
     },
     "output_type": "display_data"
    }
   ],
   "source": [
    "datayf['Open'].plot()"
   ]
  },
  {
   "cell_type": "code",
   "execution_count": 69,
   "metadata": {},
   "outputs": [
    {
     "data": {
      "text/plain": [
       "59736"
      ]
     },
     "execution_count": 69,
     "metadata": {},
     "output_type": "execute_result"
    }
   ],
   "source": [
    "datayf.size"
   ]
  },
  {
   "cell_type": "code",
   "execution_count": 70,
   "metadata": {},
   "outputs": [
    {
     "name": "stdout",
     "output_type": "stream",
     "text": [
      "             Open   High    Low  Close  Adj Close  Volume\n",
      "Date                                                     \n",
      "1980-12-12  False  False  False  False      False   False\n",
      "1980-12-15  False  False  False  False      False   False\n",
      "1980-12-16  False  False  False  False      False   False\n",
      "1980-12-17  False  False  False  False      False   False\n",
      "1980-12-18  False  False  False  False      False   False\n",
      "...           ...    ...    ...    ...        ...     ...\n",
      "2020-06-03  False  False  False  False      False   False\n",
      "2020-06-04  False  False  False  False      False   False\n",
      "2020-06-05  False  False  False  False      False   False\n",
      "2020-06-08  False  False  False  False      False   False\n",
      "2020-06-09  False  False  False  False      False   False\n",
      "\n",
      "[9956 rows x 6 columns]\n"
     ]
    }
   ],
   "source": [
    "print(datayf.isna())"
   ]
  },
  {
   "cell_type": "code",
   "execution_count": 72,
   "metadata": {},
   "outputs": [
    {
     "name": "stdout",
     "output_type": "stream",
     "text": [
      "[*********************100%***********************]  1 of 1 completed\n",
      "{'1. Information': 'Intraday (1min) open, high, low, close prices and volume', '2. Symbol': 'AAPL', '3. Last Refreshed': '2020-06-08 16:00:00', '4. Interval': '1min', '5. Output Size': 'Full size', '6. Time Zone': 'US/Eastern'}\n",
      "{'1. Information': 'Daily Prices (open, high, low, close) and Volumes', '2. Symbol': 'AAPL', '3. Last Refreshed': '2020-06-08', '4. Output Size': 'Full size', '5. Time Zone': 'US/Eastern'}\n",
      "Date\n",
      "1980-12-12      0.513393\n",
      "1980-12-15      0.488839\n",
      "1980-12-16      0.453125\n",
      "1980-12-17      0.462054\n",
      "1980-12-18      0.475446\n",
      "                 ...    \n",
      "2020-06-03    324.660004\n",
      "2020-06-04    324.390015\n",
      "2020-06-05    323.350006\n",
      "2020-06-08    330.250000\n",
      "2020-06-09    332.140015\n",
      "Name: Open, Length: 9956, dtype: float64\n",
      "Date\n",
      "1980-12-12     28.75\n",
      "1980-12-15     27.38\n",
      "1980-12-16     25.37\n",
      "1980-12-17     25.87\n",
      "1980-12-18     26.63\n",
      "               ...  \n",
      "2018-03-21    175.04\n",
      "2018-03-22    170.00\n",
      "2018-03-23    168.39\n",
      "2018-03-26    168.07\n",
      "2018-03-27    173.68\n",
      "Name: Open, Length: 9400, dtype: float64\n",
      "date\n",
      "2020-06-08    330.250\n",
      "2020-06-05    323.350\n",
      "2020-06-04    324.390\n",
      "2020-06-03    324.660\n",
      "2020-06-02    320.745\n",
      "               ...   \n",
      "2000-06-13     91.190\n",
      "2000-06-12     96.370\n",
      "2000-06-09     96.750\n",
      "2000-06-08     97.620\n",
      "2000-06-07     93.620\n",
      "Name: 1. open, Length: 5032, dtype: float64\n",
      "date\n",
      "2020-06-08 16:00:00    333.39\n",
      "2020-06-08 15:59:00    333.42\n",
      "2020-06-08 15:58:00    333.35\n",
      "2020-06-08 15:57:00    333.11\n",
      "2020-06-08 15:56:00    333.15\n",
      "                        ...  \n",
      "2020-06-03 09:35:00    323.42\n",
      "2020-06-03 09:34:00    323.02\n",
      "2020-06-03 09:33:00    322.60\n",
      "2020-06-03 09:32:00    324.03\n",
      "2020-06-03 09:31:00    324.66\n",
      "Name: 1. open, Length: 1555, dtype: float64\n"
     ]
    }
   ],
   "source": [
    "start = '1980-01-01'\n",
    "end = '2020-06-09'\n",
    "ticker = 'AAPL'\n",
    "dataq = fetch_quandl(start,end,ticker=ticker)\n",
    "datayf = fetch_yfinance(ticker=ticker,period='max',interval='1d')\n",
    "data_av = fetch_alpvantage(ticker)\n",
    "dataav = fetch_alpvantage_daily(ticker)\n",
    "\n",
    "print(datayf[\"Open\"])\n",
    "print(dataq[\"Open\"])\n",
    "print(dataav[\"1. open\"])\n",
    "print(data_av['1. open'])"
   ]
  },
  {
   "cell_type": "markdown",
   "metadata": {},
   "source": [
    "## Current Prices\n",
    "Fetch the current price of the stock"
   ]
  },
  {
   "cell_type": "code",
   "execution_count": 73,
   "metadata": {},
   "outputs": [],
   "source": [
    "def get_jsonparsed_data(url):\n",
    "    \"\"\"\n",
    "    Receive the content of ``url``, parse it as JSON and return the object.\n",
    "\n",
    "    Parameters\n",
    "    ----------\n",
    "    url : str\n",
    "\n",
    "    Returns\n",
    "    -------\n",
    "    dict\n",
    "    \"\"\"\n",
    "    response = urlopen(url)\n",
    "    data = response.read().decode(\"utf-8\")\n",
    "    return json.loads(data)\n",
    "\n",
    "def fetch_fmodel(ticker='AAPL'):\n",
    "    url = (\"https://financialmodelingprep.com/api/v3/stock/real-time-price/\" + ticker + \"?apikey=dd9d15233483a78b8ea49e315800099c\")\n",
    "    return get_jsonparsed_data(url)"
   ]
  },
  {
   "cell_type": "code",
   "execution_count": 74,
   "metadata": {},
   "outputs": [
    {
     "name": "stdout",
     "output_type": "stream",
     "text": [
      "{'symbol': 'AAPL', 'price': 338.53}\n"
     ]
    }
   ],
   "source": [
    "print(fetch_fmodel())"
   ]
  }
 ],
 "metadata": {
  "kernelspec": {
   "display_name": "Python 3",
   "language": "python",
   "name": "python3"
  },
  "language_info": {
   "codemirror_mode": {
    "name": "ipython",
    "version": 3
   },
   "file_extension": ".py",
   "mimetype": "text/x-python",
   "name": "python",
   "nbconvert_exporter": "python",
   "pygments_lexer": "ipython3",
   "version": "3.7.7"
  }
 },
 "nbformat": 4,
 "nbformat_minor": 4
}
