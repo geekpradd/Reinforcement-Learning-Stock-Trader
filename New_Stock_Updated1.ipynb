{
  "nbformat": 4,
  "nbformat_minor": 0,
  "metadata": {
    "colab": {
      "name": "New_Stock.ipynb",
      "provenance": [],
      "collapsed_sections": [],
      "mount_file_id": "1iN7uufCUjIRO-PvNn8Zvql2GPbTQveRI",
      "authorship_tag": "ABX9TyPb/T1F51zsaDD3LCJ8FErO",
      "include_colab_link": true
    },
    "kernelspec": {
      "name": "python3",
      "display_name": "Python 3"
    },
    "widgets": {
      "application/vnd.jupyter.widget-state+json": {
        "734628d0eb9b49f7b08c1bff98a5adcf": {
          "model_module": "@jupyter-widgets/controls",
          "model_name": "HBoxModel",
          "state": {
            "_view_name": "HBoxView",
            "_dom_classes": [],
            "_model_name": "HBoxModel",
            "_view_module": "@jupyter-widgets/controls",
            "_model_module_version": "1.5.0",
            "_view_count": null,
            "_view_module_version": "1.5.0",
            "box_style": "",
            "layout": "IPY_MODEL_c1e35d2e386a40ee9ea956c6cb96a675",
            "_model_module": "@jupyter-widgets/controls",
            "children": [
              "IPY_MODEL_bdf25d3b40fd4231ad6c8c6a5f0d6730",
              "IPY_MODEL_8089211111f14409afc3c286e02d04cf"
            ]
          }
        },
        "c1e35d2e386a40ee9ea956c6cb96a675": {
          "model_module": "@jupyter-widgets/base",
          "model_name": "LayoutModel",
          "state": {
            "_view_name": "LayoutView",
            "grid_template_rows": null,
            "right": null,
            "justify_content": null,
            "_view_module": "@jupyter-widgets/base",
            "overflow": null,
            "_model_module_version": "1.2.0",
            "_view_count": null,
            "flex_flow": null,
            "width": null,
            "min_width": null,
            "border": null,
            "align_items": null,
            "bottom": null,
            "_model_module": "@jupyter-widgets/base",
            "top": null,
            "grid_column": null,
            "overflow_y": null,
            "overflow_x": null,
            "grid_auto_flow": null,
            "grid_area": null,
            "grid_template_columns": null,
            "flex": null,
            "_model_name": "LayoutModel",
            "justify_items": null,
            "grid_row": null,
            "max_height": null,
            "align_content": null,
            "visibility": null,
            "align_self": null,
            "height": null,
            "min_height": null,
            "padding": null,
            "grid_auto_rows": null,
            "grid_gap": null,
            "max_width": null,
            "order": null,
            "_view_module_version": "1.2.0",
            "grid_template_areas": null,
            "object_position": null,
            "object_fit": null,
            "grid_auto_columns": null,
            "margin": null,
            "display": null,
            "left": null
          }
        },
        "bdf25d3b40fd4231ad6c8c6a5f0d6730": {
          "model_module": "@jupyter-widgets/controls",
          "model_name": "FloatProgressModel",
          "state": {
            "_view_name": "ProgressView",
            "style": "IPY_MODEL_320bd3fe5ee944ec832326ffdb16d914",
            "_dom_classes": [],
            "description": "100%",
            "_model_name": "FloatProgressModel",
            "bar_style": "success",
            "max": 2000,
            "_view_module": "@jupyter-widgets/controls",
            "_model_module_version": "1.5.0",
            "value": 2000,
            "_view_count": null,
            "_view_module_version": "1.5.0",
            "orientation": "horizontal",
            "min": 0,
            "description_tooltip": null,
            "_model_module": "@jupyter-widgets/controls",
            "layout": "IPY_MODEL_906c6a36cb2c41e69acb85eaca102799"
          }
        },
        "8089211111f14409afc3c286e02d04cf": {
          "model_module": "@jupyter-widgets/controls",
          "model_name": "HTMLModel",
          "state": {
            "_view_name": "HTMLView",
            "style": "IPY_MODEL_ed66cfaf4a384219bd22dd5c5b6c0403",
            "_dom_classes": [],
            "description": "",
            "_model_name": "HTMLModel",
            "placeholder": "​",
            "_view_module": "@jupyter-widgets/controls",
            "_model_module_version": "1.5.0",
            "value": " 2000/2000 [02:46&lt;00:00, 12.02it/s]",
            "_view_count": null,
            "_view_module_version": "1.5.0",
            "description_tooltip": null,
            "_model_module": "@jupyter-widgets/controls",
            "layout": "IPY_MODEL_97e407b1d3e94a408999542343320100"
          }
        },
        "320bd3fe5ee944ec832326ffdb16d914": {
          "model_module": "@jupyter-widgets/controls",
          "model_name": "ProgressStyleModel",
          "state": {
            "_view_name": "StyleView",
            "_model_name": "ProgressStyleModel",
            "description_width": "initial",
            "_view_module": "@jupyter-widgets/base",
            "_model_module_version": "1.5.0",
            "_view_count": null,
            "_view_module_version": "1.2.0",
            "bar_color": null,
            "_model_module": "@jupyter-widgets/controls"
          }
        },
        "906c6a36cb2c41e69acb85eaca102799": {
          "model_module": "@jupyter-widgets/base",
          "model_name": "LayoutModel",
          "state": {
            "_view_name": "LayoutView",
            "grid_template_rows": null,
            "right": null,
            "justify_content": null,
            "_view_module": "@jupyter-widgets/base",
            "overflow": null,
            "_model_module_version": "1.2.0",
            "_view_count": null,
            "flex_flow": null,
            "width": null,
            "min_width": null,
            "border": null,
            "align_items": null,
            "bottom": null,
            "_model_module": "@jupyter-widgets/base",
            "top": null,
            "grid_column": null,
            "overflow_y": null,
            "overflow_x": null,
            "grid_auto_flow": null,
            "grid_area": null,
            "grid_template_columns": null,
            "flex": null,
            "_model_name": "LayoutModel",
            "justify_items": null,
            "grid_row": null,
            "max_height": null,
            "align_content": null,
            "visibility": null,
            "align_self": null,
            "height": null,
            "min_height": null,
            "padding": null,
            "grid_auto_rows": null,
            "grid_gap": null,
            "max_width": null,
            "order": null,
            "_view_module_version": "1.2.0",
            "grid_template_areas": null,
            "object_position": null,
            "object_fit": null,
            "grid_auto_columns": null,
            "margin": null,
            "display": null,
            "left": null
          }
        },
        "ed66cfaf4a384219bd22dd5c5b6c0403": {
          "model_module": "@jupyter-widgets/controls",
          "model_name": "DescriptionStyleModel",
          "state": {
            "_view_name": "StyleView",
            "_model_name": "DescriptionStyleModel",
            "description_width": "",
            "_view_module": "@jupyter-widgets/base",
            "_model_module_version": "1.5.0",
            "_view_count": null,
            "_view_module_version": "1.2.0",
            "_model_module": "@jupyter-widgets/controls"
          }
        },
        "97e407b1d3e94a408999542343320100": {
          "model_module": "@jupyter-widgets/base",
          "model_name": "LayoutModel",
          "state": {
            "_view_name": "LayoutView",
            "grid_template_rows": null,
            "right": null,
            "justify_content": null,
            "_view_module": "@jupyter-widgets/base",
            "overflow": null,
            "_model_module_version": "1.2.0",
            "_view_count": null,
            "flex_flow": null,
            "width": null,
            "min_width": null,
            "border": null,
            "align_items": null,
            "bottom": null,
            "_model_module": "@jupyter-widgets/base",
            "top": null,
            "grid_column": null,
            "overflow_y": null,
            "overflow_x": null,
            "grid_auto_flow": null,
            "grid_area": null,
            "grid_template_columns": null,
            "flex": null,
            "_model_name": "LayoutModel",
            "justify_items": null,
            "grid_row": null,
            "max_height": null,
            "align_content": null,
            "visibility": null,
            "align_self": null,
            "height": null,
            "min_height": null,
            "padding": null,
            "grid_auto_rows": null,
            "grid_gap": null,
            "max_width": null,
            "order": null,
            "_view_module_version": "1.2.0",
            "grid_template_areas": null,
            "object_position": null,
            "object_fit": null,
            "grid_auto_columns": null,
            "margin": null,
            "display": null,
            "left": null
          }
        },
        "30da09b3cdef4583b1acdb024f404227": {
          "model_module": "@jupyter-widgets/controls",
          "model_name": "HBoxModel",
          "state": {
            "_view_name": "HBoxView",
            "_dom_classes": [],
            "_model_name": "HBoxModel",
            "_view_module": "@jupyter-widgets/controls",
            "_model_module_version": "1.5.0",
            "_view_count": null,
            "_view_module_version": "1.5.0",
            "box_style": "",
            "layout": "IPY_MODEL_834be372e61346c6962f6b8f2bb5fa5d",
            "_model_module": "@jupyter-widgets/controls",
            "children": [
              "IPY_MODEL_c2729ad7fe334b6ba5f6970c3f43b7b8",
              "IPY_MODEL_2b8d63ecfa8a478cabcdfee78c643db0"
            ]
          }
        },
        "834be372e61346c6962f6b8f2bb5fa5d": {
          "model_module": "@jupyter-widgets/base",
          "model_name": "LayoutModel",
          "state": {
            "_view_name": "LayoutView",
            "grid_template_rows": null,
            "right": null,
            "justify_content": null,
            "_view_module": "@jupyter-widgets/base",
            "overflow": null,
            "_model_module_version": "1.2.0",
            "_view_count": null,
            "flex_flow": null,
            "width": null,
            "min_width": null,
            "border": null,
            "align_items": null,
            "bottom": null,
            "_model_module": "@jupyter-widgets/base",
            "top": null,
            "grid_column": null,
            "overflow_y": null,
            "overflow_x": null,
            "grid_auto_flow": null,
            "grid_area": null,
            "grid_template_columns": null,
            "flex": null,
            "_model_name": "LayoutModel",
            "justify_items": null,
            "grid_row": null,
            "max_height": null,
            "align_content": null,
            "visibility": null,
            "align_self": null,
            "height": null,
            "min_height": null,
            "padding": null,
            "grid_auto_rows": null,
            "grid_gap": null,
            "max_width": null,
            "order": null,
            "_view_module_version": "1.2.0",
            "grid_template_areas": null,
            "object_position": null,
            "object_fit": null,
            "grid_auto_columns": null,
            "margin": null,
            "display": null,
            "left": null
          }
        },
        "c2729ad7fe334b6ba5f6970c3f43b7b8": {
          "model_module": "@jupyter-widgets/controls",
          "model_name": "FloatProgressModel",
          "state": {
            "_view_name": "ProgressView",
            "style": "IPY_MODEL_7a5285388b02455e93b69dcf76c3a2e0",
            "_dom_classes": [],
            "description": " 39%",
            "_model_name": "FloatProgressModel",
            "bar_style": "danger",
            "max": 2000,
            "_view_module": "@jupyter-widgets/controls",
            "_model_module_version": "1.5.0",
            "value": 772,
            "_view_count": null,
            "_view_module_version": "1.5.0",
            "orientation": "horizontal",
            "min": 0,
            "description_tooltip": null,
            "_model_module": "@jupyter-widgets/controls",
            "layout": "IPY_MODEL_904e6a0acb554c8ab4daee7f7bbfbffb"
          }
        },
        "2b8d63ecfa8a478cabcdfee78c643db0": {
          "model_module": "@jupyter-widgets/controls",
          "model_name": "HTMLModel",
          "state": {
            "_view_name": "HTMLView",
            "style": "IPY_MODEL_8add0dc379d94eac86b1df199c22af45",
            "_dom_classes": [],
            "description": "",
            "_model_name": "HTMLModel",
            "placeholder": "​",
            "_view_module": "@jupyter-widgets/controls",
            "_model_module_version": "1.5.0",
            "value": " 772/2000 [00:46&lt;00:56, 21.69it/s]",
            "_view_count": null,
            "_view_module_version": "1.5.0",
            "description_tooltip": null,
            "_model_module": "@jupyter-widgets/controls",
            "layout": "IPY_MODEL_dc560f0b38c64844ba27d2c95f3cc8f0"
          }
        },
        "7a5285388b02455e93b69dcf76c3a2e0": {
          "model_module": "@jupyter-widgets/controls",
          "model_name": "ProgressStyleModel",
          "state": {
            "_view_name": "StyleView",
            "_model_name": "ProgressStyleModel",
            "description_width": "initial",
            "_view_module": "@jupyter-widgets/base",
            "_model_module_version": "1.5.0",
            "_view_count": null,
            "_view_module_version": "1.2.0",
            "bar_color": null,
            "_model_module": "@jupyter-widgets/controls"
          }
        },
        "904e6a0acb554c8ab4daee7f7bbfbffb": {
          "model_module": "@jupyter-widgets/base",
          "model_name": "LayoutModel",
          "state": {
            "_view_name": "LayoutView",
            "grid_template_rows": null,
            "right": null,
            "justify_content": null,
            "_view_module": "@jupyter-widgets/base",
            "overflow": null,
            "_model_module_version": "1.2.0",
            "_view_count": null,
            "flex_flow": null,
            "width": null,
            "min_width": null,
            "border": null,
            "align_items": null,
            "bottom": null,
            "_model_module": "@jupyter-widgets/base",
            "top": null,
            "grid_column": null,
            "overflow_y": null,
            "overflow_x": null,
            "grid_auto_flow": null,
            "grid_area": null,
            "grid_template_columns": null,
            "flex": null,
            "_model_name": "LayoutModel",
            "justify_items": null,
            "grid_row": null,
            "max_height": null,
            "align_content": null,
            "visibility": null,
            "align_self": null,
            "height": null,
            "min_height": null,
            "padding": null,
            "grid_auto_rows": null,
            "grid_gap": null,
            "max_width": null,
            "order": null,
            "_view_module_version": "1.2.0",
            "grid_template_areas": null,
            "object_position": null,
            "object_fit": null,
            "grid_auto_columns": null,
            "margin": null,
            "display": null,
            "left": null
          }
        },
        "8add0dc379d94eac86b1df199c22af45": {
          "model_module": "@jupyter-widgets/controls",
          "model_name": "DescriptionStyleModel",
          "state": {
            "_view_name": "StyleView",
            "_model_name": "DescriptionStyleModel",
            "description_width": "",
            "_view_module": "@jupyter-widgets/base",
            "_model_module_version": "1.5.0",
            "_view_count": null,
            "_view_module_version": "1.2.0",
            "_model_module": "@jupyter-widgets/controls"
          }
        },
        "dc560f0b38c64844ba27d2c95f3cc8f0": {
          "model_module": "@jupyter-widgets/base",
          "model_name": "LayoutModel",
          "state": {
            "_view_name": "LayoutView",
            "grid_template_rows": null,
            "right": null,
            "justify_content": null,
            "_view_module": "@jupyter-widgets/base",
            "overflow": null,
            "_model_module_version": "1.2.0",
            "_view_count": null,
            "flex_flow": null,
            "width": null,
            "min_width": null,
            "border": null,
            "align_items": null,
            "bottom": null,
            "_model_module": "@jupyter-widgets/base",
            "top": null,
            "grid_column": null,
            "overflow_y": null,
            "overflow_x": null,
            "grid_auto_flow": null,
            "grid_area": null,
            "grid_template_columns": null,
            "flex": null,
            "_model_name": "LayoutModel",
            "justify_items": null,
            "grid_row": null,
            "max_height": null,
            "align_content": null,
            "visibility": null,
            "align_self": null,
            "height": null,
            "min_height": null,
            "padding": null,
            "grid_auto_rows": null,
            "grid_gap": null,
            "max_width": null,
            "order": null,
            "_view_module_version": "1.2.0",
            "grid_template_areas": null,
            "object_position": null,
            "object_fit": null,
            "grid_auto_columns": null,
            "margin": null,
            "display": null,
            "left": null
          }
        },
        "0ade56aa9bf34c75abb4d400cbd6c373": {
          "model_module": "@jupyter-widgets/controls",
          "model_name": "HBoxModel",
          "state": {
            "_view_name": "HBoxView",
            "_dom_classes": [],
            "_model_name": "HBoxModel",
            "_view_module": "@jupyter-widgets/controls",
            "_model_module_version": "1.5.0",
            "_view_count": null,
            "_view_module_version": "1.5.0",
            "box_style": "",
            "layout": "IPY_MODEL_d41a0cc0818e4ff7a1c5216745839b9c",
            "_model_module": "@jupyter-widgets/controls",
            "children": [
              "IPY_MODEL_15e71e066ad14acebb2f892b1c391f6e",
              "IPY_MODEL_4a65ad50f6b5425b882621f5b19fb978"
            ]
          }
        },
        "d41a0cc0818e4ff7a1c5216745839b9c": {
          "model_module": "@jupyter-widgets/base",
          "model_name": "LayoutModel",
          "state": {
            "_view_name": "LayoutView",
            "grid_template_rows": null,
            "right": null,
            "justify_content": null,
            "_view_module": "@jupyter-widgets/base",
            "overflow": null,
            "_model_module_version": "1.2.0",
            "_view_count": null,
            "flex_flow": null,
            "width": null,
            "min_width": null,
            "border": null,
            "align_items": null,
            "bottom": null,
            "_model_module": "@jupyter-widgets/base",
            "top": null,
            "grid_column": null,
            "overflow_y": null,
            "overflow_x": null,
            "grid_auto_flow": null,
            "grid_area": null,
            "grid_template_columns": null,
            "flex": null,
            "_model_name": "LayoutModel",
            "justify_items": null,
            "grid_row": null,
            "max_height": null,
            "align_content": null,
            "visibility": null,
            "align_self": null,
            "height": null,
            "min_height": null,
            "padding": null,
            "grid_auto_rows": null,
            "grid_gap": null,
            "max_width": null,
            "order": null,
            "_view_module_version": "1.2.0",
            "grid_template_areas": null,
            "object_position": null,
            "object_fit": null,
            "grid_auto_columns": null,
            "margin": null,
            "display": null,
            "left": null
          }
        },
        "15e71e066ad14acebb2f892b1c391f6e": {
          "model_module": "@jupyter-widgets/controls",
          "model_name": "FloatProgressModel",
          "state": {
            "_view_name": "ProgressView",
            "style": "IPY_MODEL_a9c20dab9c0d4645996b80e0f19f7f14",
            "_dom_classes": [],
            "description": "100%",
            "_model_name": "FloatProgressModel",
            "bar_style": "success",
            "max": 2000,
            "_view_module": "@jupyter-widgets/controls",
            "_model_module_version": "1.5.0",
            "value": 2000,
            "_view_count": null,
            "_view_module_version": "1.5.0",
            "orientation": "horizontal",
            "min": 0,
            "description_tooltip": null,
            "_model_module": "@jupyter-widgets/controls",
            "layout": "IPY_MODEL_f3e5b81422d4452f85bf2449b0304502"
          }
        },
        "4a65ad50f6b5425b882621f5b19fb978": {
          "model_module": "@jupyter-widgets/controls",
          "model_name": "HTMLModel",
          "state": {
            "_view_name": "HTMLView",
            "style": "IPY_MODEL_65fb2e456dbe4041825a15c8cbf3f18f",
            "_dom_classes": [],
            "description": "",
            "_model_name": "HTMLModel",
            "placeholder": "​",
            "_view_module": "@jupyter-widgets/controls",
            "_model_module_version": "1.5.0",
            "value": " 2000/2000 [02:31&lt;00:00, 13.18it/s]",
            "_view_count": null,
            "_view_module_version": "1.5.0",
            "description_tooltip": null,
            "_model_module": "@jupyter-widgets/controls",
            "layout": "IPY_MODEL_52d2e19c7a8e4a11a7712b36a7b90ce4"
          }
        },
        "a9c20dab9c0d4645996b80e0f19f7f14": {
          "model_module": "@jupyter-widgets/controls",
          "model_name": "ProgressStyleModel",
          "state": {
            "_view_name": "StyleView",
            "_model_name": "ProgressStyleModel",
            "description_width": "initial",
            "_view_module": "@jupyter-widgets/base",
            "_model_module_version": "1.5.0",
            "_view_count": null,
            "_view_module_version": "1.2.0",
            "bar_color": null,
            "_model_module": "@jupyter-widgets/controls"
          }
        },
        "f3e5b81422d4452f85bf2449b0304502": {
          "model_module": "@jupyter-widgets/base",
          "model_name": "LayoutModel",
          "state": {
            "_view_name": "LayoutView",
            "grid_template_rows": null,
            "right": null,
            "justify_content": null,
            "_view_module": "@jupyter-widgets/base",
            "overflow": null,
            "_model_module_version": "1.2.0",
            "_view_count": null,
            "flex_flow": null,
            "width": null,
            "min_width": null,
            "border": null,
            "align_items": null,
            "bottom": null,
            "_model_module": "@jupyter-widgets/base",
            "top": null,
            "grid_column": null,
            "overflow_y": null,
            "overflow_x": null,
            "grid_auto_flow": null,
            "grid_area": null,
            "grid_template_columns": null,
            "flex": null,
            "_model_name": "LayoutModel",
            "justify_items": null,
            "grid_row": null,
            "max_height": null,
            "align_content": null,
            "visibility": null,
            "align_self": null,
            "height": null,
            "min_height": null,
            "padding": null,
            "grid_auto_rows": null,
            "grid_gap": null,
            "max_width": null,
            "order": null,
            "_view_module_version": "1.2.0",
            "grid_template_areas": null,
            "object_position": null,
            "object_fit": null,
            "grid_auto_columns": null,
            "margin": null,
            "display": null,
            "left": null
          }
        },
        "65fb2e456dbe4041825a15c8cbf3f18f": {
          "model_module": "@jupyter-widgets/controls",
          "model_name": "DescriptionStyleModel",
          "state": {
            "_view_name": "StyleView",
            "_model_name": "DescriptionStyleModel",
            "description_width": "",
            "_view_module": "@jupyter-widgets/base",
            "_model_module_version": "1.5.0",
            "_view_count": null,
            "_view_module_version": "1.2.0",
            "_model_module": "@jupyter-widgets/controls"
          }
        },
        "52d2e19c7a8e4a11a7712b36a7b90ce4": {
          "model_module": "@jupyter-widgets/base",
          "model_name": "LayoutModel",
          "state": {
            "_view_name": "LayoutView",
            "grid_template_rows": null,
            "right": null,
            "justify_content": null,
            "_view_module": "@jupyter-widgets/base",
            "overflow": null,
            "_model_module_version": "1.2.0",
            "_view_count": null,
            "flex_flow": null,
            "width": null,
            "min_width": null,
            "border": null,
            "align_items": null,
            "bottom": null,
            "_model_module": "@jupyter-widgets/base",
            "top": null,
            "grid_column": null,
            "overflow_y": null,
            "overflow_x": null,
            "grid_auto_flow": null,
            "grid_area": null,
            "grid_template_columns": null,
            "flex": null,
            "_model_name": "LayoutModel",
            "justify_items": null,
            "grid_row": null,
            "max_height": null,
            "align_content": null,
            "visibility": null,
            "align_self": null,
            "height": null,
            "min_height": null,
            "padding": null,
            "grid_auto_rows": null,
            "grid_gap": null,
            "max_width": null,
            "order": null,
            "_view_module_version": "1.2.0",
            "grid_template_areas": null,
            "object_position": null,
            "object_fit": null,
            "grid_auto_columns": null,
            "margin": null,
            "display": null,
            "left": null
          }
        },
        "23fe3ed697d6400ebcfd3364ae31cd41": {
          "model_module": "@jupyter-widgets/controls",
          "model_name": "HBoxModel",
          "state": {
            "_view_name": "HBoxView",
            "_dom_classes": [],
            "_model_name": "HBoxModel",
            "_view_module": "@jupyter-widgets/controls",
            "_model_module_version": "1.5.0",
            "_view_count": null,
            "_view_module_version": "1.5.0",
            "box_style": "",
            "layout": "IPY_MODEL_04d8dc6d0ff14b51afd1bf0390216915",
            "_model_module": "@jupyter-widgets/controls",
            "children": [
              "IPY_MODEL_60e31024f8d9480a9d3bad1712600cdc",
              "IPY_MODEL_ba570514d9eb48658f3672c83e44626e"
            ]
          }
        },
        "04d8dc6d0ff14b51afd1bf0390216915": {
          "model_module": "@jupyter-widgets/base",
          "model_name": "LayoutModel",
          "state": {
            "_view_name": "LayoutView",
            "grid_template_rows": null,
            "right": null,
            "justify_content": null,
            "_view_module": "@jupyter-widgets/base",
            "overflow": null,
            "_model_module_version": "1.2.0",
            "_view_count": null,
            "flex_flow": null,
            "width": null,
            "min_width": null,
            "border": null,
            "align_items": null,
            "bottom": null,
            "_model_module": "@jupyter-widgets/base",
            "top": null,
            "grid_column": null,
            "overflow_y": null,
            "overflow_x": null,
            "grid_auto_flow": null,
            "grid_area": null,
            "grid_template_columns": null,
            "flex": null,
            "_model_name": "LayoutModel",
            "justify_items": null,
            "grid_row": null,
            "max_height": null,
            "align_content": null,
            "visibility": null,
            "align_self": null,
            "height": null,
            "min_height": null,
            "padding": null,
            "grid_auto_rows": null,
            "grid_gap": null,
            "max_width": null,
            "order": null,
            "_view_module_version": "1.2.0",
            "grid_template_areas": null,
            "object_position": null,
            "object_fit": null,
            "grid_auto_columns": null,
            "margin": null,
            "display": null,
            "left": null
          }
        },
        "60e31024f8d9480a9d3bad1712600cdc": {
          "model_module": "@jupyter-widgets/controls",
          "model_name": "FloatProgressModel",
          "state": {
            "_view_name": "ProgressView",
            "style": "IPY_MODEL_68f0550c84da4353835c66f224a3bf07",
            "_dom_classes": [],
            "description": "100%",
            "_model_name": "FloatProgressModel",
            "bar_style": "success",
            "max": 2000,
            "_view_module": "@jupyter-widgets/controls",
            "_model_module_version": "1.5.0",
            "value": 2000,
            "_view_count": null,
            "_view_module_version": "1.5.0",
            "orientation": "horizontal",
            "min": 0,
            "description_tooltip": null,
            "_model_module": "@jupyter-widgets/controls",
            "layout": "IPY_MODEL_36ae198d0639409f813d3ae01b928008"
          }
        },
        "ba570514d9eb48658f3672c83e44626e": {
          "model_module": "@jupyter-widgets/controls",
          "model_name": "HTMLModel",
          "state": {
            "_view_name": "HTMLView",
            "style": "IPY_MODEL_c01fd4f862cf4fb0ac00b107085fc53f",
            "_dom_classes": [],
            "description": "",
            "_model_name": "HTMLModel",
            "placeholder": "​",
            "_view_module": "@jupyter-widgets/controls",
            "_model_module_version": "1.5.0",
            "value": " 2000/2000 [02:33&lt;00:00, 13.07it/s]",
            "_view_count": null,
            "_view_module_version": "1.5.0",
            "description_tooltip": null,
            "_model_module": "@jupyter-widgets/controls",
            "layout": "IPY_MODEL_43cbf436ab494ca4ad7bf49d1ce374e3"
          }
        },
        "68f0550c84da4353835c66f224a3bf07": {
          "model_module": "@jupyter-widgets/controls",
          "model_name": "ProgressStyleModel",
          "state": {
            "_view_name": "StyleView",
            "_model_name": "ProgressStyleModel",
            "description_width": "initial",
            "_view_module": "@jupyter-widgets/base",
            "_model_module_version": "1.5.0",
            "_view_count": null,
            "_view_module_version": "1.2.0",
            "bar_color": null,
            "_model_module": "@jupyter-widgets/controls"
          }
        },
        "36ae198d0639409f813d3ae01b928008": {
          "model_module": "@jupyter-widgets/base",
          "model_name": "LayoutModel",
          "state": {
            "_view_name": "LayoutView",
            "grid_template_rows": null,
            "right": null,
            "justify_content": null,
            "_view_module": "@jupyter-widgets/base",
            "overflow": null,
            "_model_module_version": "1.2.0",
            "_view_count": null,
            "flex_flow": null,
            "width": null,
            "min_width": null,
            "border": null,
            "align_items": null,
            "bottom": null,
            "_model_module": "@jupyter-widgets/base",
            "top": null,
            "grid_column": null,
            "overflow_y": null,
            "overflow_x": null,
            "grid_auto_flow": null,
            "grid_area": null,
            "grid_template_columns": null,
            "flex": null,
            "_model_name": "LayoutModel",
            "justify_items": null,
            "grid_row": null,
            "max_height": null,
            "align_content": null,
            "visibility": null,
            "align_self": null,
            "height": null,
            "min_height": null,
            "padding": null,
            "grid_auto_rows": null,
            "grid_gap": null,
            "max_width": null,
            "order": null,
            "_view_module_version": "1.2.0",
            "grid_template_areas": null,
            "object_position": null,
            "object_fit": null,
            "grid_auto_columns": null,
            "margin": null,
            "display": null,
            "left": null
          }
        },
        "c01fd4f862cf4fb0ac00b107085fc53f": {
          "model_module": "@jupyter-widgets/controls",
          "model_name": "DescriptionStyleModel",
          "state": {
            "_view_name": "StyleView",
            "_model_name": "DescriptionStyleModel",
            "description_width": "",
            "_view_module": "@jupyter-widgets/base",
            "_model_module_version": "1.5.0",
            "_view_count": null,
            "_view_module_version": "1.2.0",
            "_model_module": "@jupyter-widgets/controls"
          }
        },
        "43cbf436ab494ca4ad7bf49d1ce374e3": {
          "model_module": "@jupyter-widgets/base",
          "model_name": "LayoutModel",
          "state": {
            "_view_name": "LayoutView",
            "grid_template_rows": null,
            "right": null,
            "justify_content": null,
            "_view_module": "@jupyter-widgets/base",
            "overflow": null,
            "_model_module_version": "1.2.0",
            "_view_count": null,
            "flex_flow": null,
            "width": null,
            "min_width": null,
            "border": null,
            "align_items": null,
            "bottom": null,
            "_model_module": "@jupyter-widgets/base",
            "top": null,
            "grid_column": null,
            "overflow_y": null,
            "overflow_x": null,
            "grid_auto_flow": null,
            "grid_area": null,
            "grid_template_columns": null,
            "flex": null,
            "_model_name": "LayoutModel",
            "justify_items": null,
            "grid_row": null,
            "max_height": null,
            "align_content": null,
            "visibility": null,
            "align_self": null,
            "height": null,
            "min_height": null,
            "padding": null,
            "grid_auto_rows": null,
            "grid_gap": null,
            "max_width": null,
            "order": null,
            "_view_module_version": "1.2.0",
            "grid_template_areas": null,
            "object_position": null,
            "object_fit": null,
            "grid_auto_columns": null,
            "margin": null,
            "display": null,
            "left": null
          }
        },
        "0ef6069f49674de68d8bc26087e39be4": {
          "model_module": "@jupyter-widgets/controls",
          "model_name": "HBoxModel",
          "state": {
            "_view_name": "HBoxView",
            "_dom_classes": [],
            "_model_name": "HBoxModel",
            "_view_module": "@jupyter-widgets/controls",
            "_model_module_version": "1.5.0",
            "_view_count": null,
            "_view_module_version": "1.5.0",
            "box_style": "",
            "layout": "IPY_MODEL_3d0cec2164d44676bfc86431a8014c7f",
            "_model_module": "@jupyter-widgets/controls",
            "children": [
              "IPY_MODEL_89abdad00c024e1c93880ff2ca228d36",
              "IPY_MODEL_ce9e107244c54f6487ef94e30c0209f4"
            ]
          }
        },
        "3d0cec2164d44676bfc86431a8014c7f": {
          "model_module": "@jupyter-widgets/base",
          "model_name": "LayoutModel",
          "state": {
            "_view_name": "LayoutView",
            "grid_template_rows": null,
            "right": null,
            "justify_content": null,
            "_view_module": "@jupyter-widgets/base",
            "overflow": null,
            "_model_module_version": "1.2.0",
            "_view_count": null,
            "flex_flow": null,
            "width": null,
            "min_width": null,
            "border": null,
            "align_items": null,
            "bottom": null,
            "_model_module": "@jupyter-widgets/base",
            "top": null,
            "grid_column": null,
            "overflow_y": null,
            "overflow_x": null,
            "grid_auto_flow": null,
            "grid_area": null,
            "grid_template_columns": null,
            "flex": null,
            "_model_name": "LayoutModel",
            "justify_items": null,
            "grid_row": null,
            "max_height": null,
            "align_content": null,
            "visibility": null,
            "align_self": null,
            "height": null,
            "min_height": null,
            "padding": null,
            "grid_auto_rows": null,
            "grid_gap": null,
            "max_width": null,
            "order": null,
            "_view_module_version": "1.2.0",
            "grid_template_areas": null,
            "object_position": null,
            "object_fit": null,
            "grid_auto_columns": null,
            "margin": null,
            "display": null,
            "left": null
          }
        },
        "89abdad00c024e1c93880ff2ca228d36": {
          "model_module": "@jupyter-widgets/controls",
          "model_name": "FloatProgressModel",
          "state": {
            "_view_name": "ProgressView",
            "style": "IPY_MODEL_9596dbd9533e46d1b11d6869a771a3f7",
            "_dom_classes": [],
            "description": " 57%",
            "_model_name": "FloatProgressModel",
            "bar_style": "danger",
            "max": 2000,
            "_view_module": "@jupyter-widgets/controls",
            "_model_module_version": "1.5.0",
            "value": 1141,
            "_view_count": null,
            "_view_module_version": "1.5.0",
            "orientation": "horizontal",
            "min": 0,
            "description_tooltip": null,
            "_model_module": "@jupyter-widgets/controls",
            "layout": "IPY_MODEL_5cae15f4ad3741a7bc90b2e2331640cc"
          }
        },
        "ce9e107244c54f6487ef94e30c0209f4": {
          "model_module": "@jupyter-widgets/controls",
          "model_name": "HTMLModel",
          "state": {
            "_view_name": "HTMLView",
            "style": "IPY_MODEL_dc64a54d2d1b45abb57287694e2c17b0",
            "_dom_classes": [],
            "description": "",
            "_model_name": "HTMLModel",
            "placeholder": "​",
            "_view_module": "@jupyter-widgets/controls",
            "_model_module_version": "1.5.0",
            "value": " 1141/2000 [01:14&lt;00:48, 17.84it/s]",
            "_view_count": null,
            "_view_module_version": "1.5.0",
            "description_tooltip": null,
            "_model_module": "@jupyter-widgets/controls",
            "layout": "IPY_MODEL_e8dd689adbbf41ee8dc2672cdd03d2ea"
          }
        },
        "9596dbd9533e46d1b11d6869a771a3f7": {
          "model_module": "@jupyter-widgets/controls",
          "model_name": "ProgressStyleModel",
          "state": {
            "_view_name": "StyleView",
            "_model_name": "ProgressStyleModel",
            "description_width": "initial",
            "_view_module": "@jupyter-widgets/base",
            "_model_module_version": "1.5.0",
            "_view_count": null,
            "_view_module_version": "1.2.0",
            "bar_color": null,
            "_model_module": "@jupyter-widgets/controls"
          }
        },
        "5cae15f4ad3741a7bc90b2e2331640cc": {
          "model_module": "@jupyter-widgets/base",
          "model_name": "LayoutModel",
          "state": {
            "_view_name": "LayoutView",
            "grid_template_rows": null,
            "right": null,
            "justify_content": null,
            "_view_module": "@jupyter-widgets/base",
            "overflow": null,
            "_model_module_version": "1.2.0",
            "_view_count": null,
            "flex_flow": null,
            "width": null,
            "min_width": null,
            "border": null,
            "align_items": null,
            "bottom": null,
            "_model_module": "@jupyter-widgets/base",
            "top": null,
            "grid_column": null,
            "overflow_y": null,
            "overflow_x": null,
            "grid_auto_flow": null,
            "grid_area": null,
            "grid_template_columns": null,
            "flex": null,
            "_model_name": "LayoutModel",
            "justify_items": null,
            "grid_row": null,
            "max_height": null,
            "align_content": null,
            "visibility": null,
            "align_self": null,
            "height": null,
            "min_height": null,
            "padding": null,
            "grid_auto_rows": null,
            "grid_gap": null,
            "max_width": null,
            "order": null,
            "_view_module_version": "1.2.0",
            "grid_template_areas": null,
            "object_position": null,
            "object_fit": null,
            "grid_auto_columns": null,
            "margin": null,
            "display": null,
            "left": null
          }
        },
        "dc64a54d2d1b45abb57287694e2c17b0": {
          "model_module": "@jupyter-widgets/controls",
          "model_name": "DescriptionStyleModel",
          "state": {
            "_view_name": "StyleView",
            "_model_name": "DescriptionStyleModel",
            "description_width": "",
            "_view_module": "@jupyter-widgets/base",
            "_model_module_version": "1.5.0",
            "_view_count": null,
            "_view_module_version": "1.2.0",
            "_model_module": "@jupyter-widgets/controls"
          }
        },
        "e8dd689adbbf41ee8dc2672cdd03d2ea": {
          "model_module": "@jupyter-widgets/base",
          "model_name": "LayoutModel",
          "state": {
            "_view_name": "LayoutView",
            "grid_template_rows": null,
            "right": null,
            "justify_content": null,
            "_view_module": "@jupyter-widgets/base",
            "overflow": null,
            "_model_module_version": "1.2.0",
            "_view_count": null,
            "flex_flow": null,
            "width": null,
            "min_width": null,
            "border": null,
            "align_items": null,
            "bottom": null,
            "_model_module": "@jupyter-widgets/base",
            "top": null,
            "grid_column": null,
            "overflow_y": null,
            "overflow_x": null,
            "grid_auto_flow": null,
            "grid_area": null,
            "grid_template_columns": null,
            "flex": null,
            "_model_name": "LayoutModel",
            "justify_items": null,
            "grid_row": null,
            "max_height": null,
            "align_content": null,
            "visibility": null,
            "align_self": null,
            "height": null,
            "min_height": null,
            "padding": null,
            "grid_auto_rows": null,
            "grid_gap": null,
            "max_width": null,
            "order": null,
            "_view_module_version": "1.2.0",
            "grid_template_areas": null,
            "object_position": null,
            "object_fit": null,
            "grid_auto_columns": null,
            "margin": null,
            "display": null,
            "left": null
          }
        },
        "8b12930a15f641cd9da501a9b7ac136b": {
          "model_module": "@jupyter-widgets/controls",
          "model_name": "HBoxModel",
          "state": {
            "_view_name": "HBoxView",
            "_dom_classes": [],
            "_model_name": "HBoxModel",
            "_view_module": "@jupyter-widgets/controls",
            "_model_module_version": "1.5.0",
            "_view_count": null,
            "_view_module_version": "1.5.0",
            "box_style": "",
            "layout": "IPY_MODEL_5c209f7d7ef24ea2ab497110e13aebb2",
            "_model_module": "@jupyter-widgets/controls",
            "children": [
              "IPY_MODEL_b077224dcef74b90a4dba288170cb1c5",
              "IPY_MODEL_0d18112ad0f148c09f691a8528ae687b"
            ]
          }
        },
        "5c209f7d7ef24ea2ab497110e13aebb2": {
          "model_module": "@jupyter-widgets/base",
          "model_name": "LayoutModel",
          "state": {
            "_view_name": "LayoutView",
            "grid_template_rows": null,
            "right": null,
            "justify_content": null,
            "_view_module": "@jupyter-widgets/base",
            "overflow": null,
            "_model_module_version": "1.2.0",
            "_view_count": null,
            "flex_flow": null,
            "width": null,
            "min_width": null,
            "border": null,
            "align_items": null,
            "bottom": null,
            "_model_module": "@jupyter-widgets/base",
            "top": null,
            "grid_column": null,
            "overflow_y": null,
            "overflow_x": null,
            "grid_auto_flow": null,
            "grid_area": null,
            "grid_template_columns": null,
            "flex": null,
            "_model_name": "LayoutModel",
            "justify_items": null,
            "grid_row": null,
            "max_height": null,
            "align_content": null,
            "visibility": null,
            "align_self": null,
            "height": null,
            "min_height": null,
            "padding": null,
            "grid_auto_rows": null,
            "grid_gap": null,
            "max_width": null,
            "order": null,
            "_view_module_version": "1.2.0",
            "grid_template_areas": null,
            "object_position": null,
            "object_fit": null,
            "grid_auto_columns": null,
            "margin": null,
            "display": null,
            "left": null
          }
        },
        "b077224dcef74b90a4dba288170cb1c5": {
          "model_module": "@jupyter-widgets/controls",
          "model_name": "FloatProgressModel",
          "state": {
            "_view_name": "ProgressView",
            "style": "IPY_MODEL_d99cedc3abc748a78a4541640d159683",
            "_dom_classes": [],
            "description": " 54%",
            "_model_name": "FloatProgressModel",
            "bar_style": "danger",
            "max": 2000,
            "_view_module": "@jupyter-widgets/controls",
            "_model_module_version": "1.5.0",
            "value": 1088,
            "_view_count": null,
            "_view_module_version": "1.5.0",
            "orientation": "horizontal",
            "min": 0,
            "description_tooltip": null,
            "_model_module": "@jupyter-widgets/controls",
            "layout": "IPY_MODEL_82ad6c78e2c14932989377e97333cef5"
          }
        },
        "0d18112ad0f148c09f691a8528ae687b": {
          "model_module": "@jupyter-widgets/controls",
          "model_name": "HTMLModel",
          "state": {
            "_view_name": "HTMLView",
            "style": "IPY_MODEL_5b96259c64ec41ff8dbcdc8c233f7623",
            "_dom_classes": [],
            "description": "",
            "_model_name": "HTMLModel",
            "placeholder": "​",
            "_view_module": "@jupyter-widgets/controls",
            "_model_module_version": "1.5.0",
            "value": " 1088/2000 [01:11&lt;00:48, 18.68it/s]",
            "_view_count": null,
            "_view_module_version": "1.5.0",
            "description_tooltip": null,
            "_model_module": "@jupyter-widgets/controls",
            "layout": "IPY_MODEL_bbe057a413f5477f80e0bc705e8e77a7"
          }
        },
        "d99cedc3abc748a78a4541640d159683": {
          "model_module": "@jupyter-widgets/controls",
          "model_name": "ProgressStyleModel",
          "state": {
            "_view_name": "StyleView",
            "_model_name": "ProgressStyleModel",
            "description_width": "initial",
            "_view_module": "@jupyter-widgets/base",
            "_model_module_version": "1.5.0",
            "_view_count": null,
            "_view_module_version": "1.2.0",
            "bar_color": null,
            "_model_module": "@jupyter-widgets/controls"
          }
        },
        "82ad6c78e2c14932989377e97333cef5": {
          "model_module": "@jupyter-widgets/base",
          "model_name": "LayoutModel",
          "state": {
            "_view_name": "LayoutView",
            "grid_template_rows": null,
            "right": null,
            "justify_content": null,
            "_view_module": "@jupyter-widgets/base",
            "overflow": null,
            "_model_module_version": "1.2.0",
            "_view_count": null,
            "flex_flow": null,
            "width": null,
            "min_width": null,
            "border": null,
            "align_items": null,
            "bottom": null,
            "_model_module": "@jupyter-widgets/base",
            "top": null,
            "grid_column": null,
            "overflow_y": null,
            "overflow_x": null,
            "grid_auto_flow": null,
            "grid_area": null,
            "grid_template_columns": null,
            "flex": null,
            "_model_name": "LayoutModel",
            "justify_items": null,
            "grid_row": null,
            "max_height": null,
            "align_content": null,
            "visibility": null,
            "align_self": null,
            "height": null,
            "min_height": null,
            "padding": null,
            "grid_auto_rows": null,
            "grid_gap": null,
            "max_width": null,
            "order": null,
            "_view_module_version": "1.2.0",
            "grid_template_areas": null,
            "object_position": null,
            "object_fit": null,
            "grid_auto_columns": null,
            "margin": null,
            "display": null,
            "left": null
          }
        },
        "5b96259c64ec41ff8dbcdc8c233f7623": {
          "model_module": "@jupyter-widgets/controls",
          "model_name": "DescriptionStyleModel",
          "state": {
            "_view_name": "StyleView",
            "_model_name": "DescriptionStyleModel",
            "description_width": "",
            "_view_module": "@jupyter-widgets/base",
            "_model_module_version": "1.5.0",
            "_view_count": null,
            "_view_module_version": "1.2.0",
            "_model_module": "@jupyter-widgets/controls"
          }
        },
        "bbe057a413f5477f80e0bc705e8e77a7": {
          "model_module": "@jupyter-widgets/base",
          "model_name": "LayoutModel",
          "state": {
            "_view_name": "LayoutView",
            "grid_template_rows": null,
            "right": null,
            "justify_content": null,
            "_view_module": "@jupyter-widgets/base",
            "overflow": null,
            "_model_module_version": "1.2.0",
            "_view_count": null,
            "flex_flow": null,
            "width": null,
            "min_width": null,
            "border": null,
            "align_items": null,
            "bottom": null,
            "_model_module": "@jupyter-widgets/base",
            "top": null,
            "grid_column": null,
            "overflow_y": null,
            "overflow_x": null,
            "grid_auto_flow": null,
            "grid_area": null,
            "grid_template_columns": null,
            "flex": null,
            "_model_name": "LayoutModel",
            "justify_items": null,
            "grid_row": null,
            "max_height": null,
            "align_content": null,
            "visibility": null,
            "align_self": null,
            "height": null,
            "min_height": null,
            "padding": null,
            "grid_auto_rows": null,
            "grid_gap": null,
            "max_width": null,
            "order": null,
            "_view_module_version": "1.2.0",
            "grid_template_areas": null,
            "object_position": null,
            "object_fit": null,
            "grid_auto_columns": null,
            "margin": null,
            "display": null,
            "left": null
          }
        },
        "1781277cc4074b2d82ce2ff5ac5a42a7": {
          "model_module": "@jupyter-widgets/controls",
          "model_name": "HBoxModel",
          "state": {
            "_view_name": "HBoxView",
            "_dom_classes": [],
            "_model_name": "HBoxModel",
            "_view_module": "@jupyter-widgets/controls",
            "_model_module_version": "1.5.0",
            "_view_count": null,
            "_view_module_version": "1.5.0",
            "box_style": "",
            "layout": "IPY_MODEL_7daf21e23667476b89739dacac0d3a5c",
            "_model_module": "@jupyter-widgets/controls",
            "children": [
              "IPY_MODEL_fb6edf15350a475cb073290aa0647d25",
              "IPY_MODEL_9f8f053ee0c7403899c36dd09e9ae92c"
            ]
          }
        },
        "7daf21e23667476b89739dacac0d3a5c": {
          "model_module": "@jupyter-widgets/base",
          "model_name": "LayoutModel",
          "state": {
            "_view_name": "LayoutView",
            "grid_template_rows": null,
            "right": null,
            "justify_content": null,
            "_view_module": "@jupyter-widgets/base",
            "overflow": null,
            "_model_module_version": "1.2.0",
            "_view_count": null,
            "flex_flow": null,
            "width": null,
            "min_width": null,
            "border": null,
            "align_items": null,
            "bottom": null,
            "_model_module": "@jupyter-widgets/base",
            "top": null,
            "grid_column": null,
            "overflow_y": null,
            "overflow_x": null,
            "grid_auto_flow": null,
            "grid_area": null,
            "grid_template_columns": null,
            "flex": null,
            "_model_name": "LayoutModel",
            "justify_items": null,
            "grid_row": null,
            "max_height": null,
            "align_content": null,
            "visibility": null,
            "align_self": null,
            "height": null,
            "min_height": null,
            "padding": null,
            "grid_auto_rows": null,
            "grid_gap": null,
            "max_width": null,
            "order": null,
            "_view_module_version": "1.2.0",
            "grid_template_areas": null,
            "object_position": null,
            "object_fit": null,
            "grid_auto_columns": null,
            "margin": null,
            "display": null,
            "left": null
          }
        },
        "fb6edf15350a475cb073290aa0647d25": {
          "model_module": "@jupyter-widgets/controls",
          "model_name": "FloatProgressModel",
          "state": {
            "_view_name": "ProgressView",
            "style": "IPY_MODEL_c6d07511839e47b88c16c55d7bad39ab",
            "_dom_classes": [],
            "description": " 81%",
            "_model_name": "FloatProgressModel",
            "bar_style": "",
            "max": 2000,
            "_view_module": "@jupyter-widgets/controls",
            "_model_module_version": "1.5.0",
            "value": 1621,
            "_view_count": null,
            "_view_module_version": "1.5.0",
            "orientation": "horizontal",
            "min": 0,
            "description_tooltip": null,
            "_model_module": "@jupyter-widgets/controls",
            "layout": "IPY_MODEL_fafd8ef8cf02477482074b2bc4cb57f9"
          }
        },
        "9f8f053ee0c7403899c36dd09e9ae92c": {
          "model_module": "@jupyter-widgets/controls",
          "model_name": "HTMLModel",
          "state": {
            "_view_name": "HTMLView",
            "style": "IPY_MODEL_c91ac05e5c1b4b34aeef87e453c6df4e",
            "_dom_classes": [],
            "description": "",
            "_model_name": "HTMLModel",
            "placeholder": "​",
            "_view_module": "@jupyter-widgets/controls",
            "_model_module_version": "1.5.0",
            "value": " 1621/2000 [01:21&lt;00:17, 21.74it/s]",
            "_view_count": null,
            "_view_module_version": "1.5.0",
            "description_tooltip": null,
            "_model_module": "@jupyter-widgets/controls",
            "layout": "IPY_MODEL_ba51a4459f614fe18b9a340d3ec86347"
          }
        },
        "c6d07511839e47b88c16c55d7bad39ab": {
          "model_module": "@jupyter-widgets/controls",
          "model_name": "ProgressStyleModel",
          "state": {
            "_view_name": "StyleView",
            "_model_name": "ProgressStyleModel",
            "description_width": "initial",
            "_view_module": "@jupyter-widgets/base",
            "_model_module_version": "1.5.0",
            "_view_count": null,
            "_view_module_version": "1.2.0",
            "bar_color": null,
            "_model_module": "@jupyter-widgets/controls"
          }
        },
        "fafd8ef8cf02477482074b2bc4cb57f9": {
          "model_module": "@jupyter-widgets/base",
          "model_name": "LayoutModel",
          "state": {
            "_view_name": "LayoutView",
            "grid_template_rows": null,
            "right": null,
            "justify_content": null,
            "_view_module": "@jupyter-widgets/base",
            "overflow": null,
            "_model_module_version": "1.2.0",
            "_view_count": null,
            "flex_flow": null,
            "width": null,
            "min_width": null,
            "border": null,
            "align_items": null,
            "bottom": null,
            "_model_module": "@jupyter-widgets/base",
            "top": null,
            "grid_column": null,
            "overflow_y": null,
            "overflow_x": null,
            "grid_auto_flow": null,
            "grid_area": null,
            "grid_template_columns": null,
            "flex": null,
            "_model_name": "LayoutModel",
            "justify_items": null,
            "grid_row": null,
            "max_height": null,
            "align_content": null,
            "visibility": null,
            "align_self": null,
            "height": null,
            "min_height": null,
            "padding": null,
            "grid_auto_rows": null,
            "grid_gap": null,
            "max_width": null,
            "order": null,
            "_view_module_version": "1.2.0",
            "grid_template_areas": null,
            "object_position": null,
            "object_fit": null,
            "grid_auto_columns": null,
            "margin": null,
            "display": null,
            "left": null
          }
        },
        "c91ac05e5c1b4b34aeef87e453c6df4e": {
          "model_module": "@jupyter-widgets/controls",
          "model_name": "DescriptionStyleModel",
          "state": {
            "_view_name": "StyleView",
            "_model_name": "DescriptionStyleModel",
            "description_width": "",
            "_view_module": "@jupyter-widgets/base",
            "_model_module_version": "1.5.0",
            "_view_count": null,
            "_view_module_version": "1.2.0",
            "_model_module": "@jupyter-widgets/controls"
          }
        },
        "ba51a4459f614fe18b9a340d3ec86347": {
          "model_module": "@jupyter-widgets/base",
          "model_name": "LayoutModel",
          "state": {
            "_view_name": "LayoutView",
            "grid_template_rows": null,
            "right": null,
            "justify_content": null,
            "_view_module": "@jupyter-widgets/base",
            "overflow": null,
            "_model_module_version": "1.2.0",
            "_view_count": null,
            "flex_flow": null,
            "width": null,
            "min_width": null,
            "border": null,
            "align_items": null,
            "bottom": null,
            "_model_module": "@jupyter-widgets/base",
            "top": null,
            "grid_column": null,
            "overflow_y": null,
            "overflow_x": null,
            "grid_auto_flow": null,
            "grid_area": null,
            "grid_template_columns": null,
            "flex": null,
            "_model_name": "LayoutModel",
            "justify_items": null,
            "grid_row": null,
            "max_height": null,
            "align_content": null,
            "visibility": null,
            "align_self": null,
            "height": null,
            "min_height": null,
            "padding": null,
            "grid_auto_rows": null,
            "grid_gap": null,
            "max_width": null,
            "order": null,
            "_view_module_version": "1.2.0",
            "grid_template_areas": null,
            "object_position": null,
            "object_fit": null,
            "grid_auto_columns": null,
            "margin": null,
            "display": null,
            "left": null
          }
        }
      }
    }
  },
  "cells": [
    {
      "cell_type": "markdown",
      "metadata": {
        "id": "view-in-github",
        "colab_type": "text"
      },
      "source": [
        "<a href=\"https://colab.research.google.com/github/geekpradd/Reinforcement-Learning-Stock-Trader/blob/master/New_Stock_Updated1.ipynb\" target=\"_parent\"><img src=\"https://colab.research.google.com/assets/colab-badge.svg\" alt=\"Open In Colab\"/></a>"
      ]
    },
    {
      "cell_type": "code",
      "metadata": {
        "id": "UL-H71zCQ23m",
        "colab_type": "code",
        "colab": {}
      },
      "source": [
        "%matplotlib inline\n",
        "import gym\n",
        "from gym import spaces\n",
        "from matplotlib import pyplot as plt\n",
        "import time\n",
        "from tqdm import tqdm_notebook\n",
        "import tensorflow as tf\n",
        "from tensorflow import keras\n",
        "import pandas as pd\n",
        "import numpy as np\n",
        "import random\n",
        "from tensorflow.keras.layers import Dense, Concatenate, Lambda, Activation\n",
        "from tensorflow.keras import Input\n",
        "from tensorflow import convert_to_tensor as convert\n",
        "import pickle\n",
        "# COLAB = False\n",
        "# if not COLAB:\n",
        "#     import os\n",
        "#     os.environ['CUDA_VISIBLE_DEVICES'] = '-1'\n",
        "path_base = '/content/drive/My Drive/Stock/'"
      ],
      "execution_count": 0,
      "outputs": []
    },
    {
      "cell_type": "code",
      "metadata": {
        "id": "v8618sorQ4t5",
        "colab_type": "code",
        "colab": {}
      },
      "source": [
        "class StockEnv(gym.Env):\n",
        "    metadata = {'render.modes': ['human']}\n",
        "    \n",
        "    def __init__(self, df, params, train = True):\n",
        "        super(StockEnv,self).__init__()\n",
        "        \n",
        "        self.num_stocks = params['num_stocks']\n",
        "        self.min_brokerage = params['min_brokerage']\n",
        "        self.brokerage_rate = params['brokerage_rate']\n",
        "        self.balance_normal = params['balance_normal']\n",
        "        self.shares_normal = params['shares_normal']\n",
        "        self.volume_normal = params['volume_normal']\n",
        "        self.dfs = df\n",
        "        self.state_dimensions = self.num_stocks*5+1\n",
        "        self.train = train\n",
        "\n",
        "        assert len(df) == self.num_stocks, \"Size of database not equal to number of stocks\"\n",
        "\n",
        "        self.max_steps = min([len(d.loc[:,'Open']) for d in self.dfs])\n",
        "        self.action_space = spaces.Box(low = -1, high = 1, shape =  (1, self.num_stocks*2), dtype = np.float32)\n",
        "        self.observation_space = spaces.Box(low = 0, high = 1, shape = (1, self.state_dimensions), dtype = np.float32)\n",
        "\n",
        "    def reset(self, intial_balance = 10000, shares_held = None):\n",
        "\n",
        "        if self.train:\n",
        "            self.current_step = np.random.randint(0, self.max_steps)\n",
        "        else:\n",
        "            self.current_step = 0\n",
        "        self.balance = intial_balance\n",
        "        self.shares_held = shares_held\n",
        "        if self.shares_held is None:\n",
        "            self.shares_held = np.zeros((1, self.num_stocks))\n",
        "        self.current_price = self.get_price()\n",
        "        self.highest_price = 0\n",
        "        self.net_worth = self.balance + np.sum(self.shares_held*self.current_price)\n",
        "        self.initial_worth = self.net_worth\n",
        "        self.max_net_worth = self.net_worth\n",
        "        self.set_high()\n",
        "        self.done = False\n",
        "        self.frame = np.zeros((1, self.state_dimensions))\n",
        "        self.info = {\n",
        "            'current_step' : self.current_step,\n",
        "            'current_price': self.current_price,\n",
        "            'highest_price': self.highest_price,\n",
        "            'net_worth' : self.net_worth,\n",
        "            'max_net_worth': self.max_net_worth,\n",
        "            'shares_held' : self.shares_held,\n",
        "            'shares_normal' : self.shares_normal,\n",
        "            'balance_normal' : self.balance_normal,\n",
        "            'balance' : self.balance,\n",
        "        }\n",
        "        return self.observe()\n",
        "        \n",
        "    def get_price(self):\n",
        "        return np.array([np.random.uniform(df.loc[self.current_step,\"Low\"], df.loc[self.current_step,\"High\"]) for df in self.dfs]).reshape((1, self.num_stocks))\n",
        "      \n",
        "    def set_high(self):\n",
        "        high = np.array([df.loc[self.current_step, 'High'] for df in self.dfs]).reshape((1, self.num_stocks))\n",
        "        self.highest_price = np.maximum(self.highest_price, high)\n",
        "\n",
        "    def observe(self):\n",
        "        for i in range(self.num_stocks):\n",
        "            self.frame[0, 4*i:4*i+4] = np.array([self.dfs[i].loc[self.current_step,'Open'],self.dfs[i].loc[self.current_step,'High'],self.dfs[i].loc[self.current_step,'Low'],self.dfs[i].loc[self.current_step,'Close']])/self.highest_price[0, i]\n",
        "        self.frame[0, self.num_stocks*4:self.num_stocks*5] = self.shares_held/self.shares_normal\n",
        "        self.frame[0, 5*self.num_stocks] = self.balance/self.balance_normal\n",
        "        self.info = {\n",
        "            'current_step' : self.current_step,\n",
        "            'current_price': self.current_price,\n",
        "            'highest_price': self.highest_price,\n",
        "            'net_worth' : self.net_worth,\n",
        "            'max_net_worth': self.max_net_worth,\n",
        "            'shares_held' : self.shares_held,\n",
        "            'shares_normal' : self.shares_normal,\n",
        "            'balance_normal' : self.balance_normal,\n",
        "            'balance' : self.balance\n",
        "        }\n",
        "        return self.frame, self.info\n",
        "    \n",
        "    def update_worth(self, reward):\n",
        "        self.net_worth += reward\n",
        "        self.max_net_worth = max(self.max_net_worth, self.net_worth)\n",
        "\n",
        "    def update_balance(self, action):\n",
        "        self.balance += np.sum(action[:, :self.num_stocks]*self.current_price)\n",
        "        self.balance -= np.sum(action[:, self.num_stocks:])\n",
        "\n",
        "    def update_shares(self, action):\n",
        "        self.shares_held -= action[:, :self.num_stocks]\n",
        "        buy = action[:, self.num_stocks:]/self.current_price\n",
        "        self.shares_held += buy\n",
        "\n",
        "    def take_action(self, action):\n",
        "        action[:, :self.num_stocks] *= self.shares_held\n",
        "        action[:, self.num_stocks:] *= self.balance\n",
        "        self.current_price = self.get_price()\n",
        "        self.set_high()\n",
        "        self.update_balance(action)\n",
        "        self.update_shares(action)\n",
        "        reward = self.balance + np.sum(self.shares_held * self.current_price) - self.net_worth\n",
        "        self.update_worth(reward)\n",
        "        return reward\n",
        "            \n",
        "    def step(self, action):\n",
        "        self.current_step += 1\n",
        "        if self.current_step >= self.max_steps or self.done:\n",
        "            self.done = True\n",
        "            return np.zeros((1, self.state_dimensions)), 0, self.done, self.info\n",
        "        if np.sum(action[:, self.num_stocks:]) > 1:\n",
        "            print('gadbad')\n",
        "        reward = self.take_action(action)\n",
        "        self.done = self.net_worth <= self.initial_worth*0.05\n",
        "        if self.done:\n",
        "            print('snap')\n",
        "        obs, info = self.observe()\n",
        "        return obs, reward, self.done, info\n",
        "    \n",
        "    def render(self, mode='human', close = False):\n",
        "        profit = self.net_worth - self.initial_worth\n",
        "        print('Step: {}'.format(self.current_step))\n",
        "        print('Net Worth: {}'.format(self.net_worth))\n",
        "        print('Profit: {}'.format(profit))\n",
        "        \n",
        "def create_stock_env(locations, train=True):\n",
        "    dfs = [pd.read_csv(location).sort_values('Date') for location in locations]\n",
        "    params = {\n",
        "        'num_stocks' : 2,\n",
        "        'min_brokerage' : 30.0,\n",
        "        'brokerage_rate' : 0.001,\n",
        "        'balance_normal' : 1000000,\n",
        "        'shares_normal' : 10000,\n",
        "        'volume_normal' : 2147483647,\n",
        "    }\n",
        "    return StockEnv(dfs, params, train)"
      ],
      "execution_count": 0,
      "outputs": []
    },
    {
      "cell_type": "code",
      "metadata": {
        "id": "Caoah1T3Q6UV",
        "colab_type": "code",
        "colab": {}
      },
      "source": [
        "class ReplayMemory:\n",
        "    def __init__(self, max_size):\n",
        "        self.buffer = [None] * max_size\n",
        "        self.max_size = max_size\n",
        "        self.index = 0\n",
        "        self.size = 0\n",
        "\n",
        "    def append(self, obj):\n",
        "        self.buffer[self.index] = obj\n",
        "        self.size = min(self.size + 1, self.max_size)\n",
        "        self.index = (self.index + 1) % self.max_size\n",
        "\n",
        "    def sample(self, batch_size):\n",
        "        indices = random.sample(range(self.size), batch_size)\n",
        "        return [self.buffer[index] for index in indices]\n",
        "        \n",
        "class OrnsteinUhlenbeckActionNoise:\n",
        "    def __init__(self, mu, sigma=0.3, theta=.15, dt=1e-2, x0=None):\n",
        "        self.theta = theta\n",
        "        self.mu = mu\n",
        "        self.sigma = sigma\n",
        "        self.dt = dt\n",
        "        self.x0 = x0\n",
        "        self.reset()\n",
        "\n",
        "    def __call__(self):\n",
        "        x = self.x_prev + self.theta * (self.mu - self.x_prev) * self.dt + \\\n",
        "                self.sigma * np.sqrt(self.dt) * np.random.normal(size=self.mu.shape)\n",
        "        self.x_prev = x\n",
        "        return x\n",
        "\n",
        "    def reset(self):\n",
        "        self.x_prev = self.x0 if self.x0 is not None else np.zeros_like(self.mu)\n",
        "\n",
        "    def __repr__(self):\n",
        "        return 'OrnsteinUhlenbeckActionNoise(mu={}, sigma={})'.format(self.mu, self.sigma)"
      ],
      "execution_count": 0,
      "outputs": []
    },
    {
      "cell_type": "code",
      "metadata": {
        "id": "GzsZozkwQ8Z9",
        "colab_type": "code",
        "colab": {}
      },
      "source": [
        "class Actor:\n",
        "    def __init__(self, params):\n",
        "        self.output_range = params[\"output_range\"]\n",
        "        self.state_dimensions = params[\"state_dimensions\"]\n",
        "        self.action_dimensions = params[\"action_dimensions\"]\n",
        "        self.cap = params['cap']\n",
        "        self.actor = self.build_model()\n",
        "        \n",
        "    def build_model(self):\n",
        "        inputs = Input(shape=(self.state_dimensions, ))\n",
        "        x = Dense(60, activation = 'relu')(inputs)\n",
        "        x = Dense(16, activation = 'relu')(x)\n",
        "        sell = Dense(self.action_dimensions, activation = 'sigmoid')(x)\n",
        "        buy = Dense(self.action_dimensions, activation = 'sigmoid')(x)\n",
        "        final_buy = Activation(tf.keras.activations.softmax)(buy)*tf.math.minimum(self.cap, tf.reduce_sum(buy, axis = -1, keepdims = True))\n",
        "        model = keras.Model(inputs = inputs, outputs = tf.concat([sell, final_buy], axis = -1))\n",
        "        # model.summary()\n",
        "        return model\n",
        "    \n",
        "    def get_action(self, state):\n",
        "        return self.actor(convert(state))\n",
        "\n",
        "    def save(self):\n",
        "        self.actor.save(path_base + 'actor.h5')\n",
        "    \n",
        "    def load(self):\n",
        "        self.actor = keras.models.load_model(path_base + 'actor.h5')\n",
        "        print('Successfully Loaded')\n",
        "\n",
        "class Critic:\n",
        "    def __init__(self, params):\n",
        "        self.state_dimensions = params[\"state_dimensions\"]\n",
        "        self.action_dimensions = params[\"action_dimensions\"]\n",
        "        self.optimizer = params[\"critic_optimizer\"]\n",
        "        self.tau = params['tau']\n",
        "        self.critic_online = self.build_model()\n",
        "        self.critic_target = self.build_model()\n",
        "        self.critic_online.set_weights(self.critic_target.get_weights())\n",
        "\n",
        "    def build_model(self):\n",
        "        input_a = Input(shape = (self.state_dimensions, ))\n",
        "        input_b = Input(shape = (2*self.action_dimensions, ))\n",
        "        input = Concatenate(axis = -1)([input_a, input_b])\n",
        "        x = Dense(60, activation = 'relu')(input)\n",
        "        x = Dense(16, activation = 'relu')(x)\n",
        "        output = Dense(1)(x)\n",
        "        model = keras.Model(inputs=[input_a, input_b], outputs = output)\n",
        "        model.compile(loss='mse', optimizer = keras.optimizers.Adam(learning_rate = 0.001))\n",
        "        # model.summary()\n",
        "        return model\n",
        "\n",
        "    def save(self):\n",
        "        self.critic_online.save(path_base + 'critic_online.h5')\n",
        "        self.critic_target.save(path_base + 'critic_target.h5')\n",
        "\n",
        "    def load(self):\n",
        "        self.critic_online = keras.models.load_model(path_base + 'critic_online.h5')\n",
        "        self.critic_target = keras.models.load_model(path_base + 'critic_target.h5')\n",
        "\n",
        "    def get_qvalues(self, state_array, action_array, online=True):\n",
        "        if online:\n",
        "            return self.critic_online([convert(state_array), convert(action_array)])\n",
        "        else:\n",
        "            return self.critic_target([convert(state_array), convert(action_array)])\n",
        "\n",
        "    def call(self, state_tensor, action_tensor):\n",
        "        return self.critic_online([state_tensor, action_tensor])\n",
        "    \n",
        "    def merge(self):\n",
        "        self.critic_target.set_weights(self.tau*np.array(self.critic_online.get_weights())\n",
        "                                                                    + (1-self.tau)*np.array(self.critic_target.get_weights()))"
      ],
      "execution_count": 0,
      "outputs": []
    },
    {
      "cell_type": "code",
      "metadata": {
        "id": "aS69nBDyQ-I0",
        "colab_type": "code",
        "colab": {}
      },
      "source": [
        "class Agent:\n",
        "    def __init__(self, params, train = True, resume = True):\n",
        "        self.train = train\n",
        "        self.actor = Actor(params)\n",
        "        self.critic = Critic(params)\n",
        "        self.buffer = ReplayMemory(params[\"buffer_size\"])\n",
        "        self.state_dimensions = params[\"state_dimensions\"]\n",
        "        self.action_dimensions = params[\"action_dimensions\"]\n",
        "        self.discount = params[\"discount\"]\n",
        "        self.action_range = params[\"output_range\"]\n",
        "        self.save_frequency = params[\"save_frequency\"]\n",
        "        self.batch_size = params[\"batch_size\"]\n",
        "        self.optimizer = params[\"actor_optimizer\"]\n",
        "        self.cap = params['cap']\n",
        "        self.num_steps = 0\n",
        "        self.noise_func =  OrnsteinUhlenbeckActionNoise(mu=np.zeros(2*params[\"action_dimensions\"]))\n",
        "        if resume:\n",
        "            self.load()\n",
        "        \n",
        "    def agent_start(self, observation):\n",
        "        action = self.actor.get_action(observation)\n",
        "        if self.train:\n",
        "            action = self.clip_action(action + self.noise_func())\n",
        "        else:\n",
        "            action = self.clip_action(action)\n",
        "\n",
        "        self.prev_state = observation\n",
        "        self.prev_action = action\n",
        "        return action\n",
        "\n",
        "    def clip_action(self, action):\n",
        "        action = np.clip(action, 0, self.action_range)\n",
        "        sum = np.sum(action, axis = -1, keepdims = True)\n",
        "        action = action/sum*np.minimum(sum, self.cap)\n",
        "        return action\n",
        "\n",
        "    def agent_step(self, reward, observation):\n",
        "        if self.train:\n",
        "            replay = (self.prev_state, self.prev_action, reward, observation)\n",
        "            self.buffer.append(replay)\n",
        "        action = self.actor.get_action(observation)\n",
        "        if self.train:\n",
        "            action = self.clip_action(action + self.noise_func())\n",
        "            self.run()\n",
        "        else:\n",
        "            action = self.clip_action(action)\n",
        "        self.prev_action = action\n",
        "        self.prev_state = observation\n",
        "        return self.prev_action \n",
        "    \n",
        "    def save(self):\n",
        "        self.actor.save()\n",
        "        self.critic.save()\n",
        "        data = (self.buffer, self.num_steps, self.noise_func)\n",
        "        with open (path_base + 'auxiliary.pkl', 'wb') as f:\n",
        "            pickle.dump(data, f)\n",
        "\n",
        "    def load(self):\n",
        "        self.actor.load()\n",
        "        self.critic.load()\n",
        "        with open (path_base + 'auxiliary.pkl', 'rb') as f:\n",
        "            data = pickle.load(f)\n",
        "        self.buffer, self.num_steps, self.noise_func = data\n",
        "    \n",
        "    def run(self):\n",
        "        self.num_steps += 1\n",
        "        size = min(self.batch_size, self.buffer.size)\n",
        "        batch = self.buffer.sample(size)\n",
        "\n",
        "        prev_states = np.array([x[0] for x in batch]).reshape((-1, self.state_dimensions))\n",
        "        prev_actions = np.array([x[1] for x in batch]).reshape((-1, 2*self.action_dimensions))\n",
        "        rewards = np.array([x[2] for x in batch]).reshape((-1, 1))\n",
        "        states = np.array([x[3] for x in batch]).reshape((-1, self.state_dimensions))\n",
        "        actions = self.actor.get_action(states)\n",
        "        q_values = self.critic.get_qvalues(states, actions, False)\n",
        "        q_values += self.discount*rewards\n",
        "        self.critic.critic_online.fit([states, actions], q_values, epochs = 1, verbose=0)\n",
        "\n",
        "        prev_state_tensor = convert(prev_states)\n",
        "        prev_action_tensor = convert(prev_actions)\n",
        "        \n",
        "        with tf.GradientTape(persistent=True) as tape:\n",
        "            tape.watch(prev_action_tensor)\n",
        "            value = self.critic.call(prev_state_tensor, prev_action_tensor)\n",
        "            action = self.actor.actor(prev_state_tensor)\n",
        "        gradient = -tape.gradient(value, prev_action_tensor)\n",
        "        gradient = tf.cast(gradient, tf.float32)\n",
        "        gradient_actor = tape.gradient(action, self.actor.actor.trainable_weights, gradient)\n",
        "        gradient_actor = list(np.array(gradient_actor)/size)\n",
        "\n",
        "        self.optimizer.apply_gradients(zip(gradient_actor, self.actor.actor.trainable_weights))\n",
        "        self.critic.merge()\n",
        "\n",
        "        if self.num_steps % self.save_frequency == 0:\n",
        "            self.save()"
      ],
      "execution_count": 0,
      "outputs": []
    },
    {
      "cell_type": "code",
      "metadata": {
        "id": "Ewfr3d3HQ_5i",
        "colab_type": "code",
        "colab": {}
      },
      "source": [
        "AGENT_PARAMS = {\n",
        "\t\"output_range\": 1,\n",
        "\t\"state_dimensions\": 11,\n",
        "\t\"action_dimensions\": 2,\n",
        "\t\"critic_optimizer\": tf.keras.optimizers.Adam(learning_rate = 0.001),\n",
        "\t\"actor_optimizer\": tf.keras.optimizers.Adam(learning_rate = 0.0001),\n",
        "\t\"batch_size\": 64,\n",
        "\t\"buffer_size\":100000,\n",
        "\t\"discount\": 0.99,\n",
        "\t\"tau\": 0.001,\n",
        "\t\"save_frequency\": 5000,\n",
        "\t'cap' : 0.9,\n",
        "}"
      ],
      "execution_count": 0,
      "outputs": []
    },
    {
      "cell_type": "code",
      "metadata": {
        "id": "1BBct9SwRCJP",
        "colab_type": "code",
        "colab": {}
      },
      "source": [
        "files = ['/content/drive/My Drive/AAPL.csv','/content/drive/My Drive/MSFT.csv']\n",
        "env = create_stock_env(files)\n",
        "tf.keras.backend.set_floatx('float32')\n",
        "agent = Agent(AGENT_PARAMS, train = True,resume = False)"
      ],
      "execution_count": 0,
      "outputs": []
    },
    {
      "cell_type": "code",
      "metadata": {
        "id": "Tt9u_BcKREBI",
        "colab_type": "code",
        "colab": {}
      },
      "source": [
        "def train(agent, env, epochs, profits, balances, shares, actions):\n",
        "\n",
        "    steps_per_epoch = 2000\n",
        "    \n",
        "    for epoch in range(epochs + 1, epochs + 41):\n",
        "\n",
        "        cumm_profit = 0\n",
        "        observation, info = env.reset()\n",
        "        shares[epoch, 0, :] = info['shares_held']\n",
        "        balances[epoch, 0] = info['balance']\n",
        "        action = agent.agent_start(observation)\n",
        "        actions[epoch, 0, :] = action\n",
        "\n",
        "        for i in tqdm_notebook(range(steps_per_epoch)):\n",
        "\n",
        "            observation, reward, done, info = env.step(action)\n",
        "            shares[epoch, i+1, :] = info['shares_held']\n",
        "            balances[epoch, i+1] = info['balance']\n",
        "            cumm_profit += reward\n",
        "            profits[epoch, i] = cumm_profit\n",
        "            if done:\n",
        "                break\n",
        "            action = agent.agent_step(reward, observation)\n",
        "            actions[epoch, i+1, :] = action\n",
        "\n",
        "        print('Completed epoch' + str(epoch))\n",
        "\n",
        "        if epoch % 10 == 0:\n",
        "            data = epoch, profits, shares, balances, actions\n",
        "            with open(path_base + 'graph.pkl', 'wb') as f:\n",
        "                pickle.dump(data, f)"
      ],
      "execution_count": 0,
      "outputs": []
    },
    {
      "cell_type": "code",
      "metadata": {
        "id": "jMhrcqGy2AEk",
        "colab_type": "code",
        "outputId": "152def4d-bdbe-4cb0-c16a-53cf8848176c",
        "colab": {
          "base_uri": "https://localhost:8080/",
          "height": 445,
          "referenced_widgets": [
            "734628d0eb9b49f7b08c1bff98a5adcf",
            "c1e35d2e386a40ee9ea956c6cb96a675",
            "bdf25d3b40fd4231ad6c8c6a5f0d6730",
            "8089211111f14409afc3c286e02d04cf",
            "320bd3fe5ee944ec832326ffdb16d914",
            "906c6a36cb2c41e69acb85eaca102799",
            "ed66cfaf4a384219bd22dd5c5b6c0403",
            "97e407b1d3e94a408999542343320100",
            "30da09b3cdef4583b1acdb024f404227",
            "834be372e61346c6962f6b8f2bb5fa5d",
            "c2729ad7fe334b6ba5f6970c3f43b7b8",
            "2b8d63ecfa8a478cabcdfee78c643db0",
            "7a5285388b02455e93b69dcf76c3a2e0",
            "904e6a0acb554c8ab4daee7f7bbfbffb",
            "8add0dc379d94eac86b1df199c22af45",
            "dc560f0b38c64844ba27d2c95f3cc8f0",
            "0ade56aa9bf34c75abb4d400cbd6c373",
            "d41a0cc0818e4ff7a1c5216745839b9c",
            "15e71e066ad14acebb2f892b1c391f6e",
            "4a65ad50f6b5425b882621f5b19fb978",
            "a9c20dab9c0d4645996b80e0f19f7f14",
            "f3e5b81422d4452f85bf2449b0304502",
            "65fb2e456dbe4041825a15c8cbf3f18f",
            "52d2e19c7a8e4a11a7712b36a7b90ce4",
            "23fe3ed697d6400ebcfd3364ae31cd41",
            "04d8dc6d0ff14b51afd1bf0390216915",
            "60e31024f8d9480a9d3bad1712600cdc",
            "ba570514d9eb48658f3672c83e44626e",
            "68f0550c84da4353835c66f224a3bf07",
            "36ae198d0639409f813d3ae01b928008",
            "c01fd4f862cf4fb0ac00b107085fc53f",
            "43cbf436ab494ca4ad7bf49d1ce374e3",
            "0ef6069f49674de68d8bc26087e39be4",
            "3d0cec2164d44676bfc86431a8014c7f",
            "89abdad00c024e1c93880ff2ca228d36",
            "ce9e107244c54f6487ef94e30c0209f4",
            "9596dbd9533e46d1b11d6869a771a3f7",
            "5cae15f4ad3741a7bc90b2e2331640cc",
            "dc64a54d2d1b45abb57287694e2c17b0",
            "e8dd689adbbf41ee8dc2672cdd03d2ea",
            "8b12930a15f641cd9da501a9b7ac136b",
            "5c209f7d7ef24ea2ab497110e13aebb2",
            "b077224dcef74b90a4dba288170cb1c5",
            "0d18112ad0f148c09f691a8528ae687b",
            "d99cedc3abc748a78a4541640d159683",
            "82ad6c78e2c14932989377e97333cef5",
            "5b96259c64ec41ff8dbcdc8c233f7623",
            "bbe057a413f5477f80e0bc705e8e77a7",
            "1781277cc4074b2d82ce2ff5ac5a42a7",
            "7daf21e23667476b89739dacac0d3a5c",
            "fb6edf15350a475cb073290aa0647d25",
            "9f8f053ee0c7403899c36dd09e9ae92c",
            "c6d07511839e47b88c16c55d7bad39ab",
            "fafd8ef8cf02477482074b2bc4cb57f9",
            "c91ac05e5c1b4b34aeef87e453c6df4e",
            "ba51a4459f614fe18b9a340d3ec86347"
          ]
        }
      },
      "source": [
        "with open(path_base + 'graph.pkl', 'rb') as f:\n",
        "    data = pickle.load(f)\n",
        "\n",
        "epochs, profits, balances, shares, actions = data\n",
        "train(agent, env, epochs, profits, balances, shares, actions)"
      ],
      "execution_count": 0,
      "outputs": [
        {
          "output_type": "stream",
          "text": [
            "/usr/local/lib/python3.6/dist-packages/ipykernel_launcher.py:14: TqdmDeprecationWarning: This function will be removed in tqdm==5.0.0\n",
            "Please use `tqdm.notebook.tqdm` instead of `tqdm.tqdm_notebook`\n",
            "  \n"
          ],
          "name": "stderr"
        },
        {
          "output_type": "display_data",
          "data": {
            "application/vnd.jupyter.widget-view+json": {
              "model_id": "734628d0eb9b49f7b08c1bff98a5adcf",
              "version_minor": 0,
              "version_major": 2
            },
            "text/plain": [
              "HBox(children=(FloatProgress(value=0.0, max=2000.0), HTML(value='')))"
            ]
          },
          "metadata": {
            "tags": []
          }
        },
        {
          "output_type": "stream",
          "text": [
            "\n",
            "Completed epoch1\n"
          ],
          "name": "stdout"
        },
        {
          "output_type": "display_data",
          "data": {
            "application/vnd.jupyter.widget-view+json": {
              "model_id": "30da09b3cdef4583b1acdb024f404227",
              "version_minor": 0,
              "version_major": 2
            },
            "text/plain": [
              "HBox(children=(FloatProgress(value=0.0, max=2000.0), HTML(value='')))"
            ]
          },
          "metadata": {
            "tags": []
          }
        },
        {
          "output_type": "stream",
          "text": [
            "Completed epoch2\n"
          ],
          "name": "stdout"
        },
        {
          "output_type": "display_data",
          "data": {
            "application/vnd.jupyter.widget-view+json": {
              "model_id": "0ade56aa9bf34c75abb4d400cbd6c373",
              "version_minor": 0,
              "version_major": 2
            },
            "text/plain": [
              "HBox(children=(FloatProgress(value=0.0, max=2000.0), HTML(value='')))"
            ]
          },
          "metadata": {
            "tags": []
          }
        },
        {
          "output_type": "stream",
          "text": [
            "\n",
            "Completed epoch3\n"
          ],
          "name": "stdout"
        },
        {
          "output_type": "display_data",
          "data": {
            "application/vnd.jupyter.widget-view+json": {
              "model_id": "23fe3ed697d6400ebcfd3364ae31cd41",
              "version_minor": 0,
              "version_major": 2
            },
            "text/plain": [
              "HBox(children=(FloatProgress(value=0.0, max=2000.0), HTML(value='')))"
            ]
          },
          "metadata": {
            "tags": []
          }
        },
        {
          "output_type": "stream",
          "text": [
            "\n",
            "Completed epoch4\n"
          ],
          "name": "stdout"
        },
        {
          "output_type": "display_data",
          "data": {
            "application/vnd.jupyter.widget-view+json": {
              "model_id": "0ef6069f49674de68d8bc26087e39be4",
              "version_minor": 0,
              "version_major": 2
            },
            "text/plain": [
              "HBox(children=(FloatProgress(value=0.0, max=2000.0), HTML(value='')))"
            ]
          },
          "metadata": {
            "tags": []
          }
        },
        {
          "output_type": "stream",
          "text": [
            "Completed epoch5\n"
          ],
          "name": "stdout"
        },
        {
          "output_type": "display_data",
          "data": {
            "application/vnd.jupyter.widget-view+json": {
              "model_id": "8b12930a15f641cd9da501a9b7ac136b",
              "version_minor": 0,
              "version_major": 2
            },
            "text/plain": [
              "HBox(children=(FloatProgress(value=0.0, max=2000.0), HTML(value='')))"
            ]
          },
          "metadata": {
            "tags": []
          }
        },
        {
          "output_type": "stream",
          "text": [
            "Completed epoch6\n"
          ],
          "name": "stdout"
        },
        {
          "output_type": "display_data",
          "data": {
            "application/vnd.jupyter.widget-view+json": {
              "model_id": "1781277cc4074b2d82ce2ff5ac5a42a7",
              "version_minor": 0,
              "version_major": 2
            },
            "text/plain": [
              "HBox(children=(FloatProgress(value=0.0, max=2000.0), HTML(value='')))"
            ]
          },
          "metadata": {
            "tags": []
          }
        }
      ]
    },
    {
      "cell_type": "code",
      "metadata": {
        "id": "qcLVB4jtR81T",
        "colab_type": "code",
        "outputId": "e23358be-6d0f-4851-f13a-a5452e2e02ad",
        "colab": {
          "base_uri": "https://localhost:8080/",
          "height": 265
        }
      },
      "source": [
        "for i in range(0, 40, 5):\n",
        "    plt.plot(profits[i])\n",
        "\n",
        "plt.legend(list(range(0, 40, 5)))\n",
        "plt.show()"
      ],
      "execution_count": 0,
      "outputs": [
        {
          "output_type": "display_data",
          "data": {
            "image/png": "[encoded data removed]",
            "text/plain": [
              "<Figure size 432x288 with 1 Axes>"
            ]
          },
          "metadata": {
            "tags": [],
            "needs_background": "light"
          }
        }
      ]
    },
    {
      "cell_type": "code",
      "metadata": {
        "id": "OFs2NZruSUbG",
        "colab_type": "code",
        "outputId": "6c053ae0-63b3-4803-98f0-9e0305fa7e55",
        "colab": {
          "base_uri": "https://localhost:8080/",
          "height": 265
        }
      },
      "source": [
        "for i in range(0, 40, 5):\n",
        "    plt.plot(shares[i, :, 0])\n",
        "\n",
        "plt.legend(list(range(0, 40, 5)))\n",
        "plt.show()"
      ],
      "execution_count": 0,
      "outputs": [
        {
          "output_type": "display_data",
          "data": {
            "image/png": "[encoded data removed]",
            "text/plain": [
              "<Figure size 432x288 with 1 Axes>"
            ]
          },
          "metadata": {
            "tags": [],
            "needs_background": "light"
          }
        }
      ]
    },
    {
      "cell_type": "code",
      "metadata": {
        "id": "6Ep1chtITFSR",
        "colab_type": "code",
        "outputId": "d1664df5-1169-49c9-c7b8-71e08053ab34",
        "colab": {
          "base_uri": "https://localhost:8080/",
          "height": 265
        }
      },
      "source": [
        "for i in range(0, 40, 5):\n",
        "    plt.plot(balances[i])\n",
        "\n",
        "plt.legend(list(range(0, 40, 5)))\n",
        "plt.show()"
      ],
      "execution_count": 0,
      "outputs": [
        {
          "output_type": "display_data",
          "data": {
            "image/png": "[encoded data removed]",
            "text/plain": [
              "<Figure size 432x288 with 1 Axes>"
            ]
          },
          "metadata": {
            "tags": [],
            "needs_background": "light"
          }
        }
      ]
    },
    {
      "cell_type": "code",
      "metadata": {
        "id": "bmMWI3L6TSsz",
        "colab_type": "code",
        "outputId": "0df44b2a-c3bf-44f1-afd1-fbbd49ed1e37",
        "colab": {
          "base_uri": "https://localhost:8080/",
          "height": 265
        }
      },
      "source": [
        "for i in range(0, 40, 5):\n",
        "    plt.plot(actions[i, :, 3])\n",
        "\n",
        "plt.legend(list(range(0, 40, 5)))\n",
        "plt.show()"
      ],
      "execution_count": 0,
      "outputs": [
        {
          "output_type": "display_data",
          "data": {
            "image/png": "[encoded data removed]",
            "text/plain": [
              "<Figure size 432x288 with 1 Axes>"
            ]
          },
          "metadata": {
            "tags": [],
            "needs_background": "light"
          }
        }
      ]
    },
    {
      "cell_type": "code",
      "metadata": {
        "id": "CsI93EU4Mj3y",
        "colab_type": "code",
        "outputId": "3566244a-d33c-48f1-a6c8-bca4ecdbdb52",
        "colab": {
          "base_uri": "https://localhost:8080/",
          "height": 68
        }
      },
      "source": [
        "print(env.net_worth)\n",
        "print(env.balance)\n",
        "print(env.shares_held)"
      ],
      "execution_count": 0,
      "outputs": [
        {
          "output_type": "stream",
          "text": [
            "18327.28115754672\n",
            "14641.301327995645\n",
            "[[9.25150370e-03 4.30073428e+01]]\n"
          ],
          "name": "stdout"
        }
      ]
    },
    {
      "cell_type": "code",
      "metadata": {
        "id": "xanZGhfQMa7T",
        "colab_type": "code",
        "colab": {}
      },
      "source": [
        "def test(values):\n",
        "    num = len(values)\n",
        "    env = create_stock_env(files, train = False)\n",
        "    agent = Agent(AGENT_PARAMS, train = False, resume = True)\n",
        "    print(agent.num_steps)\n",
        "    max_steps = env.max_steps\n",
        "    profitst = np.zeros((num, max_steps))\n",
        "    balancest = np.zeros((num, max_steps + 1))\n",
        "    sharest = np.zeros((num, max_steps+1, agent.action_dimensions))\n",
        "    actionst = np.zeros((num, max_steps+1, agent.action_dimensions*2))\n",
        "\n",
        "    for count, val in enumerate(values):\n",
        "        profit = 0\n",
        "        observation, info = env.reset(intial_balance = val, shares_held = np.array([100, 100], dtype = 'float32').reshape((1, 2)))\n",
        "        balancest[count][0] = info['balance']\n",
        "        print(info['balance'])\n",
        "        sharest[count][0] = info['shares_held']\n",
        "        print(info['shares_held'])\n",
        "        action = agent.agent_start(observation)\n",
        "        actionst[count][0] = action\n",
        "\n",
        "        for i in tqdm_notebook(range(max_steps)):\n",
        "            observation, reward, done, info = env.step(action)\n",
        "            profit += reward\n",
        "            profitst[count][i] = profit\n",
        "            balancest[count][i+1] = info['balance']\n",
        "            sharest[count][i+1] = info['shares_held']\n",
        "            if done:\n",
        "                break\n",
        "            action = agent.agent_step(reward, observation)\n",
        "            actionst[count][i+1] = action\n",
        "              \n",
        "        print('Completed' + str(count) + 'values')\n",
        "\n",
        "    return profitst, balancest, sharest, actionst\n"
      ],
      "execution_count": 0,
      "outputs": []
    },
    {
      "cell_type": "code",
      "metadata": {
        "id": "cscoUT_4RS8I",
        "colab_type": "code",
        "colab": {}
      },
      "source": [
        "values = [1000, 5000, 10000, 20000, 50000]\n",
        "profitst, balancest, sharest, actionst = test(values)"
      ],
      "execution_count": 0,
      "outputs": []
    },
    {
      "cell_type": "code",
      "metadata": {
        "id": "iDpKfz_fUF0Q",
        "colab_type": "code",
        "outputId": "ac267e94-c60d-42ba-8638-04ff2aa23ef0",
        "colab": {
          "base_uri": "https://localhost:8080/",
          "height": 265
        }
      },
      "source": [
        "for i in range(5):\n",
        "    plt.plot(profitst[i])\n",
        "\n",
        "plt.legend(list(range(5)))\n",
        "plt.show()"
      ],
      "execution_count": 0,
      "outputs": [
        {
          "output_type": "display_data",
          "data": {
            "image/png": "[encoded data removed]",
            "text/plain": [
              "<Figure size 432x288 with 1 Axes>"
            ]
          },
          "metadata": {
            "tags": [],
            "needs_background": "light"
          }
        }
      ]
    },
    {
      "cell_type": "code",
      "metadata": {
        "id": "O8butb_rUMOz",
        "colab_type": "code",
        "outputId": "c1c779cb-e627-4411-e93b-4304322c71fa",
        "colab": {
          "base_uri": "https://localhost:8080/",
          "height": 265
        }
      },
      "source": [
        "for i in range(5):\n",
        "    plt.plot(sharest[i, :, 1])\n",
        "\n",
        "plt.legend(list(range(5)))\n",
        "plt.show()"
      ],
      "execution_count": 0,
      "outputs": [
        {
          "output_type": "display_data",
          "data": {
            "image/png": "[encoded data removed]",
            "text/plain": [
              "<Figure size 432x288 with 1 Axes>"
            ]
          },
          "metadata": {
            "tags": [],
            "needs_background": "light"
          }
        }
      ]
    },
    {
      "cell_type": "code",
      "metadata": {
        "id": "HRxi43kVUQ4C",
        "colab_type": "code",
        "outputId": "b3c08c37-4c5d-4539-f2f2-684dae903b33",
        "colab": {
          "base_uri": "https://localhost:8080/",
          "height": 265
        }
      },
      "source": [
        "for i in range(5):\n",
        "    plt.plot(balancest[i])\n",
        "plt.legend(list(range(5)))\n",
        "plt.show()"
      ],
      "execution_count": 0,
      "outputs": [
        {
          "output_type": "display_data",
          "data": {
            "image/png": "[encoded data removed]",
            "text/plain": [
              "<Figure size 432x288 with 1 Axes>"
            ]
          },
          "metadata": {
            "tags": [],
            "needs_background": "light"
          }
        }
      ]
    }
  ]
}